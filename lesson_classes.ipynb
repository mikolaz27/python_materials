{
 "cells": [
  {
   "cell_type": "code",
   "execution_count": 102,
   "metadata": {},
   "outputs": [],
   "source": [
    "import re\n",
    "import time\n",
    "import copy\n",
    "import math\n",
    "import json\n",
    "import random\n",
    "import itertools\n",
    "import importlib\n",
    "import yaml\n",
    "\n",
    "from enum import Enum\n",
    "from time import sleep\n",
    "from pprint import pprint as pp\n",
    "from functools import wraps, partial"
   ]
  },
  {
   "cell_type": "markdown",
   "metadata": {},
   "source": [
    "## Motivation\n",
    "\n",
    "Combine data + logic in one place using language syntax.\n",
    "\n",
    "Express high-level abstraction from problem domain: Student, Employee, Schedule, Vehicle, Invoice, Item, Patient, etc"
   ]
  },
  {
   "cell_type": "markdown",
   "metadata": {},
   "source": [
    "#### C-style (procedural)"
   ]
  },
  {
   "cell_type": "code",
   "execution_count": 2,
   "metadata": {},
   "outputs": [
    {
     "name": "stdout",
     "output_type": "stream",
     "text": [
      "Drone info:  XS-100 XS-100 - SN: 1 0\n",
      "Drone info:  XS-200 XS-200 - SN: 2 0\n",
      "ERROR: Can't move down\n"
     ]
    }
   ],
   "source": [
    "DRONE_MOVE_FORWARD = 1\n",
    "DRONE_MOVE_BACKWARD = 2\n",
    "DRONE_MOVE_UP = 3\n",
    "DRONE_MOVE_DOWN = 4\n",
    "DRONE_MAX_ALTITUDE = 1000\n",
    "\n",
    "_dron_last_serial_number = 1\n",
    "\n",
    "drone = {\n",
    "    'model': '',\n",
    "    'serial_number': '',\n",
    "    'current_payload': 0,\n",
    "    'current_speed': 0,\n",
    "    'current_altitude': 0\n",
    "}\n",
    "\n",
    "def drone_init(drone, model, payload, current_altitude=0):\n",
    "    global _dron_last_serial_number\n",
    "    drone['model'] = model\n",
    "    drone['current_payload'] = payload\n",
    "    drone['serial_number'] = f'{drone[\"model\"]} - SN: {_dron_last_serial_number}'\n",
    "    drone['current_altitude'] = current_altitude\n",
    "    drone['driver'] = ...\n",
    "    _dron_last_serial_number += 1\n",
    "\n",
    "def drone_move(drone, speed, direction):\n",
    "    # send low-leer commadn to drone['driver']\n",
    "    drone['driver']\n",
    "\n",
    "def drone_info(drone):\n",
    "    print('Drone info: ', drone['model'], drone['serial_number'], drone['current_altitude'])\n",
    "    \n",
    "def drone_move_up(drone, speed):\n",
    "    drone_info(drone)\n",
    "    if drone['current_altitude'] == DRONE_MAX_ALTITUDE:\n",
    "        print ('ERROR: Can\\'t move up')\n",
    "    drone_move(drone, speed, DRONE_MOVE_UP)\n",
    "\n",
    "def drone_move_down(drone, speed):\n",
    "    drone_info(drone)\n",
    "    if drone['current_altitude'] == 0:\n",
    "        print ('ERROR: Can\\'t move down')\n",
    "    drone_move(drone, speed, DRONE_MOVE_DOWN)\n",
    "    \n",
    "    \n",
    "#####\n",
    "dr1 = drone.copy()\n",
    "drone_init(dr1, 'XS-100', 10)\n",
    "\n",
    "dr2 = drone.copy()\n",
    "drone_init(dr2, 'XS-200', 20, current_altitude=0)\n",
    "\n",
    "drone_move_up(dr1, 10)\n",
    "drone_move_down(dr2, 5)"
   ]
  },
  {
   "cell_type": "markdown",
   "metadata": {},
   "source": [
    "#### Classes and object is just a syntactic sugar for the above example "
   ]
  },
  {
   "cell_type": "code",
   "execution_count": 3,
   "metadata": {},
   "outputs": [
    {
     "name": "stdout",
     "output_type": "stream",
     "text": [
      "__init__: XS-100 10 100\n",
      "__init__: XS-200 20 0\n",
      "XS-100 XS-100 - SN: 0 moving down...\n",
      "XS-200 XS-200 - SN: 1 moving down...\n",
      "ERROR: Can't move down\n"
     ]
    }
   ],
   "source": [
    "class Drone:\n",
    "    \n",
    "    FORWARD = 1\n",
    "    BACKWARD = 2\n",
    "    UP = 3\n",
    "    DOWN = 4\n",
    "        \n",
    "    MAX_SPEED = 100\n",
    "    MAX_ALTITUDE = 1000\n",
    "    MAX_PAYLOAD = 10\n",
    "\n",
    "    _last_serial_number = 0\n",
    "    \n",
    "    def __init__(self, model, current_payload, current_altitude=0):\n",
    "        print('__init__:', model, current_payload, current_altitude)\n",
    "        self.model = model\n",
    "        self.current_payload = current_payload\n",
    "        self.serial_number = f'{self.model} - SN: {Drone._last_serial_number}'\n",
    "        self.current_altitude = current_altitude\n",
    "        self.current_speed = 0\n",
    "        self.driver = ...\n",
    "        Drone._last_serial_number += 1\n",
    "\n",
    "    def _move(self, speed, direction):\n",
    "        # send low-evel commadn to self.driver\n",
    "        self.driver\n",
    "\n",
    "    def move_backward(self, speed):\n",
    "        print(self.model)\n",
    "        self._move(speed, self.BACKWARD)\n",
    "        \n",
    "    def move_down(self, speed):\n",
    "        print(self.model, self.serial_number, 'moving down...')\n",
    "        if self.current_altitude == 0:\n",
    "            print ('ERROR: Can\\'t move down')\n",
    "        self._move(speed, self.DOWN)\n",
    "\n",
    "dr1 = Drone('XS-100', 10, current_altitude=100) # __init__\n",
    "dr2 = Drone('XS-200', 20)\n",
    "\n",
    "dr1.move_down(10)\n",
    "dr2.move_down(10)"
   ]
  },
  {
   "cell_type": "markdown",
   "metadata": {},
   "source": [
    "#### Method are bounded functions"
   ]
  },
  {
   "cell_type": "code",
   "execution_count": 4,
   "metadata": {},
   "outputs": [
    {
     "name": "stdout",
     "output_type": "stream",
     "text": [
      "<class '__main__.A'> <class '__main__.A'>\n",
      "1630552695824\n",
      "1630552695632\n"
     ]
    }
   ],
   "source": [
    "class A:\n",
    "    pass\n",
    "\n",
    "a = A()\n",
    "a1 = A()\n",
    "\n",
    "print(type(a), type(a1))\n",
    "print(id(a))\n",
    "print(id(a1))"
   ]
  },
  {
   "cell_type": "code",
   "execution_count": 5,
   "metadata": {},
   "outputs": [
    {
     "name": "stdout",
     "output_type": "stream",
     "text": [
      "Hello from A\n"
     ]
    }
   ],
   "source": [
    "class A:\n",
    "    def hello(self):\n",
    "        print('Hello from A')\n",
    "        \n",
    "a = A()\n",
    "a.hello()\n",
    "# a.hello2()"
   ]
  },
  {
   "cell_type": "code",
   "execution_count": 6,
   "metadata": {},
   "outputs": [
    {
     "name": "stdout",
     "output_type": "stream",
     "text": [
      "Hello from A 1630552688432\n",
      "Hello from A 1630552688432\n",
      "<__main__.A object at 0x0000017BA4838730>\n",
      "1630552688432\n"
     ]
    }
   ],
   "source": [
    "class A:\n",
    "    def hello(self):\n",
    "        print('Hello from A', id(self))\n",
    "        \n",
    "a = A()\n",
    "a.hello()\n",
    "# a.hello2()\n",
    "\n",
    "A.hello(a)\n",
    "print(a)\n",
    "print(id(a))\n"
   ]
  },
  {
   "cell_type": "code",
   "execution_count": 7,
   "metadata": {},
   "outputs": [
    {
     "name": "stdout",
     "output_type": "stream",
     "text": [
      "2612020710656\n"
     ]
    }
   ],
   "source": [
    "print(0x0000026028910D00)"
   ]
  },
  {
   "cell_type": "code",
   "execution_count": 8,
   "metadata": {},
   "outputs": [
    {
     "name": "stdout",
     "output_type": "stream",
     "text": [
      "Hello from A 1630552688432\n",
      "Hello from A 1630552688432\n"
     ]
    }
   ],
   "source": [
    "a.hello() # A.hello(a)\n",
    "A.hello(a)"
   ]
  },
  {
   "cell_type": "code",
   "execution_count": 9,
   "metadata": {},
   "outputs": [],
   "source": [
    "# Class and object are like blueprint and instance"
   ]
  },
  {
   "cell_type": "markdown",
   "metadata": {},
   "source": [
    "#### Attributes - data injected into an object using MP"
   ]
  },
  {
   "cell_type": "code",
   "execution_count": 10,
   "metadata": {},
   "outputs": [
    {
     "name": "stdout",
     "output_type": "stream",
     "text": [
      "Jeff Bezos\n"
     ]
    }
   ],
   "source": [
    "class Student:\n",
    "\n",
    "    def assign_hw(self):\n",
    "        print('Called \"assign_hw\" for', id(self))\n",
    "        \n",
    "st = Student()\n",
    "st.first_name = 'Jeff'\n",
    "st.last_name = 'Bezos'\n",
    "\n",
    "print(st.first_name, st.last_name)\n",
    "\n",
    "\n",
    "# deco._cache\n",
    "# Monkey patching"
   ]
  },
  {
   "cell_type": "code",
   "execution_count": 11,
   "metadata": {},
   "outputs": [
    {
     "name": "stdout",
     "output_type": "stream",
     "text": [
      "1630552689968 Jeff Bezos\n",
      "Student 1630552689968, Jeff, Bezos\n",
      "Student 1630552689968, Jeff, Bezos\n"
     ]
    }
   ],
   "source": [
    "class Student:\n",
    "\n",
    "    def __init__(self, first_name, last_name):\n",
    "        self.first_name = first_name\n",
    "        self.last_name = last_name\n",
    "    \n",
    "    def assign_hw(self):\n",
    "        print('Called \"assign_hw\" for', id(self))\n",
    "        \n",
    "    def info(self):\n",
    "        print(f'Student {id(self)}, {self.first_name}, {self.last_name}')\n",
    "        \n",
    "st = Student('Jeff', 'Bezos')\n",
    "print(id(st), st.first_name, st.last_name)\n",
    "st.info()\n",
    "Student.info(st)\n",
    "# st.rating"
   ]
  },
  {
   "cell_type": "code",
   "execution_count": null,
   "metadata": {},
   "outputs": [],
   "source": []
  },
  {
   "cell_type": "markdown",
   "metadata": {},
   "source": [
    "#### Memory layout"
   ]
  },
  {
   "cell_type": "code",
   "execution_count": 12,
   "metadata": {},
   "outputs": [
    {
     "data": {
      "text/plain": [
       "['__class__',\n",
       " '__delattr__',\n",
       " '__dict__',\n",
       " '__dir__',\n",
       " '__doc__',\n",
       " '__eq__',\n",
       " '__format__',\n",
       " '__ge__',\n",
       " '__getattribute__',\n",
       " '__gt__',\n",
       " '__hash__',\n",
       " '__init__',\n",
       " '__init_subclass__',\n",
       " '__le__',\n",
       " '__lt__',\n",
       " '__module__',\n",
       " '__ne__',\n",
       " '__new__',\n",
       " '__reduce__',\n",
       " '__reduce_ex__',\n",
       " '__repr__',\n",
       " '__setattr__',\n",
       " '__sizeof__',\n",
       " '__str__',\n",
       " '__subclasshook__',\n",
       " '__weakref__',\n",
       " 'assign_hw',\n",
       " 'first_name',\n",
       " 'info',\n",
       " 'last_name']"
      ]
     },
     "execution_count": 12,
     "metadata": {},
     "output_type": "execute_result"
    }
   ],
   "source": [
    "dir(st)"
   ]
  },
  {
   "cell_type": "code",
   "execution_count": 13,
   "metadata": {},
   "outputs": [
    {
     "name": "stdout",
     "output_type": "stream",
     "text": [
      "__class__: <class '__main__.Student'>\n",
      "__delattr__: <method-wrapper '__delattr__' of Student object at 0x0000017BA4838D30>\n",
      "__dict__: {'first_name': 'Jeff', 'last_name': 'Bezos'}\n",
      "__dir__: <built-in method __dir__ of Student object at 0x0000017BA4838D30>\n",
      "__doc__: None\n",
      "__eq__: <method-wrapper '__eq__' of Student object at 0x0000017BA4838D30>\n",
      "__format__: <built-in method __format__ of Student object at 0x0000017BA4838D30>\n",
      "__ge__: <method-wrapper '__ge__' of Student object at 0x0000017BA4838D30>\n",
      "__getattribute__: <method-wrapper '__getattribute__' of Student object at 0x0000017BA4838D30>\n",
      "__gt__: <method-wrapper '__gt__' of Student object at 0x0000017BA4838D30>\n",
      "__hash__: <method-wrapper '__hash__' of Student object at 0x0000017BA4838D30>\n",
      "__init__: <bound method Student.__init__ of <__main__.Student object at 0x0000017BA4838D30>>\n",
      "__init_subclass__: <built-in method __init_subclass__ of type object at 0x0000017BA37AD670>\n",
      "__le__: <method-wrapper '__le__' of Student object at 0x0000017BA4838D30>\n",
      "__lt__: <method-wrapper '__lt__' of Student object at 0x0000017BA4838D30>\n",
      "__module__: __main__\n",
      "__ne__: <method-wrapper '__ne__' of Student object at 0x0000017BA4838D30>\n",
      "__new__: <built-in method __new__ of type object at 0x00007FFDA46EB780>\n",
      "__reduce__: <built-in method __reduce__ of Student object at 0x0000017BA4838D30>\n",
      "__reduce_ex__: <built-in method __reduce_ex__ of Student object at 0x0000017BA4838D30>\n",
      "__repr__: <method-wrapper '__repr__' of Student object at 0x0000017BA4838D30>\n",
      "__setattr__: <method-wrapper '__setattr__' of Student object at 0x0000017BA4838D30>\n",
      "__sizeof__: <built-in method __sizeof__ of Student object at 0x0000017BA4838D30>\n",
      "__str__: <method-wrapper '__str__' of Student object at 0x0000017BA4838D30>\n",
      "__subclasshook__: <built-in method __subclasshook__ of type object at 0x0000017BA37AD670>\n",
      "__weakref__: None\n",
      "assign_hw: <bound method Student.assign_hw of <__main__.Student object at 0x0000017BA4838D30>>\n",
      "first_name: Jeff\n",
      "info: <bound method Student.info of <__main__.Student object at 0x0000017BA4838D30>>\n",
      "last_name: Bezos\n"
     ]
    }
   ],
   "source": [
    "for attr_name in dir(st):\n",
    "    attr = getattr(st, attr_name)\n",
    "    print(f'{attr_name}: {attr}')"
   ]
  },
  {
   "cell_type": "code",
   "execution_count": 14,
   "metadata": {},
   "outputs": [
    {
     "data": {
      "text/plain": [
       "{'first_name': 'Jeff', 'last_name': 'Bezos'}"
      ]
     },
     "execution_count": 14,
     "metadata": {},
     "output_type": "execute_result"
    }
   ],
   "source": [
    "st.__dict__"
   ]
  },
  {
   "cell_type": "code",
   "execution_count": 15,
   "metadata": {},
   "outputs": [
    {
     "data": {
      "text/plain": [
       "{'first_name': 'Bill', 'last_name': 'Bezos', 'rating': 42}"
      ]
     },
     "execution_count": 15,
     "metadata": {},
     "output_type": "execute_result"
    }
   ],
   "source": [
    "st.__dict__['first_name'] = 'Bill'\n",
    "st.first_name\n",
    "st.rating = 42\n",
    "st.__dict__\n",
    "# for attr_name in dir(st):\n",
    "#     attr = getattr(st, attr_name)\n",
    "#     print(f'{attr_name}: {attr}')\n",
    "# st.rating\n",
    "# st.__dict__['first_name'] = 'Bill'"
   ]
  },
  {
   "cell_type": "code",
   "execution_count": 16,
   "metadata": {},
   "outputs": [
    {
     "data": {
      "text/plain": [
       "1630535341680"
      ]
     },
     "execution_count": 16,
     "metadata": {},
     "output_type": "execute_result"
    }
   ],
   "source": [
    "dir(Student)\n",
    "id(Student)\n",
    "# st.info()"
   ]
  },
  {
   "cell_type": "code",
   "execution_count": 17,
   "metadata": {},
   "outputs": [
    {
     "name": "stdout",
     "output_type": "stream",
     "text": [
      "__class__: <class 'type'>\n",
      "__delattr__: <slot wrapper '__delattr__' of 'object' objects>\n",
      "__dict__: {'__module__': '__main__', '__init__': <function Student.__init__ at 0x0000017BA48457E0>, 'assign_hw': <function Student.assign_hw at 0x0000017BA4845870>, 'info': <function Student.info at 0x0000017BA4845900>, '__dict__': <attribute '__dict__' of 'Student' objects>, '__weakref__': <attribute '__weakref__' of 'Student' objects>, '__doc__': None}\n",
      "__dir__: <method '__dir__' of 'object' objects>\n",
      "__doc__: None\n",
      "__eq__: <slot wrapper '__eq__' of 'object' objects>\n",
      "__format__: <method '__format__' of 'object' objects>\n",
      "__ge__: <slot wrapper '__ge__' of 'object' objects>\n",
      "__getattribute__: <slot wrapper '__getattribute__' of 'object' objects>\n",
      "__gt__: <slot wrapper '__gt__' of 'object' objects>\n",
      "__hash__: <slot wrapper '__hash__' of 'object' objects>\n",
      "__init__: <function Student.__init__ at 0x0000017BA48457E0>\n",
      "__init_subclass__: <built-in method __init_subclass__ of type object at 0x0000017BA37AD670>\n",
      "__le__: <slot wrapper '__le__' of 'object' objects>\n",
      "__lt__: <slot wrapper '__lt__' of 'object' objects>\n",
      "__module__: __main__\n",
      "__ne__: <slot wrapper '__ne__' of 'object' objects>\n",
      "__new__: <built-in method __new__ of type object at 0x00007FFDA46EB780>\n",
      "__reduce__: <method '__reduce__' of 'object' objects>\n",
      "__reduce_ex__: <method '__reduce_ex__' of 'object' objects>\n",
      "__repr__: <slot wrapper '__repr__' of 'object' objects>\n",
      "__setattr__: <slot wrapper '__setattr__' of 'object' objects>\n",
      "__sizeof__: <method '__sizeof__' of 'object' objects>\n",
      "__str__: <slot wrapper '__str__' of 'object' objects>\n",
      "__subclasshook__: <built-in method __subclasshook__ of type object at 0x0000017BA37AD670>\n",
      "__weakref__: <attribute '__weakref__' of 'Student' objects>\n",
      "assign_hw: <function Student.assign_hw at 0x0000017BA4845870>\n",
      "info: <function Student.info at 0x0000017BA4845900>\n"
     ]
    }
   ],
   "source": [
    "for attr_name in dir(Student):\n",
    "    attr = getattr(Student, attr_name)\n",
    "    print(f'{attr_name}: {attr}')"
   ]
  },
  {
   "cell_type": "code",
   "execution_count": 18,
   "metadata": {},
   "outputs": [
    {
     "name": "stdout",
     "output_type": "stream",
     "text": [
      "Student 1630552689968, Bill, Bezos\n"
     ]
    }
   ],
   "source": [
    "Student.info(st)"
   ]
  },
  {
   "cell_type": "code",
   "execution_count": 19,
   "metadata": {},
   "outputs": [],
   "source": [
    "class Student:\n",
    "    \n",
    "    PHONE_NUMBER_PREFIX = '+38 '\n",
    "\n",
    "    def __init__(self, first_name, last_name):\n",
    "        self.first_name = first_name\n",
    "        self.last_name = last_name\n",
    "    \n",
    "    def assign_hw(self):\n",
    "        print('Called \"assign_hw\" for', id(self))\n",
    "        \n",
    "    def info(self):\n",
    "        print(f'Student {id(self)}, {self.first_name}, {self.last_name}')\n",
    "        \n",
    "st = Student('Jeff', 'Bezos')\n",
    "st2 = Student('Bill', 'Gates')"
   ]
  },
  {
   "cell_type": "code",
   "execution_count": 20,
   "metadata": {},
   "outputs": [
    {
     "name": "stdout",
     "output_type": "stream",
     "text": [
      "{'first_name': 'Jeff', 'last_name': 'Bezos'}\n",
      "{'__module__': '__main__', 'PHONE_NUMBER_PREFIX': '+38 ', '__init__': <function Student.__init__ at 0x0000017BA4846560>, 'assign_hw': <function Student.assign_hw at 0x0000017BA48465F0>, 'info': <function Student.info at 0x0000017BA4846680>, '__dict__': <attribute '__dict__' of 'Student' objects>, '__weakref__': <attribute '__weakref__' of 'Student' objects>, '__doc__': None}\n"
     ]
    }
   ],
   "source": [
    "print(st.__dict__)\n",
    "print(Student.__dict__)"
   ]
  },
  {
   "cell_type": "markdown",
   "metadata": {},
   "source": [
    "#### Attributes and methods lookup: local and global contexts"
   ]
  },
  {
   "cell_type": "code",
   "execution_count": 21,
   "metadata": {},
   "outputs": [
    {
     "data": {
      "text/plain": [
       "['PHONE_NUMBER_PREFIX',\n",
       " '__class__',\n",
       " '__delattr__',\n",
       " '__dict__',\n",
       " '__dir__',\n",
       " '__doc__',\n",
       " '__eq__',\n",
       " '__format__',\n",
       " '__ge__',\n",
       " '__getattribute__',\n",
       " '__gt__',\n",
       " '__hash__',\n",
       " '__init__',\n",
       " '__init_subclass__',\n",
       " '__le__',\n",
       " '__lt__',\n",
       " '__module__',\n",
       " '__ne__',\n",
       " '__new__',\n",
       " '__reduce__',\n",
       " '__reduce_ex__',\n",
       " '__repr__',\n",
       " '__setattr__',\n",
       " '__sizeof__',\n",
       " '__str__',\n",
       " '__subclasshook__',\n",
       " '__weakref__',\n",
       " 'assign_hw',\n",
       " 'first_name',\n",
       " 'info',\n",
       " 'last_name']"
      ]
     },
     "execution_count": 21,
     "metadata": {},
     "output_type": "execute_result"
    }
   ],
   "source": [
    "dir(st)"
   ]
  },
  {
   "cell_type": "code",
   "execution_count": 22,
   "metadata": {},
   "outputs": [
    {
     "data": {
      "text/plain": [
       "'+38 '"
      ]
     },
     "execution_count": 22,
     "metadata": {},
     "output_type": "execute_result"
    }
   ],
   "source": [
    "st.PHONE_NUMBER_PREFIX\n",
    "# st.__class__.__dict__"
   ]
  },
  {
   "cell_type": "code",
   "execution_count": 23,
   "metadata": {},
   "outputs": [
    {
     "data": {
      "text/plain": [
       "'+38 '"
      ]
     },
     "execution_count": 23,
     "metadata": {},
     "output_type": "execute_result"
    }
   ],
   "source": [
    "st2 = Student('Ilon', 'Musk')\n",
    "st2.PHONE_NUMBER_PREFIX\n",
    "\n",
    "# What happens when a user types 'obj.attr' or 'obj.foo()'\n",
    "# if attr in obj.__dict__\n",
    "#     return obj.__dict__[attr]\n",
    "# else:\n",
    "#      for clazz in obj.__class__.mro():\n",
    "#          if attr in obj.__class__.__dict__:\n",
    "#             return obj.__class__.__dict__[attr]\n",
    "#\n",
    "#     raise AttributeError(...)"
   ]
  },
  {
   "cell_type": "code",
   "execution_count": 24,
   "metadata": {},
   "outputs": [
    {
     "name": "stdout",
     "output_type": "stream",
     "text": [
      "1630552934448\n",
      "1630552934448\n"
     ]
    }
   ],
   "source": [
    "print(id(st.PHONE_NUMBER_PREFIX))\n",
    "print(id(st2.PHONE_NUMBER_PREFIX))"
   ]
  },
  {
   "cell_type": "code",
   "execution_count": 25,
   "metadata": {},
   "outputs": [],
   "source": [
    "Student.PHONE_NUMBER_PREFIX = 36\n"
   ]
  },
  {
   "cell_type": "code",
   "execution_count": 26,
   "metadata": {},
   "outputs": [
    {
     "name": "stdout",
     "output_type": "stream",
     "text": [
      "True\n",
      "False\n"
     ]
    }
   ],
   "source": [
    "print(id(st.PHONE_NUMBER_PREFIX) == id(st2.PHONE_NUMBER_PREFIX))\n",
    "print(id(st.first_name) == id(st2.first_name))"
   ]
  },
  {
   "cell_type": "code",
   "execution_count": 27,
   "metadata": {},
   "outputs": [
    {
     "name": "stdout",
     "output_type": "stream",
     "text": [
      "+38 () ....-...\n"
     ]
    }
   ],
   "source": [
    "st.PHONE_NUMBER_PREFIX = '+38 () ....-...'\n",
    "print(st.PHONE_NUMBER_PREFIX)"
   ]
  },
  {
   "cell_type": "code",
   "execution_count": 28,
   "metadata": {},
   "outputs": [
    {
     "name": "stdout",
     "output_type": "stream",
     "text": [
      "36\n"
     ]
    }
   ],
   "source": [
    "# What is your guess?\n",
    "print(st2.PHONE_NUMBER_PREFIX)"
   ]
  },
  {
   "cell_type": "code",
   "execution_count": 29,
   "metadata": {},
   "outputs": [
    {
     "data": {
      "text/plain": [
       "{'first_name': 'Jeff',\n",
       " 'last_name': 'Bezos',\n",
       " 'PHONE_NUMBER_PREFIX': '+38 () ....-...'}"
      ]
     },
     "execution_count": 29,
     "metadata": {},
     "output_type": "execute_result"
    }
   ],
   "source": [
    "st.__dict__"
   ]
  },
  {
   "cell_type": "code",
   "execution_count": 30,
   "metadata": {},
   "outputs": [
    {
     "data": {
      "text/plain": [
       "{'first_name': 'Ilon', 'last_name': 'Musk'}"
      ]
     },
     "execution_count": 30,
     "metadata": {},
     "output_type": "execute_result"
    }
   ],
   "source": [
    "st2.__dict__"
   ]
  },
  {
   "cell_type": "code",
   "execution_count": 31,
   "metadata": {},
   "outputs": [
    {
     "name": "stdout",
     "output_type": "stream",
     "text": [
      "{'first_name': 'Jeff', 'last_name': 'Bezos', 'PHONE_NUMBER_PREFIX': '+38 () ....-...'}\n",
      "{'first_name': 'Ilon', 'last_name': 'Musk'}\n"
     ]
    }
   ],
   "source": [
    "print(st.__dict__)\n",
    "print(st2.__dict__)"
   ]
  },
  {
   "cell_type": "code",
   "execution_count": 32,
   "metadata": {},
   "outputs": [],
   "source": [
    "class Student:\n",
    "    \n",
    "    PHONE_NUMBER_PREFIX = '+38 '\n",
    "    assignments = []\n",
    "\n",
    "    def __init__(self, first_name, last_name):\n",
    "        self.first_name = first_name\n",
    "        self.last_name = last_name\n",
    "    \n",
    "    def assign_hw(self, hw):\n",
    "        print('Called \"assign_hw\" for', id(self))\n",
    "        self.assignments.append(hw)\n",
    "        \n",
    "    def info(self):\n",
    "        print(f'Student {id(self)}, {self.first_name}, {self.last_name}')\n",
    "        \n",
    "st = Student('Jeff', 'Bezos')\n",
    "st2 = Student('Ilon', 'Musk')"
   ]
  },
  {
   "cell_type": "code",
   "execution_count": 33,
   "metadata": {},
   "outputs": [
    {
     "name": "stdout",
     "output_type": "stream",
     "text": [
      "Called \"assign_hw\" for 1630552711056\n",
      "['HW2: Flask view-functions']\n",
      "{'first_name': 'Jeff', 'last_name': 'Bezos'} {'first_name': 'Ilon', 'last_name': 'Musk'}\n"
     ]
    }
   ],
   "source": [
    "st.assign_hw('HW2: Flask view-functions')\n",
    "print(st2.assignments)\n",
    "print(st.__dict__, st2.__dict__)"
   ]
  },
  {
   "cell_type": "code",
   "execution_count": 34,
   "metadata": {},
   "outputs": [],
   "source": [
    "# what should we do?"
   ]
  },
  {
   "cell_type": "code",
   "execution_count": null,
   "metadata": {},
   "outputs": [],
   "source": []
  },
  {
   "cell_type": "code",
   "execution_count": null,
   "metadata": {},
   "outputs": [],
   "source": []
  },
  {
   "cell_type": "code",
   "execution_count": null,
   "metadata": {},
   "outputs": [],
   "source": []
  },
  {
   "cell_type": "code",
   "execution_count": null,
   "metadata": {},
   "outputs": [],
   "source": []
  },
  {
   "cell_type": "code",
   "execution_count": 35,
   "metadata": {},
   "outputs": [],
   "source": [
    "class Student:\n",
    "    \n",
    "    PHONE_NUMBER_PREFIX = '+38 '\n",
    "    \n",
    "\n",
    "    def __init__(self, first_name, last_name):\n",
    "        self.first_name = first_name\n",
    "        self.last_name = last_name\n",
    "        self.assignments = []\n",
    "    \n",
    "    def assign_hw(self, hw):\n",
    "        print('Called \"assign_hw\" for', id(self))\n",
    "        self.assignments.append(hw)\n",
    "        \n",
    "    def info(self):\n",
    "        print(f'Student {id(self)}, {self.first_name}, {self.last_name}')\n",
    "        \n",
    "st = Student('Jeff', 'Bezos')\n",
    "st2 = Student('Ilon', 'Musk')"
   ]
  },
  {
   "cell_type": "code",
   "execution_count": 36,
   "metadata": {},
   "outputs": [
    {
     "name": "stdout",
     "output_type": "stream",
     "text": [
      "Called \"assign_hw\" for 1630552712928\n",
      "['HW2: Flask view-functions']\n",
      "[]\n",
      "{'first_name': 'Jeff', 'last_name': 'Bezos', 'assignments': ['HW2: Flask view-functions']} {'first_name': 'Ilon', 'last_name': 'Musk', 'assignments': []}\n"
     ]
    }
   ],
   "source": [
    "st.assign_hw('HW2: Flask view-functions')\n",
    "print(st.assignments)\n",
    "print(st2.assignments)\n",
    "print(st.__dict__, st2.__dict__)"
   ]
  },
  {
   "cell_type": "code",
   "execution_count": 37,
   "metadata": {},
   "outputs": [
    {
     "data": {
      "text/plain": [
       "'+38 '"
      ]
     },
     "execution_count": 37,
     "metadata": {},
     "output_type": "execute_result"
    }
   ],
   "source": [
    "st.PHONE_NUMBER_PREFIX"
   ]
  },
  {
   "cell_type": "code",
   "execution_count": 38,
   "metadata": {},
   "outputs": [
    {
     "data": {
      "text/plain": [
       "{'first_name': 'Ilon',\n",
       " 'last_name': 'Musk',\n",
       " 'assignments': [],\n",
       " 'PHONE_NUMBER_PREFIX': '+1'}"
      ]
     },
     "execution_count": 38,
     "metadata": {},
     "output_type": "execute_result"
    }
   ],
   "source": [
    "st2.PHONE_NUMBER_PREFIX = '+1'\n",
    "st2.PHONE_NUMBER_PREFIX\n",
    "st2.__dict__"
   ]
  },
  {
   "cell_type": "code",
   "execution_count": 39,
   "metadata": {},
   "outputs": [
    {
     "ename": "TypeError",
     "evalue": "get expected at least 1 argument, got 0",
     "output_type": "error",
     "traceback": [
      "\u001b[1;31m---------------------------------------------------------------------------\u001b[0m",
      "\u001b[1;31mTypeError\u001b[0m                                 Traceback (most recent call last)",
      "\u001b[1;32m~\\AppData\\Local\\Temp/ipykernel_2464/4286891377.py\u001b[0m in \u001b[0;36m<module>\u001b[1;34m\u001b[0m\n\u001b[1;32m----> 1\u001b[1;33m \u001b[0mst2\u001b[0m\u001b[1;33m.\u001b[0m\u001b[0m__class__\u001b[0m\u001b[1;33m.\u001b[0m\u001b[0m__dict__\u001b[0m\u001b[1;33m.\u001b[0m\u001b[0mget\u001b[0m\u001b[1;33m(\u001b[0m\u001b[1;33m)\u001b[0m\u001b[1;33m\u001b[0m\u001b[1;33m\u001b[0m\u001b[0m\n\u001b[0m",
      "\u001b[1;31mTypeError\u001b[0m: get expected at least 1 argument, got 0"
     ]
    }
   ],
   "source": [
    "st2.__class__.__dict__.get()"
   ]
  },
  {
   "cell_type": "code",
   "execution_count": null,
   "metadata": {},
   "outputs": [],
   "source": [
    "# del st2.__dict__['PHONE_NUMBER_PREFIX']\n",
    "# delattr(st2, 'PHONE_NUMBER_PREFIX')"
   ]
  },
  {
   "cell_type": "code",
   "execution_count": 40,
   "metadata": {},
   "outputs": [
    {
     "data": {
      "text/plain": [
       "{'first_name': 'Ilon',\n",
       " 'last_name': 'Musk',\n",
       " 'assignments': [],\n",
       " 'PHONE_NUMBER_PREFIX': '+1'}"
      ]
     },
     "execution_count": 40,
     "metadata": {},
     "output_type": "execute_result"
    }
   ],
   "source": [
    "st2.PHONE_NUMBER_PREFIX\n",
    "st2.__dict__"
   ]
  },
  {
   "cell_type": "code",
   "execution_count": 41,
   "metadata": {},
   "outputs": [
    {
     "data": {
      "text/plain": [
       "'+38 '"
      ]
     },
     "execution_count": 41,
     "metadata": {},
     "output_type": "execute_result"
    }
   ],
   "source": [
    "st.__dict__\n",
    "st.PHONE_NUMBER_PREFIX\n"
   ]
  },
  {
   "cell_type": "markdown",
   "metadata": {},
   "source": [
    "\n",
    "# Basics"
   ]
  },
  {
   "cell_type": "markdown",
   "metadata": {},
   "source": [
    "<img src=\"https://i.imgur.com/x2LZO0V.png\">"
   ]
  },
  {
   "cell_type": "markdown",
   "metadata": {},
   "source": [
    "We can manually assign attributes using monkey patching so that all instances have the same (!) set of attributes"
   ]
  },
  {
   "cell_type": "markdown",
   "metadata": {},
   "source": [
    "# Inheritance\n",
    "\n",
    "Better structuring by inheritance: common data and logic is placed in one place (base class)"
   ]
  },
  {
   "cell_type": "code",
   "execution_count": 42,
   "metadata": {},
   "outputs": [],
   "source": [
    "import random \n",
    "\n",
    "class Shape: #class Shape(object)    \n",
    "    def __init__(self, x=0, y=0):\n",
    "        self.x = x\n",
    "        self.y = y\n",
    "\n",
    "class Shape3D:    \n",
    "    def __init__(self, x, y):\n",
    "        self.x = x\n",
    "        self.y = y"
   ]
  },
  {
   "cell_type": "code",
   "execution_count": 43,
   "metadata": {},
   "outputs": [
    {
     "name": "stdout",
     "output_type": "stream",
     "text": [
      "1 2 42\n"
     ]
    }
   ],
   "source": [
    "# class Circle(Shape):\n",
    "#     def __init__(self, x, y, radius):\n",
    "#         super().__init__(x, y)\n",
    "#         self.radius = radius\n",
    "\n",
    "\n",
    "class Circle(Shape):\n",
    "    def __init__(self, radius):\n",
    "        self.radius = radius\n",
    "\n",
    "class Circle(Shape):\n",
    "    def __init__(self, x, y, radius):\n",
    "        super().__init__(x, y)\n",
    "        self.radius = radius\n",
    "\n",
    "\n",
    "c = Circle(1, 2, 42)\n",
    "print(c.x, c.y, c.radius)"
   ]
  },
  {
   "cell_type": "code",
   "execution_count": 44,
   "metadata": {},
   "outputs": [],
   "source": [
    "class Rectangle(Shape):\n",
    "    \n",
    "    def __init__(self, x, y, height, width):\n",
    "        super().__init__(x, y) \n",
    "        self.height = height\n",
    "        self.width = width\n",
    "\n",
    "    def print_sides(self):\n",
    "        print(self.height, self.width) "
   ]
  },
  {
   "cell_type": "code",
   "execution_count": 45,
   "metadata": {},
   "outputs": [],
   "source": [
    "class Parallelogram(Rectangle):\n",
    "\n",
    "    def __init__(self, x, y, height, width, angle):\n",
    "        super().__init__(x, y, height, width) \n",
    "        self.angle = angle\n",
    "\n",
    "    def print_angle(self):\n",
    "        print(self.angle)\n",
    "        \n",
    "#     def __str__(self):\n",
    "#         result = super().__str__()\n",
    "#         return result + f'\\nParallelogram: {self.width}, {self.height}, {self.angle}'"
   ]
  },
  {
   "cell_type": "code",
   "execution_count": 46,
   "metadata": {},
   "outputs": [
    {
     "data": {
      "text/plain": [
       "45"
      ]
     },
     "execution_count": 46,
     "metadata": {},
     "output_type": "execute_result"
    }
   ],
   "source": [
    "p = Parallelogram(1, 2, 20, 30, 45)\n",
    "p.angle\n",
    "# p1 = Parallelogram(1, 2, 20, 30, 45)\n",
    "# str(p1)\n",
    "# p1.foo()"
   ]
  },
  {
   "cell_type": "code",
   "execution_count": 47,
   "metadata": {},
   "outputs": [],
   "source": [
    "# How to determine lookup order in case of complex hierarchy?"
   ]
  },
  {
   "cell_type": "code",
   "execution_count": 48,
   "metadata": {},
   "outputs": [
    {
     "name": "stdout",
     "output_type": "stream",
     "text": [
      "N/A\n"
     ]
    }
   ],
   "source": [
    "\"\"\"\n",
    "  Multiple Inheritance\n",
    "   - allows to merge data+methods from parents...\n",
    "   - ...but introduces diamond problem\n",
    "\"\"\"\n",
    "\n",
    "class Person:\n",
    "    def __init__(self, first_name, last_name, **kwargs): \n",
    "        self.first_name = first_name \n",
    "        self.last_name = last_name \n",
    "        \n",
    "\n",
    "class TeamMember(Person):                 \n",
    "    def __init__(self, first_name, last_name, **kwargs):\n",
    "        super().__init__(first_name, last_name, **kwargs)\n",
    "        self.salary = kwargs.get(\"salary\", 0)\n",
    "        self.jobtitle = kwargs.get(\"jobtitle\", 'N/A')\n",
    "\n",
    "        \n",
    "        \n",
    "class TeamLeader(TeamMember):                 \n",
    "    def __init__(self, first_name, last_name, **kwargs):\n",
    "        super().__init__(first_name, last_name, **kwargs)\n",
    "        self.soft_skills = kwargs.get(\"soft_skills\", [])\n",
    "#         self.jobtitle = 'TeamLeader'\n",
    "        \n",
    "#     def __str__(self):\n",
    "#         return 'TL'\n",
    "\n",
    "class Architect(TeamMember):                 \n",
    "    def __init__(self, first_name, last_name, **kwargs):\n",
    "        super().__init__(first_name, last_name, **kwargs)\n",
    "        self.certificates = kwargs.get(\"certificates\", [])\n",
    "#         self.jobtitle = 'Architect'\n",
    "\n",
    "\n",
    "class CTO(Architect, TeamLeader):                 \n",
    "    def __init__(self, first_name, last_name, **kwargs):\n",
    "        super().__init__(first_name, last_name, **kwargs)\n",
    "        self.projects = kwargs.get(\"projects\")\n",
    "        self.soft_skills += ['Leadership', 'EQ']\n",
    "        self.certificates += ['ITIL', 'PMA']\n",
    "#         self.jobtitle = 'CTO'\n",
    "        \n",
    "    def __str__(self): # overriding (!= method overloading)\n",
    "        return f'\\nCTO: {self.first_name}, {self.last_name}'\n",
    "\n",
    "        \n",
    "cto = CTO(\n",
    "    first_name='Jake',\n",
    "    last_name='Smith',\n",
    "    salary=250000\n",
    ")\n",
    "\n",
    "# will it be taken from TeamLeader or Architect?\n",
    "print(cto.jobtitle)\n"
   ]
  },
  {
   "cell_type": "code",
   "execution_count": 49,
   "metadata": {},
   "outputs": [
    {
     "data": {
      "text/plain": [
       "[__main__.CTO,\n",
       " __main__.Architect,\n",
       " __main__.TeamLeader,\n",
       " __main__.TeamMember,\n",
       " __main__.Person,\n",
       " object]"
      ]
     },
     "execution_count": 49,
     "metadata": {},
     "output_type": "execute_result"
    }
   ],
   "source": [
    "CTO.mro()"
   ]
  },
  {
   "cell_type": "code",
   "execution_count": 50,
   "metadata": {},
   "outputs": [
    {
     "name": "stdout",
     "output_type": "stream",
     "text": [
      "In Class3\n"
     ]
    }
   ],
   "source": [
    "class Class1:\n",
    "    def m(self):\n",
    "        print(\"In Class1\")\n",
    "       \n",
    "class Class2(Class1):\n",
    "    pass\n",
    " \n",
    "class Class3(Class1):\n",
    "    def m(self):\n",
    "        print(\"In Class3\")   \n",
    "      \n",
    "class Class4(Class2, Class3):\n",
    "    pass      \n",
    " \n",
    "obj = Class4()\n",
    "obj.m()\n"
   ]
  },
  {
   "cell_type": "code",
   "execution_count": 51,
   "metadata": {},
   "outputs": [
    {
     "name": "stdout",
     "output_type": "stream",
     "text": [
      "In Class2\n"
     ]
    }
   ],
   "source": [
    "class Class1:\n",
    "    def m(self):\n",
    "        print(\"In Class1\")\n",
    "       \n",
    "class Class2(Class1):\n",
    "    def m(self):\n",
    "        print(\"In Class2\")\n",
    " \n",
    "class Class3(Class1):\n",
    "    def m(self):\n",
    "        print(\"In Class3\") \n",
    "        \n",
    "class Class4(Class2, Class3):\n",
    "    pass  \n",
    "     \n",
    "obj = Class4()\n",
    "obj.m()"
   ]
  },
  {
   "cell_type": "code",
   "execution_count": 52,
   "metadata": {},
   "outputs": [
    {
     "ename": "TypeError",
     "evalue": "Cannot create a consistent method resolution\norder (MRO) for bases Player, Enemy",
     "output_type": "error",
     "traceback": [
      "\u001b[1;31m---------------------------------------------------------------------------\u001b[0m",
      "\u001b[1;31mTypeError\u001b[0m                                 Traceback (most recent call last)",
      "\u001b[1;32m~\\AppData\\Local\\Temp/ipykernel_2464/749322738.py\u001b[0m in \u001b[0;36m<module>\u001b[1;34m\u001b[0m\n\u001b[0;32m      6\u001b[0m     \u001b[1;32mpass\u001b[0m\u001b[1;33m\u001b[0m\u001b[1;33m\u001b[0m\u001b[0m\n\u001b[0;32m      7\u001b[0m \u001b[1;33m\u001b[0m\u001b[0m\n\u001b[1;32m----> 8\u001b[1;33m \u001b[1;32mclass\u001b[0m \u001b[0mGameObject\u001b[0m\u001b[1;33m(\u001b[0m\u001b[0mPlayer\u001b[0m\u001b[1;33m,\u001b[0m \u001b[0mEnemy\u001b[0m\u001b[1;33m)\u001b[0m\u001b[1;33m:\u001b[0m\u001b[1;33m\u001b[0m\u001b[1;33m\u001b[0m\u001b[0m\n\u001b[0m\u001b[0;32m      9\u001b[0m     \u001b[1;32mpass\u001b[0m\u001b[1;33m\u001b[0m\u001b[1;33m\u001b[0m\u001b[0m\n\u001b[0;32m     10\u001b[0m \u001b[1;33m\u001b[0m\u001b[0m\n",
      "\u001b[1;31mTypeError\u001b[0m: Cannot create a consistent method resolution\norder (MRO) for bases Player, Enemy"
     ]
    }
   ],
   "source": [
    "class Player:\n",
    "    def test(self):\n",
    "        print(\"Player\")\n",
    "\n",
    "class Enemy(Player):\n",
    "    pass\n",
    "\n",
    "class GameObject(Player, Enemy):\n",
    "    pass\n",
    "\n",
    "g = GameObject()"
   ]
  },
  {
   "cell_type": "markdown",
   "metadata": {},
   "source": [
    "# Polymorphism"
   ]
  },
  {
   "cell_type": "code",
   "execution_count": null,
   "metadata": {},
   "outputs": [],
   "source": [
    "# Implement (override) method in child that is defined in parent class."
   ]
  },
  {
   "cell_type": "code",
   "execution_count": 53,
   "metadata": {},
   "outputs": [
    {
     "name": "stdout",
     "output_type": "stream",
     "text": [
      "\n",
      "CTO: Jake, Smith\n"
     ]
    }
   ],
   "source": [
    "print(cto)"
   ]
  },
  {
   "cell_type": "markdown",
   "metadata": {},
   "source": [
    "Overriding can be of 2 types:\n",
    "    - replacing\n",
    "    - extending"
   ]
  },
  {
   "cell_type": "code",
   "execution_count": 54,
   "metadata": {},
   "outputs": [
    {
     "data": {
      "text/plain": [
       "'421'"
      ]
     },
     "execution_count": 54,
     "metadata": {},
     "output_type": "execute_result"
    }
   ],
   "source": [
    "var = 42\n",
    "var + 1 # var.__add__(1)\n",
    "\n",
    "var = \"42\"\n",
    "var + \"1\" # var.__add__(\"1\")"
   ]
  },
  {
   "cell_type": "code",
   "execution_count": 55,
   "metadata": {},
   "outputs": [
    {
     "ename": "SyntaxError",
     "evalue": "invalid syntax (Temp/ipykernel_2464/3103267438.py, line 84)",
     "output_type": "error",
     "traceback": [
      "\u001b[1;36m  File \u001b[1;32m\"C:\\Users\\dell\\AppData\\Local\\Temp/ipykernel_2464/3103267438.py\"\u001b[1;36m, line \u001b[1;32m84\u001b[0m\n\u001b[1;33m    dunder =\u001b[0m\n\u001b[1;37m             ^\u001b[0m\n\u001b[1;31mSyntaxError\u001b[0m\u001b[1;31m:\u001b[0m invalid syntax\n"
     ]
    }
   ],
   "source": [
    "class Shape: #class Shape(object)    \n",
    "    def __init__(self, x, y):\n",
    "        self.x = x\n",
    "        self.y = y\n",
    "    \n",
    "    def square(self):\n",
    "        return 0\n",
    "    \n",
    "    \n",
    "class Circle(Shape):\n",
    "    \n",
    "    def __init__(self, x, y, radius):\n",
    "        super().__init__(x, y)\n",
    "        self.radius = radius\n",
    "        \n",
    "    def square(self):\n",
    "        return math.pi*self.radius**2\n",
    "    \n",
    "    \n",
    "class Rectangle(Shape):\n",
    "    \n",
    "    def __init__(self, x, y, height, width):\n",
    "        super().__init__(x, y) \n",
    "        self.height = height\n",
    "        self.width = width\n",
    "\n",
    "    def square(self):\n",
    "        return self.width*self.height\n",
    "    \n",
    "    \n",
    "class Parallelogram(Rectangle):\n",
    "\n",
    "    def __init__(self, x, y, height, width, angle):\n",
    "        super().__init__(x, y, height, width) \n",
    "        self.angle = angle\n",
    "\n",
    "    def print_angle(self):\n",
    "        print(self.angle)\n",
    "        \n",
    "    def __str__(self):\n",
    "        result = super().__str__()\n",
    "        return result + f'\\nParallelogram: {self.width}, {self.height}, {self.angle}'\n",
    "    \n",
    "    def __eq__(self, other):\n",
    "        return self.__dict__ == other.__dict__\n",
    "\n",
    "    \n",
    "class Scene:\n",
    "    def __init__(self):\n",
    "        self._figures = []\n",
    "        \n",
    "    def add_figure(self, figure):\n",
    "        self._figures.append(figure)\n",
    "     \n",
    "    def total_square(self):\n",
    "        return sum(f.square() for f in self._figures)\n",
    "    \n",
    "    def __str__(self):\n",
    "        pass\n",
    "        \n",
    "r = Rectangle(0, 0, 10, 20)\n",
    "r1 = Rectangle(10, 0, -10, 20)\n",
    "r2 = Rectangle(0, 20, 100, 20)\n",
    "\n",
    "c = Circle(10, 0, 10)\n",
    "c1 = Circle(100, 100, 5)\n",
    "\n",
    "p = Parallelogram(1, 2, 20, 30, 45)\n",
    "p.x\n",
    "p1 = Parallelogram(1, 2, 20, 30, 45)\n",
    "str(p1)\n",
    "\n",
    "scene = Scene()\n",
    "scene.add_figure(r)\n",
    "scene.add_figure(r1)\n",
    "scene.add_figure(r2)\n",
    "scene.add_figure(c)\n",
    "scene.add_figure(c1)\n",
    "\n",
    "scene.total_square()\n",
    "\n",
    "# print total_square\n",
    "# what is missing?\n",
    "dunder = "
   ]
  },
  {
   "cell_type": "markdown",
   "metadata": {},
   "source": [
    "#### We can also override magic/dunder methods"
   ]
  },
  {
   "cell_type": "code",
   "execution_count": 56,
   "metadata": {},
   "outputs": [
    {
     "name": "stdout",
     "output_type": "stream",
     "text": [
      "<__main__.Parallelogram object at 0x0000017BA595D960>\n"
     ]
    }
   ],
   "source": [
    "print(p.__str__())"
   ]
  },
  {
   "cell_type": "code",
   "execution_count": 57,
   "metadata": {},
   "outputs": [
    {
     "data": {
      "text/plain": [
       "'<__main__.Parallelogram object at 0x0000017BA595D960>'"
      ]
     },
     "execution_count": 57,
     "metadata": {},
     "output_type": "execute_result"
    }
   ],
   "source": [
    "str(p) # p.__str__()"
   ]
  },
  {
   "cell_type": "code",
   "execution_count": 58,
   "metadata": {},
   "outputs": [
    {
     "data": {
      "text/plain": [
       "['__class__',\n",
       " '__delattr__',\n",
       " '__dict__',\n",
       " '__dir__',\n",
       " '__doc__',\n",
       " '__eq__',\n",
       " '__format__',\n",
       " '__ge__',\n",
       " '__getattribute__',\n",
       " '__gt__',\n",
       " '__hash__',\n",
       " '__init__',\n",
       " '__init_subclass__',\n",
       " '__le__',\n",
       " '__lt__',\n",
       " '__module__',\n",
       " '__ne__',\n",
       " '__new__',\n",
       " '__reduce__',\n",
       " '__reduce_ex__',\n",
       " '__repr__',\n",
       " '__setattr__',\n",
       " '__sizeof__',\n",
       " '__str__',\n",
       " '__subclasshook__',\n",
       " '__weakref__',\n",
       " 'angle',\n",
       " 'height',\n",
       " 'print_angle',\n",
       " 'print_sides',\n",
       " 'width',\n",
       " 'x',\n",
       " 'y']"
      ]
     },
     "execution_count": 58,
     "metadata": {},
     "output_type": "execute_result"
    }
   ],
   "source": [
    "dir(p)"
   ]
  },
  {
   "cell_type": "code",
   "execution_count": 59,
   "metadata": {},
   "outputs": [
    {
     "ename": "NameError",
     "evalue": "name 'p1' is not defined",
     "output_type": "error",
     "traceback": [
      "\u001b[1;31m---------------------------------------------------------------------------\u001b[0m",
      "\u001b[1;31mNameError\u001b[0m                                 Traceback (most recent call last)",
      "\u001b[1;32m~\\AppData\\Local\\Temp/ipykernel_2464/3819306521.py\u001b[0m in \u001b[0;36m<module>\u001b[1;34m\u001b[0m\n\u001b[0;32m      2\u001b[0m \u001b[0mdir\u001b[0m\u001b[1;33m(\u001b[0m\u001b[0mp\u001b[0m\u001b[1;33m)\u001b[0m \u001b[1;31m# p.__dir__()\u001b[0m\u001b[1;33m\u001b[0m\u001b[1;33m\u001b[0m\u001b[0m\n\u001b[0;32m      3\u001b[0m \u001b[0mstr\u001b[0m\u001b[1;33m(\u001b[0m\u001b[0mp\u001b[0m\u001b[1;33m)\u001b[0m \u001b[1;31m# p.__str__()\u001b[0m\u001b[1;33m\u001b[0m\u001b[1;33m\u001b[0m\u001b[0m\n\u001b[1;32m----> 4\u001b[1;33m \u001b[0mp\u001b[0m \u001b[1;33m==\u001b[0m \u001b[0mp1\u001b[0m \u001b[1;31m# p.__eq__(p1)\u001b[0m\u001b[1;33m\u001b[0m\u001b[1;33m\u001b[0m\u001b[0m\n\u001b[0m\u001b[0;32m      5\u001b[0m \u001b[1;31m# p >= p1 # p.__??__(p1)\u001b[0m\u001b[1;33m\u001b[0m\u001b[1;33m\u001b[0m\u001b[0m\n\u001b[0;32m      6\u001b[0m \u001b[0mp\u001b[0m\u001b[1;33m.\u001b[0m\u001b[0mx\u001b[0m \u001b[1;31m# p.__getattribute__('x')\u001b[0m\u001b[1;33m\u001b[0m\u001b[1;33m\u001b[0m\u001b[0m\n",
      "\u001b[1;31mNameError\u001b[0m: name 'p1' is not defined"
     ]
    }
   ],
   "source": [
    "# almost all builtin functions are employing dunder methods:\n",
    "dir(p) # p.__dir__()\n",
    "str(p) # p.__str__()\n",
    "p == p1 # p.__eq__(p1)\n",
    "# p >= p1 # p.__??__(p1)\n",
    "p.x # p.__getattribute__('x')"
   ]
  },
  {
   "cell_type": "code",
   "execution_count": 60,
   "metadata": {},
   "outputs": [
    {
     "data": {
      "text/plain": [
       "'abcxyz'"
      ]
     },
     "execution_count": 60,
     "metadata": {},
     "output_type": "execute_result"
    }
   ],
   "source": [
    "# v = 42\n",
    "# v.__add__(1)\n",
    "\n",
    "s = 'abc'\n",
    "s.__add__('xyz')"
   ]
  },
  {
   "cell_type": "code",
   "execution_count": 61,
   "metadata": {},
   "outputs": [],
   "source": [
    "# clients = [c1, c2, c3]\n",
    "\n",
    "# if c1 in clients:\n",
    "    "
   ]
  },
  {
   "cell_type": "code",
   "execution_count": 62,
   "metadata": {},
   "outputs": [],
   "source": [
    "class Response:\n",
    "    \n",
    "    def __init__(self, content=''):\n",
    "        self.content = content\n",
    "        \n",
    "    def __bool__(self):\n",
    "        return bool(self.content)\n",
    "\n",
    "#     def __eq__(self, other):\n",
    "#         return id(self) == id(other)\n",
    "    \n",
    "    def __eq__(self, other):\n",
    "        return bool(self.content) == bool(other)"
   ]
  },
  {
   "cell_type": "code",
   "execution_count": 63,
   "metadata": {},
   "outputs": [
    {
     "data": {
      "text/plain": [
       "False"
      ]
     },
     "execution_count": 63,
     "metadata": {},
     "output_type": "execute_result"
    }
   ],
   "source": [
    "r = Response('')\n",
    "bool(r)\n",
    "Response('xyz') == Response('abc')\n",
    "r1 = Response('')\n",
    "r2 = Response('abc')\n",
    "r1 == r2 # r1.__eq__(r2)"
   ]
  },
  {
   "cell_type": "code",
   "execution_count": 64,
   "metadata": {},
   "outputs": [
    {
     "name": "stdout",
     "output_type": "stream",
     "text": [
      "Logging response: <__main__.Response object at 0x0000017BA483EFB0>\n"
     ]
    }
   ],
   "source": [
    "def log_data(response=None):\n",
    "    if response is None:\n",
    "        print('Response is missing')\n",
    "    else:\n",
    "        print(f'Logging response: {response}')\n",
    "        \n",
    "r = Response()\n",
    "log_data(r)\n",
    "\n",
    "# r = Response()\n",
    "# log_data()"
   ]
  },
  {
   "cell_type": "markdown",
   "metadata": {},
   "source": [
    "#### Implementing protocols"
   ]
  },
  {
   "cell_type": "code",
   "execution_count": 65,
   "metadata": {},
   "outputs": [
    {
     "name": "stdout",
     "output_type": "stream",
     "text": [
      "Elapsed time: 0.0 sec\n"
     ]
    },
    {
     "ename": "ValueError",
     "evalue": "Error",
     "output_type": "error",
     "traceback": [
      "\u001b[1;31m---------------------------------------------------------------------------\u001b[0m",
      "\u001b[1;31mValueError\u001b[0m                                Traceback (most recent call last)",
      "\u001b[1;32m~\\AppData\\Local\\Temp/ipykernel_2464/1191306083.py\u001b[0m in \u001b[0;36m<module>\u001b[1;34m\u001b[0m\n\u001b[0;32m     15\u001b[0m \u001b[1;33m\u001b[0m\u001b[0m\n\u001b[0;32m     16\u001b[0m \u001b[1;32mwith\u001b[0m \u001b[0mtimer\u001b[0m\u001b[1;33m(\u001b[0m\u001b[1;33m)\u001b[0m\u001b[1;33m:\u001b[0m\u001b[1;33m\u001b[0m\u001b[1;33m\u001b[0m\u001b[0m\n\u001b[1;32m---> 17\u001b[1;33m     \u001b[1;32mraise\u001b[0m \u001b[0mValueError\u001b[0m\u001b[1;33m(\u001b[0m\u001b[1;34m'Error'\u001b[0m\u001b[1;33m)\u001b[0m\u001b[1;33m\u001b[0m\u001b[1;33m\u001b[0m\u001b[0m\n\u001b[0m\u001b[0;32m     18\u001b[0m     \u001b[0msleep\u001b[0m\u001b[1;33m(\u001b[0m\u001b[1;36m2\u001b[0m\u001b[1;33m)\u001b[0m\u001b[1;33m\u001b[0m\u001b[1;33m\u001b[0m\u001b[0m\n\u001b[0;32m     19\u001b[0m \u001b[1;33m\u001b[0m\u001b[0m\n",
      "\u001b[1;31mValueError\u001b[0m: Error"
     ]
    }
   ],
   "source": [
    "# Protocol context manager\n",
    "\n",
    "class timer():\n",
    "    \n",
    "    def __init__(self, message='Elapsed time: {} sec'):\n",
    "        self.message = message\n",
    "\n",
    "    def __enter__(self):\n",
    "        self.start = time.time()\n",
    "        return None\n",
    "\n",
    "    def __exit__(self, type, value, traceback):\n",
    "        elapsed_time = (time.time() - self.start)\n",
    "        print(self.message.format(elapsed_time))\n",
    "        \n",
    "with timer():\n",
    "    raise ValueError('Error')\n",
    "    sleep(2)\n",
    "    "
   ]
  },
  {
   "cell_type": "code",
   "execution_count": 66,
   "metadata": {},
   "outputs": [
    {
     "name": "stdout",
     "output_type": "stream",
     "text": [
      "['_CHUNK_SIZE', '__class__', '__del__', '__delattr__', '__dict__', '__dir__', '__doc__', '__enter__', '__eq__', '__exit__', '__format__', '__ge__', '__getattribute__', '__gt__', '__hash__', '__init__', '__init_subclass__', '__iter__', '__le__', '__lt__', '__ne__', '__new__', '__next__', '__reduce__', '__reduce_ex__', '__repr__', '__setattr__', '__sizeof__', '__str__', '__subclasshook__', '_checkClosed', '_checkReadable', '_checkSeekable', '_checkWritable', '_finalizing', 'buffer', 'close', 'closed', 'detach', 'encoding', 'errors', 'fileno', 'flush', 'isatty', 'line_buffering', 'mode', 'name', 'newlines', 'read', 'readable', 'readline', 'readlines', 'reconfigure', 'seek', 'seekable', 'tell', 'truncate', 'writable', 'write', 'write_through', 'writelines']\n"
     ]
    }
   ],
   "source": [
    "with open('test.txt', 'w') as f:\n",
    "   print(dir(f))"
   ]
  },
  {
   "cell_type": "code",
   "execution_count": 67,
   "metadata": {},
   "outputs": [
    {
     "name": "stdout",
     "output_type": "stream",
     "text": [
      "42\n",
      "43\n",
      "44\n",
      "45\n",
      "46\n",
      "47\n",
      "48\n"
     ]
    },
    {
     "ename": "KeyboardInterrupt",
     "evalue": "",
     "output_type": "error",
     "traceback": [
      "\u001b[1;31m---------------------------------------------------------------------------\u001b[0m",
      "\u001b[1;31mKeyboardInterrupt\u001b[0m                         Traceback (most recent call last)",
      "\u001b[1;32m~\\AppData\\Local\\Temp/ipykernel_2464/2265336753.py\u001b[0m in \u001b[0;36m<module>\u001b[1;34m\u001b[0m\n\u001b[0;32m     15\u001b[0m \u001b[1;32mfor\u001b[0m \u001b[0mi\u001b[0m \u001b[1;32min\u001b[0m \u001b[0mInfiniteCounter\u001b[0m\u001b[1;33m(\u001b[0m\u001b[1;36m42\u001b[0m\u001b[1;33m)\u001b[0m\u001b[1;33m:\u001b[0m\u001b[1;33m\u001b[0m\u001b[1;33m\u001b[0m\u001b[0m\n\u001b[0;32m     16\u001b[0m    \u001b[0mprint\u001b[0m\u001b[1;33m(\u001b[0m\u001b[0mi\u001b[0m\u001b[1;33m)\u001b[0m\u001b[1;33m\u001b[0m\u001b[1;33m\u001b[0m\u001b[0m\n\u001b[1;32m---> 17\u001b[1;33m    \u001b[0msleep\u001b[0m\u001b[1;33m(\u001b[0m\u001b[1;36m1\u001b[0m\u001b[1;33m)\u001b[0m\u001b[1;33m\u001b[0m\u001b[1;33m\u001b[0m\u001b[0m\n\u001b[0m",
      "\u001b[1;31mKeyboardInterrupt\u001b[0m: "
     ]
    }
   ],
   "source": [
    " # Iterator protocol\n",
    "class InfiniteCounter:\n",
    "    def __init__(self, value):\n",
    "        self._value = value\n",
    "    \n",
    "    def __iter__(self):\n",
    "        return self\n",
    "    \n",
    "    def __next__(self):\n",
    "        value = self._value\n",
    "        self._value += 1\n",
    "        return value\n",
    "    \n",
    "    \n",
    "for i in InfiniteCounter(42):\n",
    "    print(i)\n",
    "    sleep(1)"
   ]
  },
  {
   "cell_type": "code",
   "execution_count": 68,
   "metadata": {},
   "outputs": [
    {
     "name": "stdout",
     "output_type": "stream",
     "text": [
      "1\n",
      "2\n",
      "3\n"
     ]
    },
    {
     "ename": "KeyboardInterrupt",
     "evalue": "",
     "output_type": "error",
     "traceback": [
      "\u001b[1;31m---------------------------------------------------------------------------\u001b[0m",
      "\u001b[1;31mKeyboardInterrupt\u001b[0m                         Traceback (most recent call last)",
      "\u001b[1;32m~\\AppData\\Local\\Temp/ipykernel_2464/1650288995.py\u001b[0m in \u001b[0;36m<module>\u001b[1;34m\u001b[0m\n\u001b[0;32m     16\u001b[0m \u001b[1;33m\u001b[0m\u001b[0m\n\u001b[0;32m     17\u001b[0m \u001b[1;32mfor\u001b[0m \u001b[0mi\u001b[0m \u001b[1;32min\u001b[0m \u001b[0mFiboGen\u001b[0m\u001b[1;33m(\u001b[0m\u001b[1;33m)\u001b[0m\u001b[1;33m:\u001b[0m\u001b[1;33m\u001b[0m\u001b[1;33m\u001b[0m\u001b[0m\n\u001b[1;32m---> 18\u001b[1;33m     \u001b[0mtime\u001b[0m\u001b[1;33m.\u001b[0m\u001b[0msleep\u001b[0m\u001b[1;33m(\u001b[0m\u001b[1;36m1\u001b[0m\u001b[1;33m)\u001b[0m\u001b[1;33m\u001b[0m\u001b[1;33m\u001b[0m\u001b[0m\n\u001b[0m\u001b[0;32m     19\u001b[0m     \u001b[0mprint\u001b[0m\u001b[1;33m(\u001b[0m\u001b[0mi\u001b[0m\u001b[1;33m)\u001b[0m\u001b[1;33m\u001b[0m\u001b[1;33m\u001b[0m\u001b[0m\n",
      "\u001b[1;31mKeyboardInterrupt\u001b[0m: "
     ]
    }
   ],
   "source": [
    "# Fibo iterators\n",
    "\n",
    "class FiboGen:\n",
    "    def __init__(self):\n",
    "        self._prev_prev = 0\n",
    "        self._prev = 1\n",
    "    \n",
    "    def __next__(self):\n",
    "        result = self._prev + self._prev_prev\n",
    "        self._prev_prev = self._prev\n",
    "        self._prev = result\n",
    "        return result\n",
    "    \n",
    "    def __iter__(self):\n",
    "        return self\n",
    "    \n",
    "for i in FiboGen():\n",
    "    time.sleep(1) \n",
    "    print(i)"
   ]
  },
  {
   "cell_type": "code",
   "execution_count": 69,
   "metadata": {},
   "outputs": [
    {
     "name": "stdout",
     "output_type": "stream",
     "text": [
      "1\n",
      "2\n",
      "3\n",
      "5\n",
      "8\n"
     ]
    },
    {
     "ename": "KeyboardInterrupt",
     "evalue": "",
     "output_type": "error",
     "traceback": [
      "\u001b[1;31m---------------------------------------------------------------------------\u001b[0m",
      "\u001b[1;31mKeyboardInterrupt\u001b[0m                         Traceback (most recent call last)",
      "\u001b[1;32m~\\AppData\\Local\\Temp/ipykernel_2464/722355323.py\u001b[0m in \u001b[0;36m<module>\u001b[1;34m\u001b[0m\n\u001b[0;32m     17\u001b[0m \u001b[1;33m\u001b[0m\u001b[0m\n\u001b[0;32m     18\u001b[0m \u001b[1;32mfor\u001b[0m \u001b[0mi\u001b[0m \u001b[1;32min\u001b[0m \u001b[0mFiboGen\u001b[0m\u001b[1;33m(\u001b[0m\u001b[1;33m)\u001b[0m\u001b[1;33m:\u001b[0m\u001b[1;33m\u001b[0m\u001b[1;33m\u001b[0m\u001b[0m\n\u001b[1;32m---> 19\u001b[1;33m     \u001b[0mtime\u001b[0m\u001b[1;33m.\u001b[0m\u001b[0msleep\u001b[0m\u001b[1;33m(\u001b[0m\u001b[1;36m1\u001b[0m\u001b[1;33m)\u001b[0m\u001b[1;33m\u001b[0m\u001b[1;33m\u001b[0m\u001b[0m\n\u001b[0m\u001b[0;32m     20\u001b[0m     \u001b[0mprint\u001b[0m\u001b[1;33m(\u001b[0m\u001b[0mi\u001b[0m\u001b[1;33m)\u001b[0m\u001b[1;33m\u001b[0m\u001b[1;33m\u001b[0m\u001b[0m\n",
      "\u001b[1;31mKeyboardInterrupt\u001b[0m: "
     ]
    }
   ],
   "source": [
    "class FiboGen:\n",
    "    def __init__(self, limit=1000):\n",
    "        self._prev_prev = 0\n",
    "        self._prev = 1\n",
    "        self._limit = limit\n",
    "    \n",
    "    def __next__(self):\n",
    "        if self._prev + self._prev_prev > self._limit:\n",
    "            raise StopIteration('Limit is exceeded')\n",
    "        result = self._prev + self._prev_prev\n",
    "        self._prev_prev = self._prev\n",
    "        self._prev = result\n",
    "        return result\n",
    "    \n",
    "    def __iter__(self):\n",
    "        return self\n",
    "\n",
    "for i in FiboGen():\n",
    "    time.sleep(1) \n",
    "    print(i)"
   ]
  },
  {
   "cell_type": "code",
   "execution_count": null,
   "metadata": {},
   "outputs": [],
   "source": []
  },
  {
   "cell_type": "code",
   "execution_count": null,
   "metadata": {},
   "outputs": [],
   "source": []
  },
  {
   "cell_type": "code",
   "execution_count": null,
   "metadata": {},
   "outputs": [],
   "source": []
  },
  {
   "cell_type": "code",
   "execution_count": null,
   "metadata": {},
   "outputs": [],
   "source": []
  },
  {
   "cell_type": "code",
   "execution_count": null,
   "metadata": {},
   "outputs": [],
   "source": []
  },
  {
   "cell_type": "code",
   "execution_count": 70,
   "metadata": {},
   "outputs": [
    {
     "ename": "NameError",
     "evalue": "name 'frange' is not defined",
     "output_type": "error",
     "traceback": [
      "\u001b[1;31m---------------------------------------------------------------------------\u001b[0m",
      "\u001b[1;31mNameError\u001b[0m                                 Traceback (most recent call last)",
      "\u001b[1;32m~\\AppData\\Local\\Temp/ipykernel_2464/3930141709.py\u001b[0m in \u001b[0;36m<module>\u001b[1;34m\u001b[0m\n\u001b[1;32m----> 1\u001b[1;33m \u001b[1;32mfor\u001b[0m \u001b[0mi\u001b[0m \u001b[1;32min\u001b[0m \u001b[0mfrange\u001b[0m\u001b[1;33m(\u001b[0m\u001b[1;36m1\u001b[0m\u001b[1;33m,\u001b[0m \u001b[1;36m10\u001b[0m\u001b[1;33m,\u001b[0m \u001b[1;36m1.0\u001b[0m\u001b[1;33m)\u001b[0m\u001b[1;33m:\u001b[0m\u001b[1;33m\u001b[0m\u001b[1;33m\u001b[0m\u001b[0m\n\u001b[0m\u001b[0;32m      2\u001b[0m     \u001b[0mprint\u001b[0m\u001b[1;33m(\u001b[0m\u001b[0mi\u001b[0m\u001b[1;33m)\u001b[0m\u001b[1;33m\u001b[0m\u001b[1;33m\u001b[0m\u001b[0m\n",
      "\u001b[1;31mNameError\u001b[0m: name 'frange' is not defined"
     ]
    }
   ],
   "source": [
    "for i in frange(1, 10, 1.0):\n",
    "    print(i)"
   ]
  },
  {
   "cell_type": "code",
   "execution_count": 71,
   "metadata": {},
   "outputs": [
    {
     "name": "stdout",
     "output_type": "stream",
     "text": [
      "1\n",
      "2\n",
      "3\n",
      "4\n",
      "5\n",
      "6\n",
      "7\n",
      "8\n",
      "9\n",
      "10\n"
     ]
    }
   ],
   "source": [
    "\n",
    "class my_range:\n",
    "    def __init__(self, left, right, step=1):\n",
    "        self._left = left\n",
    "        self._right = right\n",
    "        self._step = step\n",
    "    \n",
    "    def __next__(self):\n",
    "        if self._left + self._step > self._right + self._step:\n",
    "            raise StopIteration('ffff')\n",
    "        result = self._left\n",
    "        self._left += self._step\n",
    "        return result\n",
    "    \n",
    "    def __iter__(self):\n",
    "        return self\n",
    "    \n",
    "for i in my_range(1, 10):\n",
    "    print(i)"
   ]
  },
  {
   "cell_type": "code",
   "execution_count": 72,
   "metadata": {},
   "outputs": [
    {
     "name": "stdout",
     "output_type": "stream",
     "text": [
      "1\n",
      "2\n",
      "3\n",
      "4\n",
      "5\n",
      "6\n",
      "7\n",
      "8\n",
      "9\n",
      "10\n"
     ]
    }
   ],
   "source": [
    "for i in my_range(1, 10):\n",
    "    print(i)"
   ]
  },
  {
   "cell_type": "code",
   "execution_count": 73,
   "metadata": {},
   "outputs": [
    {
     "name": "stdout",
     "output_type": "stream",
     "text": [
      "1\n",
      "2\n",
      "3\n",
      "4\n",
      "5\n",
      "6\n",
      "7\n",
      "8\n",
      "9\n",
      "10\n"
     ]
    }
   ],
   "source": [
    "\n",
    "it = iter(my_range(1, 10)) # my_range(1, 10).__iter__()\n",
    "while True:\n",
    "    try:\n",
    "        value = next(it)  # it.__next__()\n",
    "        print(value)\n",
    "    except StopIteration as ex:\n",
    "        break"
   ]
  },
  {
   "cell_type": "markdown",
   "metadata": {},
   "source": [
    "### Misc topics"
   ]
  },
  {
   "cell_type": "code",
   "execution_count": null,
   "metadata": {},
   "outputs": [],
   "source": []
  },
  {
   "cell_type": "code",
   "execution_count": 83,
   "metadata": {},
   "outputs": [
    {
     "data": {
      "text/plain": [
       "12.727922061357855"
      ]
     },
     "execution_count": 83,
     "metadata": {},
     "output_type": "execute_result"
    }
   ],
   "source": [
    "class Shape: #class Shape(object)    \n",
    "    def __init__(self, x, y):\n",
    "        self.x = x\n",
    "        self.y = y\n",
    "    \n",
    "    def square(self):\n",
    "        return 0\n",
    "\n",
    "    @staticmethod\n",
    "    def _distance(x1, y1, x2, y2):\n",
    "        return math.sqrt((x1 - x2)**2 + (y1 - y2)**2)\n",
    "    \n",
    "    def distance(self, other=None):\n",
    "        x1, y1 = 0, 0\n",
    "        if other is not None:\n",
    "            x1, y1 = other.x, other.y\n",
    "        return self._distance(self.x, self.y, x1, y1)\n",
    "\n",
    "s = Shape(1, 10)\n",
    "s2 = Shape(1, 11)\n",
    "# s._distance(s2)\n",
    "\n",
    "Shape._distance(1, 1, 10, 10)\n",
    "# s.distance()"
   ]
  },
  {
   "cell_type": "code",
   "execution_count": 86,
   "metadata": {},
   "outputs": [
    {
     "name": "stdout",
     "output_type": "stream",
     "text": [
      "('__main__', 'A', {'a': 10, 'b': 22})\n",
      "('__main__', 'A', {'a': 10, 'b': 22})\n",
      "[\"__main__\", \"A\", {\"a\": 10, \"b\": 22}]\n"
     ]
    }
   ],
   "source": [
    "class DumpMixin:\n",
    "    def get_data(self):\n",
    "        return self.__dict__\n",
    "\n",
    "    def set_data(self, pod_data):\n",
    "        self.__dict__.update(pod_data)\n",
    "\n",
    "    def get_object_data(self):\n",
    "        metadata = (\n",
    "            type(self).__module__, # self.__class__.__module__\n",
    "            type(self).__name__,\n",
    "        )\n",
    "\n",
    "        obj = (*metadata, self.get_data())\n",
    "\n",
    "        return obj\n",
    "\n",
    "    \n",
    "class Serializer:\n",
    "    @staticmethod\n",
    "    def from_object_data(serialized_data):\n",
    "        module, class_name, data = serialized_data\n",
    "        klass = getattr(importlib.import_module(module), class_name)\n",
    "        obj = klass(**data)\n",
    "        return obj\n",
    "    \n",
    "class A(DumpMixin):\n",
    "    def __init__(self, a, b):\n",
    "        self.a = a\n",
    "        self.b = b\n",
    "        \n",
    "obj1 = A(10, 22)\n",
    "dump = obj1.get_object_data()\n",
    "print(dump)\n",
    "\n",
    "obj2 = Serializer.from_object_data(dump)\n",
    "dump = obj2.get_object_data()\n",
    "print(dump)\n",
    "print(json.dumps(dump))"
   ]
  },
  {
   "cell_type": "code",
   "execution_count": 91,
   "metadata": {},
   "outputs": [],
   "source": [
    "class Parser:\n",
    "    @staticmethod\n",
    "    def format(value):\n",
    "        raise NotImplemented('Not impemented')\n",
    "\n",
    "    @staticmethod\n",
    "    def parse(data):\n",
    "        raise NotImplemented('Not impemented')\n",
    "\n",
    "\n",
    "class JsonParser(Parser):\n",
    "    @staticmethod\n",
    "    def format(value):\n",
    "        return json.dumps(value)\n",
    "\n",
    "    @staticmethod\n",
    "    def parse(data):\n",
    "        return json.loads(data)\n",
    "\n",
    "\n",
    "class YamlParser(Parser):\n",
    "    @staticmethod\n",
    "    def format(value):\n",
    "        return yaml.dump(value)\n",
    "\n",
    "    \n",
    "    @staticmethod\n",
    "    def parse(data):\n",
    "        return yaml.load(data)"
   ]
  },
  {
   "cell_type": "code",
   "execution_count": 104,
   "metadata": {},
   "outputs": [],
   "source": [
    "class FileDumper:\n",
    "    serializer = Serializer\n",
    "    parser = JsonParser\n",
    "\n",
    "    @classmethod\n",
    "    def create_from_file(cls, filepath):\n",
    "        with open(filepath) as f:\n",
    "            data = cls.parser.parse(f.read())\n",
    "            instance = cls.serializer.from_object_data(data)\n",
    "        return instance\n",
    "    \n",
    "    @classmethod\n",
    "    def save_to_file(cls, filepath, obj):\n",
    "        with open(filepath, 'w+') as f:\n",
    "            serialized = self.parser.format(obj.get_object_data())\n",
    "            f.write(serialized)\n",
    "\n",
    "#     @staticmethod\n",
    "#     def save_to_file(filepath, obj):\n",
    "#         with open(filepath, 'w+') as f:\n",
    "#             serialized = FileDumper.parser.format(obj.get_object_data())\n",
    "#             f.write(serialized)\n",
    "            \n",
    "\n",
    "class JsonFileDumper(FileDumper):\n",
    "    parser = JsonParser\n",
    "\n",
    "\n",
    "class YamlFileDumper(FileDumper):\n",
    "    parser = YamlParser\n"
   ]
  },
  {
   "cell_type": "code",
   "execution_count": 98,
   "metadata": {},
   "outputs": [],
   "source": [
    "class Shape(DumpMixin):  # class Shape(object)\n",
    "    def __init__(self, x, y):\n",
    "        self.x = x\n",
    "        self.y = y\n",
    "\n",
    "    def square(self):\n",
    "        return 0\n",
    "\n",
    "\n",
    "class Circle(Shape):\n",
    "    def __init__(self, x, y, radius):\n",
    "        super().__init__(x, y)\n",
    "        self.radius = radius\n",
    "\n",
    "    def square(self):\n",
    "        return math.pi * self.radius ** 2\n",
    "\n",
    "\n",
    "class Rectangle(Shape):\n",
    "    def __init__(self, x, y, height, width):\n",
    "        super().__init__(x, y)\n",
    "        self.height = height\n",
    "        self.width = width\n",
    "\n",
    "    def square(self):\n",
    "        return self.width * self.height\n",
    "\n",
    "\n",
    "class Parallelogram(Rectangle):\n",
    "    def __init__(self, x, y, height, width, angle):\n",
    "        super().__init__(x, y, height, width)\n",
    "        self.angle = angle\n",
    "\n",
    "    def print_angle(self):\n",
    "        print(self.angle)\n",
    "\n",
    "    def __str__(self):\n",
    "        result = super().__str__()\n",
    "        return result + f'\\nParallelogram: {self.width}, {self.height}, {self.angle}'\n",
    "\n",
    "    def __eq__(self, other):\n",
    "        return self.__dict__ == other.__dict__"
   ]
  },
  {
   "cell_type": "code",
   "execution_count": 108,
   "metadata": {},
   "outputs": [
    {
     "name": "stdout",
     "output_type": "stream",
     "text": [
      "<__main__.Parallelogram object at 0x0000017BA704AB30>\n",
      "Parallelogram: 20, 10, 45\n",
      "<class '__main__.Parallelogram'>\n"
     ]
    }
   ],
   "source": [
    "# r = Parallelogram(0, 0, 10, 20, 45)\n",
    "# FileDumper.save_to_file('scene.json', r)  # FileDumper.save_to_file(cls : FileDumper)\n",
    "r2 = FileDumper.create_from_file('scene.json')\n",
    "\n",
    "\n",
    "\n",
    "# YamlFileDumper.save_to_file('scene.yaml', r)  # save_to_file(cls : YamlFileDumper)\n",
    "#s3 = YamlFileDumper.create_from_file('/tmp/scene.yaml')\n",
    "\n",
    "# print(r)\n",
    "print(r2)\n",
    "print(type(r2))\n",
    "# print(s3)\n",
    "# assert s2 == s3"
   ]
  },
  {
   "cell_type": "code",
   "execution_count": null,
   "metadata": {},
   "outputs": [],
   "source": [
    "%%bash\n",
    "cat scene.json\n",
    "echo \"\"\n",
    "cat scene.yaml"
   ]
  },
  {
   "cell_type": "markdown",
   "metadata": {},
   "source": [
    "### Data hiding (encapsulation)\n"
   ]
  },
  {
   "cell_type": "markdown",
   "metadata": {},
   "source": [
    "Sometimes it is useful to hide class internals from client\n",
    "- to have freedom to change them in future\n",
    "- not to overwhelm a client with details\n",
    "\n",
    "This introduces idea of private attributes/methods: couldn't or shoudn't be used by client"
   ]
  },
  {
   "cell_type": "code",
   "execution_count": 74,
   "metadata": {},
   "outputs": [
    {
     "name": "stdout",
     "output_type": "stream",
     "text": [
      "42 abc\n"
     ]
    }
   ],
   "source": [
    "class A: # before\n",
    "\n",
    "    def __init__(self, attr1=None, attr2=None):\n",
    "        self._attr1 = attr1 # protected (client)\n",
    "        self._attr2 = attr2 # protected (client)\n",
    "        \n",
    "    def _internal_method(self):\n",
    "        pass\n",
    "\n",
    "a = A(42, 'abc')\n",
    "print(a._attr1, a._attr2)\n",
    "a._internal_method()"
   ]
  },
  {
   "cell_type": "code",
   "execution_count": 79,
   "metadata": {},
   "outputs": [],
   "source": [
    "# However, it's possible to hide attribte (almost)\n",
    "class A:\n",
    "    \n",
    "    def __init__(self, attr1=None, attr2=None):\n",
    "        self._attr1 = attr1 # protected (client)\n",
    "        self._attr2 = attr2 # protected (client)\n",
    "        self.__attr3 = attr2 # private (client&child)\n",
    "        \n",
    "a = A(42, 'abc')\n",
    "# print(a._attr1,  a._attr2)\n",
    "# print(a.__attr3)\n",
    "# print(a._A__attr3)\n",
    "# print(a.__class__.__dict__)"
   ]
  },
  {
   "cell_type": "code",
   "execution_count": null,
   "metadata": {},
   "outputs": [],
   "source": []
  },
  {
   "cell_type": "code",
   "execution_count": null,
   "metadata": {},
   "outputs": [],
   "source": []
  },
  {
   "cell_type": "markdown",
   "metadata": {},
   "source": [
    "#### OOP = abstraction + inheritance + polymorphism + encapsulation (hiding)"
   ]
  },
  {
   "cell_type": "markdown",
   "metadata": {},
   "source": [
    "\n",
    "### Multiple inheritance is often used to 'mix in' additional behaviour"
   ]
  },
  {
   "cell_type": "code",
   "execution_count": null,
   "metadata": {},
   "outputs": [],
   "source": [
    "class JsonMixin:\n",
    "    \n",
    "    MAX_PRINT_SYMBOLS = 20\n",
    "    \n",
    "    def to_json(self):\n",
    "        return json.dumps(self.__dict__)\n",
    "    \n",
    "    def __str__(self):\n",
    "        result = super().__str__()\n",
    "        result += '\\n'\n",
    "        result += 'CLASS: ' + type(self).__name__\n",
    "        result += '\\n'\n",
    "        obj_str = self.to_json()\n",
    "        to_display = min(self.MAX_PRINT_SYMBOLS, len(obj_str))\n",
    "        if to_display > self.MAX_PRINT_SYMBOLS:\n",
    "            result += obj_str[:to_display] + '...'\n",
    "        else:\n",
    "            result += obj_str\n",
    "        return result\n",
    "    \n",
    "\n",
    "class XMLMixin:\n",
    "    MAX_PRINT_SYMBOLS = 20\n",
    "    \n",
    "    def to_xml(self):\n",
    "        return dicttoxml.dicttoxml(vars(self)).decode()\n",
    "    \n",
    "    def __str__(self):\n",
    "        result = super().__str__()\n",
    "        result += '\\n'\n",
    "        result += 'CLASS: ' + type(self).__name__\n",
    "        result += '\\n'\n",
    "        obj_str = self.to_xml()\n",
    "        to_display = min(self.MAX_PRINT_SYMBOLS, len(obj_str))\n",
    "        if to_display > self.MAX_PRINT_SYMBOLS:\n",
    "            result += obj_str[:to_display] + '...'\n",
    "        else:\n",
    "            result += obj_str\n",
    "        return result\n",
    "\n",
    "\n",
    "class YamlMixin:\n",
    "    \n",
    "    MAX_PRINT_SYMBOLS = 20\n",
    "\n",
    "    def to_yaml(self):\n",
    "        return yaml.dump(vars(self))\n",
    "    \n",
    "    def __str__(self):\n",
    "        result = super().__str__()\n",
    "        result += '\\n'\n",
    "        result += 'CLASS: ' + type(self).__name__\n",
    "        result += '\\n'\n",
    "        obj_str = self.to_yaml()\n",
    "        to_display = min(self.MAX_PRINT_SYMBOLS, len(obj_str))\n",
    "        if to_display > self.MAX_PRINT_SYMBOLS:\n",
    "            result += obj_str[:to_display] + '...'\n",
    "        else:\n",
    "            result += obj_str\n",
    "        return result"
   ]
  },
  {
   "cell_type": "code",
   "execution_count": null,
   "metadata": {},
   "outputs": [],
   "source": [
    "class CTO(YamlMixin, TeamLeader, Architect):\n",
    "    \n",
    "    def __init__(self, first_name, last_name, **kwargs):\n",
    "        super().__init__(first_name, last_name, **kwargs)\n",
    "        self.projects = kwargs.get(\"projects\")\n",
    "        self.soft_skills += ['Leadership', 'EQ']\n",
    "        self.certificates += ['ITIL', 'PMA']\n",
    "        self.jobtitle = 'CTO'\n",
    "        \n",
    "#     def __str__(self):\n",
    "#         return 'CTO'\n",
    "        \n",
    "cto = CTO(\n",
    "    first_name='Jake',\n",
    "    last_name='Smith',\n",
    "    salary=250000\n",
    ")\n",
    "print(CTO.mro())\n",
    "#print(cto.to_yaml())\n",
    "print(str(cto))"
   ]
  },
  {
   "cell_type": "markdown",
   "metadata": {},
   "source": [
    "#### Template pattern (https://bit.ly/3j6Asid)"
   ]
  },
  {
   "cell_type": "code",
   "execution_count": null,
   "metadata": {},
   "outputs": [],
   "source": [
    "class SerializedMixin:\n",
    "    MAX_PRINT_SYMBOLS = 150\n",
    "    \n",
    "    def _serialize(self):\n",
    "        raise NotImplemented('No impemented')\n",
    "    \n",
    "    def __str__(self):\n",
    "        result = super().__str__()\n",
    "        result += '\\n'\n",
    "        result += 'CLASS: ' + type(self).__name__\n",
    "        result += '\\n'\n",
    "        obj_str = self._serialize()\n",
    "        to_display = min(self.MAX_PRINT_SYMBOLS, len(obj_str))\n",
    "        if to_display < len(obj_str):\n",
    "            result += obj_str[:to_display] + '...'\n",
    "        else:\n",
    "            result += obj_str\n",
    "        return result\n",
    "\n",
    "    \n",
    "class JsonMixin(SerializedMixin):\n",
    "    MAX_PRINT_SYMBOLS = 42\n",
    "\n",
    "    def _serialize(self):\n",
    "        return json.dumps(vars(self))\n",
    "    \n",
    "\n",
    "class XMLMixin(SerializedMixin):\n",
    "    def _serialize(self):\n",
    "        return dicttoxml.dicttoxml(vars(self)).decode()\n",
    "\n",
    "\n",
    "class YamlMixin(SerializedMixin):\n",
    "    def _serialize(self):\n",
    "        return yaml.dump(vars(self))"
   ]
  },
  {
   "cell_type": "code",
   "execution_count": null,
   "metadata": {},
   "outputs": [],
   "source": [
    "class CTO(YamlMixin, TeamLeader, Architect):\n",
    "    \n",
    "    def __init__(self, first_name, last_name, **kwargs):\n",
    "        super().__init__(first_name, last_name, **kwargs)\n",
    "        self.projects = kwargs.get(\"projects\")\n",
    "        self.soft_skills += ['Leadership', 'EQ']\n",
    "        self.certificates += ['ITIL', 'PMA']\n",
    "        self.jobtitle = 'CTO'\n",
    "\n",
    "cto = CTO(\n",
    "    first_name='Jake',\n",
    "    last_name='Smith',\n",
    "    salary=250000\n",
    ")\n",
    "\n",
    "print(str(cto))"
   ]
  },
  {
   "cell_type": "code",
   "execution_count": null,
   "metadata": {},
   "outputs": [],
   "source": []
  },
  {
   "cell_type": "code",
   "execution_count": null,
   "metadata": {},
   "outputs": [],
   "source": []
  },
  {
   "cell_type": "code",
   "execution_count": null,
   "metadata": {},
   "outputs": [],
   "source": []
  },
  {
   "cell_type": "code",
   "execution_count": null,
   "metadata": {},
   "outputs": [],
   "source": [
    "# overriding operators (+, -, *, /, ...)\n",
    "class Q:\n",
    "    def __init__(self, **params):\n",
    "        self._params = params\n",
    "    \n",
    "    def __or__(self, other):\n",
    "        self._params.update(other._params)\n",
    "        return self\n",
    "\n",
    "#     def __and__(self, other):\n",
    "#         self._params.update(other._params)\n",
    "#         return self\n",
    "    \n",
    "    def __str__(self):\n",
    "        result = ''\n",
    "        for k, v in  self._params.items():\n",
    "            if result:\n",
    "                result += ' OR '\n",
    "#             if result:\n",
    "#                 result += ' OR '\n",
    "            result += f'{k}={repr(v)}'\n",
    "        return result\n",
    "\n",
    "filter = Q()\n",
    "filter |= Q(first_name='John')\n",
    "filter |= Q(last_name='Gonzalez')\n",
    "filter |= Q(stuff=True)\n",
    "filter |= Q(age=42)\n",
    "\n",
    "print(filter)"
   ]
  },
  {
   "cell_type": "code",
   "execution_count": null,
   "metadata": {},
   "outputs": [],
   "source": [
    "# overriding operators (+, -, *, /, ...)\n",
    "class Q:\n",
    "    def __init__(self, **params):\n",
    "        self._params = params\n",
    "    \n",
    "    def __or__(self, other):\n",
    "        self._params.update(other._params)\n",
    "        return self\n",
    "\n",
    "#     def __and__(self, other):\n",
    "#         self._params.update(other._params)\n",
    "#         return self\n",
    "    \n",
    "    def __str__(self):\n",
    "        result = ''\n",
    "        for k, v in  self._params.items():\n",
    "            if result:\n",
    "                result += ' OR '\n",
    "#             if result:\n",
    "#                 result += ' OR '\n",
    "            result += f'{k}={repr(v)}'\n",
    "        return result\n",
    "\n",
    "filter = Q()\n",
    "filter |= Q(first_name='John')\n",
    "filter |= Q(last_name='Gonzalez')\n",
    "filter |= Q(stuff=True)\n",
    "filter |= Q(age=42)\n",
    "\n",
    "print(filter)"
   ]
  },
  {
   "cell_type": "code",
   "execution_count": null,
   "metadata": {},
   "outputs": [],
   "source": [
    "# overriding get/set attributes -> hook access to/from attributes\n",
    "class A:\n",
    "    def __getattr__(self, name):\n",
    "        print('__getattr__')\n",
    "#         if name in self.__dict__:\n",
    "#             value = self.__dict__[name]\n",
    "#         elif name in self.__class__.__dict__:\n",
    "#             value = self.__class__.__dict__[name]\n",
    "#         else:\n",
    "#             value = super().__getattr__(name)                    \n",
    "#         return value\n",
    "        return 42\n",
    "    \n",
    "    def __setattr__(self, name, value):\n",
    "        print('__setattr__')\n",
    "        self.__dict__[name] = value + 1\n",
    "        \n",
    "    def __delattr__(self, name):\n",
    "        if name in self.__dict__:\n",
    "            del self.__dict__[name]\n",
    "            \n",
    "a = A()\n",
    "a.boo = 42\n",
    "print(a.boo)\n"
   ]
  },
  {
   "cell_type": "code",
   "execution_count": null,
   "metadata": {},
   "outputs": [],
   "source": [
    "# make objects behave like a function: __call__\n",
    "\n",
    "def foo():\n",
    "    print('foo')\n",
    "foo()\n",
    "foo.__call__()\n",
    "\n",
    "class A:\n",
    "    def __call__(self):\n",
    "        print('__call__')\n",
    "    \n",
    "a = A()\n",
    "a()"
   ]
  },
  {
   "cell_type": "code",
   "execution_count": null,
   "metadata": {},
   "outputs": [],
   "source": [
    "class lazy_object:\n",
    "    '''\n",
    "    Class for deferred instantiation of objects.  Init is called\n",
    "    only when the first attribute is either get or set.\n",
    "    '''\n",
    "\n",
    "    def __init__(self, callable, *args, **kw):\n",
    "        '''\n",
    "        callable -- Class of objeсt to be instantiated or functionnn to be called\n",
    "        *args -- arguments to be used when instantiating object\n",
    "        **kw  -- keywords to be used when instantiating object\n",
    "        '''\n",
    "        self.__dict__['callable'] = callable\n",
    "        self.__dict__['args'] = args\n",
    "        self.__dict__['kw'] = kw\n",
    "        self.__dict__['obj'] = None\n",
    "\n",
    "    def init_obj(self):\n",
    "        '''\n",
    "        Instantiate object if not already done\n",
    "        '''\n",
    "        if self.obj is None:\n",
    "            self.__dict__['obj'] = self.callable(*self.args, **self.kw)\n",
    "\n",
    "    def __getattr__(self, name):\n",
    "        self.init_obj()\n",
    "        return getattr(self.obj, name)\n",
    "\n",
    "    def __setattr__(self, name, value):\n",
    "        self.init_obj()\n",
    "        setattr(self.obj, name, value)\n",
    "\n",
    "    def __len__(self):\n",
    "        self.init_obj()\n",
    "        return len(self.obj)\n",
    "\n",
    "    def __getitem__(self, idx):\n",
    "        self.init_obj()\n",
    "        return self.obj[idx]\n",
    "\n",
    "    def __copy__(self):\n",
    "        new_copy = lazy_object(self.callable, self.args, self.kw)\n",
    "        new_copy.__dict__['obj'] = copy.copy(self.obj)\n",
    "        return new_copy"
   ]
  },
  {
   "cell_type": "code",
   "execution_count": null,
   "metadata": {},
   "outputs": [],
   "source": [
    "class A:\n",
    "    def __init__(self, num_elem):\n",
    "        self.attr1 = list(range(num_elem))\n",
    "        \n",
    "a = lazy_object(A, num_elem=10**8)\n",
    "\n",
    "print(a)"
   ]
  },
  {
   "cell_type": "code",
   "execution_count": null,
   "metadata": {},
   "outputs": [],
   "source": [
    "with timer('Elapsed: {}ms'):\n",
    "   type(a.attr1)\n",
    "\n",
    "with timer('Elapsed: {}ms'):\n",
    "   type(a.attr1)\n",
    "\n",
    "with timer('Elapsed: {}s'):\n",
    "   a1 = copy.copy(a) # быстро\n",
    "   # print(a1)\n",
    "\n",
    "with timer('Elapsed: {}s'):\n",
    "    # a1 = copy.deepcopy(a) # долго\n",
    "    print(a1)"
   ]
  },
  {
   "cell_type": "markdown",
   "metadata": {},
   "source": [
    "\n",
    "### Properties"
   ]
  },
  {
   "cell_type": "code",
   "execution_count": null,
   "metadata": {},
   "outputs": [],
   "source": [
    "# In the other languages, there is a tendency to hide everything by defualt, unless it is a constant"
   ]
  },
  {
   "cell_type": "code",
   "execution_count": null,
   "metadata": {},
   "outputs": [],
   "source": [
    "class Termostat:\n",
    "    \n",
    "    def __init__(self, temperature, *args, **kwargs):\n",
    "        self.temperature = temperature\n",
    "\n",
    "    ...\n",
    "t = Termostat(32)\n",
    "print(t.temperature)  "
   ]
  },
  {
   "cell_type": "code",
   "execution_count": null,
   "metadata": {},
   "outputs": [],
   "source": [
    "class Termostat:\n",
    "    \n",
    "    def __init__(self, temperature, *args, **kwargs):\n",
    "        self._temperature = temperature\n",
    "\n",
    "    def get_temperature(self):\n",
    "        return self._temperature\n",
    "    \n",
    "    def set_temperature(self, value):\n",
    "        self._temperature = value\n",
    "        \n",
    "    ...\n",
    "        \n",
    "t = Termostat(32)\n",
    "print(t.get_temperature())\n",
    "print(t._temperature)"
   ]
  },
  {
   "cell_type": "code",
   "execution_count": null,
   "metadata": {},
   "outputs": [],
   "source": [
    "class Termostat:\n",
    "    MAX_LIMIT = 120\n",
    "    \n",
    "    def __init__(self, temperature, *args, **kwargs):\n",
    "        self._temperature = temperature\n",
    "    \n",
    "    def _validate(self, value):\n",
    "        if value > self.MAX_LIMIT:\n",
    "            raise ValueError(...)\n",
    "        \n",
    "    def get_temperature(self, force_refresh=False):\n",
    "        logger.debug('Getting current temperature: {self._temperature}C')\n",
    "        return self._temperature\n",
    "    \n",
    "    def set_temperature(self, value):\n",
    "        self._validate(value)\n",
    "        logger.debug('Setting current temperature: {self._temperature}C')\n",
    "        self._temperature = value\n",
    "        \n",
    "    ...\n",
    "        \n",
    "t = Termostat(32)"
   ]
  },
  {
   "cell_type": "code",
   "execution_count": null,
   "metadata": {},
   "outputs": [],
   "source": [
    "class Termostat:\n",
    "    MAX_LIMIT = 120\n",
    "    driver_class = SerialPortRS232Driver\n",
    "    \n",
    "    def __init__(self, *args, **kwargs):\n",
    "        self._driver = self.driver_class(*args, **kwargs)\n",
    "\n",
    "    def _parse_temperature(self):\n",
    "        return ...\n",
    "    \n",
    "    def _pack_temperature(self):\n",
    "        return {'temprature': value}\n",
    "    \n",
    "    def _validate(self, value):\n",
    "        if value > self.MAX_LIMIT:\n",
    "            raise ValueError(...)\n",
    "        \n",
    "    def get_temperature(self, force_refresh=False):\n",
    "        if force_refresh:\n",
    "            raw_data = self._driver.pull_data()\n",
    "            self._temperature = self.parse_temperature(raw_data)\n",
    "        return self._temperature\n",
    "    \n",
    "    def set_temperature(self, value):\n",
    "        self._validate(value)\n",
    "        raw_data = self._pack_temperature(value)\n",
    "        self._driver.push_data(raw_data)\n",
    "        self._temperature = value\n",
    "        \n",
    "    ...\n",
    "        \n",
    "t = Termostat()"
   ]
  },
  {
   "cell_type": "code",
   "execution_count": null,
   "metadata": {},
   "outputs": [],
   "source": [
    "class A: # before\n",
    "    \n",
    "    def __init__(self, attr1=None, attr2=None):\n",
    "        self.attr1 = attr1 # protected (client)\n",
    "        self.attr2 = attr2 # protected (client)\n",
    "\n",
    "class A:\n",
    "    \n",
    "    def __init__(self, attr1=None, attr2=None):\n",
    "        self._attr1 = attr1 # protected (client)\n",
    "        self._attr2 = attr2 # protected (client)\n",
    "        self.__attr3 = attr2 # private (client&child)\n",
    "\n",
    "    @property\n",
    "    def attr1(self):\n",
    "        print('get attr1')\n",
    "        return self._attr1\n",
    "        \n",
    "    @attr1.setter\n",
    "    def attr1(self, value):\n",
    "        print('set attr1')\n",
    "        if value > 0:\n",
    "            self._attr1 = value\n",
    "        else:\n",
    "            raise ValueError('Invalid data')\n",
    "       \n",
    "    @property\n",
    "    def attr2(self):\n",
    "        print('get attr2')\n",
    "        return self._attr2\n",
    "\n",
    "a = A(attr2='abc')\n",
    "a.attr1 = 42\n",
    "print(a.attr1)\n",
    "#a.attr1 = -1\n",
    "print(a.attr2)\n",
    "#a.attr2 = 'ABC'\n",
    "#print(a.__attr3)\n",
    "\n",
    "print(a.__dict__)\n",
    "#print(a._A__attr3)\n",
    "print(a._A__attr3)\n",
    "a.__attr3 = 'ABC'\n",
    "print(a.__attr3)\n",
    "print(a.__dict__)\n"
   ]
  },
  {
   "cell_type": "code",
   "execution_count": null,
   "metadata": {},
   "outputs": [],
   "source": [
    "# Unlike the other languages, in Python everything is open (until it's closed)\n"
   ]
  },
  {
   "cell_type": "code",
   "execution_count": null,
   "metadata": {},
   "outputs": [],
   "source": [
    "class Termostat:\n",
    "    \n",
    "    def __init__(self, temperature, *args, **kwargs):\n",
    "        self.temperature = temperature\n",
    "        \n",
    "    ...\n",
    "        \n",
    "t = Termostat(32)\n",
    "print(t.temperature)\n",
    "t.temperature = 42\n",
    "print(t.temperature)"
   ]
  },
  {
   "cell_type": "code",
   "execution_count": null,
   "metadata": {},
   "outputs": [],
   "source": [
    "import logging\n",
    "logger = logging.getLogger(__name__)\n",
    "\n",
    "\n",
    "class Termostat:\n",
    "    MAX_LIMIT = 120\n",
    "    \n",
    "    def __init__(self, temperature, *args, **kwargs):\n",
    "        self._temperature = temperature\n",
    "    \n",
    "    def _validate(self, value):\n",
    "        if value > self.MAX_LIMIT:\n",
    "            raise ValueError(...)\n",
    "    \n",
    "    @property\n",
    "    def temperature(self, force_refresh=False):\n",
    "        print('Getting current temperature: {self._temperature}C')\n",
    "        return self._temperature\n",
    "    \n",
    "    @temperature.setter\n",
    "    def temperature(self, value):\n",
    "        self._validate(value)\n",
    "        print('Setting current temperature: {self._temperature}C')\n",
    "        self._temperature = value\n",
    "        \n",
    "    ...\n",
    "        \n",
    "t = Termostat(32)\n",
    "print(t.temperature)\n",
    "t.temperature = 42\n",
    "print(t.temperature)"
   ]
  },
  {
   "cell_type": "markdown",
   "metadata": {},
   "source": [
    "## Slots"
   ]
  },
  {
   "cell_type": "code",
   "execution_count": null,
   "metadata": {},
   "outputs": [],
   "source": [
    "class A:\n",
    "    __slots__ = ['attr1', 'attr2']\n",
    "\n",
    "a = A()\n",
    "a.attr1 = 42\n",
    "a.attr2 = '42'\n",
    "print(a.attr1, a.attr2)"
   ]
  },
  {
   "cell_type": "code",
   "execution_count": null,
   "metadata": {},
   "outputs": [],
   "source": [
    "CTO"
   ]
  },
  {
   "cell_type": "code",
   "execution_count": null,
   "metadata": {},
   "outputs": [],
   "source": [
    "#a.attr3 = 'abc'"
   ]
  },
  {
   "cell_type": "code",
   "execution_count": null,
   "metadata": {},
   "outputs": [],
   "source": [
    "class A1:\n",
    "    def __init__(self, attr1, attr2):\n",
    "        self.attr1 = attr1\n",
    "        self.attr2 = attr2\n",
    "\n",
    "a1 = A1(42, '42')\n",
    "print(a1.attr1, a1.attr2)"
   ]
  },
  {
   "cell_type": "code",
   "execution_count": null,
   "metadata": {},
   "outputs": [],
   "source": [
    "from sys import getsizeof\n",
    "print(getsizeof(a), a.__slots__, getsizeof(a.__slots__))\n",
    "print(getsizeof(a1), a1.__dict__, getsizeof(a1.__dict__))"
   ]
  },
  {
   "cell_type": "code",
   "execution_count": null,
   "metadata": {},
   "outputs": [],
   "source": [
    "with timer('Elapsed: {}ms'):\n",
    "    for _ in range(10**6):\n",
    "        a = A()\n",
    "        a.attr1 = 42\n",
    "        a.attr2 = '42'\n",
    "        _ = a.attr1, a.attr2\n",
    "\n",
    "with timer('Elapsed: {}ms'):\n",
    "    for _ in range(10**6):\n",
    "        a = A1(42, '42')\n",
    "        _ = a.attr1, a.attr2\n"
   ]
  },
  {
   "cell_type": "code",
   "execution_count": null,
   "metadata": {},
   "outputs": [],
   "source": [
    "# NamedTuple()"
   ]
  },
  {
   "cell_type": "markdown",
   "metadata": {},
   "source": [
    "### Descriptors"
   ]
  },
  {
   "cell_type": "code",
   "execution_count": null,
   "metadata": {},
   "outputs": [],
   "source": [
    "# Technically, descriptor is a class that supports the following methods: __set__[, __get__],__delete__"
   ]
  },
  {
   "cell_type": "code",
   "execution_count": null,
   "metadata": {},
   "outputs": [],
   "source": [
    "class A:\n",
    "    attr1 = (int, 0)\n",
    "    attr2 = (str, '')\n",
    "\n",
    "    def __getattribute__(self, name): # always called\n",
    "        if name == '__dict__':\n",
    "            return super().__getattribute__(name)\n",
    "        obj_attrs = self.__dict__\n",
    "        cls_attrs = vars(type(self))\n",
    "        if name not in obj_attrs:\n",
    "            if name in cls_attrs:\n",
    "                _, default = cls_attrs[name]\n",
    "                self.__dict__[name] = default\n",
    "        return self.__dict__[name]\n",
    "    \n",
    "    def __setattr__(self, name, value):\n",
    "        obj_attrs = vars(self)\n",
    "        cls_attrs = vars(type(self))\n",
    "        if name in cls_attrs:\n",
    "            type_, default = cls_attrs[name]\n",
    "            if isinstance(value, type_):\n",
    "                self.__dict__[name] = value\n",
    "            else:\n",
    "                raise ValueError('Invalid type')\n",
    "\n",
    "    def __delattr__(self, name):\n",
    "        del self.__dict__[name]"
   ]
  },
  {
   "cell_type": "code",
   "execution_count": null,
   "metadata": {},
   "outputs": [],
   "source": [
    "a = A()\n",
    "a1 = A()\n",
    "print(a.attr1)\n",
    "print(a.attr2)\n",
    "\n",
    "a.attr1 = 32\n",
    "a.attr2 = '42'\n",
    "\n",
    "a1.attr1 = 33\n",
    "a1.attr2 = 'xyz'\n",
    "\n",
    "print(a.attr1, a1.attr1)\n",
    "print(a.attr2, a1.attr2)"
   ]
  },
  {
   "cell_type": "markdown",
   "metadata": {},
   "source": [
    "\n",
    "Technically, descriptor is a class that supports the following methods: __set__[, __get__],__delete__"
   ]
  },
  {
   "cell_type": "code",
   "execution_count": null,
   "metadata": {},
   "outputs": [],
   "source": [
    "class Attribute:\n",
    "\n",
    "    def __init__(self, initval=None, name='var'):\n",
    "        self.val = initval\n",
    "        self.name = name\n",
    "\n",
    "    def __get__(self, obj, objtype):\n",
    "        #print('Retrieving', self.name, id(obj))\n",
    "        return obj.__dict__[self.name] #self.val\n",
    "\n",
    "    def __set__(self, obj, val):\n",
    "        #print('Updating', self.name, id(obj))\n",
    "        self.val = val\n",
    "        obj.__dict__[self.name] = val\n",
    "        \n",
    "    def __delete__(self, obj):\n",
    "        #print('Deleting', self.name, id(obj))\n",
    "        self.val = None\n",
    "        \n",
    "class A:\n",
    "    attr = Attribute(name='attr')\n",
    "    #attr = 'DEMO'\n",
    " \n",
    "a = A()\n",
    "print(id(a))\n",
    "a.attr = 42\n",
    "print(a.attr)\n",
    "#del a.attr\n",
    "\n",
    "b = A()\n",
    "print(id(b))\n",
    "b.attr = 43\n",
    "print(a.attr)\n",
    "print(b.attr)\n",
    "#del b.attr\n",
    "\n",
    "# a1 = A()\n",
    "# a.attr = 44\n",
    "# a1.attr = 45\n",
    "# print(a.attr)\n",
    "# print(a1.attr)\n",
    "# del a1.attr"
   ]
  },
  {
   "cell_type": "code",
   "execution_count": null,
   "metadata": {},
   "outputs": [],
   "source": [
    "# a.attr1 = '42'\n",
    "a.attr2 = 42"
   ]
  },
  {
   "cell_type": "code",
   "execution_count": null,
   "metadata": {},
   "outputs": [],
   "source": [
    "class TypeCheckerMixin:\n",
    "\n",
    "    def __setattr__(self, name, value):\n",
    "        obj_attrs = vars(self)\n",
    "        cls_attrs = vars(type(self))\n",
    "        if name in cls_attrs:\n",
    "            type_, default = cls_attrs[name]\n",
    "            if isinstance(value, type_):\n",
    "                self.__dict__[name] = value\n",
    "            else:\n",
    "                raise ValueError('Invalid type')\n",
    "\n",
    "class A(TypeCheckerMixin):\n",
    "    attr1 = (int, 0)\n",
    "    attr2 = (str, '')\n",
    "    attr3 = (bool, False)\n",
    "\n",
    "a = A()\n",
    "\n",
    "a.attr1 = 42\n",
    "#a.attr1 = '42'\n",
    "\n",
    "# But what if we want to check range for ints, regex amtch for strings, isclose() for floats?"
   ]
  },
  {
   "cell_type": "code",
   "execution_count": null,
   "metadata": {},
   "outputs": [],
   "source": [
    "\n",
    "class Descriptor:\n",
    "    def __init__(self, name=None, default=None):\n",
    "        self.name = name\n",
    "        self.default = default\n",
    "\n",
    "    def __set__(self, instance, value):\n",
    "        instance.__dict__[self.name] = value\n",
    "\n",
    "    def __get__(self, instance, objtype):\n",
    "        if self.name not in instance.__dict__:\n",
    "            instance.__dict__[self.name] = self.default\n",
    "        return instance.__dict__[self.name]\n",
    "\n",
    "    def __delete__(self, instance):\n",
    "        raise AttributeError(\"Can't delete\")\n",
    "\n",
    "\n",
    "class Typed(Descriptor):\n",
    "    type_ = object\n",
    "    extra_methods = []\n",
    "    def __set__(self, instance, value):\n",
    "        if not isinstance(value, self.type_):\n",
    "            raise TypeError('Expected %s' % self.type_)\n",
    "        super().__set__(instance, value)\n",
    "\n",
    "\n",
    "# Specialized types\n",
    "class Numeric(Typed):\n",
    "    extra_methods = ['gt', 'gte']\n",
    "\n",
    "    def gt(instance_value, value):\n",
    "        return instance_value > value\n",
    "\n",
    "    def gte(instance_value, value):\n",
    "        return instance_value >= value\n",
    "\n",
    "class Integer(Numeric):\n",
    "    type_ = int\n",
    "\n",
    "class Float(Numeric):\n",
    "    type_ = float\n",
    "    extra_methods = Numeric.extra_methods + ['isclose']\n",
    "\n",
    "    def isclose(instance_value, value):\n",
    "        import math\n",
    "        return math.isclose(instance_value, value)\n",
    "\n",
    "class String(Typed):\n",
    "    type_ = str\n",
    "    extra_methods = ['startswith', 'endswith', 'contains']\n",
    "\n",
    "    def startswith(instance_value, value):\n",
    "        return instance_value.startswith(value)\n",
    "\n",
    "    def endswith(instance_value, value):\n",
    "        return instance_value.endswith(value)\n",
    "\n",
    "    def contains(instance_value, value):\n",
    "        return value in instance_value"
   ]
  },
  {
   "cell_type": "code",
   "execution_count": null,
   "metadata": {},
   "outputs": [],
   "source": [
    "class A:\n",
    "    attr1 = Integer(name='attr1')\n",
    "\n",
    "a = A()\n",
    "a.attr1 = 32\n",
    "# a.attr1 = '32'"
   ]
  },
  {
   "cell_type": "code",
   "execution_count": null,
   "metadata": {},
   "outputs": [],
   "source": [
    "# Value checking\n",
    "class Positive(Descriptor):\n",
    "    def __set__(self, instance, value):\n",
    "        if value < 0:\n",
    "            raise ValueError('Expected >= 0')\n",
    "        super().__set__(instance, value)\n",
    "\n",
    "\n",
    "# More specialized types\n",
    "class PosInteger(Integer, Positive):\n",
    "    pass\n",
    "\n",
    "\n",
    "class PosFloat(Float, Positive):\n",
    "    pass\n",
    "\n",
    "\n",
    "# Length checking\n",
    "class Sized(Descriptor):\n",
    "    def __init__(self, *args, maxlen, **kwargs):\n",
    "        self.maxlen = maxlen\n",
    "        super().__init__(*args, **kwargs)\n",
    "\n",
    "    def __set__(self, instance, value):\n",
    "        if len(value) > self.maxlen:\n",
    "            raise ValueError('Too big')\n",
    "        super().__set__(instance, value)\n",
    "\n",
    "\n",
    "class SizedString(String, Sized):\n",
    "    pass\n",
    "\n",
    "\n",
    "# Pattern matching\n",
    "class Regex(Descriptor):\n",
    "    def __init__(self, *args, pattern, **kwargs):\n",
    "        self.pattern = re.compile(pattern)\n",
    "        super().__init__(*args, **kwargs)\n",
    "\n",
    "    def __set__(self, instance, value):\n",
    "        if not self.pattern.match(value):\n",
    "            raise ValueError('Invalid string')\n",
    "        super().__set__(instance, value)\n",
    "\n",
    "\n",
    "class SizedRegexString(SizedString, Regex):\n",
    "    pass\n"
   ]
  },
  {
   "cell_type": "code",
   "execution_count": null,
   "metadata": {},
   "outputs": [],
   "source": [
    "class A:\n",
    "    attr1 = PosInteger(default=42)\n",
    "    attr2 = PosFloat()\n",
    "    attr3 = SizedRegexString(maxlen=11, pattern='\\d{3}-\\d{7}')\n",
    "\n",
    "a = A()\n",
    "print(a.attr1)\n",
    "a.attr1 = 32\n",
    "print(a.attr1)\n",
    "a.attr2 = 0.1\n",
    "a.attr3 = '067-9372129'\n",
    "\n",
    "a1 = A()\n",
    "a1.attr1 = 5\n",
    "print(a1.attr1)\n",
    "\n",
    "print(id(a.attr1))\n",
    "print(id(a1.attr1))\n",
    "\n",
    "print(PosInteger.mro())"
   ]
  },
  {
   "cell_type": "markdown",
   "metadata": {},
   "source": [
    "### Metaclasses\n"
   ]
  },
  {
   "cell_type": "markdown",
   "metadata": {},
   "source": [
    "Let's debug our code"
   ]
  },
  {
   "cell_type": "code",
   "execution_count": null,
   "metadata": {},
   "outputs": [],
   "source": [
    "def debug(func):\n",
    "    '''\n",
    "    A simple debugging decorator\n",
    "    '''\n",
    "    msg = func.__qualname__\n",
    "    @wraps(func)\n",
    "    def wrapper(*args, **kwargs):\n",
    "        start = time.time()\n",
    "        result = func(*args, **kwargs)\n",
    "        print(f'{msg} run took {time.time()-start} ms')\n",
    "        return result\n",
    "    return wrapper"
   ]
  },
  {
   "cell_type": "code",
   "execution_count": null,
   "metadata": {},
   "outputs": [],
   "source": [
    "@debug\n",
    "def foo():\n",
    "    time.sleep(1)\n",
    "    \n",
    "foo()"
   ]
  },
  {
   "cell_type": "code",
   "execution_count": null,
   "metadata": {},
   "outputs": [],
   "source": [
    "class A():\n",
    "    \n",
    "    @debug\n",
    "    def foo(self):\n",
    "        time.sleep(random.random())\n",
    "\n",
    "a = A()\n",
    "a.foo()"
   ]
  },
  {
   "cell_type": "code",
   "execution_count": null,
   "metadata": {},
   "outputs": [],
   "source": [
    "class A():\n",
    "    \n",
    "    @debug\n",
    "    def foo(self):\n",
    "        time.sleep(random.random())\n",
    "        \n",
    "    @debug\n",
    "    def bar(self):\n",
    "        time.sleep(random.random())\n",
    "        \n",
    "    @debug\n",
    "    def baz(self):\n",
    "        time.sleep(random.random())\n",
    "        \n",
    "a = A()\n",
    "a.foo()\n",
    "a.bar()\n",
    "a.baz()"
   ]
  },
  {
   "cell_type": "code",
   "execution_count": null,
   "metadata": {},
   "outputs": [],
   "source": [
    "def debugmethods(cls):\n",
    "    '''\n",
    "    Apply a decorator to all callable methods of a class\n",
    "    '''\n",
    "    for name, val in vars(cls).items(): # cls.__dict__\n",
    "        if callable(val):\n",
    "            setattr(cls, name, debug(val))\n",
    "\n",
    "    setattr(cls, 'xxx', 42)\n",
    "\n",
    "    return cls\n",
    "\n",
    "# A.foo = debug(A.foo)\n",
    "\n",
    "# # A.bar = debug(A.bar)\n",
    "# # setattr(A, 'bar', debug(A.bar))\n",
    "\n",
    "# A.baz = debug(A.baz)\n",
    "# help(callable)"
   ]
  },
  {
   "cell_type": "code",
   "execution_count": null,
   "metadata": {},
   "outputs": [],
   "source": [
    "@debugmethods\n",
    "class A():\n",
    "    \n",
    "    def foo(self):\n",
    "        time.sleep(random.random())\n",
    "        \n",
    "    def bar(self):\n",
    "        time.sleep(random.random())\n",
    "        \n",
    "    def baz(self):\n",
    "        time.sleep(random.random())\n",
    "        \n",
    "a = A()\n",
    "a.foo()\n",
    "a.bar()\n",
    "a.baz()\n",
    "print(a.xxx)"
   ]
  },
  {
   "cell_type": "code",
   "execution_count": null,
   "metadata": {},
   "outputs": [],
   "source": [
    "class B(A):\n",
    "    def foo_b(self):\n",
    "        time.sleep(random.random())\n",
    "        \n",
    "    def bar_b(self):\n",
    "        time.sleep(random.random())\n",
    "        \n",
    "    def baz_b(self):\n",
    "        time.sleep(random.random())\n",
    "        \n",
    "b = B()\n",
    "b.foo_b()\n",
    "b.bar_b()\n",
    "b.baz_b()"
   ]
  },
  {
   "cell_type": "markdown",
   "metadata": {},
   "source": [
    "\n",
    "Let's use metaclasses to entire eirarchy with debug decorators"
   ]
  },
  {
   "cell_type": "code",
   "execution_count": null,
   "metadata": {},
   "outputs": [],
   "source": [
    "A = type('A', (object,), {'attr1': 42, 'attr2': 'abc'})\n",
    "\n",
    "print(type(A), id(A))\n",
    "print(A.__dict__)\n",
    "a = A()\n",
    "print(type(a))\n",
    "print(a.attr1)\n",
    "print(a.attr2)\n",
    "a.attr1 = 43\n",
    "print(a.attr1)"
   ]
  },
  {
   "cell_type": "code",
   "execution_count": null,
   "metadata": {},
   "outputs": [],
   "source": [
    "class A:\n",
    "    attr1 = 42\n",
    "    attr2 = 'abc'\n",
    "    \n",
    "print(type(A), id(A))\n",
    "print(A.__dict__)\n",
    "a = A()\n",
    "print(type(a))\n",
    "print(a.attr1)\n",
    "print(a.attr2)\n",
    "a.attr1 = 43\n",
    "print(a.attr1)"
   ]
  },
  {
   "cell_type": "code",
   "execution_count": null,
   "metadata": {},
   "outputs": [],
   "source": [
    "A = type('A',\n",
    "         (object,),\n",
    "         {'attr1': 42,\n",
    "          'attr2': 'abc',\n",
    "          'foo': lambda self: self.attr1+1}\n",
    "        )\n",
    "a = A()\n",
    "a.foo()"
   ]
  },
  {
   "cell_type": "markdown",
   "metadata": {},
   "source": [
    "<img src=\"https://blog.ionelmc.ro/2015/02/09/understanding-python-metaclasses/instance-of.png\">"
   ]
  },
  {
   "cell_type": "code",
   "execution_count": null,
   "metadata": {},
   "outputs": [],
   "source": [
    "print(type(a))\n",
    "print(a.__class__)"
   ]
  },
  {
   "cell_type": "code",
   "execution_count": null,
   "metadata": {},
   "outputs": [],
   "source": [
    "print(type(A))\n",
    "print(A.__class__)\n",
    "\n",
    "# not parent, but creator. Compare with\n",
    "print(A.__bases__)"
   ]
  },
  {
   "cell_type": "code",
   "execution_count": null,
   "metadata": {},
   "outputs": [],
   "source": [
    "print(type(type))\n",
    "print(type.__class__)\n",
    "\n",
    "# not parent, but creator. Compare with\n",
    "print(type.__bases__)"
   ]
  },
  {
   "cell_type": "code",
   "execution_count": null,
   "metadata": {},
   "outputs": [],
   "source": [
    "print(type(type(type(type(type(type))))))\n",
    "print(type.__class__)"
   ]
  },
  {
   "cell_type": "code",
   "execution_count": null,
   "metadata": {},
   "outputs": [],
   "source": [
    "class A(metaclass=type):\n",
    "    def foo(self):\n",
    "        print('foo')\n",
    "        \n",
    "a = A()\n",
    "a.foo()\n",
    "# print(a.bar)"
   ]
  },
  {
   "cell_type": "code",
   "execution_count": null,
   "metadata": {},
   "outputs": [],
   "source": [
    "class mytype(type):\n",
    "    '''\n",
    "    Metaclass default implementation\n",
    "    '''\n",
    "    def __new__(metacls, clsname, bases=None, clsdict=None):\n",
    "        cls = super().__new__(metacls, clsname, bases, clsdict)\n",
    "        cls.bar = 42\n",
    "        setattr(cls, 'objects', 'XYZ')\n",
    "        return cls\n",
    "\n",
    "    # def __init__(cls, name, bases, dct):\n",
    "    #     super().__init__(name, bases, dct)"
   ]
  },
  {
   "cell_type": "code",
   "execution_count": null,
   "metadata": {},
   "outputs": [],
   "source": [
    "class A(metaclass=mytype):\n",
    "    def foo(self):\n",
    "        print('foo')\n",
    "\n",
    "class B(A):\n",
    "    pass\n",
    "\n",
    "a = A()\n",
    "a.foo()\n",
    "print(a.bar)\n",
    "\n",
    "\n",
    "b = B()\n",
    "b.foo()\n",
    "print(b.bar)\n",
    "print(b.objects)"
   ]
  },
  {
   "cell_type": "code",
   "execution_count": null,
   "metadata": {},
   "outputs": [],
   "source": [
    "class ModelMeta(type):\n",
    "\n",
    "    def __new__(metacls, clsname, bases=None, clsdict=None):\n",
    "        cls = super().__new__(metacls, clsname, bases, clsdict)\n",
    "        extra_attrs = []\n",
    "        for attr_name, attr_value in cls.__dict__.items():\n",
    "            if isinstance(attr_value, Typed):\n",
    "                extra_attrs += [\n",
    "                    (attr_name, extra_method, getattr(attr_value.__class__, extra_method))\n",
    "                    for extra_method in attr_value.extra_methods\n",
    "                ]\n",
    "\n",
    "        for attr, extra, func in extra_attrs:\n",
    "            setattr(\n",
    "                cls,\n",
    "                f'{attr}__{extra}',\n",
    "                lambda self, value, attr=attr, func=func: func(getattr(self, attr), value)\n",
    "            )\n",
    "\n",
    "        return cls\n",
    "\n",
    "class Employee(metaclass=ModelMeta):\n",
    "    first_name = SizedString(name='first_name', default='John', maxlen=32)\n",
    "    last_name = SizedString(name='last_name', maxlen=64)\n",
    "    age = PosInteger(name='age', default=42)\n",
    "    salary = PosFloat(name='salary')\n",
    "    phone_number = SizedRegexString(name='phone_number', maxlen=11, pattern='\\d{3}-\\d{7}')"
   ]
  },
  {
   "cell_type": "code",
   "execution_count": null,
   "metadata": {},
   "outputs": [],
   "source": [
    "\n",
    "class Attribute:\n",
    "\n",
    "    def __init__(self, initval=None, name='var'):\n",
    "        self.val = initval\n",
    "        self.name = name\n",
    "\n",
    "    def __get__(self, obj, objtype):\n",
    "        print('Retrieving', self.name, id(obj))\n",
    "        return obj.__dict__[self.name]  # self.val\n",
    "\n",
    "    def __set__(self, obj, val):\n",
    "        print('Updating', self.name, id(obj))\n",
    "        self.val = val\n",
    "        obj.__dict__[self.name] = val\n",
    "\n",
    "    def __delete__(self, obj):\n",
    "        # print('Deleting', self.name, id(obj))\n",
    "        self.val = None\n",
    "\n",
    "\n",
    "class A:\n",
    "    attr = Attribute(name='attr')\n",
    "    # attr = 'DEMO'\n",
    "    \n",
    "a = A()\n",
    "a.attr=10"
   ]
  },
  {
   "cell_type": "code",
   "execution_count": null,
   "metadata": {},
   "outputs": [],
   "source": [
    "emp = Employee()\n",
    "print(emp.first_name)\n",
    "print(emp.first_name__startswith('J'))\n",
    "print(emp.age__gte(42))\n",
    "emp.age = 10\n",
    "print(emp.age__gt(42))"
   ]
  },
  {
   "cell_type": "code",
   "execution_count": null,
   "metadata": {},
   "outputs": [],
   "source": [
    "class debugmeta(type):\n",
    "    '''\n",
    "    Metaclass that applies debugging to methods\n",
    "    '''\n",
    "    def __new__(cls, clsname, bases, clsdict):\n",
    "        clsobj = super().__new__(cls, clsname, bases, clsdict)\n",
    "        clsobj = debugmethods(clsobj)\n",
    "        return clsobj\n"
   ]
  },
  {
   "cell_type": "code",
   "execution_count": null,
   "metadata": {},
   "outputs": [],
   "source": [
    "class A(metaclass=debugmeta):\n",
    "    \n",
    "    def foo(self):\n",
    "        time.sleep(random.random())\n",
    "        \n",
    "    def bar(self):\n",
    "        time.sleep(random.random())\n",
    "        \n",
    "    def baz(self):\n",
    "        time.sleep(random.random())\n",
    "        \n",
    "a = A()\n",
    "a.foo()\n",
    "a.bar()\n",
    "a.baz()"
   ]
  },
  {
   "cell_type": "code",
   "execution_count": null,
   "metadata": {},
   "outputs": [],
   "source": [
    "class B(A):\n",
    "    def foo_b(self):\n",
    "        time.sleep(random.random())\n",
    "        \n",
    "    def bar_b(self):\n",
    "        time.sleep(random.random())\n",
    "        \n",
    "    def baz_b(self):\n",
    "        time.sleep(random.random())\n",
    "        \n",
    "b = B()\n",
    "b.foo_b()\n",
    "b.bar_b()\n",
    "b.baz_b()"
   ]
  }
 ],
 "metadata": {
  "kernelspec": {
   "display_name": "Python 3 (ipykernel)",
   "language": "python",
   "name": "python3"
  },
  "language_info": {
   "codemirror_mode": {
    "name": "ipython",
    "version": 3
   },
   "file_extension": ".py",
   "mimetype": "text/x-python",
   "name": "python",
   "nbconvert_exporter": "python",
   "pygments_lexer": "ipython3",
   "version": "3.10.2"
  }
 },
 "nbformat": 4,
 "nbformat_minor": 4
}
