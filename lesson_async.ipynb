{
 "cells": [
  {
   "cell_type": "code",
   "execution_count": 9,
   "id": "79779b38",
   "metadata": {
    "pycharm": {
     "name": "#%%\n"
    }
   },
   "outputs": [],
   "source": [
    "import time\n",
    "import functools\n",
    "import asyncio\n",
    "from asyncio.coroutines import iscoroutine"
   ]
  },
  {
   "cell_type": "markdown",
   "id": "510442aa",
   "metadata": {
    "pycharm": {
     "name": "#%% md\n"
    }
   },
   "source": [
    "### Sync function"
   ]
  },
  {
   "cell_type": "code",
   "execution_count": 10,
   "id": "b7735944",
   "metadata": {
    "pycharm": {
     "name": "#%%\n"
    }
   },
   "outputs": [],
   "source": [
    "def typical_sync_function(n):\n",
    "    time.sleep(n) \n",
    "    return f\"I sleep for {n} seconds.\""
   ]
  },
  {
   "cell_type": "code",
   "execution_count": 11,
   "id": "0a90b19d",
   "metadata": {
    "pycharm": {
     "name": "#%%\n"
    }
   },
   "outputs": [
    {
     "name": "stdout",
     "output_type": "stream",
     "text": [
      "I sleep for 10 seconds.\n"
     ]
    }
   ],
   "source": [
    "print(typical_sync_function(10))"
   ]
  },
  {
   "cell_type": "markdown",
   "id": "7547c7c7",
   "metadata": {
    "pycharm": {
     "name": "#%% md\n"
    }
   },
   "source": [
    "### More complicated"
   ]
  },
  {
   "cell_type": "code",
   "execution_count": 12,
   "id": "0a1470d7",
   "metadata": {
    "pycharm": {
     "name": "#%%\n"
    }
   },
   "outputs": [],
   "source": [
    "def call_youtube():\n",
    "    time.sleep(5)\n",
    "\n",
    "def call_database():\n",
    "    time.sleep(5)\n",
    "    \n",
    "def call_external_url():\n",
    "    time.sleep(5)\n",
    "    \n",
    "def typical_sync_function(some_data):\n",
    "    print(\"calling youtube\")\n",
    "    call_youtube()\n",
    "    print(\"calling database\")\n",
    "    call_database()\n",
    "    print(\"calling external_url\")\n",
    "    call_external_url()\n",
    "    return f\"I sleep for {15} seconds.\""
   ]
  },
  {
   "cell_type": "code",
   "execution_count": 13,
   "id": "c4c7eda7",
   "metadata": {
    "pycharm": {
     "name": "#%%\n"
    }
   },
   "outputs": [
    {
     "name": "stdout",
     "output_type": "stream",
     "text": [
      "calling youtube\n",
      "calling database\n",
      "calling external_url\n",
      "I sleep for 15 seconds.\n"
     ]
    }
   ],
   "source": [
    "print(typical_sync_function(12))"
   ]
  },
  {
   "cell_type": "code",
   "execution_count": 14,
   "id": "58f6678f",
   "metadata": {
    "pycharm": {
     "name": "#%%\n"
    }
   },
   "outputs": [],
   "source": [
    "def concat_sequence_v1(s1, s2):\n",
    "    for elem in s1:\n",
    "        yield elem\n",
    "    for elem in s2:\n",
    "        yield elem\n",
    "\n",
    "\n",
    "def concat_sequence_v2(s1, s2):\n",
    "    yield from s1\n",
    "    yield from s2        "
   ]
  },
  {
   "cell_type": "code",
   "execution_count": 15,
   "id": "2c608eb6",
   "metadata": {
    "jupyter": {
     "outputs_hidden": false
    },
    "pycharm": {
     "name": "#%%\n"
    }
   },
   "outputs": [
    {
     "name": "stdout",
     "output_type": "stream",
     "text": [
      "0\n",
      "1\n",
      "2\n",
      "3\n",
      "4\n",
      "5\n",
      "6\n",
      "7\n",
      "8\n",
      "9\n",
      "10\n",
      "11\n",
      "12\n",
      "13\n",
      "14\n",
      "15\n",
      "16\n",
      "17\n",
      "18\n",
      "19\n",
      "Seq 2 [0, 1, 2, 3, 4, 5, 6, 7, 8, 9, 10, 11, 12, 13, 14, 15, 16, 17, 18, 19]\n"
     ]
    }
   ],
   "source": [
    "seq1 = range(10)\n",
    "seq2 = range(10, 20)\n",
    "result = concat_sequence_v1(seq1, seq2)\n",
    "\n",
    "# print(f'Seq 1 {list(result)}')\n",
    "for i in result:\n",
    "    print(i)\n",
    "\n",
    "result = concat_sequence_v2(seq1, seq2)\n",
    "\n",
    "print(f'Seq 2 {list(result)}')\n",
    "for i in result:\n",
    "    print(i)\n",
    "\n"
   ]
  },
  {
   "cell_type": "code",
   "execution_count": 16,
   "id": "5089c6b3",
   "metadata": {
    "jupyter": {
     "outputs_hidden": false
    },
    "pycharm": {
     "name": "#%%\n"
    }
   },
   "outputs": [
    {
     "name": "stdout",
     "output_type": "stream",
     "text": [
      "Coroutine started\n",
      "10\n",
      "20\n"
     ]
    }
   ],
   "source": [
    "def is_divider(number):\n",
    "    print(\"Coroutine started\")\n",
    "    while True:\n",
    "        value = yield  # <---------\n",
    "        if number % value == 0:\n",
    "            print(value)\n",
    "\n",
    "cor = is_divider(100)\n",
    "# !!!\n",
    "cor.send(None)\n",
    "\n",
    "cor.send(11)\n",
    "cor.send(10)\n",
    "cor.send(18)\n",
    "cor.send(20)\n",
    "cor.close()"
   ]
  },
  {
   "cell_type": "code",
   "execution_count": 17,
   "id": "01f51235",
   "metadata": {
    "jupyter": {
     "outputs_hidden": false
    },
    "pycharm": {
     "name": "#%%\n"
    }
   },
   "outputs": [
    {
     "name": "stdout",
     "output_type": "stream",
     "text": [
      "Coroutine started\n",
      "10\n",
      "10\n",
      "10\n",
      "100\n"
     ]
    }
   ],
   "source": [
    "def coroutine(func):\n",
    "    @functools.wraps(func)\n",
    "    def wrapper(*args, **kwargs):\n",
    "        res = func(*args, **kwargs)\n",
    "        res.send(None)\n",
    "        return res\n",
    "\n",
    "    return wrapper\n",
    "\n",
    "\n",
    "@coroutine\n",
    "def is_divider_cor(number):\n",
    "    print(\"Coroutine started\")\n",
    "    while True:\n",
    "        value = yield\n",
    "        if number % value == 0:\n",
    "            print(value)\n",
    "    \n",
    "\n",
    "cor = is_divider_cor(100)\n",
    "# No need to send None\n",
    "cor.send(10)\n",
    "cor.send(10)\n",
    "cor.send(10)\n",
    "cor.send(100)\n",
    "cor.close()"
   ]
  },
  {
   "cell_type": "code",
   "execution_count": 18,
   "id": "6d179b5a",
   "metadata": {
    "jupyter": {
     "outputs_hidden": false
    },
    "pycharm": {
     "name": "#%%\n"
    }
   },
   "outputs": [
    {
     "name": "stdout",
     "output_type": "stream",
     "text": [
      "False\n"
     ]
    }
   ],
   "source": [
    "print(iscoroutine(is_divider_cor))"
   ]
  },
  {
   "cell_type": "code",
   "execution_count": 21,
   "id": "7324b8e2",
   "metadata": {
    "jupyter": {
     "outputs_hidden": false
    },
    "pycharm": {
     "name": "#%%\n"
    }
   },
   "outputs": [
    {
     "name": "stderr",
     "output_type": "stream",
     "text": [
      "C:\\Users\\mikol\\AppData\\Local\\Temp\\ipykernel_21744\\1525563151.py:8: DeprecationWarning: \"@coroutine\" decorator is deprecated since Python 3.8, use \"async def\" instead\n",
      "  def async_worker(number, divider):\n"
     ]
    },
    {
     "name": "stdout",
     "output_type": "stream",
     "text": [
      "Sync Worker started with values: 30 / 10\n",
      "3.0\n",
      "Sync Worker started with values: 20 / 10\n"
     ]
    },
    {
     "name": "stderr",
     "output_type": "stream",
     "text": [
      "C:\\Users\\mikol\\AppData\\Local\\Temp\\ipykernel_21744\\1525563151.py:29: RuntimeWarning: coroutine 'wait' was never awaited\n",
      "  tasks = asyncio.wait(task_list)\n",
      "RuntimeWarning: Enable tracemalloc to get the object allocation traceback\n",
      "Task exception was never retrieved\n",
      "future: <Task finished name='Task-4' coro=<async_worker() done, defined at C:\\Users\\mikol\\AppData\\Local\\Temp\\ipykernel_21744\\3680234438.py:7> exception=ZeroDivisionError('division by zero')>\n",
      "Traceback (most recent call last):\n",
      "  File \"C:\\Users\\mikol\\AppData\\Local\\Temp\\ipykernel_21744\\3680234438.py\", line 11, in async_worker\n",
      "    print(number / divider)\n",
      "ZeroDivisionError: division by zero\n"
     ]
    },
    {
     "name": "stdout",
     "output_type": "stream",
     "text": [
      "2.0\n",
      "False\n",
      "True\n",
      "**********\n",
      "Async Worker started with values: 50 / 5\n",
      "Async Worker started with values: 30 / 10\n",
      "Async Worker started with values: 50 / 25\n",
      "10.0\n",
      "3.0\n",
      "2.0\n"
     ]
    }
   ],
   "source": [
    "def sync_worker(number, divider):\n",
    "    print('Sync Worker started with values: {} / {}'.format(number, divider))\n",
    "    time.sleep(1)\n",
    "    print(number / divider)\n",
    "\n",
    "\n",
    "@asyncio.coroutine\n",
    "def async_worker(number, divider):\n",
    "    print('Async Worker started with values: {} / {}'.format(number, divider))\n",
    "    yield from asyncio.sleep(3)\n",
    "    print(number / divider)\n",
    "\n",
    "\n",
    "# sync\n",
    "sync_worker(30, 10)\n",
    "sync_worker(20, 10)\n",
    "\n",
    "print(iscoroutine(sync_worker))\n",
    "print(iscoroutine(async_worker(10, 2)))\n",
    "\n",
    "\n",
    "event_loop = asyncio.get_event_loop()\n",
    "task_list = [\n",
    "    event_loop.create_task(async_worker(50, 5)),\n",
    "    event_loop.create_task(async_worker(30, 10)),\n",
    "    event_loop.create_task(async_worker(50, 25)),\n",
    "]\n",
    "print('*'*10)\n",
    "tasks = asyncio.wait(task_list)\n"
   ]
  },
  {
   "cell_type": "code",
   "execution_count": 22,
   "id": "939595c0",
   "metadata": {
    "pycharm": {
     "name": "#%%\n"
    }
   },
   "outputs": [
    {
     "name": "stderr",
     "output_type": "stream",
     "text": [
      "C:\\Users\\mikol\\AppData\\Local\\Temp\\ipykernel_21744\\566670719.py:23: RuntimeWarning: coroutine 'wait' was never awaited\n",
      "  tasks = asyncio.wait(task_list)\n",
      "RuntimeWarning: Enable tracemalloc to get the object allocation traceback\n"
     ]
    },
    {
     "name": "stdout",
     "output_type": "stream",
     "text": [
      "Worker 50 started\n",
      "Worker 60 started\n",
      "Worker 70 started\n",
      "Worker 80 started\n",
      "Worker 90 started\n",
      "5.0\n",
      "7.0\n",
      "9.0\n",
      "6.0\n",
      "8.0\n",
      "[5.0, 6.0, 7.0, 8.0, 9.0]\n"
     ]
    }
   ],
   "source": [
    "async def async_worker(number, divider):\n",
    "    print('Worker {} started'.format(number))\n",
    "    await asyncio.sleep(2)\n",
    "    print(number / divider)\n",
    "    return number / divider\n",
    "\n",
    "\n",
    "async def gather_worker():\n",
    "    result = await asyncio.gather(\n",
    "        async_worker(50, 10),\n",
    "        async_worker(60, 10),\n",
    "        async_worker(70, 10),\n",
    "        async_worker(80, 10),\n",
    "        async_worker(90, 10),\n",
    "    )\n",
    "    print(result)\n",
    "\n",
    "\n",
    "event_loop = asyncio.get_event_loop()\n",
    "task_list = [\n",
    "    event_loop.create_task(gather_worker())\n",
    "]\n",
    "tasks = asyncio.wait(task_list)\n",
    "# event_loop.run_until_complete(tasks)\n",
    "# event_loop.close()"
   ]
  },
  {
   "cell_type": "code",
   "execution_count": null,
   "id": "3199477f",
   "metadata": {
    "pycharm": {
     "name": "#%%\n"
    }
   },
   "outputs": [],
   "source": [
    "async def async_worker(seconds):\n",
    "    print('Sleep using {}'.format(seconds))\n",
    "    await asyncio.sleep(seconds)\n",
    "    print('Done sleep: {}'.format(seconds))\n",
    "\n",
    "\n",
    "async def stop_event_loop(loop, seconds):\n",
    "    print('Stop in {}s'.format(seconds))\n",
    "    await asyncio.sleep(seconds)\n",
    "    loop.stop()\n",
    "    print('Stopped')\n",
    "\n",
    "\n",
    "async def resolve_future(future):\n",
    "    await asyncio.sleep(5)\n",
    "    print('Future set_result')\n",
    "    future.set_result(5)\n",
    "\n",
    "\n",
    "async def wait_for_future(future):\n",
    "    result = await future\n",
    "    print('Future result: {}'.format(result))\n",
    "    await asyncio.sleep(1)\n",
    "    print('Done sleep: {}'.format(1))\n",
    "\n",
    "\n",
    "event_loop = asyncio.get_event_loop()\n",
    "\n",
    "\n",
    "fut = asyncio.Future()\n",
    "\n",
    "event_loop.create_task(async_worker(3))\n",
    "event_loop.create_task(async_worker(4))\n",
    "\n",
    "event_loop.create_task(stop_event_loop(event_loop, 13))\n",
    "\n",
    "event_loop.create_task(resolve_future(fut))\n",
    "\n",
    "event_loop.create_task(wait_for_future(fut))\n",
    "\n",
    "event_loop.run_forever() \n",
    "# event_loop.close()\n",
    "\n",
    "# 6\n",
    "# 5"
   ]
  },
  {
   "cell_type": "code",
   "execution_count": null,
   "id": "77a87585",
   "metadata": {
    "pycharm": {
     "name": "#%%\n"
    }
   },
   "outputs": [],
   "source": []
  }
 ],
 "metadata": {
  "kernelspec": {
   "display_name": "Python 3 (ipykernel)",
   "language": "python",
   "name": "python3"
  },
  "language_info": {
   "codemirror_mode": {
    "name": "ipython",
    "version": 3
   },
   "file_extension": ".py",
   "mimetype": "text/x-python",
   "name": "python",
   "nbconvert_exporter": "python",
   "pygments_lexer": "ipython3",
   "version": "3.10.9"
  }
 },
 "nbformat": 4,
 "nbformat_minor": 5
}
