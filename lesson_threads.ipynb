{
 "cells": [
  {
   "cell_type": "code",
   "execution_count": 28,
   "metadata": {
    "pycharm": {
     "name": "#%%\n"
    }
   },
   "outputs": [],
   "source": [
    "import time\n",
    "import threading\n",
    "# import multiprocessing\n",
    "import multiprocess\n",
    "import itertools\n",
    "import os\n",
    "import logging\n",
    "import random\n",
    "import string\n",
    "import requests\n",
    "from functools import partial\n",
    "# from multiprocessing import Queue\n",
    "from multiprocessing.pool import ThreadPool"
   ]
  },
  {
   "cell_type": "markdown",
   "metadata": {
    "pycharm": {
     "name": "#%% md\n"
    }
   },
   "source": [
    "# Definitions"
   ]
  },
  {
   "cell_type": "code",
   "execution_count": 29,
   "metadata": {
    "pycharm": {
     "name": "#%%\n"
    }
   },
   "outputs": [],
   "source": [
    "# Processes are OS-level resource used to run and manage applications\n",
    "# Processes have pid, list of open files and sockets, isolated memory,"
   ]
  },
  {
   "cell_type": "code",
   "execution_count": 30,
   "metadata": {
    "pycharm": {
     "name": "#%%\n"
    }
   },
   "outputs": [
    {
     "ename": "NameError",
     "evalue": "name 'processes' is not defined",
     "output_type": "error",
     "traceback": [
      "\u001b[1;31m---------------------------------------------------------------------------\u001b[0m",
      "\u001b[1;31mNameError\u001b[0m                                 Traceback (most recent call last)",
      "\u001b[1;32m~\\AppData\\Local\\Temp/ipykernel_21192/1379016558.py\u001b[0m in \u001b[0;36m<module>\u001b[1;34m\u001b[0m\n\u001b[0;32m      4\u001b[0m \u001b[0mTIME_SLOT\u001b[0m \u001b[1;33m=\u001b[0m \u001b[1;36m0.5\u001b[0m\u001b[1;33m/\u001b[0m\u001b[1;33m(\u001b[0m\u001b[1;36m1000\u001b[0m\u001b[1;33m*\u001b[0m\u001b[1;36m1000\u001b[0m\u001b[1;33m)\u001b[0m\u001b[1;33m\u001b[0m\u001b[1;33m\u001b[0m\u001b[0m\n\u001b[0;32m      5\u001b[0m \u001b[1;32mwhile\u001b[0m \u001b[1;32mTrue\u001b[0m\u001b[1;33m:\u001b[0m\u001b[1;33m\u001b[0m\u001b[1;33m\u001b[0m\u001b[0m\n\u001b[1;32m----> 6\u001b[1;33m     \u001b[1;32mfor\u001b[0m \u001b[0mprocess\u001b[0m \u001b[1;32min\u001b[0m \u001b[0mprocesses\u001b[0m\u001b[1;33m:\u001b[0m\u001b[1;33m\u001b[0m\u001b[1;33m\u001b[0m\u001b[0m\n\u001b[0m\u001b[0;32m      7\u001b[0m         \u001b[0mprocess\u001b[0m\u001b[1;33m.\u001b[0m\u001b[0mrun_for\u001b[0m\u001b[1;33m(\u001b[0m\u001b[0mTIME_SLOT\u001b[0m\u001b[1;33m)\u001b[0m\u001b[1;33m\u001b[0m\u001b[1;33m\u001b[0m\u001b[0m\n",
      "\u001b[1;31mNameError\u001b[0m: name 'processes' is not defined"
     ]
    }
   ],
   "source": [
    "# Special part of OS (scheduler) iterates over processes and give them time slot to run\n",
    "\n",
    "# 2900 МГц\n",
    "TIME_SLOT = 0.5/(1000*1000)\n",
    "while True:\n",
    "    for process in processes:\n",
    "        process.run_for(TIME_SLOT)"
   ]
  },
  {
   "cell_type": "code",
   "execution_count": 31,
   "metadata": {
    "pycharm": {
     "name": "#%%\n"
    }
   },
   "outputs": [],
   "source": [
    "# Process has 1 or more threads\n",
    "# Threads have common memory"
   ]
  },
  {
   "cell_type": "code",
   "execution_count": 32,
   "metadata": {
    "pycharm": {
     "name": "#%%\n"
    }
   },
   "outputs": [
    {
     "ename": "SyntaxError",
     "evalue": "invalid syntax (Temp/ipykernel_21192/3031161495.py, line 2)",
     "output_type": "error",
     "traceback": [
      "\u001b[1;36m  File \u001b[1;32m\"C:\\Users\\mikol\\AppData\\Local\\Temp/ipykernel_21192/3031161495.py\"\u001b[1;36m, line \u001b[1;32m2\u001b[0m\n\u001b[1;33m    - parallel execution: speedup\u001b[0m\n\u001b[1;37m               ^\u001b[0m\n\u001b[1;31mSyntaxError\u001b[0m\u001b[1;31m:\u001b[0m invalid syntax\n"
     ]
    }
   ],
   "source": [
    "# 2 kinds of tasks:\n",
    "- parallel execution: speedup\n",
    "- background execution: \n",
    "    - daemon process: OS services\n",
    "    - multithreaded process: notifications, monitor, watcher, etc"
   ]
  },
  {
   "cell_type": "code",
   "execution_count": 33,
   "metadata": {
    "pycharm": {
     "name": "#%%\n"
    }
   },
   "outputs": [
    {
     "ename": "SyntaxError",
     "evalue": "invalid syntax (Temp/ipykernel_21192/3321894035.py, line 1)",
     "output_type": "error",
     "traceback": [
      "\u001b[1;36m  File \u001b[1;32m\"C:\\Users\\mikol\\AppData\\Local\\Temp/ipykernel_21192/3321894035.py\"\u001b[1;36m, line \u001b[1;32m1\u001b[0m\n\u001b[1;33m    Parallel execution can be done in 2 ways:\u001b[0m\n\u001b[1;37m             ^\u001b[0m\n\u001b[1;31mSyntaxError\u001b[0m\u001b[1;31m:\u001b[0m invalid syntax\n"
     ]
    }
   ],
   "source": [
    "Parallel execution can be done in 2 ways:\n",
    "    - threads\n",
    "    - processes\n",
    "    \n",
    "Which one is better?"
   ]
  },
  {
   "cell_type": "markdown",
   "metadata": {
    "pycharm": {
     "name": "#%% md\n"
    }
   },
   "source": [
    "# Threads"
   ]
  },
  {
   "cell_type": "code",
   "execution_count": 35,
   "metadata": {
    "pycharm": {
     "name": "#%%\n"
    }
   },
   "outputs": [
    {
     "name": "stdout",
     "output_type": "stream",
     "text": [
      "<_MainThread(MainThread, started 21332)>\n",
      "Executed in: 4.010136604309082s\n"
     ]
    }
   ],
   "source": [
    "class timer():\n",
    "    def __init__(self, message):\n",
    "        self.message = message\n",
    "\n",
    "    def __enter__(self):\n",
    "        self.start = time.time()\n",
    "        return None\n",
    "\n",
    "    def __exit__(self, type, value, traceback):\n",
    "        elapsed_time = (time.time() - self.start)\n",
    "        print(self.message.format(elapsed_time))\n",
    "\n",
    "TIME_TO_SLEEP = 4\n",
    "        \n",
    "def long_running_task(n=TIME_TO_SLEEP):\n",
    "    print(threading.current_thread())\n",
    "#     with timer('Elapsed 2: {}s'):\n",
    "    time.sleep(n)\n",
    "\n",
    "# what is it?\n",
    "with timer('Executed in: {}s'):\n",
    "#     long_running_task()\n",
    "    long_running_task()\n"
   ]
  },
  {
   "cell_type": "code",
   "execution_count": 36,
   "metadata": {
    "pycharm": {
     "name": "#%%\n"
    }
   },
   "outputs": [
    {
     "name": "stdout",
     "output_type": "stream",
     "text": [
      "<Thread(Thread-141 (long_running_task), started 32348)>\n",
      "<Thread(Thread-142 (long_running_task), started 28224)>\n",
      "<_MainThread(MainThread, started 21332)>\n",
      "BEFORE T1 JOIN\n",
      "BEFORE T2 JOIN\n",
      "Executed in: 2.0176119804382324s\n",
      "next step\n"
     ]
    }
   ],
   "source": [
    "with timer('Executed in: {}s'):\n",
    "    t1 = threading.Thread(target=long_running_task, args=(TIME_TO_SLEEP/2,))\n",
    "    t2 = threading.Thread(target=long_running_task, args=(TIME_TO_SLEEP/2,))\n",
    "    t1.start()\n",
    "    t2.start()\n",
    "    print(threading.current_thread())\n",
    "    print('BEFORE T1 JOIN')\n",
    "    t1.join() # be carefull\n",
    "    print('BEFORE T2 JOIN')\n",
    "    t2.join() \n",
    "    \n",
    "print('next step')\n",
    "# work with date"
   ]
  },
  {
   "cell_type": "code",
   "execution_count": 37,
   "metadata": {
    "pycharm": {
     "name": "#%%\n"
    }
   },
   "outputs": [],
   "source": [
    "def run_threads(func, data, workers):\n",
    "    threads = [\n",
    "        threading.Thread(target=func, args=(data / workers, ))\n",
    "        for _ in range(workers)\n",
    "    ]\n",
    "    for t in threads:\n",
    "        t.start()\n",
    "    for t in threads:\n",
    "        t.join()"
   ]
  },
  {
   "cell_type": "code",
   "execution_count": 38,
   "metadata": {
    "pycharm": {
     "name": "#%%\n"
    }
   },
   "outputs": [
    {
     "name": "stdout",
     "output_type": "stream",
     "text": [
      "<Thread(Thread-143 (long_running_task), started 29080)>\n",
      "<Thread(Thread-144 (long_running_task), started 25688)><Thread(Thread-145 (long_running_task), started 13976)>\n",
      "\n",
      "<Thread(Thread-146 (long_running_task), started 4380)>\n",
      "<Thread(Thread-147 (long_running_task), started 30932)>\n",
      "<Thread(Thread-148 (long_running_task), started 32632)>\n",
      "<Thread(Thread-149 (long_running_task), started 22884)>\n",
      "<Thread(Thread-150 (long_running_task), started 6412)>\n",
      "<Thread(Thread-151 (long_running_task), started 32628)>\n",
      "<Thread(Thread-152 (long_running_task), started 32424)>\n",
      "Elapsed: 1.022937297821045s\n"
     ]
    }
   ],
   "source": [
    "workers = 10\n",
    "DATA_SIZE = 10\n",
    "\n",
    "with timer('Elapsed: {}s'):\n",
    "    run_threads(long_running_task, DATA_SIZE, workers)"
   ]
  },
  {
   "cell_type": "code",
   "execution_count": null,
   "metadata": {
    "pycharm": {
     "name": "#%%\n"
    }
   },
   "outputs": [],
   "source": [
    "def generate_task_queue(total_tasks, queue_size):\n",
    "    task_queue = []\n",
    "    remainder = total_tasks\n",
    "    while remainder > 0:\n",
    "        value = min(remainder, random.randint(1, total_tasks//queue_size))\n",
    "        remainder -= value\n",
    "        task_queue.append(value)\n",
    "    return task_queue\n",
    "\n",
    "assert sum(generate_task_queue(1000, 20)) == 1000\n",
    "assert sum(generate_task_queue(1000, 1)) == 1000\n",
    "assert sum(generate_task_queue(1000, 1000)) == 1000\n",
    "assert sum(generate_task_queue(1000, 42)) == 1000"
   ]
  },
  {
   "cell_type": "code",
   "execution_count": 39,
   "metadata": {
    "pycharm": {
     "name": "#%%\n"
    }
   },
   "outputs": [
    {
     "name": "stdout",
     "output_type": "stream",
     "text": [
      "[1, 2, 2, 1, 0.1, 0.1, 0.1, 0.1, 0.1, 0.1]\n",
      "<DummyProcess(Thread-153 (worker), started daemon 12284)>\n",
      "<DummyProcess(Thread-154 (worker), started daemon 25628)>\n",
      "<DummyProcess(Thread-155 (worker), started daemon 25452)>\n",
      "<DummyProcess(Thread-156 (worker), started daemon 15692)>\n",
      "<DummyProcess(Thread-157 (worker), started daemon 14912)>\n",
      "<DummyProcess(Thread-158 (worker), started daemon 25892)>\n",
      "<DummyProcess(Thread-159 (worker), started daemon 2932)>\n",
      "<DummyProcess(Thread-160 (worker), started daemon 15836)>\n",
      "<DummyProcess(Thread-161 (worker), started daemon 25144)>\n",
      "<DummyProcess(Thread-162 (worker), started daemon 32004)>\n",
      "Elapsed: 2.0242984294891357s\n"
     ]
    }
   ],
   "source": [
    "# input_data = [DATA_SIZE / workers for _ in range(workers)]\n",
    "input_data = [1, 2, 2, 1, 0.1, 0.1, 0.1, 0.1, 0.1, 0.1]\n",
    "print(input_data)\n",
    "\n",
    "with timer('Elapsed: {}s'):\n",
    "    with ThreadPool(workers) as pool:\n",
    "        pool.map(long_running_task, input_data)\n",
    "#         for chunk in input_data:\n",
    "#             long_running_task(chunk)"
   ]
  },
  {
   "cell_type": "markdown",
   "metadata": {
    "pycharm": {
     "name": "#%% md\n"
    }
   },
   "source": [
    "<img src=\"https://www.nginx.com/wp-content/uploads/2016/07/thread-pools-worker-process-event-cycle.png\">"
   ]
  },
  {
   "cell_type": "markdown",
   "metadata": {
    "pycharm": {
     "name": "#%% md\n"
    }
   },
   "source": [
    "# Real world task"
   ]
  },
  {
   "cell_type": "code",
   "execution_count": 40,
   "metadata": {
    "pycharm": {
     "name": "#%%\n"
    }
   },
   "outputs": [],
   "source": [
    "def fetch_pic(num_pic):\n",
    "# def fetch_pic(num_pic, path):\n",
    "    url = 'https://picsum.photos/400/600'\n",
    "    path = os.path.join(os.getcwd(), 'img')\n",
    "    for _ in range(num_pic):\n",
    "        random_name = ''.join(random.choices(string.ascii_letters + string.digits, k=5))\n",
    "        response = requests.get(url)\n",
    "        if response.status_code == 200:\n",
    "            with open(f'{path}/{random_name}.jpg', 'wb') as f:\n",
    "                f.write(response.content)\n",
    "                #print(f\"Fetched pic [{os.getpid()}]: {f.name}\")"
   ]
  },
  {
   "cell_type": "code",
   "execution_count": 50,
   "metadata": {
    "pycharm": {
     "name": "#%%\n"
    }
   },
   "outputs": [
    {
     "name": "stdout",
     "output_type": "stream",
     "text": [
      "Elapsed: 0.06856846809387207s\n"
     ]
    }
   ],
   "source": [
    "workers = 256\n",
    "DATA_SIZE = 100\n",
    "\n",
    "with timer('Elapsed: {}s'):\n",
    "#     with multiprocessing.Pool(workers) as pool:\n",
    "    with ThreadPool(workers) as pool:\n",
    "        input_data = [DATA_SIZE // workers for _ in range(workers)]\n",
    "        # input_data = [(DATA_SIZE // workers, './pics') for _ in range(workers)]\n",
    "        pool.map(fetch_pic, input_data)\n",
    "# 40.52 - 1 \n",
    "# 19.54 - 2 \n",
    "# 10.93 - 4\n",
    "# 4.57  - 8 \n",
    "# 2.42 - 16\n",
    "# 1.43 - 32\n",
    "# 0.77 - 64\n",
    "# 0.02 - 128\n",
    "# 0.06 - 256"
   ]
  },
  {
   "cell_type": "markdown",
   "metadata": {
    "pycharm": {
     "name": "#%% md\n"
    }
   },
   "source": [
    "# IO vs CPU bound tasks"
   ]
  },
  {
   "cell_type": "code",
   "execution_count": 51,
   "metadata": {
    "pycharm": {
     "name": "#%%\n"
    }
   },
   "outputs": [
    {
     "name": "stdout",
     "output_type": "stream",
     "text": [
      "Elapsed: 0.5714006423950195s\n"
     ]
    }
   ],
   "source": [
    "DATA_SIZE = 1_000_000\n",
    "lst2 = []\n",
    "lst1 = []\n",
    "\n",
    "\n",
    "def fill_data2(n):\n",
    "    # print(threading.current_thread())\n",
    "    while n > 0:\n",
    "        n -= 1\n",
    "        lst2.append(random.randint(1, 100))\n",
    "\n",
    "def fill_data1(n):\n",
    "    # print(threading.current_thread())\n",
    "    while n > 0:\n",
    "        n -= 1\n",
    "        lst1.append(random.randint(1, 100))        \n",
    "        \n",
    "with timer('Elapsed: {}s'):\n",
    "#     fill_data(DATA_SIZE, lst)\n",
    "    fill_data1(DATA_SIZE)"
   ]
  },
  {
   "cell_type": "code",
   "execution_count": null,
   "metadata": {
    "pycharm": {
     "name": "#%%\n"
    }
   },
   "outputs": [],
   "source": [
    "a=0 \n",
    " 1     2  M\n",
    " |     | \n",
    " a=1  a=0\n",
    "      a=2\n",
    "       X\n",
    " \n",
    "\n",
    "Global Interpreter Lock\n",
    "1  2  M\n",
    "   |  |\n",
    "|     |\n",
    "   |  |\n",
    "|     |\n",
    "   |  |\n",
    "______\n",
    "GIL"
   ]
  },
  {
   "cell_type": "code",
   "execution_count": null,
   "metadata": {
    "pycharm": {
     "name": "#%%\n"
    }
   },
   "outputs": [],
   "source": []
  },
  {
   "cell_type": "code",
   "execution_count": 52,
   "metadata": {
    "pycharm": {
     "name": "#%%\n"
    }
   },
   "outputs": [
    {
     "name": "stdout",
     "output_type": "stream",
     "text": [
      "Elapsed: 0.5763282775878906s\n",
      "2000000 [38, 76, 9, 29, 78, 21, 61, 10, 90, 80, 2, 26, 58, 54, 46, 95, 53, 48, 76, 34, 22, 12, 79, 53, 78, 38, 86, 38, 32, 74, 39, 35, 52, 60, 11, 60, 71, 13, 60, 63, 59, 20, 33, 84, 71, 59, 2, 87, 20, 52, 67, 17, 96, 83, 93, 10, 19, 46, 56, 9, 45, 37, 74, 8, 10, 93, 2, 99, 62, 97, 15, 96, 53, 49, 72, 20, 94, 16, 15, 56, 47, 97, 34, 16, 84, 83, 30, 36, 1, 83, 98, 71, 88, 1, 9, 5, 76, 96, 56, 68]\n"
     ]
    }
   ],
   "source": [
    "with timer('Elapsed: {}s'):\n",
    "#     t1 = threading.Thread(target=fill_data, args=(DATA_SIZE // 2, lst))\n",
    "#     t2 = threading.Thread(target=fill_data, args=(DATA_SIZE // 2, lst))\n",
    "    t1 = threading.Thread(target=fill_data2, args=(DATA_SIZE // 2,))\n",
    "    t2 = threading.Thread(target=fill_data1, args=(DATA_SIZE // 2,))\n",
    "    t1.start()\n",
    "    t2.start()\n",
    "    t1.join()\n",
    "    t2.join()\n",
    "    lst = lst2 + lst1\n",
    "    \n",
    "print(len(lst), lst[:100])    "
   ]
  },
  {
   "cell_type": "code",
   "execution_count": 53,
   "metadata": {
    "pycharm": {
     "name": "#%%\n"
    }
   },
   "outputs": [
    {
     "name": "stdout",
     "output_type": "stream",
     "text": [
      "Elapsed: 0.58380126953125s\n",
      "0 []\n"
     ]
    }
   ],
   "source": [
    "lst = []\n",
    "workers = 8\n",
    "with timer('Elapsed: {}s'):\n",
    "    with ThreadPool(workers) as pool:\n",
    "        input_data = [DATA_SIZE // workers for _ in range(workers)]\n",
    "#         pool.map(partial(fill_data, lst=lst), input_data)\n",
    "        result = pool.map(fill_data1, input_data)\n",
    "        \n",
    "print(len(lst), lst[:100])"
   ]
  },
  {
   "cell_type": "code",
   "execution_count": 62,
   "metadata": {
    "pycharm": {
     "name": "#%%\n"
    }
   },
   "outputs": [
    {
     "name": "stdout",
     "output_type": "stream",
     "text": [
      "Elapsed: 0.40836119651794434s\n",
      "0 []\n"
     ]
    }
   ],
   "source": [
    "lst = []\n",
    "workers = 8\n",
    "\n",
    "DATA_SIZE = 1_000_000\n",
    "lst = []\n",
    "\n",
    "\n",
    "def fill_data(n):\n",
    "    # print(threading.current_thread())\n",
    "    import random\n",
    "    lst = []\n",
    "    while n > 0:\n",
    "        n -= 1\n",
    "        lst.append(random.randint(1, 100))\n",
    "        \n",
    "with timer('Elapsed: {}s'):\n",
    "    with multiprocess.Pool(workers) as pool:\n",
    "        input_data = [DATA_SIZE // workers for _ in range(workers)]\n",
    "        pool.map(fill_data, input_data)\n",
    "        \n",
    "print(len(lst), lst[:100])\n",
    "\n",
    "# 0.70 - 1\n",
    "# 0.41 - 2\n",
    "# 0.31 - 4\n",
    "# 0.34 - 8"
   ]
  },
  {
   "cell_type": "code",
   "execution_count": 59,
   "metadata": {
    "pycharm": {
     "name": "#%%\n"
    }
   },
   "outputs": [],
   "source": [
    "def factorize_naive(n):\n",
    "    \"\"\" A naive factorization method. Take integer 'n', return list of\n",
    "        factors.\n",
    "    \"\"\"\n",
    "    if n < 2:\n",
    "        return []\n",
    "    factors = []\n",
    "    p = 2\n",
    "\n",
    "    while True:\n",
    "        if n == 1:\n",
    "            return factors\n",
    "\n",
    "        r = n % p\n",
    "        if r == 0:\n",
    "            factors.append(p)\n",
    "            n = n / p\n",
    "        elif p * p >= n:\n",
    "            factors.append(n)\n",
    "            return factors\n",
    "        elif p > 2:\n",
    "            # Advance in steps of 2 over odd numbers\n",
    "            p += 2\n",
    "        else:\n",
    "            # If p == 2, get to 3\n",
    "            p += 1\n",
    "\n",
    "    assert False, \"unreachable\""
   ]
  },
  {
   "cell_type": "code",
   "execution_count": null,
   "metadata": {
    "pycharm": {
     "name": "#%%\n"
    }
   },
   "outputs": [],
   "source": [
    "DATA_SIZE = 1_000"
   ]
  },
  {
   "cell_type": "code",
   "execution_count": null,
   "metadata": {
    "pycharm": {
     "name": "#%%\n"
    }
   },
   "outputs": [],
   "source": [
    "result = {}\n",
    "workers = 16\n",
    "with timer('Elapsed: {}s'):\n",
    "    with multiprocess.Pool(workers) as pool:\n",
    "        input_data = (i for i in range(1, DATA_SIZE+1))\n",
    "        result = [\n",
    "            (n, factors)\n",
    "            for n, factors in enumerate(pool.map(factorize_naive, input_data), 1)\n",
    "        ]\n",
    "    \n",
    "print(len(result), result[:100])"
   ]
  },
  {
   "cell_type": "code",
   "execution_count": null,
   "metadata": {
    "pycharm": {
     "name": "#%%\n"
    }
   },
   "outputs": [],
   "source": [
    "result = {}\n",
    "workers = 16\n",
    "with timer('Elapsed: {}s'):\n",
    "    with ThreadPool(workers) as pool:\n",
    "        input_data = (i for i in range(1, DATA_SIZE+1))\n",
    "        result = [\n",
    "            (n, factors)\n",
    "            for n, factors in enumerate(pool.map(factorize_naive, input_data), 1)\n",
    "        ]\n",
    "    \n",
    "print(len(result), result[:100])"
   ]
  },
  {
   "cell_type": "code",
   "execution_count": null,
   "metadata": {
    "pycharm": {
     "name": "#%%\n"
    }
   },
   "outputs": [],
   "source": []
  }
 ],
 "metadata": {
  "kernelspec": {
   "display_name": "Python 3 (ipykernel)",
   "language": "python",
   "name": "python3"
  },
  "language_info": {
   "codemirror_mode": {
    "name": "ipython",
    "version": 3
   },
   "file_extension": ".py",
   "mimetype": "text/x-python",
   "name": "python",
   "nbconvert_exporter": "python",
   "pygments_lexer": "ipython3",
   "version": "3.10.9"
  }
 },
 "nbformat": 4,
 "nbformat_minor": 2
}
