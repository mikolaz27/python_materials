{
 "cells": [
  {
   "cell_type": "code",
   "execution_count": 3,
   "metadata": {
    "pycharm": {
     "name": "#%%\n"
    }
   },
   "outputs": [],
   "source": [
    "import time\n",
    "import threading\n",
    "# import multiprocessing\n",
    "import multiprocess\n",
    "import itertools\n",
    "import os\n",
    "import logging\n",
    "import random\n",
    "import string\n",
    "import requests\n",
    "from functools import partial\n",
    "# from multiprocessing import Queue\n",
    "from multiprocessing.pool import ThreadPool"
   ]
  },
  {
   "cell_type": "markdown",
   "metadata": {
    "pycharm": {
     "name": "#%% md\n"
    }
   },
   "source": [
    "# Definitions"
   ]
  },
  {
   "cell_type": "code",
   "execution_count": null,
   "metadata": {
    "pycharm": {
     "name": "#%%\n"
    }
   },
   "outputs": [],
   "source": [
    "# Processes are OS-level resource used to run and manage applications\n",
    "# Processes have pid, list of open files and sockets, isolated memory,"
   ]
  },
  {
   "cell_type": "code",
   "execution_count": null,
   "metadata": {
    "pycharm": {
     "name": "#%%\n"
    }
   },
   "outputs": [],
   "source": [
    "# Special part of OS (scheduler) iterates over processes and give them time slot to run\n",
    "\n",
    "# 2900 МГц\n",
    "TIME_SLOT = 0.5/(1000*1000)\n",
    "print(TIME_SLOT)\n",
    "while True:\n",
    "    for process in processes:\n",
    "        process.run_for(TIME_SLOT)"
   ]
  },
  {
   "cell_type": "code",
   "execution_count": null,
   "metadata": {
    "pycharm": {
     "name": "#%%\n"
    }
   },
   "outputs": [],
   "source": [
    "# Process has 1 or more threads\n",
    "# Threads have common memory"
   ]
  },
  {
   "cell_type": "code",
   "execution_count": null,
   "metadata": {
    "pycharm": {
     "name": "#%%\n"
    }
   },
   "outputs": [],
   "source": [
    "# 2 kinds of tasks:\n",
    "- parallel execution: speedup\n",
    "- background execution: \n",
    "    - daemon process: OS services\n",
    "    - multithreaded process: notifications, monitor, watcher, etc"
   ]
  },
  {
   "cell_type": "code",
   "execution_count": null,
   "metadata": {
    "pycharm": {
     "name": "#%%\n"
    }
   },
   "outputs": [],
   "source": [
    "Parallel execution can be done in 2 ways:\n",
    "    - threads\n",
    "    - processes\n",
    "    \n",
    "Which one is better?"
   ]
  },
  {
   "cell_type": "markdown",
   "metadata": {
    "pycharm": {
     "name": "#%% md\n"
    }
   },
   "source": [
    "# Threads"
   ]
  },
  {
   "cell_type": "code",
   "execution_count": 7,
   "metadata": {
    "pycharm": {
     "name": "#%%\n"
    }
   },
   "outputs": [
    {
     "name": "stdout",
     "output_type": "stream",
     "text": [
      "<_MainThread(MainThread, started 50456)>\n",
      "Executed in: 4.0016632080078125s\n"
     ]
    }
   ],
   "source": [
    "class timer():\n",
    "    def __init__(self, message):\n",
    "        self.message = message\n",
    "\n",
    "    def __enter__(self):\n",
    "        self.start = time.time()\n",
    "        return None\n",
    "\n",
    "    def __exit__(self, type, value, traceback):\n",
    "        elapsed_time = (time.time() - self.start)\n",
    "        print(self.message.format(elapsed_time))\n",
    "\n",
    "TIME_TO_SLEEP = 4\n",
    "        \n",
    "def long_running_task(n=TIME_TO_SLEEP):\n",
    "    print(threading.current_thread())\n",
    "#     with timer('Elapsed 2: {}s'):\n",
    "    time.sleep(n)\n",
    "\n",
    "# what is it?\n",
    "with timer('Executed in: {}s'):\n",
    "#     long_running_task()\n",
    "    long_running_task()\n"
   ]
  },
  {
   "cell_type": "code",
   "execution_count": 9,
   "metadata": {
    "pycharm": {
     "name": "#%%\n"
    }
   },
   "outputs": [
    {
     "name": "stdout",
     "output_type": "stream",
     "text": [
      "<Thread(Thread-7 (long_running_task), started 87356)>\n",
      "<Thread(Thread-8 (long_running_task), started 50848)>\n",
      "<_MainThread(MainThread, started 50456)>\n",
      "BEFORE T1 JOIN\n",
      "BEFORE T2 JOIN\n",
      "Executed in: 2.0158863067626953s\n",
      "next step\n"
     ]
    }
   ],
   "source": [
    "with timer('Executed in: {}s'):\n",
    "    t1 = threading.Thread(target=long_running_task, args=(TIME_TO_SLEEP/2,))\n",
    "    t2 = threading.Thread(target=long_running_task, args=(TIME_TO_SLEEP/2,))\n",
    "    t1.start()\n",
    "    t2.start()\n",
    "    print(threading.current_thread())\n",
    "    print('BEFORE T1 JOIN')\n",
    "    t1.join() # be carefull\n",
    "    print('BEFORE T2 JOIN')\n",
    "    t2.join() \n",
    "    \n",
    "print('next step')\n",
    "# work with date"
   ]
  },
  {
   "cell_type": "code",
   "execution_count": 10,
   "metadata": {
    "pycharm": {
     "name": "#%%\n"
    }
   },
   "outputs": [],
   "source": [
    "def run_threads(func, data, workers):\n",
    "    threads = [\n",
    "        threading.Thread(target=func, args=(data / workers, ))\n",
    "        for _ in range(workers)\n",
    "    ]\n",
    "    for t in threads:\n",
    "        t.start()\n",
    "    for t in threads:\n",
    "        t.join()"
   ]
  },
  {
   "cell_type": "code",
   "execution_count": 11,
   "metadata": {
    "pycharm": {
     "name": "#%%\n"
    }
   },
   "outputs": [
    {
     "name": "stdout",
     "output_type": "stream",
     "text": [
      "<Thread(Thread-9 (long_running_task), started 87728)>\n",
      "<Thread(Thread-10 (long_running_task), started 89860)>\n",
      "<Thread(Thread-11 (long_running_task), started 83800)>\n",
      "<Thread(Thread-12 (long_running_task), started 80704)>\n",
      "<Thread(Thread-13 (long_running_task), started 82716)>\n",
      "<Thread(Thread-14 (long_running_task), started 84812)>\n",
      "<Thread(Thread-15 (long_running_task), started 67076)>\n",
      "<Thread(Thread-16 (long_running_task), started 87712)>\n",
      "<Thread(Thread-17 (long_running_task), started 89268)>\n",
      "<Thread(Thread-18 (long_running_task), started 62708)>\n",
      "Elapsed: 1.0213148593902588s\n"
     ]
    }
   ],
   "source": [
    "workers = 10\n",
    "DATA_SIZE = 10\n",
    "\n",
    "with timer('Elapsed: {}s'):\n",
    "    run_threads(long_running_task, DATA_SIZE, workers)"
   ]
  },
  {
   "cell_type": "code",
   "execution_count": null,
   "metadata": {
    "pycharm": {
     "name": "#%%\n"
    }
   },
   "outputs": [],
   "source": [
    "def generate_task_queue(total_tasks, queue_size):\n",
    "    task_queue = []\n",
    "    remainder = total_tasks\n",
    "    while remainder > 0:\n",
    "        value = min(remainder, random.randint(1, total_tasks//queue_size))\n",
    "        remainder -= value\n",
    "        task_queue.append(value)\n",
    "    return task_queue\n",
    "\n",
    "assert sum(generate_task_queue(1000, 20)) == 1000\n",
    "assert sum(generate_task_queue(1000, 1)) == 1000\n",
    "assert sum(generate_task_queue(1000, 1000)) == 1000\n",
    "assert sum(generate_task_queue(1000, 42)) == 1000"
   ]
  },
  {
   "cell_type": "code",
   "execution_count": 12,
   "metadata": {
    "pycharm": {
     "name": "#%%\n"
    }
   },
   "outputs": [
    {
     "name": "stdout",
     "output_type": "stream",
     "text": [
      "[1, 2, 2, 1, 0.1, 0.1, 0.1, 0.1, 0.1, 0.1]\n",
      "<DummyProcess(Thread-19 (worker), started daemon 14268)>\n",
      "<DummyProcess(Thread-20 (worker), started daemon 47832)>\n",
      "<DummyProcess(Thread-21 (worker), started daemon 87372)>\n",
      "<DummyProcess(Thread-22 (worker), started daemon 86112)>\n",
      "<DummyProcess(Thread-23 (worker), started daemon 81992)>\n",
      "<DummyProcess(Thread-24 (worker), started daemon 72244)>\n",
      "<DummyProcess(Thread-25 (worker), started daemon 88468)>\n",
      "<DummyProcess(Thread-26 (worker), started daemon 84100)>\n",
      "<DummyProcess(Thread-27 (worker), started daemon 61188)>\n",
      "<DummyProcess(Thread-28 (worker), started daemon 8452)>\n",
      "Elapsed: 2.018418550491333s\n"
     ]
    }
   ],
   "source": [
    "# input_data = [DATA_SIZE / workers for _ in range(workers)]\n",
    "input_data = [1, 2, 2, 1, 0.1, 0.1, 0.1, 0.1, 0.1, 0.1]\n",
    "print(input_data)\n",
    "\n",
    "with timer('Elapsed: {}s'):\n",
    "    with ThreadPool(workers) as pool:\n",
    "        pool.map(long_running_task, input_data)\n",
    "#         for chunk in input_data:\n",
    "#             long_running_task(chunk)"
   ]
  },
  {
   "cell_type": "markdown",
   "metadata": {
    "pycharm": {
     "name": "#%% md\n"
    }
   },
   "source": [
    "<img src=\"https://www.nginx.com/wp-content/uploads/2016/07/thread-pools-worker-process-event-cycle.png\">"
   ]
  },
  {
   "cell_type": "markdown",
   "metadata": {
    "pycharm": {
     "name": "#%% md\n"
    }
   },
   "source": [
    "# Real world task"
   ]
  },
  {
   "cell_type": "code",
   "execution_count": 14,
   "metadata": {
    "pycharm": {
     "name": "#%%\n"
    }
   },
   "outputs": [],
   "source": [
    "def fetch_pic(num_pic):\n",
    "# def fetch_pic(num_pic, path):\n",
    "    url = 'https://picsum.photos/400/600'\n",
    "    path = os.path.join(os.getcwd(), 'img')\n",
    "    for _ in range(num_pic):\n",
    "        random_name = ''.join(random.choices(string.ascii_letters + string.digits, k=5))\n",
    "        response = requests.get(url)\n",
    "        if response.status_code == 200:\n",
    "            with open(f'{path}/{random_name}.jpg', 'wb') as f:\n",
    "                f.write(response.content)\n",
    "                print(f\"Fetched pic [{os.getpid()}]: {f.name}\")"
   ]
  },
  {
   "cell_type": "code",
   "execution_count": 24,
   "metadata": {
    "pycharm": {
     "name": "#%%\n"
    }
   },
   "outputs": [
    {
     "name": "stdout",
     "output_type": "stream",
     "text": [
      "Elapsed: 0.12281203269958496s\n"
     ]
    }
   ],
   "source": [
    "workers = 128\n",
    "DATA_SIZE = 100\n",
    "\n",
    "with timer('Elapsed: {}s'):\n",
    "#     with multiprocessing.Pool(workers) as pool:\n",
    "    with ThreadPool(workers) as pool:\n",
    "        input_data = [DATA_SIZE // workers for _ in range(workers)]\n",
    "        # input_data = [(DATA_SIZE // workers, './pics') for _ in range(workers)]\n",
    "        pool.map(fetch_pic, input_data)\n",
    "\n",
    "# 1   - 110.45\n",
    "# 2   - (55) 55\n",
    "# 4   - (28) 35\n",
    "# 8   - (25) 25\n",
    "# 16  - 18\n",
    "# 32  - 17\n",
    "# 64  - 10\n",
    "# 100 - 17\n",
    "# 128 - 0.12"
   ]
  },
  {
   "cell_type": "markdown",
   "metadata": {
    "pycharm": {
     "name": "#%% md\n"
    }
   },
   "source": [
    "# IO vs CPU bound tasks"
   ]
  },
  {
   "cell_type": "code",
   "execution_count": 25,
   "metadata": {
    "pycharm": {
     "name": "#%%\n"
    }
   },
   "outputs": [
    {
     "name": "stdout",
     "output_type": "stream",
     "text": [
      "<_MainThread(MainThread, started 50456)>\n",
      "Elapsed: 5.10992956161499s\n"
     ]
    }
   ],
   "source": [
    "DATA_SIZE = 10_000_000\n",
    "lst2 = []\n",
    "lst1 = []\n",
    "\n",
    "\n",
    "def fill_data2(n):\n",
    "    print(threading.current_thread())\n",
    "    while n > 0:\n",
    "        n -= 1\n",
    "        lst2.append(random.randint(1, 100))\n",
    "\n",
    "def fill_data1(n):\n",
    "    print(threading.current_thread())\n",
    "    while n > 0:\n",
    "        n -= 1\n",
    "        lst1.append(random.randint(1, 100))        \n",
    "        \n",
    "with timer('Elapsed: {}s'):\n",
    "#     fill_data(DATA_SIZE, lst)\n",
    "    fill_data1(DATA_SIZE)"
   ]
  },
  {
   "cell_type": "code",
   "execution_count": null,
   "metadata": {
    "pycharm": {
     "name": "#%%\n"
    }
   },
   "outputs": [],
   "source": [
    "Global Interpreter Lock\n",
    "\n",
    "t1 t2 M\n",
    "   |  |\n",
    "|     |\n",
    "   |  |\n",
    "|     |\n",
    "   |  |\n",
    "______\n",
    "GIL\n",
    "\n",
    "\n",
    "for i in range(10):\n",
    "    ...\n",
    "\n",
    "t1 i == t2 i    \n",
    "    \n",
    "i=0 \n",
    " 1     2  M\n",
    " |     | \n",
    " i=10  i=0\n",
    "       i=10\n",
    "       X\n",
    " \n"
   ]
  },
  {
   "cell_type": "code",
   "execution_count": null,
   "metadata": {
    "pycharm": {
     "name": "#%%\n"
    }
   },
   "outputs": [],
   "source": []
  },
  {
   "cell_type": "code",
   "execution_count": 26,
   "metadata": {
    "pycharm": {
     "name": "#%%\n"
    }
   },
   "outputs": [
    {
     "name": "stdout",
     "output_type": "stream",
     "text": [
      "<Thread(Thread-549 (fill_data2), started 86664)>\n",
      "<Thread(Thread-550 (fill_data1), started 43348)>\n",
      "Elapsed: 4.527665615081787s\n",
      "20000000 [66, 98, 47, 48, 63, 85, 48, 82, 67, 74, 34, 27, 51, 68, 79, 31, 43, 28, 68, 98, 86, 69, 22, 76, 1, 44, 14, 96, 99, 23, 63, 96, 97, 56, 9, 34, 72, 20, 81, 78, 57, 50, 31, 87, 50, 97, 20, 2, 24, 28, 79, 5, 93, 72, 85, 94, 66, 90, 24, 56, 4, 93, 3, 41, 61, 52, 62, 18, 57, 86, 35, 99, 55, 66, 64, 23, 54, 99, 21, 13, 3, 79, 27, 54, 3, 76, 51, 87, 89, 83, 63, 3, 24, 25, 36, 87, 35, 9, 80, 18]\n"
     ]
    }
   ],
   "source": [
    "with timer('Elapsed: {}s'):\n",
    "#     t1 = threading.Thread(target=fill_data, args=(DATA_SIZE // 2, lst))\n",
    "#     t2 = threading.Thread(target=fill_data, args=(DATA_SIZE // 2, lst))\n",
    "    t1 = threading.Thread(target=fill_data2, args=(DATA_SIZE // 2,))\n",
    "    t2 = threading.Thread(target=fill_data1, args=(DATA_SIZE // 2,))\n",
    "    t1.start()\n",
    "    t2.start()\n",
    "    t1.join()\n",
    "    t2.join()\n",
    "    lst = lst2 + lst1\n",
    "    \n",
    "print(len(lst), lst[:100])    "
   ]
  },
  {
   "cell_type": "code",
   "execution_count": 30,
   "metadata": {
    "pycharm": {
     "name": "#%%\n"
    }
   },
   "outputs": [
    {
     "name": "stdout",
     "output_type": "stream",
     "text": [
      "<DummyProcess(Thread-567 (worker), started daemon 89120)><DummyProcess(Thread-568 (worker), started daemon 79924)>\n",
      "<DummyProcess(Thread-569 (worker), started daemon 80120)>\n",
      "<DummyProcess(Thread-570 (worker), started daemon 70336)>\n",
      "\n",
      "<DummyProcess(Thread-571 (worker), started daemon 73784)>\n",
      "<DummyProcess(Thread-572 (worker), started daemon 86924)>\n",
      "<DummyProcess(Thread-573 (worker), started daemon 82376)>\n",
      "<DummyProcess(Thread-574 (worker), started daemon 50560)>\n",
      "Elapsed: 4.603038549423218s\n",
      "0 []\n"
     ]
    }
   ],
   "source": [
    "lst = []\n",
    "workers = 8\n",
    "with timer('Elapsed: {}s'):\n",
    "    with ThreadPool(workers) as pool:\n",
    "        input_data = [DATA_SIZE // workers for _ in range(workers)]\n",
    "#         pool.map(partial(fill_data, lst=lst), input_data)\n",
    "        result = pool.map(fill_data1, input_data)\n",
    "        \n",
    "print(len(lst), lst[:100])\n",
    "\n",
    "# 1 - 4.62\n",
    "# 2 - 4.45\n",
    "# 4 - 4.51\n",
    "# 8 - 4.60"
   ]
  },
  {
   "cell_type": "code",
   "execution_count": 35,
   "metadata": {
    "pycharm": {
     "name": "#%%\n"
    }
   },
   "outputs": [
    {
     "name": "stdout",
     "output_type": "stream",
     "text": [
      "Elapsed: 1.6338353157043457s\n",
      "0 []\n"
     ]
    }
   ],
   "source": [
    "lst = []\n",
    "workers = 16\n",
    "\n",
    "DATA_SIZE = 10_000_000\n",
    "lst = []\n",
    "\n",
    "\n",
    "def fill_data(n):\n",
    "    # print(threading.current_thread())\n",
    "    import random\n",
    "    lst = []\n",
    "    while n > 0:\n",
    "        n -= 1\n",
    "        lst.append(random.randint(1, 100))\n",
    "        \n",
    "with timer('Elapsed: {}s'):\n",
    "    with multiprocess.Pool(workers) as pool:\n",
    "        input_data = [DATA_SIZE // workers for _ in range(workers)]\n",
    "        pool.map(fill_data, input_data)\n",
    "        \n",
    "print(len(lst), lst[:100])\n",
    "\n",
    "# 5.31 - 1\n",
    "# 2.71 - 2\n",
    "# 1.58 - 4\n",
    "# 1.43 - 8\n",
    "# 1.63 - 16\n"
   ]
  },
  {
   "cell_type": "code",
   "execution_count": null,
   "metadata": {
    "pycharm": {
     "name": "#%%\n"
    }
   },
   "outputs": [],
   "source": [
    "def factorize_naive(n):\n",
    "    \"\"\" A naive factorization method. Take integer 'n', return list of\n",
    "        factors.\n",
    "    \"\"\"\n",
    "    if n < 2:\n",
    "        return []\n",
    "    factors = []\n",
    "    p = 2\n",
    "\n",
    "    while True:\n",
    "        if n == 1:\n",
    "            return factors\n",
    "\n",
    "        r = n % p\n",
    "        if r == 0:\n",
    "            factors.append(p)\n",
    "            n = n / p\n",
    "        elif p * p >= n:\n",
    "            factors.append(n)\n",
    "            return factors\n",
    "        elif p > 2:\n",
    "            # Advance in steps of 2 over odd numbers\n",
    "            p += 2\n",
    "        else:\n",
    "            # If p == 2, get to 3\n",
    "            p += 1\n",
    "\n",
    "    assert False, \"unreachable\""
   ]
  },
  {
   "cell_type": "code",
   "execution_count": null,
   "metadata": {
    "pycharm": {
     "name": "#%%\n"
    }
   },
   "outputs": [],
   "source": [
    "DATA_SIZE = 1_000"
   ]
  },
  {
   "cell_type": "code",
   "execution_count": null,
   "metadata": {
    "pycharm": {
     "name": "#%%\n"
    }
   },
   "outputs": [],
   "source": [
    "result = {}\n",
    "workers = 16\n",
    "with timer('Elapsed: {}s'):\n",
    "    with multiprocess.Pool(workers) as pool:\n",
    "        input_data = (i for i in range(1, DATA_SIZE+1))\n",
    "        result = [\n",
    "            (n, factors)\n",
    "            for n, factors in enumerate(pool.map(factorize_naive, input_data), 1)\n",
    "        ]\n",
    "    \n",
    "print(len(result), result[:100])"
   ]
  },
  {
   "cell_type": "code",
   "execution_count": null,
   "metadata": {
    "pycharm": {
     "name": "#%%\n"
    }
   },
   "outputs": [],
   "source": [
    "result = {}\n",
    "workers = 16\n",
    "with timer('Elapsed: {}s'):\n",
    "    with ThreadPool(workers) as pool:\n",
    "        input_data = (i for i in range(1, DATA_SIZE+1))\n",
    "        result = [\n",
    "            (n, factors)\n",
    "            for n, factors in enumerate(pool.map(factorize_naive, input_data), 1)\n",
    "        ]\n",
    "    \n",
    "print(len(result), result[:100])"
   ]
  },
  {
   "cell_type": "code",
   "execution_count": null,
   "metadata": {
    "pycharm": {
     "name": "#%%\n"
    }
   },
   "outputs": [],
   "source": [
    "x = 1"
   ]
  },
  {
   "cell_type": "code",
   "execution_count": null,
   "metadata": {
    "ExecuteTime": {
     "end_time": "2024-05-08T12:59:41.471766Z",
     "start_time": "2024-05-08T12:59:41.468227Z"
    }
   },
   "outputs": [],
   "source": [
    "x"
   ]
  },
  {
   "cell_type": "code",
   "execution_count": null,
   "metadata": {},
   "outputs": [],
   "source": []
  }
 ],
 "metadata": {
  "kernelspec": {
   "display_name": "Python 3 (ipykernel)",
   "language": "python",
   "name": "python3"
  },
  "language_info": {
   "codemirror_mode": {
    "name": "ipython",
    "version": 3
   },
   "file_extension": ".py",
   "mimetype": "text/x-python",
   "name": "python",
   "nbconvert_exporter": "python",
   "pygments_lexer": "ipython3",
   "version": "3.12.2"
  }
 },
 "nbformat": 4,
 "nbformat_minor": 4
}
