{
 "cells": [
  {
   "cell_type": "code",
   "execution_count": 1,
   "metadata": {},
   "outputs": [],
   "source": [
    "import time\n",
    "import threading\n",
    "import multiprocessing\n",
    "import multiprocess \n",
    "import itertools\n",
    "import os\n",
    "import logging\n",
    "import random\n",
    "import string\n",
    "import requests\n",
    "from functools import partial\n",
    "from multiprocessing import Queue\n",
    "from multiprocessing.pool import ThreadPool"
   ]
  },
  {
   "cell_type": "markdown",
   "metadata": {},
   "source": [
    "# Definitions"
   ]
  },
  {
   "cell_type": "code",
   "execution_count": 3,
   "metadata": {},
   "outputs": [],
   "source": [
    "# Processes are OS-level resource used to run and manage applications\n",
    "# Processes have pid, list of open files and sockets, isolated memory,"
   ]
  },
  {
   "cell_type": "code",
   "execution_count": 4,
   "metadata": {},
   "outputs": [
    {
     "ename": "NameError",
     "evalue": "name 'processes' is not defined",
     "output_type": "error",
     "traceback": [
      "\u001B[1;31m---------------------------------------------------------------------------\u001B[0m",
      "\u001B[1;31mNameError\u001B[0m                                 Traceback (most recent call last)",
      "\u001B[1;32m~\\AppData\\Local\\Temp/ipykernel_39056/2028766331.py\u001B[0m in \u001B[0;36m<module>\u001B[1;34m\u001B[0m\n\u001B[0;32m      2\u001B[0m \u001B[0mTIME_SLOT\u001B[0m \u001B[1;33m=\u001B[0m \u001B[1;36m0.5\u001B[0m\u001B[1;33m/\u001B[0m\u001B[1;33m(\u001B[0m\u001B[1;36m1000\u001B[0m\u001B[1;33m*\u001B[0m\u001B[1;36m1000\u001B[0m\u001B[1;33m)\u001B[0m\u001B[1;33m\u001B[0m\u001B[1;33m\u001B[0m\u001B[0m\n\u001B[0;32m      3\u001B[0m \u001B[1;32mwhile\u001B[0m \u001B[1;32mTrue\u001B[0m\u001B[1;33m:\u001B[0m\u001B[1;33m\u001B[0m\u001B[1;33m\u001B[0m\u001B[0m\n\u001B[1;32m----> 4\u001B[1;33m     \u001B[1;32mfor\u001B[0m \u001B[0mprocess\u001B[0m \u001B[1;32min\u001B[0m \u001B[0mprocesses\u001B[0m\u001B[1;33m:\u001B[0m\u001B[1;33m\u001B[0m\u001B[1;33m\u001B[0m\u001B[0m\n\u001B[0m\u001B[0;32m      5\u001B[0m         \u001B[0mprocess\u001B[0m\u001B[1;33m.\u001B[0m\u001B[0mrun_for\u001B[0m\u001B[1;33m(\u001B[0m\u001B[0mTIME_SLOT\u001B[0m\u001B[1;33m)\u001B[0m\u001B[1;33m\u001B[0m\u001B[1;33m\u001B[0m\u001B[0m\n",
      "\u001B[1;31mNameError\u001B[0m: name 'processes' is not defined"
     ]
    }
   ],
   "source": [
    "# Special part of OS (scheduler) iterates over processes and give them time slot to run\n",
    "TIME_SLOT = 0.5/(1000*1000)\n",
    "while True:\n",
    "    for process in processes:\n",
    "        process.run_for(TIME_SLOT)"
   ]
  },
  {
   "cell_type": "code",
   "execution_count": 5,
   "metadata": {},
   "outputs": [],
   "source": [
    "# Process has 1 or more threads\n",
    "# Threads have common memory"
   ]
  },
  {
   "cell_type": "code",
   "execution_count": 6,
   "metadata": {},
   "outputs": [
    {
     "ename": "SyntaxError",
     "evalue": "invalid syntax. Perhaps you forgot a comma? (Temp/ipykernel_39056/3031161495.py, line 2)",
     "output_type": "error",
     "traceback": [
      "\u001B[1;36m  File \u001B[1;32m\"C:\\Users\\dell\\AppData\\Local\\Temp/ipykernel_39056/3031161495.py\"\u001B[1;36m, line \u001B[1;32m2\u001B[0m\n\u001B[1;33m    - parallel execution: speedup\u001B[0m\n\u001B[1;37m    ^\u001B[0m\n\u001B[1;31mSyntaxError\u001B[0m\u001B[1;31m:\u001B[0m invalid syntax. Perhaps you forgot a comma?\n"
     ]
    }
   ],
   "source": [
    "# 2 kinds of tasks:\n",
    "- parallel execution: speedup\n",
    "- background execution: \n",
    "    - daemon process: OS services\n",
    "    - multithreaded process: notifications, monitor, watcher, etc"
   ]
  },
  {
   "cell_type": "code",
   "execution_count": 7,
   "metadata": {},
   "outputs": [
    {
     "ename": "SyntaxError",
     "evalue": "invalid syntax. Perhaps you forgot a comma? (Temp/ipykernel_39056/3321894035.py, line 1)",
     "output_type": "error",
     "traceback": [
      "\u001B[1;36m  File \u001B[1;32m\"C:\\Users\\dell\\AppData\\Local\\Temp/ipykernel_39056/3321894035.py\"\u001B[1;36m, line \u001B[1;32m1\u001B[0m\n\u001B[1;33m    Parallel execution can be done in 2 ways:\u001B[0m\n\u001B[1;37m                              ^\u001B[0m\n\u001B[1;31mSyntaxError\u001B[0m\u001B[1;31m:\u001B[0m invalid syntax. Perhaps you forgot a comma?\n"
     ]
    }
   ],
   "source": [
    "Parallel execution can be done in 2 ways:\n",
    "    - threads\n",
    "    - processes\n",
    "    \n",
    "Which one is better?"
   ]
  },
  {
   "cell_type": "markdown",
   "metadata": {},
   "source": [
    "# Threads"
   ]
  },
  {
   "cell_type": "code",
   "execution_count": 2,
   "metadata": {},
   "outputs": [
    {
     "name": "stdout",
     "output_type": "stream",
     "text": [
      "<_MainThread(MainThread, started 18672)>\n",
      "Executed in: 4.009866952896118s\n"
     ]
    }
   ],
   "source": [
    "class timer():\n",
    "    def __init__(self, message):\n",
    "        self.message = message\n",
    "\n",
    "    def __enter__(self):\n",
    "        self.start = time.time()\n",
    "        return None\n",
    "\n",
    "    def __exit__(self, type, value, traceback):\n",
    "        elapsed_time = (time.time() - self.start)\n",
    "        print(self.message.format(elapsed_time))\n",
    "\n",
    "TIME_TO_SLEEP = 4\n",
    "        \n",
    "def long_running_task(n=TIME_TO_SLEEP):\n",
    "    print(threading.current_thread())\n",
    "#     with timer('Elapsed 2: {}s'):\n",
    "    time.sleep(n)\n",
    "\n",
    "# what is it?\n",
    "with timer('Executed in: {}s'):\n",
    "#     long_running_task()\n",
    "    long_running_task()\n"
   ]
  },
  {
   "cell_type": "code",
   "execution_count": 3,
   "metadata": {},
   "outputs": [
    {
     "name": "stdout",
     "output_type": "stream",
     "text": [
      "<Thread(Thread-8 (long_running_task), started 71068)>\n",
      "<Thread(Thread-9 (long_running_task), started 69224)>\n",
      "<_MainThread(MainThread, started 18800)>\n",
      "BEFORE T1 JOIN\n",
      "BEFORE T2 JOIN\n",
      "Executed in: 2.011209487915039s\n",
      "next step\n"
     ]
    }
   ],
   "source": [
    "with timer('Executed in: {}s'):\n",
    "    t1 = threading.Thread(target=long_running_task, args=(TIME_TO_SLEEP/2,))\n",
    "    t2 = threading.Thread(target=long_running_task, args=(TIME_TO_SLEEP/2,))\n",
    "    t1.start()\n",
    "    t2.start()\n",
    "    print(threading.current_thread())\n",
    "    print('BEFORE T1 JOIN')\n",
    "    t1.join() # be carefull\n",
    "    print('BEFORE T2 JOIN')\n",
    "    t2.join() \n",
    "    \n",
    "print('next step')\n",
    "# work with date"
   ]
  },
  {
   "cell_type": "code",
   "execution_count": 4,
   "metadata": {},
   "outputs": [],
   "source": [
    "def run_threads(func, data, workers):\n",
    "    threads = [\n",
    "        threading.Thread(target=func, args=(data / workers, ))\n",
    "        for _ in range(workers)\n",
    "    ]\n",
    "    for t in threads:\n",
    "        t.start()\n",
    "    for t in threads:\n",
    "        t.join()"
   ]
  },
  {
   "cell_type": "code",
   "execution_count": 5,
   "metadata": {},
   "outputs": [
    {
     "name": "stdout",
     "output_type": "stream",
     "text": [
      "<Thread(Thread-10 (long_running_task), started 68976)><Thread(Thread-11 (long_running_task), started 35048)>\n",
      "\n",
      "<Thread(Thread-12 (long_running_task), started 67124)>\n",
      "<Thread(Thread-13 (long_running_task), started 61012)>\n",
      "<Thread(Thread-14 (long_running_task), started 66620)>\n",
      "<Thread(Thread-15 (long_running_task), started 69804)>\n",
      "<Thread(Thread-16 (long_running_task), started 64836)>\n",
      "<Thread(Thread-17 (long_running_task), started 35084)>\n",
      "<Thread(Thread-18 (long_running_task), started 68968)>\n",
      "<Thread(Thread-19 (long_running_task), started 63648)>\n",
      "Elapsed: 1.0306055545806885s\n"
     ]
    }
   ],
   "source": [
    "workers = 10\n",
    "DATA_SIZE = 10\n",
    "\n",
    "with timer('Elapsed: {}s'):\n",
    "    run_threads(long_running_task, DATA_SIZE, workers)"
   ]
  },
  {
   "cell_type": "code",
   "execution_count": 12,
   "metadata": {},
   "outputs": [],
   "source": [
    "def generate_task_queue(total_tasks, queue_size):\n",
    "    task_queue = []\n",
    "    remainder = total_tasks\n",
    "    while remainder > 0:\n",
    "        value = min(remainder, random.randint(1, total_tasks//queue_size))\n",
    "        remainder -= value\n",
    "        task_queue.append(value)\n",
    "    return task_queue\n",
    "\n",
    "assert sum(generate_task_queue(1000, 20)) == 1000\n",
    "assert sum(generate_task_queue(1000, 1)) == 1000\n",
    "assert sum(generate_task_queue(1000, 1000)) == 1000\n",
    "assert sum(generate_task_queue(1000, 42)) == 1000"
   ]
  },
  {
   "cell_type": "code",
   "execution_count": 6,
   "metadata": {
    "pycharm": {
     "name": "#%%\n"
    }
   },
   "outputs": [
    {
     "name": "stdout",
     "output_type": "stream",
     "text": [
      "[1, 2, 2, 1, 0.1, 0.1, 0.1, 0.1, 0.1, 0.1]\n",
      "<DummyProcess(Thread-20 (worker), started daemon 70196)><DummyProcess(Thread-21 (worker), started daemon 69256)>\n",
      "<DummyProcess(Thread-22 (worker), started daemon 58852)>\n",
      "<DummyProcess(Thread-23 (worker), started daemon 64828)>\n",
      "\n",
      "<DummyProcess(Thread-24 (worker), started daemon 49100)>\n",
      "<DummyProcess(Thread-25 (worker), started daemon 52460)>\n",
      "<DummyProcess(Thread-26 (worker), started daemon 29912)>\n",
      "<DummyProcess(Thread-27 (worker), started daemon 68636)>\n",
      "<DummyProcess(Thread-28 (worker), started daemon 43624)>\n",
      "<DummyProcess(Thread-29 (worker), started daemon 67152)>\n",
      "Elapsed: 2.0162148475646973s\n"
     ]
    }
   ],
   "source": [
    "input_data = [DATA_SIZE / workers for _ in range(workers)]\n",
    "input_data = [1, 2, 2, 1, 0.1, 0.1, 0.1, 0.1, 0.1, 0.1]\n",
    "print(input_data)\n",
    "\n",
    "with timer('Elapsed: {}s'):\n",
    "    with ThreadPool(workers) as pool:\n",
    "        pool.map(long_running_task, input_data)\n",
    "#         for chunk in input_data:\n",
    "#             long_running_task(chunk)"
   ]
  },
  {
   "cell_type": "markdown",
   "metadata": {},
   "source": [
    "<img src=\"https://www.nginx.com/wp-content/uploads/2016/07/thread-pools-worker-process-event-cycle.png\">"
   ]
  },
  {
   "cell_type": "markdown",
   "metadata": {
    "pycharm": {
     "name": "#%% md\n"
    }
   },
   "source": [
    "# Real world task"
   ]
  },
  {
   "cell_type": "code",
   "execution_count": null,
   "metadata": {},
   "outputs": [],
   "source": [
    "def fetch_pic(num_pic):\n",
    "# def fetch_pic(num_pic, path):\n",
    "    url = 'https://picsum.photos/400/600'\n",
    "    path = os.path.join(os.getcwd(), 'img')\n",
    "    for _ in range(num_pic):\n",
    "#         print(f\"current image number: {i}\")\n",
    "        random_name = ''.join(random.choices(string.ascii_letters + string.digits, k=5))\n",
    "        response = requests.get(url)\n",
    "        if response.status_code == 200:\n",
    "            with open(f'{path}/{random_name}.jpg', 'wb') as f:\n",
    "                f.write(response.content)\n",
    "                #print(f\"Fetched pic [{os.getpid()}]: {f.name}\")"
   ]
  },
  {
   "cell_type": "code",
   "execution_count": null,
   "metadata": {
    "pycharm": {
     "name": "#%%\n"
    }
   },
   "outputs": [],
   "source": [
    "workers = 16\n",
    "DATA_SIZE = 100\n",
    "\n",
    "with timer('Elapsed: {}s'):\n",
    "#     with multiprocessing.Pool(workers) as pool:\n",
    "    with ThreadPool(workers) as pool:\n",
    "        input_data = [DATA_SIZE // workers for _ in range(workers)]\n",
    "        # input_data = [(DATA_SIZE // workers, './pics') for _ in range(workers)]\n",
    "        pool.map(fetch_pic, input_data)\n",
    "# 37 - 1 \n",
    "# 6 - 8 "
   ]
  },
  {
   "cell_type": "markdown",
   "metadata": {
    "pycharm": {
     "name": "#%% md\n"
    }
   },
   "source": [
    "# IO vs CPU bound tasks"
   ]
  },
  {
   "cell_type": "code",
   "execution_count": 7,
   "metadata": {},
   "outputs": [
    {
     "name": "stdout",
     "output_type": "stream",
     "text": [
      "Elapsed: 0.6632881164550781s\n"
     ]
    }
   ],
   "source": [
    "DATA_SIZE = 1_000_000\n",
    "lst = []\n",
    "\n",
    "def fill_data(n):\n",
    "    # print(threading.current_thread())\n",
    "    while n > 0:\n",
    "        n -= 1\n",
    "        lst.append(random.randint(1, 100))\n",
    "        \n",
    "with timer('Elapsed: {}s'):\n",
    "#     fill_data(DATA_SIZE, lst)\n",
    "    fill_data(DATA_SIZE)"
   ]
  },
  {
   "cell_type": "code",
   "execution_count": null,
   "metadata": {},
   "outputs": [],
   "source": [
    "1  2  M\n",
    "   |  |\n",
    "|     |\n",
    "   |  |\n",
    "|     |\n",
    "   |\n",
    "______\n"
   ]
  },
  {
   "cell_type": "code",
   "execution_count": null,
   "metadata": {},
   "outputs": [],
   "source": [
    "with timer('Elapsed: {}s'):\n",
    "#     t1 = threading.Thread(target=fill_data, args=(DATA_SIZE // 2, lst))\n",
    "#     t2 = threading.Thread(target=fill_data, args=(DATA_SIZE // 2, lst))\n",
    "    t1 = threading.Thread(target=fill_data, args=(DATA_SIZE // 2,))\n",
    "    t2 = threading.Thread(target=fill_data, args=(DATA_SIZE // 2,))\n",
    "    t1.start()\n",
    "    t2.start()\n",
    "    t1.join()\n",
    "    t2.join()"
   ]
  },
  {
   "cell_type": "code",
   "execution_count": 14,
   "metadata": {},
   "outputs": [
    {
     "name": "stdout",
     "output_type": "stream",
     "text": [
      "Elapsed: 0.004965305328369141s\n"
     ]
    },
    {
     "ename": "NameError",
     "evalue": "name 'fill_data' is not defined",
     "output_type": "error",
     "traceback": [
      "\u001B[1;31m---------------------------------------------------------------------------\u001B[0m",
      "\u001B[1;31mNameError\u001B[0m                                 Traceback (most recent call last)",
      "\u001B[1;32m~\\AppData\\Local\\Temp/ipykernel_39056/2119837601.py\u001B[0m in \u001B[0;36m<module>\u001B[1;34m\u001B[0m\n\u001B[0;32m      5\u001B[0m         \u001B[0minput_data\u001B[0m \u001B[1;33m=\u001B[0m \u001B[1;33m[\u001B[0m\u001B[0mDATA_SIZE\u001B[0m \u001B[1;33m//\u001B[0m \u001B[0mworkers\u001B[0m \u001B[1;32mfor\u001B[0m \u001B[0m_\u001B[0m \u001B[1;32min\u001B[0m \u001B[0mrange\u001B[0m\u001B[1;33m(\u001B[0m\u001B[0mworkers\u001B[0m\u001B[1;33m)\u001B[0m\u001B[1;33m]\u001B[0m\u001B[1;33m\u001B[0m\u001B[1;33m\u001B[0m\u001B[0m\n\u001B[0;32m      6\u001B[0m \u001B[1;31m#         pool.map(partial(fill_data, lst=lst), input_data)\u001B[0m\u001B[1;33m\u001B[0m\u001B[1;33m\u001B[0m\u001B[0m\n\u001B[1;32m----> 7\u001B[1;33m         \u001B[0mresult\u001B[0m \u001B[1;33m=\u001B[0m \u001B[0mpool\u001B[0m\u001B[1;33m.\u001B[0m\u001B[0mmap\u001B[0m\u001B[1;33m(\u001B[0m\u001B[0mfill_data\u001B[0m\u001B[1;33m,\u001B[0m \u001B[0minput_data\u001B[0m\u001B[1;33m)\u001B[0m\u001B[1;33m\u001B[0m\u001B[1;33m\u001B[0m\u001B[0m\n\u001B[0m\u001B[0;32m      8\u001B[0m \u001B[1;33m\u001B[0m\u001B[0m\n\u001B[0;32m      9\u001B[0m \u001B[0mprint\u001B[0m\u001B[1;33m(\u001B[0m\u001B[0mlen\u001B[0m\u001B[1;33m(\u001B[0m\u001B[0mlst\u001B[0m\u001B[1;33m)\u001B[0m\u001B[1;33m,\u001B[0m \u001B[0mlst\u001B[0m\u001B[1;33m[\u001B[0m\u001B[1;33m:\u001B[0m\u001B[1;36m100\u001B[0m\u001B[1;33m]\u001B[0m\u001B[1;33m)\u001B[0m\u001B[1;33m\u001B[0m\u001B[1;33m\u001B[0m\u001B[0m\n",
      "\u001B[1;31mNameError\u001B[0m: name 'fill_data' is not defined"
     ]
    }
   ],
   "source": [
    "lst = []\n",
    "workers = 8\n",
    "with timer('Elapsed: {}s'):\n",
    "    with ThreadPool(workers) as pool:\n",
    "        input_data = [DATA_SIZE // workers for _ in range(workers)]\n",
    "#         pool.map(partial(fill_data, lst=lst), input_data)\n",
    "        result = pool.map(fill_data, input_data)\n",
    "        \n",
    "print(len(lst), lst[:100])"
   ]
  },
  {
   "cell_type": "code",
   "execution_count": 10,
   "metadata": {},
   "outputs": [
    {
     "name": "stdout",
     "output_type": "stream",
     "text": [
      "Elapsed: 0.13699936866760254s\n"
     ]
    },
    {
     "ename": "NameError",
     "evalue": "name 'lst' is not defined",
     "output_type": "error",
     "traceback": [
      "\u001B[1;31m---------------------------------------------------------------------------\u001B[0m",
      "\u001B[1;31mRemoteTraceback\u001B[0m                           Traceback (most recent call last)",
      "\u001B[1;31mRemoteTraceback\u001B[0m: \n\"\"\"\nTraceback (most recent call last):\n  File \"D:\\Hillel\\python_materials\\venv\\lib\\site-packages\\multiprocess\\pool.py\", line 125, in worker\n    result = (True, func(*args, **kwds))\n  File \"D:\\Hillel\\python_materials\\venv\\lib\\site-packages\\multiprocess\\pool.py\", line 48, in mapstar\n    return list(map(*args))\n  File \"C:\\Users\\dell\\AppData\\Local\\Temp/ipykernel_72136/2896088926.py\", line 9, in fill_data\nNameError: name 'lst' is not defined\n\"\"\"",
      "\nThe above exception was the direct cause of the following exception:\n",
      "\u001B[1;31mNameError\u001B[0m                                 Traceback (most recent call last)",
      "\u001B[1;32m~\\AppData\\Local\\Temp/ipykernel_72136/2896088926.py\u001B[0m in \u001B[0;36m<module>\u001B[1;34m\u001B[0m\n\u001B[0;32m     14\u001B[0m     \u001B[1;32mwith\u001B[0m \u001B[0mmultiprocess\u001B[0m\u001B[1;33m.\u001B[0m\u001B[0mPool\u001B[0m\u001B[1;33m(\u001B[0m\u001B[0mworkers\u001B[0m\u001B[1;33m)\u001B[0m \u001B[1;32mas\u001B[0m \u001B[0mpool\u001B[0m\u001B[1;33m:\u001B[0m\u001B[1;33m\u001B[0m\u001B[1;33m\u001B[0m\u001B[0m\n\u001B[0;32m     15\u001B[0m         \u001B[0minput_data\u001B[0m \u001B[1;33m=\u001B[0m \u001B[1;33m[\u001B[0m\u001B[0mDATA_SIZE\u001B[0m \u001B[1;33m//\u001B[0m \u001B[0mworkers\u001B[0m \u001B[1;32mfor\u001B[0m \u001B[0m_\u001B[0m \u001B[1;32min\u001B[0m \u001B[0mrange\u001B[0m\u001B[1;33m(\u001B[0m\u001B[0mworkers\u001B[0m\u001B[1;33m)\u001B[0m\u001B[1;33m]\u001B[0m\u001B[1;33m\u001B[0m\u001B[1;33m\u001B[0m\u001B[0m\n\u001B[1;32m---> 16\u001B[1;33m         \u001B[0mpool\u001B[0m\u001B[1;33m.\u001B[0m\u001B[0mmap\u001B[0m\u001B[1;33m(\u001B[0m\u001B[0mfill_data\u001B[0m\u001B[1;33m,\u001B[0m \u001B[0minput_data\u001B[0m\u001B[1;33m)\u001B[0m\u001B[1;33m\u001B[0m\u001B[1;33m\u001B[0m\u001B[0m\n\u001B[0m\u001B[0;32m     17\u001B[0m \u001B[1;33m\u001B[0m\u001B[0m\n\u001B[0;32m     18\u001B[0m \u001B[0mprint\u001B[0m\u001B[1;33m(\u001B[0m\u001B[0mlen\u001B[0m\u001B[1;33m(\u001B[0m\u001B[0mlst\u001B[0m\u001B[1;33m)\u001B[0m\u001B[1;33m,\u001B[0m \u001B[0mlst\u001B[0m\u001B[1;33m[\u001B[0m\u001B[1;33m:\u001B[0m\u001B[1;36m100\u001B[0m\u001B[1;33m]\u001B[0m\u001B[1;33m)\u001B[0m\u001B[1;33m\u001B[0m\u001B[1;33m\u001B[0m\u001B[0m\n",
      "\u001B[1;32mD:\\Hillel\\python_materials\\venv\\lib\\site-packages\\multiprocess\\pool.py\u001B[0m in \u001B[0;36mmap\u001B[1;34m(self, func, iterable, chunksize)\u001B[0m\n\u001B[0;32m    362\u001B[0m         \u001B[1;32min\u001B[0m \u001B[0ma\u001B[0m \u001B[0mlist\u001B[0m \u001B[0mthat\u001B[0m \u001B[1;32mis\u001B[0m \u001B[0mreturned\u001B[0m\u001B[1;33m.\u001B[0m\u001B[1;33m\u001B[0m\u001B[1;33m\u001B[0m\u001B[0m\n\u001B[0;32m    363\u001B[0m         '''\n\u001B[1;32m--> 364\u001B[1;33m         \u001B[1;32mreturn\u001B[0m \u001B[0mself\u001B[0m\u001B[1;33m.\u001B[0m\u001B[0m_map_async\u001B[0m\u001B[1;33m(\u001B[0m\u001B[0mfunc\u001B[0m\u001B[1;33m,\u001B[0m \u001B[0miterable\u001B[0m\u001B[1;33m,\u001B[0m \u001B[0mmapstar\u001B[0m\u001B[1;33m,\u001B[0m \u001B[0mchunksize\u001B[0m\u001B[1;33m)\u001B[0m\u001B[1;33m.\u001B[0m\u001B[0mget\u001B[0m\u001B[1;33m(\u001B[0m\u001B[1;33m)\u001B[0m\u001B[1;33m\u001B[0m\u001B[1;33m\u001B[0m\u001B[0m\n\u001B[0m\u001B[0;32m    365\u001B[0m \u001B[1;33m\u001B[0m\u001B[0m\n\u001B[0;32m    366\u001B[0m     \u001B[1;32mdef\u001B[0m \u001B[0mstarmap\u001B[0m\u001B[1;33m(\u001B[0m\u001B[0mself\u001B[0m\u001B[1;33m,\u001B[0m \u001B[0mfunc\u001B[0m\u001B[1;33m,\u001B[0m \u001B[0miterable\u001B[0m\u001B[1;33m,\u001B[0m \u001B[0mchunksize\u001B[0m\u001B[1;33m=\u001B[0m\u001B[1;32mNone\u001B[0m\u001B[1;33m)\u001B[0m\u001B[1;33m:\u001B[0m\u001B[1;33m\u001B[0m\u001B[1;33m\u001B[0m\u001B[0m\n",
      "\u001B[1;32mD:\\Hillel\\python_materials\\venv\\lib\\site-packages\\multiprocess\\pool.py\u001B[0m in \u001B[0;36mget\u001B[1;34m(self, timeout)\u001B[0m\n\u001B[0;32m    769\u001B[0m             \u001B[1;32mreturn\u001B[0m \u001B[0mself\u001B[0m\u001B[1;33m.\u001B[0m\u001B[0m_value\u001B[0m\u001B[1;33m\u001B[0m\u001B[1;33m\u001B[0m\u001B[0m\n\u001B[0;32m    770\u001B[0m         \u001B[1;32melse\u001B[0m\u001B[1;33m:\u001B[0m\u001B[1;33m\u001B[0m\u001B[1;33m\u001B[0m\u001B[0m\n\u001B[1;32m--> 771\u001B[1;33m             \u001B[1;32mraise\u001B[0m \u001B[0mself\u001B[0m\u001B[1;33m.\u001B[0m\u001B[0m_value\u001B[0m\u001B[1;33m\u001B[0m\u001B[1;33m\u001B[0m\u001B[0m\n\u001B[0m\u001B[0;32m    772\u001B[0m \u001B[1;33m\u001B[0m\u001B[0m\n\u001B[0;32m    773\u001B[0m     \u001B[1;32mdef\u001B[0m \u001B[0m_set\u001B[0m\u001B[1;33m(\u001B[0m\u001B[0mself\u001B[0m\u001B[1;33m,\u001B[0m \u001B[0mi\u001B[0m\u001B[1;33m,\u001B[0m \u001B[0mobj\u001B[0m\u001B[1;33m)\u001B[0m\u001B[1;33m:\u001B[0m\u001B[1;33m\u001B[0m\u001B[1;33m\u001B[0m\u001B[0m\n",
      "\u001B[1;31mNameError\u001B[0m: name 'lst' is not defined"
     ]
    }
   ],
   "source": [
    "lst = []\n",
    "workers = 8\n",
    "\n",
    "DATA_SIZE = 1_000_000\n",
    "lst = []\n",
    "\n",
    "def fill_data(n):\n",
    "    # print(threading.current_thread())\n",
    "    while n > 0:\n",
    "        n -= 1\n",
    "        lst.append(random.randint(1, 100))\n",
    "        \n",
    "with timer('Elapsed: {}s'):\n",
    "    with multiprocess.Pool(workers) as pool:\n",
    "        input_data = [DATA_SIZE // workers for _ in range(workers)]\n",
    "        pool.map(fill_data, input_data)\n",
    "        \n",
    "print(len(lst), lst[:100])"
   ]
  },
  {
   "cell_type": "code",
   "execution_count": null,
   "metadata": {},
   "outputs": [],
   "source": [
    "def factorize_naive(n):\n",
    "    \"\"\" A naive factorization method. Take integer 'n', return list of\n",
    "        factors.\n",
    "    \"\"\"\n",
    "    if n < 2:\n",
    "        return []\n",
    "    factors = []\n",
    "    p = 2\n",
    "\n",
    "    while True:\n",
    "        if n == 1:\n",
    "            return factors\n",
    "\n",
    "        r = n % p\n",
    "        if r == 0:\n",
    "            factors.append(p)\n",
    "            n = n / p\n",
    "        elif p * p >= n:\n",
    "            factors.append(n)\n",
    "            return factors\n",
    "        elif p > 2:\n",
    "            # Advance in steps of 2 over odd numbers\n",
    "            p += 2\n",
    "        else:\n",
    "            # If p == 2, get to 3\n",
    "            p += 1\n",
    "\n",
    "    assert False, \"unreachable\""
   ]
  },
  {
   "cell_type": "code",
   "execution_count": null,
   "metadata": {
    "pycharm": {
     "name": "#%%\n"
    }
   },
   "outputs": [],
   "source": [
    "result = {}\n",
    "workers = 16\n",
    "with timer('Elapsed: {}s'):\n",
    "    with multiprocessing.Pool(workers) as pool:\n",
    "        input_data = (i for i in range(1, DATA_SIZE+1))\n",
    "        result = [\n",
    "            (n, factors)\n",
    "            for n, factors in enumerate(pool.map(factorize_naive, input_data), 1)\n",
    "        ]\n",
    "    \n",
    "print(len(result), result[:100])"
   ]
  },
  {
   "cell_type": "code",
   "execution_count": null,
   "metadata": {
    "pycharm": {
     "name": "#%%\n"
    }
   },
   "outputs": [],
   "source": [
    "result = {}\n",
    "workers = 16\n",
    "with timer('Elapsed: {}s'):\n",
    "    with ThreadPool(workers) as pool:\n",
    "        input_data = (i for i in range(1, DATA_SIZE+1))\n",
    "        result = [\n",
    "            (n, factors)\n",
    "            for n, factors in enumerate(pool.map(factorize_naive, input_data), 1)\n",
    "        ]\n",
    "    \n",
    "print(len(result), result[:100])"
   ]
  },
  {
   "cell_type": "code",
   "execution_count": null,
   "metadata": {
    "pycharm": {
     "name": "#%%\n"
    }
   },
   "outputs": [],
   "source": []
  }
 ],
 "metadata": {
  "kernelspec": {
   "display_name": "Python 3 (ipykernel)",
   "language": "python",
   "name": "python3"
  },
  "language_info": {
   "codemirror_mode": {
    "name": "ipython",
    "version": 3
   },
   "file_extension": ".py",
   "mimetype": "text/x-python",
   "name": "python",
   "nbconvert_exporter": "python",
   "pygments_lexer": "ipython3",
   "version": "3.10.0"
  }
 },
 "nbformat": 4,
 "nbformat_minor": 2
}