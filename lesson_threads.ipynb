{
 "cells": [
  {
   "cell_type": "code",
   "execution_count": null,
   "outputs": [],
   "source": [
    "import time\n",
    "import threading\n",
    "# import multiprocessing\n",
    "import multiprocess \n",
    "import itertools\n",
    "import os\n",
    "import logging\n",
    "import random\n",
    "import string\n",
    "import requests\n",
    "from functools import partial\n",
    "# from multiprocessing import Queue\n",
    "# from multiprocessing.pool import ThreadPool"
   ],
   "metadata": {
    "collapsed": false,
    "pycharm": {
     "name": "#%%\n"
    }
   }
  },
  {
   "cell_type": "markdown",
   "source": [
    "# Definitions"
   ],
   "metadata": {
    "collapsed": false,
    "pycharm": {
     "name": "#%% md\n"
    }
   }
  },
  {
   "cell_type": "code",
   "execution_count": null,
   "outputs": [],
   "source": [
    "# Processes are OS-level resource used to run and manage applications\n",
    "# Processes have pid, list of open files and sockets, isolated memory,"
   ],
   "metadata": {
    "collapsed": false,
    "pycharm": {
     "name": "#%%\n"
    }
   }
  },
  {
   "cell_type": "code",
   "execution_count": null,
   "outputs": [],
   "source": [
    "# Special part of OS (scheduler) iterates over processes and give them time slot to run\n",
    "TIME_SLOT = 0.5/(1000*1000)\n",
    "while True:\n",
    "    for process in processes:\n",
    "        process.run_for(TIME_SLOT)"
   ],
   "metadata": {
    "collapsed": false,
    "pycharm": {
     "name": "#%%\n"
    }
   }
  },
  {
   "cell_type": "code",
   "execution_count": null,
   "outputs": [],
   "source": [
    "# Process has 1 or more threads\n",
    "# Threads have common memory"
   ],
   "metadata": {
    "collapsed": false,
    "pycharm": {
     "name": "#%%\n"
    }
   }
  },
  {
   "cell_type": "code",
   "execution_count": null,
   "outputs": [],
   "source": [
    "# 2 kinds of tasks:\n",
    "- parallel execution: speedup\n",
    "- background execution: \n",
    "    - daemon process: OS services\n",
    "    - multithreaded process: notifications, monitor, watcher, etc"
   ],
   "metadata": {
    "collapsed": false,
    "pycharm": {
     "name": "#%%\n"
    }
   }
  },
  {
   "cell_type": "code",
   "execution_count": null,
   "outputs": [],
   "source": [
    "Parallel execution can be done in 2 ways:\n",
    "    - threads\n",
    "    - processes\n",
    "    \n",
    "Which one is better?"
   ],
   "metadata": {
    "collapsed": false,
    "pycharm": {
     "name": "#%%\n"
    }
   }
  },
  {
   "cell_type": "markdown",
   "source": [
    "# Threads"
   ],
   "metadata": {
    "collapsed": false,
    "pycharm": {
     "name": "#%% md\n"
    }
   }
  },
  {
   "cell_type": "code",
   "execution_count": null,
   "outputs": [],
   "source": [
    "class timer():\n",
    "    def __init__(self, message):\n",
    "        self.message = message\n",
    "\n",
    "    def __enter__(self):\n",
    "        self.start = time.time()\n",
    "        return None\n",
    "\n",
    "    def __exit__(self, type, value, traceback):\n",
    "        elapsed_time = (time.time() - self.start)\n",
    "        print(self.message.format(elapsed_time))\n",
    "\n",
    "TIME_TO_SLEEP = 4\n",
    "        \n",
    "def long_running_task(n=TIME_TO_SLEEP):\n",
    "    print(threading.current_thread())\n",
    "#     with timer('Elapsed 2: {}s'):\n",
    "    time.sleep(n)\n",
    "\n",
    "# what is it?\n",
    "with timer('Executed in: {}s'):\n",
    "#     long_running_task()\n",
    "    long_running_task()\n"
   ],
   "metadata": {
    "collapsed": false,
    "pycharm": {
     "name": "#%%\n"
    }
   }
  },
  {
   "cell_type": "code",
   "execution_count": null,
   "outputs": [],
   "source": [
    "with timer('Executed in: {}s'):\n",
    "    t1 = threading.Thread(target=long_running_task, args=(TIME_TO_SLEEP/2,))\n",
    "    t2 = threading.Thread(target=long_running_task, args=(TIME_TO_SLEEP/2,))\n",
    "    t1.start()\n",
    "    t2.start()\n",
    "    print(threading.current_thread())\n",
    "    print('BEFORE T1 JOIN')\n",
    "    t1.join() # be carefull\n",
    "    print('BEFORE T2 JOIN')\n",
    "    t2.join() \n",
    "    \n",
    "print('next step')\n",
    "# work with date"
   ],
   "metadata": {
    "collapsed": false,
    "pycharm": {
     "name": "#%%\n"
    }
   }
  },
  {
   "cell_type": "code",
   "execution_count": null,
   "outputs": [],
   "source": [
    "def run_threads(func, data, workers):\n",
    "    threads = [\n",
    "        threading.Thread(target=func, args=(data / workers, ))\n",
    "        for _ in range(workers)\n",
    "    ]\n",
    "    for t in threads:\n",
    "        t.start()\n",
    "    for t in threads:\n",
    "        t.join()"
   ],
   "metadata": {
    "collapsed": false,
    "pycharm": {
     "name": "#%%\n"
    }
   }
  },
  {
   "cell_type": "code",
   "execution_count": null,
   "outputs": [],
   "source": [
    "workers = 10\n",
    "DATA_SIZE = 10\n",
    "\n",
    "with timer('Elapsed: {}s'):\n",
    "    run_threads(long_running_task, DATA_SIZE, workers)"
   ],
   "metadata": {
    "collapsed": false,
    "pycharm": {
     "name": "#%%\n"
    }
   }
  },
  {
   "cell_type": "code",
   "execution_count": null,
   "outputs": [],
   "source": [
    "def generate_task_queue(total_tasks, queue_size):\n",
    "    task_queue = []\n",
    "    remainder = total_tasks\n",
    "    while remainder > 0:\n",
    "        value = min(remainder, random.randint(1, total_tasks//queue_size))\n",
    "        remainder -= value\n",
    "        task_queue.append(value)\n",
    "    return task_queue\n",
    "\n",
    "assert sum(generate_task_queue(1000, 20)) == 1000\n",
    "assert sum(generate_task_queue(1000, 1)) == 1000\n",
    "assert sum(generate_task_queue(1000, 1000)) == 1000\n",
    "assert sum(generate_task_queue(1000, 42)) == 1000"
   ],
   "metadata": {
    "collapsed": false,
    "pycharm": {
     "name": "#%%\n"
    }
   }
  },
  {
   "cell_type": "code",
   "execution_count": null,
   "outputs": [],
   "source": [
    "# input_data = [DATA_SIZE / workers for _ in range(workers)]\n",
    "input_data = [1, 2, 2, 1, 0.1, 0.1, 0.1, 0.1, 0.1, 0.1]\n",
    "print(input_data)\n",
    "\n",
    "with timer('Elapsed: {}s'):\n",
    "    with ThreadPool(workers) as pool:\n",
    "        pool.map(long_running_task, input_data)\n",
    "#         for chunk in input_data:\n",
    "#             long_running_task(chunk)"
   ],
   "metadata": {
    "collapsed": false,
    "pycharm": {
     "name": "#%%\n"
    }
   }
  },
  {
   "cell_type": "markdown",
   "source": [
    "<img src=\"https://www.nginx.com/wp-content/uploads/2016/07/thread-pools-worker-process-event-cycle.png\">"
   ],
   "metadata": {
    "collapsed": false,
    "pycharm": {
     "name": "#%% md\n"
    }
   }
  },
  {
   "cell_type": "markdown",
   "source": [
    "# Real world task"
   ],
   "metadata": {
    "collapsed": false,
    "pycharm": {
     "name": "#%% md\n"
    }
   }
  },
  {
   "cell_type": "code",
   "execution_count": null,
   "outputs": [],
   "source": [
    "def fetch_pic(num_pic):\n",
    "# def fetch_pic(num_pic, path):\n",
    "    url = 'https://picsum.photos/400/600'\n",
    "    path = os.path.join(os.getcwd(), 'img')\n",
    "    for _ in range(num_pic):\n",
    "#         print(f\"current image number: {i}\")\n",
    "        random_name = ''.join(random.choices(string.ascii_letters + string.digits, k=5))\n",
    "        response = requests.get(url)\n",
    "        if response.status_code == 200:\n",
    "            with open(f'{path}/{random_name}.jpg', 'wb') as f:\n",
    "                f.write(response.content)\n",
    "                #print(f\"Fetched pic [{os.getpid()}]: {f.name}\")"
   ],
   "metadata": {
    "collapsed": false,
    "pycharm": {
     "name": "#%%\n"
    }
   }
  },
  {
   "cell_type": "code",
   "execution_count": null,
   "outputs": [],
   "source": [
    "workers = 64\n",
    "DATA_SIZE = 100\n",
    "\n",
    "with timer('Elapsed: {}s'):\n",
    "#     with multiprocessing.Pool(workers) as pool:\n",
    "    with ThreadPool(workers) as pool:\n",
    "        input_data = [DATA_SIZE // workers for _ in range(workers)]\n",
    "        # input_data = [(DATA_SIZE // workers, './pics') for _ in range(workers)]\n",
    "        pool.map(fetch_pic, input_data)\n",
    "# 30 - 1 \n",
    "# 6 - 8 "
   ],
   "metadata": {
    "collapsed": false,
    "pycharm": {
     "name": "#%%\n"
    }
   }
  },
  {
   "cell_type": "markdown",
   "source": [
    "# IO vs CPU bound tasks"
   ],
   "metadata": {
    "collapsed": false,
    "pycharm": {
     "name": "#%% md\n"
    }
   }
  },
  {
   "cell_type": "code",
   "execution_count": null,
   "outputs": [],
   "source": [
    "DATA_SIZE = 1_000_000\n",
    "lst2 = []\n",
    "lst1 = []\n",
    "\n",
    "\n",
    "def fill_data2(n):\n",
    "    # print(threading.current_thread())\n",
    "    while n > 0:\n",
    "        n -= 1\n",
    "        lst2.append(random.randint(1, 100))\n",
    "\n",
    "def fill_data1(n):\n",
    "    # print(threading.current_thread())\n",
    "    while n > 0:\n",
    "        n -= 1\n",
    "        lst1.append(random.randint(1, 100))        \n",
    "        \n",
    "with timer('Elapsed: {}s'):\n",
    "#     fill_data(DATA_SIZE, lst)\n",
    "    fill_data(DATA_SIZE)"
   ],
   "metadata": {
    "collapsed": false,
    "pycharm": {
     "name": "#%%\n"
    }
   }
  },
  {
   "cell_type": "code",
   "execution_count": null,
   "outputs": [],
   "source": [
    "1  2  M\n",
    "   |  |\n",
    "|     |\n",
    "   |  |\n",
    "|     |\n",
    "   |\n",
    "______\n",
    "GIL"
   ],
   "metadata": {
    "collapsed": false,
    "pycharm": {
     "name": "#%%\n"
    }
   }
  },
  {
   "cell_type": "code",
   "execution_count": null,
   "outputs": [],
   "source": [],
   "metadata": {
    "collapsed": false,
    "pycharm": {
     "name": "#%%\n"
    }
   }
  },
  {
   "cell_type": "code",
   "execution_count": null,
   "outputs": [],
   "source": [
    "with timer('Elapsed: {}s'):\n",
    "#     t1 = threading.Thread(target=fill_data, args=(DATA_SIZE // 2, lst))\n",
    "#     t2 = threading.Thread(target=fill_data, args=(DATA_SIZE // 2, lst))\n",
    "    t1 = threading.Thread(target=fill_data2, args=(DATA_SIZE // 2,))\n",
    "    t2 = threading.Thread(target=fill_data1, args=(DATA_SIZE // 2,))\n",
    "    t1.start()\n",
    "    t2.start()\n",
    "    t1.join()\n",
    "    t2.join()\n",
    "#     lst = lst2 + lst1\n",
    "    \n",
    "print(len(lst), lst[:100])    "
   ],
   "metadata": {
    "collapsed": false,
    "pycharm": {
     "name": "#%%\n"
    }
   }
  },
  {
   "cell_type": "code",
   "execution_count": 20,
   "metadata": {
    "pycharm": {
     "name": "#%%\n"
    }
   },
   "outputs": [
    {
     "name": "stdout",
     "output_type": "stream",
     "text": [
      "Elapsed: 0.0s\n"
     ]
    },
    {
     "ename": "NameError",
     "evalue": "name 'ThreadPool' is not defined",
     "output_type": "error",
     "traceback": [
      "\u001B[1;31m---------------------------------------------------------------------------\u001B[0m",
      "\u001B[1;31mNameError\u001B[0m                                 Traceback (most recent call last)",
      "\u001B[1;32m~\\AppData\\Local\\Temp/ipykernel_27316/2119837601.py\u001B[0m in \u001B[0;36m<module>\u001B[1;34m\u001B[0m\n\u001B[0;32m      2\u001B[0m \u001B[0mworkers\u001B[0m \u001B[1;33m=\u001B[0m \u001B[1;36m8\u001B[0m\u001B[1;33m\u001B[0m\u001B[1;33m\u001B[0m\u001B[0m\n\u001B[0;32m      3\u001B[0m \u001B[1;32mwith\u001B[0m \u001B[0mtimer\u001B[0m\u001B[1;33m(\u001B[0m\u001B[1;34m'Elapsed: {}s'\u001B[0m\u001B[1;33m)\u001B[0m\u001B[1;33m:\u001B[0m\u001B[1;33m\u001B[0m\u001B[1;33m\u001B[0m\u001B[0m\n\u001B[1;32m----> 4\u001B[1;33m     \u001B[1;32mwith\u001B[0m \u001B[0mThreadPool\u001B[0m\u001B[1;33m(\u001B[0m\u001B[0mworkers\u001B[0m\u001B[1;33m)\u001B[0m \u001B[1;32mas\u001B[0m \u001B[0mpool\u001B[0m\u001B[1;33m:\u001B[0m\u001B[1;33m\u001B[0m\u001B[1;33m\u001B[0m\u001B[0m\n\u001B[0m\u001B[0;32m      5\u001B[0m         \u001B[0minput_data\u001B[0m \u001B[1;33m=\u001B[0m \u001B[1;33m[\u001B[0m\u001B[0mDATA_SIZE\u001B[0m \u001B[1;33m//\u001B[0m \u001B[0mworkers\u001B[0m \u001B[1;32mfor\u001B[0m \u001B[0m_\u001B[0m \u001B[1;32min\u001B[0m \u001B[0mrange\u001B[0m\u001B[1;33m(\u001B[0m\u001B[0mworkers\u001B[0m\u001B[1;33m)\u001B[0m\u001B[1;33m]\u001B[0m\u001B[1;33m\u001B[0m\u001B[1;33m\u001B[0m\u001B[0m\n\u001B[0;32m      6\u001B[0m \u001B[1;31m#         pool.map(partial(fill_data, lst=lst), input_data)\u001B[0m\u001B[1;33m\u001B[0m\u001B[1;33m\u001B[0m\u001B[0m\n",
      "\u001B[1;31mNameError\u001B[0m: name 'ThreadPool' is not defined"
     ]
    }
   ],
   "source": [
    "lst = []\n",
    "workers = 8\n",
    "with timer('Elapsed: {}s'):\n",
    "    with ThreadPool(workers) as pool:\n",
    "        input_data = [DATA_SIZE // workers for _ in range(workers)]\n",
    "#         pool.map(partial(fill_data, lst=lst), input_data)\n",
    "        result = pool.map(fill_data, input_data)\n",
    "        \n",
    "print(len(lst), lst[:100])"
   ]
  },
  {
   "cell_type": "code",
   "execution_count": null,
   "metadata": {
    "pycharm": {
     "name": "#%%\n"
    }
   },
   "outputs": [],
   "source": [
    "lst = []\n",
    "workers = 8\n",
    "\n",
    "DATA_SIZE = 1_000_000\n",
    "lst = []\n",
    "\n",
    "def fill_data(n):\n",
    "    # print(threading.current_thread())\n",
    "    while n > 0:\n",
    "        n -= 1\n",
    "        lst.append(random.randint(1, 100))\n",
    "        \n",
    "with timer('Elapsed: {}s'):\n",
    "    with multiprocess.Pool(workers) as pool:\n",
    "        input_data = [DATA_SIZE // workers for _ in range(workers)]\n",
    "        pool.map(fill_data, input_data)\n",
    "        \n",
    "print(len(lst), lst[:100])"
   ]
  },
  {
   "cell_type": "code",
   "execution_count": null,
   "metadata": {
    "pycharm": {
     "name": "#%%\n"
    }
   },
   "outputs": [],
   "source": [
    "def factorize_naive(n):\n",
    "    \"\"\" A naive factorization method. Take integer 'n', return list of\n",
    "        factors.\n",
    "    \"\"\"\n",
    "    if n < 2:\n",
    "        return []\n",
    "    factors = []\n",
    "    p = 2\n",
    "\n",
    "    while True:\n",
    "        if n == 1:\n",
    "            return factors\n",
    "\n",
    "        r = n % p\n",
    "        if r == 0:\n",
    "            factors.append(p)\n",
    "            n = n / p\n",
    "        elif p * p >= n:\n",
    "            factors.append(n)\n",
    "            return factors\n",
    "        elif p > 2:\n",
    "            # Advance in steps of 2 over odd numbers\n",
    "            p += 2\n",
    "        else:\n",
    "            # If p == 2, get to 3\n",
    "            p += 1\n",
    "\n",
    "    assert False, \"unreachable\""
   ]
  },
  {
   "cell_type": "code",
   "execution_count": null,
   "metadata": {
    "pycharm": {
     "name": "#%%\n"
    }
   },
   "outputs": [],
   "source": [
    "DATA_SIZE = 1_000"
   ]
  },
  {
   "cell_type": "code",
   "execution_count": null,
   "metadata": {
    "pycharm": {
     "name": "#%%\n"
    }
   },
   "outputs": [],
   "source": [
    "result = {}\n",
    "workers = 16\n",
    "with timer('Elapsed: {}s'):\n",
    "    with multiprocessing.Pool(workers) as pool:\n",
    "        input_data = (i for i in range(1, DATA_SIZE+1))\n",
    "        result = [\n",
    "            (n, factors)\n",
    "            for n, factors in enumerate(pool.map(factorize_naive, input_data), 1)\n",
    "        ]\n",
    "    \n",
    "print(len(result), result[:100])"
   ]
  },
  {
   "cell_type": "code",
   "execution_count": null,
   "metadata": {
    "pycharm": {
     "name": "#%%\n"
    }
   },
   "outputs": [],
   "source": [
    "result = {}\n",
    "workers = 16\n",
    "with timer('Elapsed: {}s'):\n",
    "    with ThreadPool(workers) as pool:\n",
    "        input_data = (i for i in range(1, DATA_SIZE+1))\n",
    "        result = [\n",
    "            (n, factors)\n",
    "            for n, factors in enumerate(pool.map(factorize_naive, input_data), 1)\n",
    "        ]\n",
    "    \n",
    "print(len(result), result[:100])"
   ]
  },
  {
   "cell_type": "code",
   "execution_count": null,
   "metadata": {
    "pycharm": {
     "name": "#%%\n"
    }
   },
   "outputs": [],
   "source": []
  }
 ],
 "metadata": {
  "kernelspec": {
   "display_name": "Python 3 (ipykernel)",
   "language": "python",
   "name": "python3"
  },
  "language_info": {
   "codemirror_mode": {
    "name": "ipython",
    "version": 3
   },
   "file_extension": ".py",
   "mimetype": "text/x-python",
   "name": "python",
   "nbconvert_exporter": "python",
   "pygments_lexer": "ipython3",
   "version": "3.10.2"
  }
 },
 "nbformat": 4,
 "nbformat_minor": 2
}