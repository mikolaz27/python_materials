{
 "cells": [
  {
   "cell_type": "code",
   "execution_count": 3,
   "metadata": {
    "ExecuteTime": {
     "end_time": "2023-08-04T14:17:22.901806400Z",
     "start_time": "2023-08-04T14:17:22.513362700Z"
    }
   },
   "outputs": [],
   "source": [
    "import time\n",
    "from decimal import Decimal\n",
    "from hypothesis import given, strategies as st"
   ]
  },
  {
   "cell_type": "markdown",
   "metadata": {},
   "source": [
    "\n",
    "# Motivation"
   ]
  },
  {
   "cell_type": "markdown",
   "metadata": {},
   "source": [
    "1. Verify correctness\n",
    "2. Verify correctness after modifications (regression testing)\n",
    "3. Example-based, how to use documentation\n",
    "4. Provoke good design: SOLID, flexible, modular"
   ]
  },
  {
   "cell_type": "markdown",
   "metadata": {},
   "source": [
    "<img src=\"https://www.worldofagile.com/wp-content/uploads/2018/03/Agile-Test-Pyramid.png\">"
   ]
  },
  {
   "cell_type": "code",
   "execution_count": 4,
   "metadata": {
    "ExecuteTime": {
     "end_time": "2023-08-04T14:17:35.959737500Z",
     "start_time": "2023-08-04T14:17:35.925124500Z"
    }
   },
   "outputs": [],
   "source": [
    "# Let's say we want to implement frange"
   ]
  },
  {
   "cell_type": "code",
   "execution_count": 4,
   "metadata": {
    "ExecuteTime": {
     "end_time": "2023-08-04T14:17:37.521396Z",
     "start_time": "2023-08-04T14:17:37.504366700Z"
    }
   },
   "outputs": [],
   "source": [
    "def frange(start, stop=None, step=1):\n",
    "    if stop is None:\n",
    "        stop = start\n",
    "        start = 0\n",
    "#     if step == 0:\n",
    "#         raise ValueError('0 cant be used as step')\n",
    "\n",
    "    start = Decimal(str(start))\n",
    "    stop = Decimal(str(stop))\n",
    "    step = Decimal(str(step))\n",
    "    result = start\n",
    "\n",
    "    while (step > 0 and result < stop) or (step < 0 and result > stop):\n",
    "        yield result\n",
    "        result += step\n"
   ]
  },
  {
   "cell_type": "code",
   "execution_count": 5,
   "metadata": {
    "ExecuteTime": {
     "end_time": "2023-08-04T14:17:41.015513700Z",
     "start_time": "2023-08-04T14:17:40.974701800Z"
    }
   },
   "outputs": [
    {
     "name": "stdout",
     "output_type": "stream",
     "text": [
      "0.1\n",
      "0.2\n",
      "0.3\n",
      "0.4\n",
      "0.5\n",
      "0.6\n",
      "0.7\n",
      "0.8\n",
      "0.9\n",
      "1.0\n",
      "1.1\n",
      "1.2\n",
      "1.3\n",
      "1.4\n",
      "1.5\n",
      "1.6\n",
      "1.7\n",
      "1.8\n",
      "1.9\n",
      "2.0\n",
      "2.1\n",
      "2.2\n",
      "2.3\n",
      "2.4\n",
      "2.5\n",
      "2.6\n",
      "2.7\n",
      "2.8\n",
      "2.9\n",
      "3.0\n",
      "3.1\n",
      "3.2\n",
      "3.3\n",
      "3.4\n",
      "3.5\n",
      "3.6\n",
      "3.7\n",
      "3.8\n",
      "3.9\n",
      "4.0\n",
      "4.1\n",
      "4.2\n",
      "4.3\n",
      "4.4\n",
      "4.5\n",
      "4.6\n",
      "4.7\n",
      "4.8\n",
      "4.9\n"
     ]
    }
   ],
   "source": [
    "# How to verify correctness?\n",
    "\n",
    "for i in frange(0.1, 5, 0.1):\n",
    "    print(i)"
   ]
  },
  {
   "cell_type": "code",
   "execution_count": 8,
   "metadata": {},
   "outputs": [
    {
     "name": "stdout",
     "output_type": "stream",
     "text": [
      "SUCCESS\n"
     ]
    }
   ],
   "source": [
    "# Primitive tests with asserts\n",
    "\n",
    "assert list(frange(5)) == [0, 1, 2, 3, 4]\n",
    "assert list(frange(2, 5)) == [2, 3, 4]\n",
    "assert list(frange(2, 10, 2)) == [2, 4, 6, 8]\n",
    "assert list(frange(10, 2, -2)) == [10, 8, 6, 4]\n",
    "assert list(frange(2, 5.5, 1.5)) == [2, 3.5, 5]\n",
    "assert list(frange(1, 5)) == [1, 2, 3, 4]\n",
    "assert list(frange(0, 5)) == [0, 1, 2, 3, 4]\n",
    "assert list(frange(1, 5, 0)) == []\n",
    "assert list(frange(0, 0)) == []\n",
    "assert list(frange(100, 0)) == []\n",
    "\n",
    "print('SUCCESS')"
   ]
  },
  {
   "cell_type": "code",
   "execution_count": 11,
   "metadata": {},
   "outputs": [
    {
     "ename": "AssertionError",
     "evalue": "[Decimal('0'), Decimal('1'), Decimal('2'), Decimal('3'), Decimal('4')] != [0, 1, 2, 3, 4, 6]",
     "output_type": "error",
     "traceback": [
      "\u001b[1;31m---------------------------------------------------------------------------\u001b[0m",
      "\u001b[1;31mAssertionError\u001b[0m                            Traceback (most recent call last)",
      "Cell \u001b[1;32mIn[11], line 3\u001b[0m\n\u001b[0;32m      1\u001b[0m \u001b[38;5;66;03m# Verbose error messages can be passed as a second param\u001b[39;00m\n\u001b[1;32m----> 3\u001b[0m \u001b[38;5;28;01massert\u001b[39;00m \u001b[38;5;28mlist\u001b[39m(frange(\u001b[38;5;241m5\u001b[39m)) \u001b[38;5;241m==\u001b[39m [\u001b[38;5;241m0\u001b[39m, \u001b[38;5;241m1\u001b[39m, \u001b[38;5;241m2\u001b[39m, \u001b[38;5;241m3\u001b[39m, \u001b[38;5;241m6\u001b[39m], \u001b[38;5;124mf\u001b[39m\u001b[38;5;124m'\u001b[39m\u001b[38;5;132;01m{\u001b[39;00m\u001b[38;5;28mlist\u001b[39m(frange(\u001b[38;5;241m5\u001b[39m))\u001b[38;5;132;01m}\u001b[39;00m\u001b[38;5;124m != [0, 1, 2, 3, 4, 6]\u001b[39m\u001b[38;5;124m'\u001b[39m\n\u001b[0;32m      6\u001b[0m \u001b[38;5;66;03m# Is lazy evaluated on error, so inexpensive\u001b[39;00m\n\u001b[0;32m      7\u001b[0m \u001b[38;5;28;01massert\u001b[39;00m \u001b[38;5;28mlist\u001b[39m(frange(\u001b[38;5;241m5\u001b[39m)) \u001b[38;5;241m==\u001b[39m [\u001b[38;5;241m0\u001b[39m, \u001b[38;5;241m1\u001b[39m, \u001b[38;5;241m2\u001b[39m, \u001b[38;5;241m3\u001b[39m, \u001b[38;5;241m4\u001b[39m], [\u001b[38;5;241m0\u001b[39m]\u001b[38;5;241m*\u001b[39m\u001b[38;5;241m10000000000000\u001b[39m\n",
      "\u001b[1;31mAssertionError\u001b[0m: [Decimal('0'), Decimal('1'), Decimal('2'), Decimal('3'), Decimal('4')] != [0, 1, 2, 3, 4, 6]"
     ]
    }
   ],
   "source": [
    "# Verbose error messages can be passed as a second param\n",
    "\n",
    "assert list(frange(5)) == [0, 1, 2, 3, 6], f'{list(frange(5))} != [0, 1, 2, 3, 4, 6]'\n",
    "\n",
    "\n",
    "# Is lazy evaluated on error, so inexpensive\n",
    "assert list(frange(5)) == [0, 1, 2, 3, 4], [0]*10000000000000"
   ]
  },
  {
   "cell_type": "markdown",
   "metadata": {},
   "source": [
    "# Hypothesys"
   ]
  },
  {
   "cell_type": "markdown",
   "metadata": {},
   "source": [
    "Good for computational test with ethalone to compare: (de)serializers, (de)encoders, sorting, etc\n",
    "\n",
    "pip install hypothesis\n",
    "\n",
    "https://hypothesis.readthedocs.io/en/latest/quickstart.html"
   ]
  },
  {
   "cell_type": "code",
   "execution_count": 12,
   "metadata": {},
   "outputs": [
    {
     "name": "stdout",
     "output_type": "stream",
     "text": [
      "44 649 5\n",
      "170 609 -3\n",
      "-434 -87 -8\n",
      "-474 679 5\n",
      "607 226 -2\n",
      "1000 966 -10\n",
      "-725 503 9\n",
      "-37 118 -2\n",
      "-975 -500 -7\n",
      "-264 471 -4\n",
      "-264 -471 -4\n",
      "-287 -769 3\n",
      "-287 -287 3\n",
      "-257 -257 -4\n",
      "-799 -257 1\n",
      "-257 -257 1\n",
      "-586 486 -10\n",
      "-859 -513 5\n",
      "0 256 5\n",
      "0 256 5\n",
      "0 0 5\n",
      "12 0 -7\n",
      "0 0 -7\n",
      "-829 -107 7\n",
      "-107 -107 7\n",
      "-107 -107 7\n",
      "-107 -256 -5\n",
      "-107 -256 -1\n",
      "-256 -256 -1\n",
      "-256 257 1\n",
      "779 826 5\n",
      "779 779 5\n",
      "779 779 5\n",
      "815 -768 -2\n",
      "-768 -768 -2\n",
      "-768 -768 -2\n",
      "-768 -1 2\n",
      "-776 158 8\n",
      "158 158 8\n",
      "158 158 8\n",
      "0 0 -8\n",
      "0 0 -8\n",
      "0 0 1\n",
      "0 0 1\n",
      "-720 -711 -7\n",
      "-720 -720 -7\n",
      "-720 258 1\n",
      "258 1 -8\n",
      "258 1 8\n",
      "258 258 8\n",
      "257 -512 1\n",
      "-378 530 -3\n",
      "-378 -378 -3\n",
      "-361 -513 -10\n",
      "-513 -513 -10\n",
      "-258 -258 -1\n",
      "-258 -258 -1\n",
      "-258 -257 -3\n",
      "942 314 10\n",
      "871 -512 10\n",
      "871 258 4\n",
      "871 871 4\n",
      "871 871 4\n",
      "-3 3 4\n",
      "-3 -3 4\n",
      "660 -271 -5\n",
      "660 660 -5\n",
      "660 513 -3\n",
      "513 513 -3\n",
      "513 513 -8\n",
      "582 257 8\n",
      "257 257 8\n",
      "-308 1000 3\n",
      "-308 -308 3\n",
      "-308 -308 4\n",
      "257 -257 4\n",
      "-257 -257 4\n",
      "-257 -257 4\n",
      "-257 -257 4\n",
      "-964 -497 -1\n",
      "-964 -257 -1\n",
      "-964 -964 -1\n",
      "-964 259 1\n",
      "-964 -964 1\n",
      "-964 259 -2\n",
      "-771 -768 1\n",
      "475 999 -6\n",
      "475 475 -6\n",
      "28 -769 3\n",
      "28 769 3\n",
      "28 769 3\n",
      "28 769 3\n",
      "769 769 3\n",
      "825 353 3\n",
      "-3 -1 -3\n",
      "-3 -1 -3\n",
      "-256 -256 -1\n",
      "-3 -1 -6\n",
      "-256 -256 -1\n",
      "-256 -1 -6\n"
     ]
    }
   ],
   "source": [
    "@given(\n",
    "    st.integers(min_value=-1000, max_value=1000),\n",
    "    st.integers(min_value=-1000, max_value=1000),\n",
    "    st.integers(min_value=-10, max_value=10).filter(lambda x: x != 0)\n",
    ")\n",
    "def test_frange(a, b, c):\n",
    "    print(a, b, c)\n",
    "    assert list(frange(a, b, c)) == list(range(a, b, c))\n",
    "\n",
    "test_frange()"
   ]
  },
  {
   "cell_type": "code",
   "execution_count": null,
   "metadata": {},
   "outputs": [],
   "source": []
  },
  {
   "cell_type": "code",
   "execution_count": 13,
   "metadata": {},
   "outputs": [],
   "source": [
    "def partition(array, begin, end):\n",
    "    pivot = begin\n",
    "    for i in range(begin+1, end+1):\n",
    "        if array[i] <= array[begin]:\n",
    "            pivot += 1\n",
    "            array[i], array[pivot] = array[pivot], array[i]\n",
    "    array[pivot], array[begin] = array[begin], array[pivot]\n",
    "    return pivot\n",
    "\n",
    "\n",
    "\n",
    "def quicksort(array, begin=0, end=None):\n",
    "    if end is None:\n",
    "        end = len(array) - 1\n",
    "    def _quicksort(array, begin, end):\n",
    "        if begin >= end:\n",
    "            return\n",
    "        pivot = partition(array, begin, end)\n",
    "        _quicksort(array, begin, pivot-1)\n",
    "        _quicksort(array, pivot+1, end)\n",
    "    return _quicksort(array, begin, end)"
   ]
  },
  {
   "cell_type": "code",
   "execution_count": 14,
   "metadata": {},
   "outputs": [
    {
     "name": "stdout",
     "output_type": "stream",
     "text": [
      "[]\n",
      "[0]\n",
      "[-18087]\n",
      "[-14536]\n",
      "[32086]\n",
      "[-51]\n",
      "[17094]\n",
      "[1450374922]\n",
      "[1450374922, -118]\n",
      "[-97]\n",
      "[-43]\n",
      "[-63]\n",
      "[-11669, 2614350051549833591, 317865048]\n",
      "[-11669, 72, 9961, 9630268]\n",
      "[-11669, 72, 9961, -11669]\n",
      "[-11669, 72, 9961]\n",
      "[-11669, -11669, 9961]\n",
      "[-45, -11669, 9961]\n",
      "[-45, 9961, 9961]\n",
      "[15531, -27831, 7782, 118, -21, 58, -7915, -107, 28399, -8610, 16900]\n",
      "[15531, -27831, 7782, 118, -21, 58, -7915, -107, 28399, -8610, 16900]\n",
      "[15531, -27831, 7782, 118, 3, 58, -7915, -107, 28399, -8610, 16900]\n",
      "[15531, -27831, 30, -612721731303885990474787683708371457, -107, 28399, -8610, 16900]\n",
      "[15531, -27831, 30, -612721731303885990474787683708371457, -107, 28399, -8610, 16900]\n",
      "[-8610, -27831, 30, -612721731303885990474787683708371457, -107, 28399, -8610, 16900]\n",
      "[-8610, -27831, 30, -612721731303885990474787683708371457, -8610, 28399, -8610, 16900]\n",
      "[-22127]\n",
      "[-22127]\n",
      "[73, -37746081747451484602111805885716052202, 6838592118124106067, -1265]\n",
      "[73, -37746081747451484602111805885716052202, 6838592118124106067, -1265, -18, 8768813692303542427, 787783335]\n",
      "[73, -37746081747451484602111805885716052202, 6838592118124106067, -1265, -18, 8768813692303542427, 787783335]\n",
      "[73, -37746081747451484602111805885716052202, 6838592118124106067, 8768813692303542427, -18, 8768813692303542427, 787783335]\n",
      "[73, -37746081747451484602111805885716052202, -94, -315708160, -21]\n",
      "[73, -315708160, -94, -315708160, -21]\n",
      "[73, -315708160, -94, -315708160, -21]\n",
      "[31186, -27, -7215, 11653, -22301, 27906, 15278, 45, -27305]\n",
      "[31186, -27, -7215, 11653, -27305, 27906, 15278, 45, -27305]\n",
      "[31186, -27, -27, 11653, -27305, 27906, 15278, 45, -27305]\n",
      "[31186, -27, -27, 11653, -27305, 27906, 15278, 45, -27305]\n",
      "[31186, -27, -27, 11653, -27305, 27906, 15278, 45, -27305]\n",
      "[31186, -27, -27, 11653, -27305, 27906, 15278, 45, -27305]\n",
      "[31186, -27, -27, 11653, -27305, 27906, 15278, 45, -27305]\n",
      "[-89, -19836]\n",
      "[-22912, -19836]\n",
      "[-28811, 7680, 40]\n",
      "[-28811, 7680, 40]\n",
      "[-28811, 7680, 7680]\n",
      "[-28811, 7680, -131]\n",
      "[-28811, 7680, -131]\n",
      "[641]\n",
      "[-46, 6935]\n",
      "[-46, 6935, 124, -50, -21]\n",
      "[-11907, 6935, 124, -50, -21]\n",
      "[-11907, 6935, 124, -50, -21, -6236302534201938453]\n",
      "[-11907, 6935, 124, -50, -21, -214]\n",
      "[-11907, 6935, 124, -50, -21, -214]\n",
      "[-11907, 6935, 1, -50, -21, -214]\n",
      "[7470, 3827, 8066, 3806, 2500, 11761]\n",
      "[7470, 3827, 8066, 3806, 2500, 11761, 11761, 74076931419169913526987026584055099221]\n",
      "[7470, 3827, 8066, 3806, 2500, 11761, 11761, 74076931419169913526987026584055099221]\n",
      "[7470, 3827, 8066, 3806, 2500, 11761, 11761, 74076931419169913526987026584055099221]\n",
      "[7470, 3827, 8066, 3806, 2500, 11761, 11761, 7470]\n",
      "[7470, 3827, 8066, 3806, 2500, 11761, 384, 256, -31280]\n",
      "[8066, 3827, 8066, 3806, 2500, 11761, 384, 256, -31280]\n",
      "[13246, 122, 15919, 34, 19, -123]\n",
      "[13246, 122, 15919, 34, 19, -123]\n",
      "[13246, 122, 15919, 34, 34, -123]\n",
      "[13246, 122, 15919, 34, 34, -31619, 332822592356013081, 6017798653094554230]\n",
      "[13246, 122, 15919, 34, 34, -31619, 332822592356013081, -21379, 30208, 24260, 80, -90]\n",
      "[13246, 122, 15919, 34, 34, -31619, 332822592356013081, -21379, 30208, 24260, -21379, -90]\n",
      "[13246, 122, 15919, 34, 34, -31619, 332822592356013081, -21379, 30208, 24260, -83, -90]\n",
      "[5886, -23140]\n",
      "[5886, -23140]\n",
      "[5886]\n",
      "[5886, 3825, 3577, 7, -24238, 23623, -126, -66]\n",
      "[5886, 3825, 3577, 7, -24238, 23623, -126, -66]\n",
      "[5886, 3825, 3577, 7, -24238, 23623, 7, -66]\n",
      "[897, -771, -28929, 3]\n",
      "[80165605234171151140299558721309752078, -1155, -6397, 8248, -94, -3991982952386813820]\n",
      "[80165605234171151140299558721309752078, -1155, -6397, 8248, 6810008891526964831]\n",
      "[15439, 25846, 31131, 256, -1, 256]\n",
      "[15439, 25846, 31131, 25846, -1, 256]\n",
      "[769, 25846, 31131, 25846, -1, 256]\n",
      "[769, 25846, 31131, 25846, -1, 256]\n",
      "[769, 25846, 31131, 25846, -1, 256]\n",
      "[8863, -21078]\n",
      "[8863, -21078]\n",
      "[8863, 82, 8231, -105, -3280, 113, -30717, 11, -25424, -126]\n",
      "[8863, 82, 8231, -105, -3280, 113, -375, -1, -25424, -126]\n",
      "[8863, 82, 32, -105, -3280, 113, -375, -1, -25424, -126]\n",
      "[8863, 82, 32, -105, -3280, 113, -375, -1, -25424, -126]\n",
      "[-34, 0, 32, -105, -3280, 113, -375, -1, -25424, -126]\n",
      "[-3475, 8691184139739163564]\n",
      "[-3475, 30877, -10603]\n",
      "[-3475, 30877, -10603, -3475, -2791, 18961, 1932, 9134, -18212, -16016, 22251291954074182286862285261618535658, 6257016562116600869, -8900, -5008, -77, -197810248]\n",
      "[-3475, 30877, -10603, -3475, -2791, 18961, 1932, 9134, -18212, -16016, 22251291954074182286862285261618535658, 6257016562116600869, -8900, -5008, -5008, -197810248]\n",
      "[-3475, 30877, -10603, -3475, -2791, 18961, 1932, 9134, -18212, -16016, 22251291954074182286862285261618535658, 6257016562116600869, -8900, -5008]\n",
      "[-3475, 30877, -10603, -3475, -2791, 22251291954074182286862285261618535658, 1932, 9134, -18212, -16016, 22251291954074182286862285261618535658, 6257016562116600869, -8900, -5008]\n",
      "[-3475, 30877, -10603, -3475, -2791, 22251291954074182286862285261618535658, 1932, -163, 71, -16016, 22251291954074182286862285261618535658, 6257016562116600869, -8900, -5008]\n",
      "[8, 8373, 48, 3782, 28561, -24151, -2044990608472052007]\n"
     ]
    }
   ],
   "source": [
    "@given(st.lists(st.integers(), max_size=100))\n",
    "def test_qsort(lst):\n",
    "    print(lst)\n",
    "    expected = sorted(lst)\n",
    "    quicksort(lst)\n",
    "    assert lst == expected, (lst, expected)\n",
    "    \n",
    "test_qsort()"
   ]
  },
  {
   "cell_type": "code",
   "execution_count": 22,
   "metadata": {},
   "outputs": [
    {
     "ename": "SyntaxError",
     "evalue": "invalid syntax (Temp/ipykernel_16084/809897477.py, line 4)",
     "output_type": "error",
     "traceback": [
      "\u001b[1;36m  File \u001b[1;32m\"C:\\Users\\mikol\\AppData\\Local\\Temp/ipykernel_16084/809897477.py\"\u001b[1;36m, line \u001b[1;32m4\u001b[0m\n\u001b[1;33m    1, 2 -> 18\u001b[0m\n\u001b[1;37m         ^\u001b[0m\n\u001b[1;31mSyntaxError\u001b[0m\u001b[1;31m:\u001b[0m invalid syntax\n"
     ]
    }
   ],
   "source": []
  },
  {
   "cell_type": "markdown",
   "metadata": {},
   "source": [
    "# Module unittests\n",
    "\n",
    "More versatile tool and flexible than plain asserts"
   ]
  },
  {
   "cell_type": "code",
   "execution_count": 15,
   "metadata": {},
   "outputs": [
    {
     "name": "stderr",
     "output_type": "stream",
     "text": [
      "test_frange_2_params (__main__.TestFrange.test_frange_2_params) ... ok\n",
      "test_frange_2_params_empty_result (__main__.TestFrange.test_frange_2_params_empty_result) ... ok\n",
      "test_frange_custom_step (__main__.TestFrange.test_frange_custom_step) ... ok\n",
      "test_frange_reverse_order (__main__.TestFrange.test_frange_reverse_order) ... ok\n",
      "test_frange_single_param (__main__.TestFrange.test_frange_single_param) ... FAIL\n",
      "\n",
      "======================================================================\n",
      "FAIL: test_frange_single_param (__main__.TestFrange.test_frange_single_param)\n",
      "----------------------------------------------------------------------\n",
      "Traceback (most recent call last):\n",
      "  File \"C:\\Users\\mikol\\AppData\\Local\\Temp\\ipykernel_31676\\451255603.py\", line 8, in test_frange_single_param\n",
      "    self.assertEqual(list(frange(5)), [0, 1, 2, 3, 4, 5])\n",
      "AssertionError: Lists differ: [Decimal('0'), Decimal('1'), Decimal('2'), Decimal('3'), Decimal('4')] != [0, 1, 2, 3, 4, 5]\n",
      "\n",
      "Second list contains 1 additional elements.\n",
      "First extra element 5:\n",
      "5\n",
      "\n",
      "- [Decimal('0'), Decimal('1'), Decimal('2'), Decimal('3'), Decimal('4')]\n",
      "+ [0, 1, 2, 3, 4, 5]\n",
      "\n",
      "----------------------------------------------------------------------\n",
      "Ran 5 tests in 0.005s\n",
      "\n",
      "FAILED (failures=1)\n"
     ]
    },
    {
     "data": {
      "text/plain": [
       "<unittest.main.TestProgram at 0x267e727dc70>"
      ]
     },
     "execution_count": 15,
     "metadata": {},
     "output_type": "execute_result"
    }
   ],
   "source": [
    "import unittest\n",
    "\n",
    "\n",
    "class TestFrange(unittest.TestCase):\n",
    "\n",
    "    def test_frange_single_param(self):\n",
    "        # self.assertEqual(list(frange(5)) , [0, 1, 2, 3, 4])\n",
    "        self.assertEqual(list(frange(5)), [0, 1, 2, 3, 4, 5])\n",
    "    \n",
    "    def test_frange_2_params(self):\n",
    "        self.assertEqual(list(frange(2, 5)), [2, 3, 4])\n",
    "        \n",
    "    def test_frange_2_params_empty_result(self):\n",
    "        self.assertEqual(list(frange(5, 2)), [])\n",
    "\n",
    "    def test_frange_custom_step(self):\n",
    "        self.assertEqual(list(frange(2, 10, 2)), [2, 4, 6, 8])\n",
    "\n",
    "    def test_frange_reverse_order(self):\n",
    "        self.assertEqual(list(frange(10, 2, -2)), [10, 8, 6, 4])\n",
    "\n",
    "unittest.main(argv=[''], verbosity=2, exit=False)"
   ]
  },
  {
   "cell_type": "code",
   "execution_count": null,
   "metadata": {},
   "outputs": [],
   "source": [
    "1. normal cases\n",
    "2. max and min. \n",
    "3. max+1 and min-1\n",
    "4. wrong types\n",
    "5. excepts\n",
    "6. empty value\n",
    "\n",
    "\n",
    "\n",
    "test1 -> 123\n",
    "test2 -> 12352\n"
   ]
  },
  {
   "cell_type": "markdown",
   "metadata": {},
   "source": [
    "#### Run:\n",
    "\n",
    "python -m unittests test_frange.py\n",
    "\n",
    "unittest.main()"
   ]
  },
  {
   "cell_type": "code",
   "execution_count": null,
   "metadata": {},
   "outputs": [],
   "source": [
    "# Names are important: class Test*, test_* for methods"
   ]
  },
  {
   "cell_type": "code",
   "execution_count": 16,
   "metadata": {},
   "outputs": [],
   "source": [
    "class TestFileOperations(unittest.TestCase):\n",
    "\n",
    "    def setUp(self):\n",
    "        print('setUp')\n",
    "        self._file = open('/tmp/file.txt', 'w+')\n",
    "\n",
    "    def tearDown(self):\n",
    "        print('tearDown')\n",
    "        self._file.close()\n",
    "\n",
    "    def test_write_operation(self):\n",
    "        data = 'test'\n",
    "        self._file.write(data)\n",
    "        self._file.seek(0)\n",
    "        data_read = self._file.read()\n",
    "        self.assertEqual(data_read, data)\n",
    "\n",
    "    def test_truncate_operation(self):\n",
    "        data = 'test'\n",
    "        self._file.write(data)\n",
    "        self._file.truncate(0)\n",
    "        data_read = self._file.read()\n",
    "        self.assertEqual(data_read, '')\n",
    "\n",
    "    def test_write_on_closed_file(self):\n",
    "        data = 'test'\n",
    "        self._file.write(data)\n",
    "        self._file.close()\n",
    "        with self.assertRaises(ValueError) as ex:\n",
    "            self._file.write(data)\n",
    "        self.assertIsInstance(ex.exception, ValueError)\n",
    "\n",
    "    ..."
   ]
  },
  {
   "cell_type": "code",
   "execution_count": null,
   "metadata": {},
   "outputs": [],
   "source": [
    "1. Атомарні\n",
    "2. Швидкі\n",
    "3. Ізольовані\n",
    "4. Інкапсульовані\n",
    "5. Правильні\n",
    "6. Різнопланові"
   ]
  },
  {
   "cell_type": "markdown",
   "metadata": {},
   "source": [
    "# PyTest"
   ]
  },
  {
   "cell_type": "markdown",
   "metadata": {},
   "source": [
    "unittests vs pytest:\n",
    "1. Less verbose code, more verbose error description\n",
    "2. Pythonic (PEP-8), doesn't enforce classes\n",
    "3. Compatible with unittests (recognize TestCase classes and execute them)\n",
    "\n",
    "pip install pytest\n",
    "\n",
    "python -m pytest tested_file.py"
   ]
  },
  {
   "cell_type": "code",
   "execution_count": 17,
   "metadata": {},
   "outputs": [],
   "source": [
    "def test_passing():\n",
    "    assert (1, 2, 3) == (1, 2, 3)\n",
    "    \n",
    "# test is ready :)"
   ]
  },
  {
   "cell_type": "code",
   "execution_count": 18,
   "metadata": {},
   "outputs": [
    {
     "name": "stdout",
     "output_type": "stream",
     "text": [
      "\u001b[1m======================================= test session starts =======================================\u001b[0m\n",
      "platform win32 -- Python 3.12.2, pytest-8.2.0, pluggy-1.5.0\n",
      "rootdir: D:\\Hillel\\python_materials\n",
      "plugins: anyio-4.3.0, hypothesis-6.100.2\n",
      "collected 14 items\n",
      "\n",
      "t_8a6674bb276c4fd7a8234b7f9bb62114.py \u001b[32m.\u001b[0m"
     ]
    },
    {
     "name": "stderr",
     "output_type": "stream",
     "text": [
      "D:\\Hillel\\python_materials\\venv\\Lib\\site-packages\\_hypothesis_pytestplugin.py:111: HypothesisSideeffectWarning: Slow code in plugin: avoid lazy evaluation of (integers(min_value=-1000, max_value=1000),) between importing hypothesis and loading the hypothesis plugin!  Set PYTHONWARNINGS=error to get a traceback and show which plugin is responsible. Additionally, set HYPOTHESIS_EXTEND_INITIALIZATION=1 to pinpoint the exact location.\n",
      "  notice_initialization_restarted()\n"
     ]
    },
    {
     "name": "stdout",
     "output_type": "stream",
     "text": [
      "\u001b[32m.\u001b[0m\u001b[32m.\u001b[0m\u001b[32m.\u001b[0m\u001b[32m.\u001b[0m\u001b[32m.\u001b[0m\u001b[31mF\u001b[0m\u001b[31mF\u001b[0m\u001b[31mF\u001b[0m\u001b[31mF\u001b[0m\u001b[32m.\u001b[0m\u001b[31mE\u001b[0m\u001b[31mE\u001b[0m\u001b[31mE\u001b[0m\u001b[31m                                         [100%]\u001b[0m\n",
      "\n",
      "============================================= ERRORS ==============================================\n",
      "\u001b[31m\u001b[1m_____________________________ ERROR at setup of test_write_operation ______________________________\u001b[0m\n",
      "\n",
      "    \u001b[0m\u001b[37m@pytest\u001b[39;49;00m.fixture\u001b[90m\u001b[39;49;00m\n",
      "    \u001b[94mdef\u001b[39;49;00m \u001b[92mfile\u001b[39;49;00m():\u001b[90m\u001b[39;49;00m\n",
      ">       file = \u001b[96mopen\u001b[39;49;00m(\u001b[33m'\u001b[39;49;00m\u001b[33m/tmp/file.txt\u001b[39;49;00m\u001b[33m'\u001b[39;49;00m, \u001b[33m'\u001b[39;49;00m\u001b[33mw+\u001b[39;49;00m\u001b[33m'\u001b[39;49;00m)\u001b[90m\u001b[39;49;00m\n",
      "\n",
      "\u001b[1m\u001b[31mC:\\Users\\mikol\\AppData\\Local\\Temp\\ipykernel_31676\\2737270264.py\u001b[0m:6: \n",
      "_ _ _ _ _ _ _ _ _ _ _ _ _ _ _ _ _ _ _ _ _ _ _ _ _ _ _ _ _ _ _ _ _ _ _ _ _ _ _ _ _ _ _ _ _ _ _ _ _ _\n",
      "\n",
      "file = '/tmp/file.txt', args = ('w+',), kwargs = {}\n",
      "\n",
      "    \u001b[0m\u001b[37m@functools\u001b[39;49;00m.wraps(io_open)\u001b[90m\u001b[39;49;00m\n",
      "    \u001b[94mdef\u001b[39;49;00m \u001b[92m_modified_open\u001b[39;49;00m(file, *args, **kwargs):\u001b[90m\u001b[39;49;00m\n",
      "        \u001b[94mif\u001b[39;49;00m file \u001b[95min\u001b[39;49;00m {\u001b[94m0\u001b[39;49;00m, \u001b[94m1\u001b[39;49;00m, \u001b[94m2\u001b[39;49;00m}:\u001b[90m\u001b[39;49;00m\n",
      "            \u001b[94mraise\u001b[39;49;00m \u001b[96mValueError\u001b[39;49;00m(\u001b[90m\u001b[39;49;00m\n",
      "                \u001b[33mf\u001b[39;49;00m\u001b[33m\"\u001b[39;49;00m\u001b[33mIPython won\u001b[39;49;00m\u001b[33m'\u001b[39;49;00m\u001b[33mt let you open fd=\u001b[39;49;00m\u001b[33m{\u001b[39;49;00mfile\u001b[33m}\u001b[39;49;00m\u001b[33m by default \u001b[39;49;00m\u001b[33m\"\u001b[39;49;00m\u001b[90m\u001b[39;49;00m\n",
      "                \u001b[33m\"\u001b[39;49;00m\u001b[33mas it is likely to crash IPython. If you know what you are doing, \u001b[39;49;00m\u001b[33m\"\u001b[39;49;00m\u001b[90m\u001b[39;49;00m\n",
      "                \u001b[33m\"\u001b[39;49;00m\u001b[33myou can use builtins\u001b[39;49;00m\u001b[33m'\u001b[39;49;00m\u001b[33m open.\u001b[39;49;00m\u001b[33m\"\u001b[39;49;00m\u001b[90m\u001b[39;49;00m\n",
      "            )\u001b[90m\u001b[39;49;00m\n",
      "    \u001b[90m\u001b[39;49;00m\n",
      ">       \u001b[94mreturn\u001b[39;49;00m io_open(file, *args, **kwargs)\u001b[90m\u001b[39;49;00m\n",
      "\u001b[1m\u001b[31mE       FileNotFoundError: [Errno 2] No such file or directory: '/tmp/file.txt'\u001b[0m\n",
      "\n",
      "\u001b[1m\u001b[31mvenv\\Lib\\site-packages\\IPython\\core\\interactiveshell.py\u001b[0m:324: FileNotFoundError\n",
      "\u001b[31m\u001b[1m____________________________ ERROR at setup of test_truncate_operation ____________________________\u001b[0m\n",
      "\n",
      "    \u001b[0m\u001b[37m@pytest\u001b[39;49;00m.fixture\u001b[90m\u001b[39;49;00m\n",
      "    \u001b[94mdef\u001b[39;49;00m \u001b[92mfile\u001b[39;49;00m():\u001b[90m\u001b[39;49;00m\n",
      ">       file = \u001b[96mopen\u001b[39;49;00m(\u001b[33m'\u001b[39;49;00m\u001b[33m/tmp/file.txt\u001b[39;49;00m\u001b[33m'\u001b[39;49;00m, \u001b[33m'\u001b[39;49;00m\u001b[33mw+\u001b[39;49;00m\u001b[33m'\u001b[39;49;00m)\u001b[90m\u001b[39;49;00m\n",
      "\n",
      "\u001b[1m\u001b[31mC:\\Users\\mikol\\AppData\\Local\\Temp\\ipykernel_31676\\2737270264.py\u001b[0m:6: \n",
      "_ _ _ _ _ _ _ _ _ _ _ _ _ _ _ _ _ _ _ _ _ _ _ _ _ _ _ _ _ _ _ _ _ _ _ _ _ _ _ _ _ _ _ _ _ _ _ _ _ _\n",
      "\n",
      "file = '/tmp/file.txt', args = ('w+',), kwargs = {}\n",
      "\n",
      "    \u001b[0m\u001b[37m@functools\u001b[39;49;00m.wraps(io_open)\u001b[90m\u001b[39;49;00m\n",
      "    \u001b[94mdef\u001b[39;49;00m \u001b[92m_modified_open\u001b[39;49;00m(file, *args, **kwargs):\u001b[90m\u001b[39;49;00m\n",
      "        \u001b[94mif\u001b[39;49;00m file \u001b[95min\u001b[39;49;00m {\u001b[94m0\u001b[39;49;00m, \u001b[94m1\u001b[39;49;00m, \u001b[94m2\u001b[39;49;00m}:\u001b[90m\u001b[39;49;00m\n",
      "            \u001b[94mraise\u001b[39;49;00m \u001b[96mValueError\u001b[39;49;00m(\u001b[90m\u001b[39;49;00m\n",
      "                \u001b[33mf\u001b[39;49;00m\u001b[33m\"\u001b[39;49;00m\u001b[33mIPython won\u001b[39;49;00m\u001b[33m'\u001b[39;49;00m\u001b[33mt let you open fd=\u001b[39;49;00m\u001b[33m{\u001b[39;49;00mfile\u001b[33m}\u001b[39;49;00m\u001b[33m by default \u001b[39;49;00m\u001b[33m\"\u001b[39;49;00m\u001b[90m\u001b[39;49;00m\n",
      "                \u001b[33m\"\u001b[39;49;00m\u001b[33mas it is likely to crash IPython. If you know what you are doing, \u001b[39;49;00m\u001b[33m\"\u001b[39;49;00m\u001b[90m\u001b[39;49;00m\n",
      "                \u001b[33m\"\u001b[39;49;00m\u001b[33myou can use builtins\u001b[39;49;00m\u001b[33m'\u001b[39;49;00m\u001b[33m open.\u001b[39;49;00m\u001b[33m\"\u001b[39;49;00m\u001b[90m\u001b[39;49;00m\n",
      "            )\u001b[90m\u001b[39;49;00m\n",
      "    \u001b[90m\u001b[39;49;00m\n",
      ">       \u001b[94mreturn\u001b[39;49;00m io_open(file, *args, **kwargs)\u001b[90m\u001b[39;49;00m\n",
      "\u001b[1m\u001b[31mE       FileNotFoundError: [Errno 2] No such file or directory: '/tmp/file.txt'\u001b[0m\n",
      "\n",
      "\u001b[1m\u001b[31mvenv\\Lib\\site-packages\\IPython\\core\\interactiveshell.py\u001b[0m:324: FileNotFoundError\n",
      "\u001b[31m\u001b[1m___________________________ ERROR at setup of test_write_on_closed_file ___________________________\u001b[0m\n",
      "\n",
      "    \u001b[0m\u001b[37m@pytest\u001b[39;49;00m.fixture\u001b[90m\u001b[39;49;00m\n",
      "    \u001b[94mdef\u001b[39;49;00m \u001b[92mfile\u001b[39;49;00m():\u001b[90m\u001b[39;49;00m\n",
      ">       file = \u001b[96mopen\u001b[39;49;00m(\u001b[33m'\u001b[39;49;00m\u001b[33m/tmp/file.txt\u001b[39;49;00m\u001b[33m'\u001b[39;49;00m, \u001b[33m'\u001b[39;49;00m\u001b[33mw+\u001b[39;49;00m\u001b[33m'\u001b[39;49;00m)\u001b[90m\u001b[39;49;00m\n",
      "\n",
      "\u001b[1m\u001b[31mC:\\Users\\mikol\\AppData\\Local\\Temp\\ipykernel_31676\\2737270264.py\u001b[0m:6: \n",
      "_ _ _ _ _ _ _ _ _ _ _ _ _ _ _ _ _ _ _ _ _ _ _ _ _ _ _ _ _ _ _ _ _ _ _ _ _ _ _ _ _ _ _ _ _ _ _ _ _ _\n",
      "\n",
      "file = '/tmp/file.txt', args = ('w+',), kwargs = {}\n",
      "\n",
      "    \u001b[0m\u001b[37m@functools\u001b[39;49;00m.wraps(io_open)\u001b[90m\u001b[39;49;00m\n",
      "    \u001b[94mdef\u001b[39;49;00m \u001b[92m_modified_open\u001b[39;49;00m(file, *args, **kwargs):\u001b[90m\u001b[39;49;00m\n",
      "        \u001b[94mif\u001b[39;49;00m file \u001b[95min\u001b[39;49;00m {\u001b[94m0\u001b[39;49;00m, \u001b[94m1\u001b[39;49;00m, \u001b[94m2\u001b[39;49;00m}:\u001b[90m\u001b[39;49;00m\n",
      "            \u001b[94mraise\u001b[39;49;00m \u001b[96mValueError\u001b[39;49;00m(\u001b[90m\u001b[39;49;00m\n",
      "                \u001b[33mf\u001b[39;49;00m\u001b[33m\"\u001b[39;49;00m\u001b[33mIPython won\u001b[39;49;00m\u001b[33m'\u001b[39;49;00m\u001b[33mt let you open fd=\u001b[39;49;00m\u001b[33m{\u001b[39;49;00mfile\u001b[33m}\u001b[39;49;00m\u001b[33m by default \u001b[39;49;00m\u001b[33m\"\u001b[39;49;00m\u001b[90m\u001b[39;49;00m\n",
      "                \u001b[33m\"\u001b[39;49;00m\u001b[33mas it is likely to crash IPython. If you know what you are doing, \u001b[39;49;00m\u001b[33m\"\u001b[39;49;00m\u001b[90m\u001b[39;49;00m\n",
      "                \u001b[33m\"\u001b[39;49;00m\u001b[33myou can use builtins\u001b[39;49;00m\u001b[33m'\u001b[39;49;00m\u001b[33m open.\u001b[39;49;00m\u001b[33m\"\u001b[39;49;00m\u001b[90m\u001b[39;49;00m\n",
      "            )\u001b[90m\u001b[39;49;00m\n",
      "    \u001b[90m\u001b[39;49;00m\n",
      ">       \u001b[94mreturn\u001b[39;49;00m io_open(file, *args, **kwargs)\u001b[90m\u001b[39;49;00m\n",
      "\u001b[1m\u001b[31mE       FileNotFoundError: [Errno 2] No such file or directory: '/tmp/file.txt'\u001b[0m\n",
      "\n",
      "\u001b[1m\u001b[31mvenv\\Lib\\site-packages\\IPython\\core\\interactiveshell.py\u001b[0m:324: FileNotFoundError\n",
      "============================================ FAILURES =============================================\n",
      "\u001b[31m\u001b[1m_______________________________ TestFrange.test_frange_single_param _______________________________\u001b[0m\n",
      "\n",
      "self = <__main__.TestFrange testMethod=test_frange_single_param>\n",
      "\n",
      "    \u001b[0m\u001b[94mdef\u001b[39;49;00m \u001b[92mtest_frange_single_param\u001b[39;49;00m(\u001b[96mself\u001b[39;49;00m):\u001b[90m\u001b[39;49;00m\n",
      "        \u001b[90m# self.assertEqual(list(frange(5)) , [0, 1, 2, 3, 4])\u001b[39;49;00m\u001b[90m\u001b[39;49;00m\n",
      ">       \u001b[96mself\u001b[39;49;00m.assertEqual(\u001b[96mlist\u001b[39;49;00m(frange(\u001b[94m5\u001b[39;49;00m)), [\u001b[94m0\u001b[39;49;00m, \u001b[94m1\u001b[39;49;00m, \u001b[94m2\u001b[39;49;00m, \u001b[94m3\u001b[39;49;00m, \u001b[94m4\u001b[39;49;00m, \u001b[94m5\u001b[39;49;00m])\u001b[90m\u001b[39;49;00m\n",
      "\u001b[1m\u001b[31mE       AssertionError: Lists differ: [Decimal('0'), Decimal('1'), Decimal('2'), Decimal('3'), Decimal('4')] != [0, 1, 2, 3, 4, 5]\u001b[0m\n",
      "\u001b[1m\u001b[31mE       \u001b[0m\n",
      "\u001b[1m\u001b[31mE       Second list contains 1 additional elements.\u001b[0m\n",
      "\u001b[1m\u001b[31mE       First extra element 5:\u001b[0m\n",
      "\u001b[1m\u001b[31mE       5\u001b[0m\n",
      "\u001b[1m\u001b[31mE       \u001b[0m\n",
      "\u001b[1m\u001b[31mE       - [Decimal('0'), Decimal('1'), Decimal('2'), Decimal('3'), Decimal('4')]\u001b[0m\n",
      "\u001b[1m\u001b[31mE       + [0, 1, 2, 3, 4, 5]\u001b[0m\n",
      "\n",
      "\u001b[1m\u001b[31mC:\\Users\\mikol\\AppData\\Local\\Temp\\ipykernel_31676\\451255603.py\u001b[0m:8: AssertionError\n",
      "\u001b[31m\u001b[1m___________________________ TestFileOperations.test_truncate_operation ____________________________\u001b[0m\n",
      "\n",
      "self = <__main__.TestFileOperations testMethod=test_truncate_operation>\n",
      "\n",
      "    \u001b[0m\u001b[94mdef\u001b[39;49;00m \u001b[92msetUp\u001b[39;49;00m(\u001b[96mself\u001b[39;49;00m):\u001b[90m\u001b[39;49;00m\n",
      "        \u001b[96mprint\u001b[39;49;00m(\u001b[33m'\u001b[39;49;00m\u001b[33msetUp\u001b[39;49;00m\u001b[33m'\u001b[39;49;00m)\u001b[90m\u001b[39;49;00m\n",
      ">       \u001b[96mself\u001b[39;49;00m._file = \u001b[96mopen\u001b[39;49;00m(\u001b[33m'\u001b[39;49;00m\u001b[33m/tmp/file.txt\u001b[39;49;00m\u001b[33m'\u001b[39;49;00m, \u001b[33m'\u001b[39;49;00m\u001b[33mw+\u001b[39;49;00m\u001b[33m'\u001b[39;49;00m)\u001b[90m\u001b[39;49;00m\n",
      "\n",
      "\u001b[1m\u001b[31mC:\\Users\\mikol\\AppData\\Local\\Temp\\ipykernel_31676\\2613248743.py\u001b[0m:5: \n",
      "_ _ _ _ _ _ _ _ _ _ _ _ _ _ _ _ _ _ _ _ _ _ _ _ _ _ _ _ _ _ _ _ _ _ _ _ _ _ _ _ _ _ _ _ _ _ _ _ _ _\n",
      "\n",
      "file = '/tmp/file.txt', args = ('w+',), kwargs = {}\n",
      "\n",
      "    \u001b[0m\u001b[37m@functools\u001b[39;49;00m.wraps(io_open)\u001b[90m\u001b[39;49;00m\n",
      "    \u001b[94mdef\u001b[39;49;00m \u001b[92m_modified_open\u001b[39;49;00m(file, *args, **kwargs):\u001b[90m\u001b[39;49;00m\n",
      "        \u001b[94mif\u001b[39;49;00m file \u001b[95min\u001b[39;49;00m {\u001b[94m0\u001b[39;49;00m, \u001b[94m1\u001b[39;49;00m, \u001b[94m2\u001b[39;49;00m}:\u001b[90m\u001b[39;49;00m\n",
      "            \u001b[94mraise\u001b[39;49;00m \u001b[96mValueError\u001b[39;49;00m(\u001b[90m\u001b[39;49;00m\n",
      "                \u001b[33mf\u001b[39;49;00m\u001b[33m\"\u001b[39;49;00m\u001b[33mIPython won\u001b[39;49;00m\u001b[33m'\u001b[39;49;00m\u001b[33mt let you open fd=\u001b[39;49;00m\u001b[33m{\u001b[39;49;00mfile\u001b[33m}\u001b[39;49;00m\u001b[33m by default \u001b[39;49;00m\u001b[33m\"\u001b[39;49;00m\u001b[90m\u001b[39;49;00m\n",
      "                \u001b[33m\"\u001b[39;49;00m\u001b[33mas it is likely to crash IPython. If you know what you are doing, \u001b[39;49;00m\u001b[33m\"\u001b[39;49;00m\u001b[90m\u001b[39;49;00m\n",
      "                \u001b[33m\"\u001b[39;49;00m\u001b[33myou can use builtins\u001b[39;49;00m\u001b[33m'\u001b[39;49;00m\u001b[33m open.\u001b[39;49;00m\u001b[33m\"\u001b[39;49;00m\u001b[90m\u001b[39;49;00m\n",
      "            )\u001b[90m\u001b[39;49;00m\n",
      "    \u001b[90m\u001b[39;49;00m\n",
      ">       \u001b[94mreturn\u001b[39;49;00m io_open(file, *args, **kwargs)\u001b[90m\u001b[39;49;00m\n",
      "\u001b[1m\u001b[31mE       FileNotFoundError: [Errno 2] No such file or directory: '/tmp/file.txt'\u001b[0m\n",
      "\n",
      "\u001b[1m\u001b[31mvenv\\Lib\\site-packages\\IPython\\core\\interactiveshell.py\u001b[0m:324: FileNotFoundError\n",
      "-------------------------------------- Captured stdout call ---------------------------------------\n",
      "setUp\n",
      "\u001b[31m\u001b[1m__________________________ TestFileOperations.test_write_on_closed_file ___________________________\u001b[0m\n",
      "\n",
      "self = <__main__.TestFileOperations testMethod=test_write_on_closed_file>\n",
      "\n",
      "    \u001b[0m\u001b[94mdef\u001b[39;49;00m \u001b[92msetUp\u001b[39;49;00m(\u001b[96mself\u001b[39;49;00m):\u001b[90m\u001b[39;49;00m\n",
      "        \u001b[96mprint\u001b[39;49;00m(\u001b[33m'\u001b[39;49;00m\u001b[33msetUp\u001b[39;49;00m\u001b[33m'\u001b[39;49;00m)\u001b[90m\u001b[39;49;00m\n",
      ">       \u001b[96mself\u001b[39;49;00m._file = \u001b[96mopen\u001b[39;49;00m(\u001b[33m'\u001b[39;49;00m\u001b[33m/tmp/file.txt\u001b[39;49;00m\u001b[33m'\u001b[39;49;00m, \u001b[33m'\u001b[39;49;00m\u001b[33mw+\u001b[39;49;00m\u001b[33m'\u001b[39;49;00m)\u001b[90m\u001b[39;49;00m\n",
      "\n",
      "\u001b[1m\u001b[31mC:\\Users\\mikol\\AppData\\Local\\Temp\\ipykernel_31676\\2613248743.py\u001b[0m:5: \n",
      "_ _ _ _ _ _ _ _ _ _ _ _ _ _ _ _ _ _ _ _ _ _ _ _ _ _ _ _ _ _ _ _ _ _ _ _ _ _ _ _ _ _ _ _ _ _ _ _ _ _\n",
      "\n",
      "file = '/tmp/file.txt', args = ('w+',), kwargs = {}\n",
      "\n",
      "    \u001b[0m\u001b[37m@functools\u001b[39;49;00m.wraps(io_open)\u001b[90m\u001b[39;49;00m\n",
      "    \u001b[94mdef\u001b[39;49;00m \u001b[92m_modified_open\u001b[39;49;00m(file, *args, **kwargs):\u001b[90m\u001b[39;49;00m\n",
      "        \u001b[94mif\u001b[39;49;00m file \u001b[95min\u001b[39;49;00m {\u001b[94m0\u001b[39;49;00m, \u001b[94m1\u001b[39;49;00m, \u001b[94m2\u001b[39;49;00m}:\u001b[90m\u001b[39;49;00m\n",
      "            \u001b[94mraise\u001b[39;49;00m \u001b[96mValueError\u001b[39;49;00m(\u001b[90m\u001b[39;49;00m\n",
      "                \u001b[33mf\u001b[39;49;00m\u001b[33m\"\u001b[39;49;00m\u001b[33mIPython won\u001b[39;49;00m\u001b[33m'\u001b[39;49;00m\u001b[33mt let you open fd=\u001b[39;49;00m\u001b[33m{\u001b[39;49;00mfile\u001b[33m}\u001b[39;49;00m\u001b[33m by default \u001b[39;49;00m\u001b[33m\"\u001b[39;49;00m\u001b[90m\u001b[39;49;00m\n",
      "                \u001b[33m\"\u001b[39;49;00m\u001b[33mas it is likely to crash IPython. If you know what you are doing, \u001b[39;49;00m\u001b[33m\"\u001b[39;49;00m\u001b[90m\u001b[39;49;00m\n",
      "                \u001b[33m\"\u001b[39;49;00m\u001b[33myou can use builtins\u001b[39;49;00m\u001b[33m'\u001b[39;49;00m\u001b[33m open.\u001b[39;49;00m\u001b[33m\"\u001b[39;49;00m\u001b[90m\u001b[39;49;00m\n",
      "            )\u001b[90m\u001b[39;49;00m\n",
      "    \u001b[90m\u001b[39;49;00m\n",
      ">       \u001b[94mreturn\u001b[39;49;00m io_open(file, *args, **kwargs)\u001b[90m\u001b[39;49;00m\n",
      "\u001b[1m\u001b[31mE       FileNotFoundError: [Errno 2] No such file or directory: '/tmp/file.txt'\u001b[0m\n",
      "\n",
      "\u001b[1m\u001b[31mvenv\\Lib\\site-packages\\IPython\\core\\interactiveshell.py\u001b[0m:324: FileNotFoundError\n",
      "-------------------------------------- Captured stdout call ---------------------------------------\n",
      "setUp\n",
      "\u001b[31m\u001b[1m_____________________________ TestFileOperations.test_write_operation _____________________________\u001b[0m\n",
      "\n",
      "self = <__main__.TestFileOperations testMethod=test_write_operation>\n",
      "\n",
      "    \u001b[0m\u001b[94mdef\u001b[39;49;00m \u001b[92msetUp\u001b[39;49;00m(\u001b[96mself\u001b[39;49;00m):\u001b[90m\u001b[39;49;00m\n",
      "        \u001b[96mprint\u001b[39;49;00m(\u001b[33m'\u001b[39;49;00m\u001b[33msetUp\u001b[39;49;00m\u001b[33m'\u001b[39;49;00m)\u001b[90m\u001b[39;49;00m\n",
      ">       \u001b[96mself\u001b[39;49;00m._file = \u001b[96mopen\u001b[39;49;00m(\u001b[33m'\u001b[39;49;00m\u001b[33m/tmp/file.txt\u001b[39;49;00m\u001b[33m'\u001b[39;49;00m, \u001b[33m'\u001b[39;49;00m\u001b[33mw+\u001b[39;49;00m\u001b[33m'\u001b[39;49;00m)\u001b[90m\u001b[39;49;00m\n",
      "\n",
      "\u001b[1m\u001b[31mC:\\Users\\mikol\\AppData\\Local\\Temp\\ipykernel_31676\\2613248743.py\u001b[0m:5: \n",
      "_ _ _ _ _ _ _ _ _ _ _ _ _ _ _ _ _ _ _ _ _ _ _ _ _ _ _ _ _ _ _ _ _ _ _ _ _ _ _ _ _ _ _ _ _ _ _ _ _ _\n",
      "\n",
      "file = '/tmp/file.txt', args = ('w+',), kwargs = {}\n",
      "\n",
      "    \u001b[0m\u001b[37m@functools\u001b[39;49;00m.wraps(io_open)\u001b[90m\u001b[39;49;00m\n",
      "    \u001b[94mdef\u001b[39;49;00m \u001b[92m_modified_open\u001b[39;49;00m(file, *args, **kwargs):\u001b[90m\u001b[39;49;00m\n",
      "        \u001b[94mif\u001b[39;49;00m file \u001b[95min\u001b[39;49;00m {\u001b[94m0\u001b[39;49;00m, \u001b[94m1\u001b[39;49;00m, \u001b[94m2\u001b[39;49;00m}:\u001b[90m\u001b[39;49;00m\n",
      "            \u001b[94mraise\u001b[39;49;00m \u001b[96mValueError\u001b[39;49;00m(\u001b[90m\u001b[39;49;00m\n",
      "                \u001b[33mf\u001b[39;49;00m\u001b[33m\"\u001b[39;49;00m\u001b[33mIPython won\u001b[39;49;00m\u001b[33m'\u001b[39;49;00m\u001b[33mt let you open fd=\u001b[39;49;00m\u001b[33m{\u001b[39;49;00mfile\u001b[33m}\u001b[39;49;00m\u001b[33m by default \u001b[39;49;00m\u001b[33m\"\u001b[39;49;00m\u001b[90m\u001b[39;49;00m\n",
      "                \u001b[33m\"\u001b[39;49;00m\u001b[33mas it is likely to crash IPython. If you know what you are doing, \u001b[39;49;00m\u001b[33m\"\u001b[39;49;00m\u001b[90m\u001b[39;49;00m\n",
      "                \u001b[33m\"\u001b[39;49;00m\u001b[33myou can use builtins\u001b[39;49;00m\u001b[33m'\u001b[39;49;00m\u001b[33m open.\u001b[39;49;00m\u001b[33m\"\u001b[39;49;00m\u001b[90m\u001b[39;49;00m\n",
      "            )\u001b[90m\u001b[39;49;00m\n",
      "    \u001b[90m\u001b[39;49;00m\n",
      ">       \u001b[94mreturn\u001b[39;49;00m io_open(file, *args, **kwargs)\u001b[90m\u001b[39;49;00m\n",
      "\u001b[1m\u001b[31mE       FileNotFoundError: [Errno 2] No such file or directory: '/tmp/file.txt'\u001b[0m\n",
      "\n",
      "\u001b[1m\u001b[31mvenv\\Lib\\site-packages\\IPython\\core\\interactiveshell.py\u001b[0m:324: FileNotFoundError\n",
      "-------------------------------------- Captured stdout call ---------------------------------------\n",
      "setUp\n",
      "\u001b[33m======================================== warnings summary =========================================\u001b[0m\n",
      "venv\\Lib\\site-packages\\_pytest\\config\\__init__.py:1285\n",
      "  D:\\Hillel\\python_materials\\venv\\Lib\\site-packages\\_pytest\\config\\__init__.py:1285: PytestAssertRewriteWarning: Module already imported so cannot be rewritten: _hypothesis_globals\n",
      "    self._mark_plugins_for_rewrite(hook)\n",
      "\n",
      "venv\\Lib\\site-packages\\_pytest\\config\\__init__.py:1285\n",
      "  D:\\Hillel\\python_materials\\venv\\Lib\\site-packages\\_pytest\\config\\__init__.py:1285: PytestAssertRewriteWarning: Module already imported so cannot be rewritten: hypothesis\n",
      "    self._mark_plugins_for_rewrite(hook)\n",
      "\n",
      "-- Docs: https://docs.pytest.org/en/stable/how-to/capture-warnings.html\n",
      "\u001b[36m\u001b[1m===================================== short test summary info =====================================\u001b[0m\n",
      "\u001b[31mFAILED\u001b[0m t_8a6674bb276c4fd7a8234b7f9bb62114.py::\u001b[1mTestFrange::test_frange_single_param\u001b[0m - AssertionError: Lists differ: [Decimal('0'), Decimal('1'), Decimal('2'), Decimal('3'), Decimal(...\n",
      "\u001b[31mFAILED\u001b[0m t_8a6674bb276c4fd7a8234b7f9bb62114.py::\u001b[1mTestFileOperations::test_truncate_operation\u001b[0m - FileNotFoundError: [Errno 2] No such file or directory: '/tmp/file.txt'\n",
      "\u001b[31mFAILED\u001b[0m t_8a6674bb276c4fd7a8234b7f9bb62114.py::\u001b[1mTestFileOperations::test_write_on_closed_file\u001b[0m - FileNotFoundError: [Errno 2] No such file or directory: '/tmp/file.txt'\n",
      "\u001b[31mFAILED\u001b[0m t_8a6674bb276c4fd7a8234b7f9bb62114.py::\u001b[1mTestFileOperations::test_write_operation\u001b[0m - FileNotFoundError: [Errno 2] No such file or directory: '/tmp/file.txt'\n",
      "\u001b[31mERROR\u001b[0m t_8a6674bb276c4fd7a8234b7f9bb62114.py::\u001b[1mtest_write_operation\u001b[0m - FileNotFoundError: [Errno 2] No such file or directory: '/tmp/file.txt'\n",
      "\u001b[31mERROR\u001b[0m t_8a6674bb276c4fd7a8234b7f9bb62114.py::\u001b[1mtest_truncate_operation\u001b[0m - FileNotFoundError: [Errno 2] No such file or directory: '/tmp/file.txt'\n",
      "\u001b[31mERROR\u001b[0m t_8a6674bb276c4fd7a8234b7f9bb62114.py::\u001b[1mtest_write_on_closed_file\u001b[0m - FileNotFoundError: [Errno 2] No such file or directory: '/tmp/file.txt'\n",
      "\u001b[31m======================== \u001b[31m\u001b[1m4 failed\u001b[0m, \u001b[32m7 passed\u001b[0m, \u001b[33m2 warnings\u001b[0m, \u001b[31m\u001b[1m3 errors\u001b[0m\u001b[31m in 0.59s\u001b[0m\u001b[31m ========================\u001b[0m\n"
     ]
    },
    {
     "data": {
      "text/plain": [
       "<ExitCode.TESTS_FAILED: 1>"
      ]
     },
     "execution_count": 18,
     "metadata": {},
     "output_type": "execute_result"
    }
   ],
   "source": [
    "import pytest\n",
    "import ipytest\n",
    "\n",
    "@pytest.fixture\n",
    "def file():\n",
    "    file = open('/tmp/file.txt', 'w+')\n",
    "    yield file\n",
    "    file.close()\n",
    "\n",
    "def test_write_operation(file):\n",
    "    data = 'test'\n",
    "    file.write(data)\n",
    "    file.seek(0)\n",
    "    data_read = file.read()\n",
    "    assert data_read == data\n",
    "\n",
    "def test_truncate_operation(file):\n",
    "    data = 'test'\n",
    "    file.write(data)\n",
    "    file.truncate(0)\n",
    "    data_read = file.read()\n",
    "    assert data_read == ''\n",
    "\n",
    "def test_write_on_closed_file(file):\n",
    "    data = 'test'\n",
    "    file.write(data)\n",
    "    file.close()\n",
    "    with pytest.raises(ValueError) as ex:\n",
    "        file.write(data)\n",
    "    assert isinstance(ex.value, ValueError)\n",
    "\n",
    "ipytest.run()"
   ]
  },
  {
   "cell_type": "code",
   "execution_count": 27,
   "metadata": {},
   "outputs": [
    {
     "name": "stderr",
     "output_type": "stream",
     "text": [
      "ERROR: usage: ipykernel_launcher.py [options] [file_or_dir] [file_or_dir] [...]\n",
      "ipykernel_launcher.py: error: unrecognized arguments: -f\n",
      "  inifile: None\n",
      "  rootdir: D:\\Hillel\\python_materials\n",
      "\n"
     ]
    },
    {
     "data": {
      "text/plain": [
       "<ExitCode.USAGE_ERROR: 4>"
      ]
     },
     "execution_count": 27,
     "metadata": {},
     "output_type": "execute_result"
    }
   ],
   "source": [
    "\n",
    "\n",
    "\n",
    "\n"
   ]
  },
  {
   "cell_type": "code",
   "execution_count": null,
   "metadata": {
    "collapsed": true,
    "jupyter": {
     "outputs_hidden": true
    }
   },
   "outputs": [],
   "source": [
    "1. Для перевірки коду + функціоналу\n",
    "2. Тести як певний документації\n",
    "3. Рефакторинг\n",
    "4. "
   ]
  },
  {
   "cell_type": "markdown",
   "metadata": {},
   "source": [
    "# Best practices\n",
    "\n",
    "1. Cover corner cases: 0, 1, -1, len(lst)-1, len(lst)+1\n",
    "   - Test symmetry behaviour is also often good idea: a + b == b + a, decode/encode, load/dump, etc\n",
    "2. Cover all groups (equivalence class) of inputs: positive, negative, empty, large, small, ...\n",
    "3. Don't repeate tests for the same class: it is redundant.\n",
    "4. Tests should be isolated from each other (no order dependency)\n",
    "   - unittest might run tests in arbitrary order\n",
    "5. Tests should be atomic (test 1 feature), small and fast\n",
    "6. Tests should cover not only positive (when code works as expected), but negative cases as well (when code doesn't work when it is not supposed)\n",
    "   - test that errors are returned and exceptions are thrown\n",
    "7. External dependencies can be replaced with mocks.\n",
    "   - We don't want to test system libraries or frameworks"
   ]
  },
  {
   "cell_type": "code",
   "execution_count": 33,
   "metadata": {},
   "outputs": [],
   "source": [
    "# Bad examples\n",
    "\n",
    "class TestFrange(unittest.TestCase):\n",
    "\n",
    "    def test_frange_single_param(self):\n",
    "        self.assertEqual(list(frange(5)), [0, 1, 2, 3, 4])\n",
    "        self.assertEqual(list(frange(7)), [0, 1, 2, 3, 4, 5, 6])\n",
    "\n",
    "    def test_frange_2_params(self):\n",
    "        self.assertEqual(list(frange(2, 5)), [0, 1, 2, 3, 4, 5])\n",
    "        self.assertEqual(list(frange(5, 2)), [])\n",
    "    "
   ]
  },
  {
   "cell_type": "code",
   "execution_count": 24,
   "metadata": {},
   "outputs": [
    {
     "ename": "SyntaxError",
     "evalue": "invalid syntax (4163957638.py, line 1)",
     "output_type": "error",
     "traceback": [
      "\u001b[1;36m  Cell \u001b[1;32mIn[24], line 1\u001b[1;36m\u001b[0m\n\u001b[1;33m    1. Перевірити код\u001b[0m\n\u001b[1;37m       ^\u001b[0m\n\u001b[1;31mSyntaxError\u001b[0m\u001b[1;31m:\u001b[0m invalid syntax\n"
     ]
    }
   ],
   "source": [
    "1. Перевірити код\n",
    "2. Рефакторинг\n",
    "3. Документація\n",
    "4. Економія"
   ]
  },
  {
   "cell_type": "code",
   "execution_count": null,
   "metadata": {},
   "outputs": [],
   "source": [
    "# TDD\n",
    "\n"
   ]
  }
 ],
 "metadata": {
  "kernelspec": {
   "display_name": "Python 3 (ipykernel)",
   "language": "python",
   "name": "python3"
  },
  "language_info": {
   "codemirror_mode": {
    "name": "ipython",
    "version": 3
   },
   "file_extension": ".py",
   "mimetype": "text/x-python",
   "name": "python",
   "nbconvert_exporter": "python",
   "pygments_lexer": "ipython3",
   "version": "3.12.2"
  }
 },
 "nbformat": 4,
 "nbformat_minor": 4
}
