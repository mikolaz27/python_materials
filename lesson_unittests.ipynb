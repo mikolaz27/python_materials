{
 "cells": [
  {
   "cell_type": "code",
   "execution_count": 1,
   "metadata": {
    "ExecuteTime": {
     "end_time": "2023-08-04T14:17:22.901806400Z",
     "start_time": "2023-08-04T14:17:22.513362700Z"
    }
   },
   "outputs": [],
   "source": [
    "import time\n",
    "from decimal import Decimal\n",
    "from hypothesis import given, strategies as st"
   ]
  },
  {
   "cell_type": "markdown",
   "metadata": {},
   "source": [
    "\n",
    "# Motivation"
   ]
  },
  {
   "cell_type": "markdown",
   "metadata": {},
   "source": [
    "1. Verify correctness\n",
    "2. Verify correctness after modifications (regression testing)\n",
    "3. Example-based, how to use documentation\n",
    "4. Provoke good design: SOLID, flexible, modular"
   ]
  },
  {
   "cell_type": "markdown",
   "metadata": {},
   "source": [
    "<img src=\"https://www.worldofagile.com/wp-content/uploads/2018/03/Agile-Test-Pyramid.png\">"
   ]
  },
  {
   "cell_type": "code",
   "execution_count": 2,
   "metadata": {
    "ExecuteTime": {
     "end_time": "2023-08-04T14:17:35.959737500Z",
     "start_time": "2023-08-04T14:17:35.925124500Z"
    }
   },
   "outputs": [],
   "source": [
    "# Let's say we want to implement frange"
   ]
  },
  {
   "cell_type": "code",
   "execution_count": 10,
   "metadata": {
    "ExecuteTime": {
     "end_time": "2023-08-04T14:17:37.521396Z",
     "start_time": "2023-08-04T14:17:37.504366700Z"
    }
   },
   "outputs": [],
   "source": [
    "def frange(start, stop=None, step=1):\n",
    "    if stop is None:\n",
    "        stop = start\n",
    "        start = 0\n",
    "#     if step == 0:\n",
    "#         raise ValueError('0 cant be used as step')\n",
    "\n",
    "    start = Decimal(str(start))\n",
    "    stop = Decimal(str(stop))\n",
    "    step = Decimal(str(step))\n",
    "    result = start\n",
    "\n",
    "    while (step > 0 and result < stop) or (step < 0 and result > stop):\n",
    "        yield result\n",
    "        result += step\n"
   ]
  },
  {
   "cell_type": "code",
   "execution_count": 12,
   "metadata": {
    "ExecuteTime": {
     "end_time": "2023-08-04T14:17:41.015513700Z",
     "start_time": "2023-08-04T14:17:40.974701800Z"
    }
   },
   "outputs": [
    {
     "name": "stdout",
     "output_type": "stream",
     "text": [
      "0.1\n",
      "0.2\n",
      "0.3\n",
      "0.4\n",
      "0.5\n",
      "0.6\n",
      "0.7\n",
      "0.8\n",
      "0.9\n",
      "1.0\n",
      "1.1\n",
      "1.2\n",
      "1.3\n",
      "1.4\n",
      "1.5\n",
      "1.6\n",
      "1.7\n",
      "1.8\n",
      "1.9\n",
      "2.0\n",
      "2.1\n",
      "2.2\n",
      "2.3\n",
      "2.4\n",
      "2.5\n",
      "2.6\n",
      "2.7\n",
      "2.8\n",
      "2.9\n",
      "3.0\n",
      "3.1\n",
      "3.2\n",
      "3.3\n",
      "3.4\n",
      "3.5\n",
      "3.6\n",
      "3.7\n",
      "3.8\n",
      "3.9\n",
      "4.0\n",
      "4.1\n",
      "4.2\n",
      "4.3\n",
      "4.4\n",
      "4.5\n",
      "4.6\n",
      "4.7\n",
      "4.8\n",
      "4.9\n"
     ]
    }
   ],
   "source": [
    "# How to verify correctness?\n",
    "\n",
    "for i in frange(0.1, 5, 0.1):\n",
    "    print(i)"
   ]
  },
  {
   "cell_type": "code",
   "execution_count": 15,
   "metadata": {},
   "outputs": [
    {
     "name": "stdout",
     "output_type": "stream",
     "text": [
      "SUCCESS\n"
     ]
    }
   ],
   "source": [
    "# Primitive tests with asserts\n",
    "\n",
    "assert list(frange(5)) == [0, 1, 2, 3, 4]\n",
    "assert list(frange(2, 5)) == [2, 3, 4]\n",
    "assert list(frange(2, 10, 2)) == [2, 4, 6, 8]\n",
    "assert list(frange(10, 2, -2)) == [10, 8, 6, 4]\n",
    "assert list(frange(2, 5.5, 1.5)) == [2, 3.5, 5]\n",
    "assert list(frange(1, 5)) == [1, 2, 3, 4]\n",
    "assert list(frange(0, 5)) == [0, 1, 2, 3, 4]\n",
    "assert list(frange(1, 5, 0)) == []\n",
    "assert list(frange(0, 0)) == []\n",
    "assert list(frange(100, 0)) == []\n",
    "\n",
    "print('SUCCESS')"
   ]
  },
  {
   "cell_type": "code",
   "execution_count": 16,
   "metadata": {},
   "outputs": [
    {
     "ename": "AssertionError",
     "evalue": "[Decimal('0'), Decimal('1'), Decimal('2'), Decimal('3'), Decimal('4')] != [0, 1, 2, 3, 4, 6]",
     "output_type": "error",
     "traceback": [
      "\u001b[1;31m---------------------------------------------------------------------------\u001b[0m",
      "\u001b[1;31mAssertionError\u001b[0m                            Traceback (most recent call last)",
      "\u001b[1;32m~\\AppData\\Local\\Temp\\ipykernel_30304\\2721836574.py\u001b[0m in \u001b[0;36m<module>\u001b[1;34m\u001b[0m\n\u001b[0;32m      1\u001b[0m \u001b[1;31m# Verbose error messages can be passed as a second param\u001b[0m\u001b[1;33m\u001b[0m\u001b[1;33m\u001b[0m\u001b[0m\n\u001b[0;32m      2\u001b[0m \u001b[1;33m\u001b[0m\u001b[0m\n\u001b[1;32m----> 3\u001b[1;33m \u001b[1;32massert\u001b[0m \u001b[0mlist\u001b[0m\u001b[1;33m(\u001b[0m\u001b[0mfrange\u001b[0m\u001b[1;33m(\u001b[0m\u001b[1;36m5\u001b[0m\u001b[1;33m)\u001b[0m\u001b[1;33m)\u001b[0m \u001b[1;33m==\u001b[0m \u001b[1;33m[\u001b[0m\u001b[1;36m0\u001b[0m\u001b[1;33m,\u001b[0m \u001b[1;36m1\u001b[0m\u001b[1;33m,\u001b[0m \u001b[1;36m2\u001b[0m\u001b[1;33m,\u001b[0m \u001b[1;36m3\u001b[0m\u001b[1;33m,\u001b[0m \u001b[1;36m6\u001b[0m\u001b[1;33m]\u001b[0m\u001b[1;33m,\u001b[0m \u001b[1;34mf'{list(frange(5))} != [0, 1, 2, 3, 4, 6]'\u001b[0m\u001b[1;33m\u001b[0m\u001b[1;33m\u001b[0m\u001b[0m\n\u001b[0m\u001b[0;32m      4\u001b[0m \u001b[1;33m\u001b[0m\u001b[0m\n\u001b[0;32m      5\u001b[0m \u001b[1;33m\u001b[0m\u001b[0m\n",
      "\u001b[1;31mAssertionError\u001b[0m: [Decimal('0'), Decimal('1'), Decimal('2'), Decimal('3'), Decimal('4')] != [0, 1, 2, 3, 4, 6]"
     ]
    }
   ],
   "source": [
    "# Verbose error messages can be passed as a second param\n",
    "\n",
    "assert list(frange(5)) == [0, 1, 2, 3, 6], f'{list(frange(5))} != [0, 1, 2, 3, 4, 6]'\n",
    "\n",
    "\n",
    "# Is lazy evaluated on error, so inexpensive\n",
    "assert list(frange(5)) == [0, 1, 2, 3, 4], [0]*10000000000000"
   ]
  },
  {
   "cell_type": "markdown",
   "metadata": {},
   "source": [
    "# Hypothesys"
   ]
  },
  {
   "cell_type": "markdown",
   "metadata": {},
   "source": [
    "Good for computational test with ethalone to compare: (de)serializers, (de)encoders, sorting, etc\n",
    "\n",
    "pip install hypothesis\n",
    "\n",
    "https://hypothesis.readthedocs.io/en/latest/quickstart.html"
   ]
  },
  {
   "cell_type": "code",
   "execution_count": 17,
   "metadata": {},
   "outputs": [
    {
     "name": "stdout",
     "output_type": "stream",
     "text": [
      "0 0 1\n",
      "-532 226 -2\n",
      "-370 339 -4\n",
      "78 308 6\n",
      "-473 -622 -8\n",
      "522 779 -8\n",
      "-259 796 -5\n",
      "156 805 -4\n",
      "-890 817 2\n",
      "274 482 -4\n",
      "-517 462 1\n",
      "-517 -517 1\n",
      "-517 -517 1\n",
      "794 568 4\n",
      "794 794 4\n",
      "-437 946 -1\n",
      "-437 -437 -1\n",
      "-588 270 9\n",
      "-588 588 9\n",
      "-588 -588 9\n",
      "-683 3 -7\n",
      "-683 -683 -7\n",
      "-158 -234 4\n",
      "-158 -158 4\n",
      "-297 740 7\n",
      "-297 -297 7\n",
      "-710 460 3\n",
      "460 460 3\n",
      "-380 -199 5\n",
      "-380 -380 5\n",
      "627 -237 -10\n",
      "627 627 -10\n",
      "605 950 -4\n",
      "950 950 -4\n",
      "350 590 -10\n",
      "3 -590 -10\n",
      "-590 -590 -10\n",
      "203 -100 5\n",
      "-203 -100 5\n",
      "-100 -100 5\n",
      "-101 -863 -3\n",
      "-101 -101 -3\n",
      "421 14 5\n",
      "14 14 5\n",
      "-564 -199 1\n",
      "-564 -564 1\n",
      "-564 -564 1\n",
      "-576 -665 6\n",
      "-665 -665 6\n",
      "-491 -269 -3\n",
      "-491 -491 -3\n",
      "-627 8 -3\n",
      "-8 8 -3\n",
      "8 8 -3\n",
      "-248 363 5\n",
      "248 363 5\n",
      "248 248 5\n",
      "-589 -684 -3\n",
      "-589 -684 -3\n",
      "-589 -589 -3\n",
      "-755 746 6\n",
      "746 746 6\n",
      "483 150 1\n",
      "150 150 1\n",
      "-444 237 1\n",
      "-237 237 1\n",
      "-237 -237 1\n",
      "-593 -774 -3\n",
      "-593 -593 -3\n",
      "876 241 -10\n",
      "241 241 -10\n",
      "887 782 -7\n",
      "887 887 -7\n",
      "989 959 6\n",
      "989 989 6\n",
      "-22 -644 -5\n",
      "-22 -22 -5\n",
      "-22 -22 -5\n",
      "490 81 5\n",
      "81 81 5\n",
      "-403 -136 3\n",
      "-136 -136 3\n",
      "-136 -136 3\n",
      "-420 -245 4\n",
      "-420 -420 4\n",
      "-420 -420 4\n",
      "422 -896 -9\n",
      "422 422 -9\n",
      "413 852 8\n",
      "413 413 8\n",
      "796 -777 -2\n",
      "796 -777 -2\n",
      "-777 -777 -2\n",
      "970 -98 -6\n",
      "98 -98 -6\n",
      "98 -98 -6\n",
      "-98 -98 -6\n",
      "-315 621 4\n",
      "-621 621 4\n",
      "-621 621 4\n"
     ]
    }
   ],
   "source": [
    "@given(\n",
    "    st.integers(min_value=-1000, max_value=1000),\n",
    "    st.integers(min_value=-1000, max_value=1000),\n",
    "    st.integers(min_value=-10, max_value=10).filter(lambda x: x != 0)\n",
    ")\n",
    "def test_frange(a, b, c):\n",
    "    print(a, b, c)\n",
    "    assert list(frange(a, b, c)) == list(range(a, b, c))\n",
    "\n",
    "test_frange()"
   ]
  },
  {
   "cell_type": "code",
   "execution_count": null,
   "metadata": {},
   "outputs": [],
   "source": []
  },
  {
   "cell_type": "code",
   "execution_count": 19,
   "metadata": {},
   "outputs": [],
   "source": [
    "def partition(array, begin, end):\n",
    "    pivot = begin\n",
    "    for i in range(begin+1, end+1):\n",
    "        if array[i] <= array[begin]:\n",
    "            pivot += 1\n",
    "            array[i], array[pivot] = array[pivot], array[i]\n",
    "    array[pivot], array[begin] = array[begin], array[pivot]\n",
    "    return pivot\n",
    "\n",
    "\n",
    "\n",
    "def quicksort(array, begin=0, end=None):\n",
    "    if end is None:\n",
    "        end = len(array) - 1\n",
    "    def _quicksort(array, begin, end):\n",
    "        if begin >= end:\n",
    "            return\n",
    "        pivot = partition(array, begin, end)\n",
    "        _quicksort(array, begin, pivot-1)\n",
    "        _quicksort(array, pivot+1, end)\n",
    "    return _quicksort(array, begin, end)"
   ]
  },
  {
   "cell_type": "code",
   "execution_count": 21,
   "metadata": {},
   "outputs": [
    {
     "name": "stdout",
     "output_type": "stream",
     "text": [
      "[]\n",
      "[0]\n",
      "[0]\n",
      "[9441, 16288]\n",
      "[0]\n",
      "[0]\n",
      "[0]\n",
      "[0]\n",
      "[0]\n",
      "[0]\n",
      "[]\n",
      "[12882, 9119, -1783792645314895563, -17762]\n",
      "[-32707, 56, 9757]\n",
      "[9757, 56, 9757]\n",
      "[91]\n",
      "[30799, -24, -21207, -15755, -30512]\n",
      "[30799, -24, -21207, -15755, -30512]\n",
      "[-14213, -94]\n",
      "[-14213]\n",
      "[18490, -20992]\n",
      "[72, -4660092927399097764854112996021681622, 29630, 23665, -14353, 74, 4209, -6534, -26720, -1182, 3594, 89, 5129351824778240849]\n",
      "[72, -4660092927399097764854112996021681622, 29630, 23665, -14353, 74, 4209, -6534, -26720, -1182, 3594, 89, 5129351824778240849]\n",
      "[67, -834, 19207, -7322, -150236637648260360454424245055849451233, 78, 28, -38, 71, 1798033064, -144, 11371]\n",
      "[-19442, -421194527, 13141, -407152484768392093]\n",
      "[-19442, 10033899, 13141, -407152484768392093]\n",
      "[-203, 10033899, 13141, -407152484768392093]\n",
      "[57282908695593113, 58720435, -25264261, 4370, 7715, 24444, -14448, -834462625, 32359, -15096, -23157, -14308, -11358, -12080]\n",
      "[23336, -6036]\n",
      "[83652941733100868067998201516639094581, -48, -15, 47, 120221810532666628152087264838303417222, 5744, 50556629099564418465245391134494298304, 11960, 20717, -2, 20, -5, 74, -113]\n",
      "[-16110]\n",
      "[-16110, 102, 2145, -21148, 61, -1474766262, 18340, -9449, 25313]\n",
      "[-1938590792, -12008, 25067, -27424, 283, -15271, 109, -13419, -30384, -3339, 141708900270612794622544233647175891625, 4236, 51, 1011383055]\n",
      "[2030575574, -22708]\n",
      "[2030575574]\n",
      "[2030575574, -110, 10383, 1909525066, 22180, -92, 8738, 21189, -92]\n",
      "[88]\n",
      "[0]\n",
      "[0, 0, -7277, 11397, 6156, -3355, -915]\n",
      "[0, 0, -7277, 11397, 6156, -3355, -915]\n",
      "[0, -915, -7277, 11397, 6156, -3355, -915]\n",
      "[0, 129]\n",
      "[-247244416615952603]\n",
      "[-247244416615952603, -96, -27038, 90, -34902105916736836703312874693408862029]\n",
      "[-247244416615952603, -96, -27038, 90, -34902105916736836703312874693408862029]\n",
      "[-247244416615952603, -96, -27038, 90, -34902105916736836703312874693408862029]\n",
      "[-12, 26873, -73, 93, -22769, -38, -25174, 24697, 19269, -1130891294020042277, 38]\n",
      "[-106, 126, -1193009628780126738, 25790, -89, -2131442801, 14]\n",
      "[-106, -1193009628780126738, -1193009628780126738, 25790, -89, -2131442801, 14]\n",
      "[-106, -1193009628780126738, -1193009628780126738, 25790, -89, -2131442801, 14]\n",
      "[-17973, 21188]\n",
      "[70, 21188]\n",
      "[70, 16798404]\n",
      "[70, 70]\n",
      "[70, 70, 70, -126, 913688752, -29864, 26778, 33, -941167925997055515, -31298, 96, 28702, -686, 18185, 28665, 14359, -99, 764031400, -3734, -32, 343405436, -2614, 30040, 2789, 5497]\n",
      "[16307, 22030]\n",
      "[16307, 22030]\n",
      "[22030, 22030]\n",
      "[-129, 22030]\n",
      "[22030, 22030]\n",
      "[22030, 86, 99]\n",
      "[22030, 2, 99]\n",
      "[61, 129167091700193111131663029236825862114, -88, 31]\n",
      "[102, -3347, 2438, 12925]\n",
      "[550219155884456442, 6608, -22564, -14086, -7908, 4473, 78, 26446]\n",
      "[550219155884456442, 26446, -22564, -14086, -7908, 4473, 78, 26446]\n",
      "[550219155884456442, -536388723376368904102787480287196934, -7908, 4473, 78, 26446]\n",
      "[-1954, 130, -1, -22564, -14086, -7908, 4473, 78, 26446]\n",
      "[-10319, -16028, 2658145847293372927, -26982, -4333877141343903649]\n",
      "[8624135289660818298, 27201, 121, 32084, 23706, -12158, -23626, -24018, 14, -23271131918432636909489230221197062305, 50]\n",
      "[-28259, -32557, 81435561506990133478866412712173228023, -30907, 31570, 40, 25957]\n",
      "[-21894, -107, 7]\n",
      "[-21894, -16804736, 1792, 7352, 14932, 20003, 25698, 15968, 12995, -52, -79]\n",
      "[1539, -21371, 20959, -6736, -8852191493492457175, -127, 26543, -28224, -82]\n",
      "[-97, -5693, 29531, 29284, 6772, 20167, 32537, -1035995156011383056, 25775, -140994977626003215362341173146401401107, 41, -2854, -11243, 14, 25226]\n",
      "[-95035185833479849568639510259186125425, 31841, -119, 13559, -7]\n",
      "[-13500, 21338, -26, 70026539017730246033953570629500898751, -2474, 17677, 28601, -10861, 1478, 19523, 21948, 22262, -118, 1492446751, 23207, 37, 61]\n",
      "[-13500, 83, -26, 70026539017730246033953570629500898751, -2474, 17677, 28601, -10861, 1478, 19523, 21948, 22262, -118, 1492446751, 23207, 37, 61]\n",
      "[-18508, 79, 12330, 67, -2278340514820905950, 78, 27572, 117, -4380]\n",
      "[-18508, 8486991, 12330, 67, -2278340514820905950, 78, 27572, 117, -4380]\n",
      "[18997, -5151560368479914592, 21175, 5509, -14345, -11764]\n",
      "[-267558329, -266917163802674926, -2688, 69, -15382, -8726, -908, -108, 29263, 9454, -26, -1393784982, -4007, 3974, 21656]\n",
      "[15510, -11517, 30489, -16347, -5114484850619527419, -67, -20098, -617]\n",
      "[-73]\n",
      "[96, -872798663]\n",
      "[52, -129, 106, 25178, -26617, -41, -29655, -12716081860622113772526168339132125927, 61, 8095, 10445, -1851159178, 44, 1873466170, 273063213, 18859, 4, 28002, -175, -75424818, 26511]\n",
      "[15020, -20329, 26946]\n",
      "[26946, -20329, 26946]\n",
      "[105, 2]\n",
      "[2, 2]\n",
      "[2, 2]\n",
      "[2]\n",
      "[2, -7243, 105263652382567096723798099722726293288, 6923949760551559496, -18]\n",
      "[-1981818091747802773, -1203643172, 18967]\n",
      "[87, 123, -29360, -870335752, 28410, 7, 6422998833775044697, -106, 17324, -158992544771589034579813200314765882973]\n",
      "[1459651331]\n",
      "[1459651331, 1459651331]\n",
      "[1459651331, -44]\n",
      "[746619009]\n",
      "[-136549394449477370553372112355668778566, -95, 20430, -23693, 102]\n",
      "[-136549394449477370553372112355668778566, -95, 20430, -23693, 102]\n"
     ]
    }
   ],
   "source": [
    "@given(st.lists(st.integers(), max_size=100))\n",
    "def test_qsort(lst):\n",
    "    print(lst)\n",
    "    expected = sorted(lst)\n",
    "    quicksort(lst)\n",
    "    assert lst == expected, (lst, expected)\n",
    "    \n",
    "test_qsort()"
   ]
  },
  {
   "cell_type": "code",
   "execution_count": 22,
   "metadata": {},
   "outputs": [
    {
     "ename": "SyntaxError",
     "evalue": "invalid syntax (Temp/ipykernel_16084/809897477.py, line 4)",
     "output_type": "error",
     "traceback": [
      "\u001b[1;36m  File \u001b[1;32m\"C:\\Users\\mikol\\AppData\\Local\\Temp/ipykernel_16084/809897477.py\"\u001b[1;36m, line \u001b[1;32m4\u001b[0m\n\u001b[1;33m    1, 2 -> 18\u001b[0m\n\u001b[1;37m         ^\u001b[0m\n\u001b[1;31mSyntaxError\u001b[0m\u001b[1;31m:\u001b[0m invalid syntax\n"
     ]
    }
   ],
   "source": []
  },
  {
   "cell_type": "markdown",
   "metadata": {},
   "source": [
    "# Module unittests\n",
    "\n",
    "More versatile tool and flexible than plain asserts"
   ]
  },
  {
   "cell_type": "code",
   "execution_count": 24,
   "metadata": {},
   "outputs": [
    {
     "name": "stderr",
     "output_type": "stream",
     "text": [
      "test_truncate_operation (__main__.TestFileOperations) ... ERROR\n",
      "test_write_on_closed_file (__main__.TestFileOperations) ... ERROR\n",
      "test_write_operation (__main__.TestFileOperations) ... ERROR\n",
      "test_frange_2_params (__main__.TestFrange) ... ok\n",
      "test_frange_2_params_empty_result (__main__.TestFrange) ... ok\n",
      "test_frange_custom_step (__main__.TestFrange) ... ok\n",
      "test_frange_reverse_order (__main__.TestFrange) ... ok\n",
      "test_frange_single_param (__main__.TestFrange) ... FAIL\n",
      "\n",
      "======================================================================\n",
      "ERROR: test_truncate_operation (__main__.TestFileOperations)\n",
      "----------------------------------------------------------------------\n",
      "Traceback (most recent call last):\n",
      "  File \"C:\\Users\\mikol\\AppData\\Local\\Temp\\ipykernel_30304\\2613248743.py\", line 5, in setUp\n",
      "    self._file = open('/tmp/file.txt', 'w+')\n",
      "FileNotFoundError: [Errno 2] No such file or directory: '/tmp/file.txt'\n",
      "\n",
      "======================================================================\n",
      "ERROR: test_write_on_closed_file (__main__.TestFileOperations)\n",
      "----------------------------------------------------------------------\n",
      "Traceback (most recent call last):\n",
      "  File \"C:\\Users\\mikol\\AppData\\Local\\Temp\\ipykernel_30304\\2613248743.py\", line 5, in setUp\n",
      "    self._file = open('/tmp/file.txt', 'w+')\n",
      "FileNotFoundError: [Errno 2] No such file or directory: '/tmp/file.txt'\n",
      "\n",
      "======================================================================\n",
      "ERROR: test_write_operation (__main__.TestFileOperations)\n",
      "----------------------------------------------------------------------\n",
      "Traceback (most recent call last):\n",
      "  File \"C:\\Users\\mikol\\AppData\\Local\\Temp\\ipykernel_30304\\2613248743.py\", line 5, in setUp\n",
      "    self._file = open('/tmp/file.txt', 'w+')\n",
      "FileNotFoundError: [Errno 2] No such file or directory: '/tmp/file.txt'\n",
      "\n",
      "======================================================================\n",
      "FAIL: test_frange_single_param (__main__.TestFrange)\n",
      "----------------------------------------------------------------------\n",
      "Traceback (most recent call last):\n",
      "  File \"C:\\Users\\mikol\\AppData\\Local\\Temp\\ipykernel_30304\\2201650623.py\", line 15, in test_frange_single_param\n",
      "    self.assertEqual(list(frange(5)), [0, 1, 2, 3, 4, 5])\n",
      "AssertionError: Lists differ: [Decimal('0'), Decimal('1'), Decimal('2'), Decimal('3'), Decimal('4')] != [0, 1, 2, 3, 4, 5]\n",
      "\n",
      "Second list contains 1 additional elements.\n",
      "First extra element 5:\n",
      "5\n",
      "\n",
      "- [Decimal('0'), Decimal('1'), Decimal('2'), Decimal('3'), Decimal('4')]\n",
      "+ [0, 1, 2, 3, 4, 5]\n",
      "\n",
      "----------------------------------------------------------------------\n",
      "Ran 8 tests in 0.010s\n",
      "\n",
      "FAILED (failures=1, errors=3)\n"
     ]
    },
    {
     "name": "stdout",
     "output_type": "stream",
     "text": [
      "setUp\n",
      "setUp\n",
      "setUp\n"
     ]
    },
    {
     "data": {
      "text/plain": [
       "<unittest.main.TestProgram at 0x17e85bea710>"
      ]
     },
     "execution_count": 24,
     "metadata": {},
     "output_type": "execute_result"
    }
   ],
   "source": [
    "import unittest\n",
    "\n",
    "# 1. normal data\n",
    "# 2. corner values (1, -1)\n",
    "# 3. corner values + 1\n",
    "# 4. wrong types\n",
    "# 5. exceptions\n",
    "# 6. empty values\n",
    "\n",
    "\n",
    "class TestFrange(unittest.TestCase):\n",
    "\n",
    "    def test_frange_single_param(self):\n",
    "#         assert (list(frange(7)) == [0, 1, 2, 3, 4])\n",
    "        self.assertEqual(list(frange(5)), [0, 1, 2, 3, 4, 5])\n",
    "    \n",
    "    def test_frange_2_params(self):\n",
    "        self.assertEqual(list(frange(2, 5)), [2, 3, 4])\n",
    "        \n",
    "    def test_frange_2_params_empty_result(self):\n",
    "        self.assertEqual(list(frange(5, 2)), [])\n",
    "\n",
    "    def test_frange_custom_step(self):\n",
    "        self.assertEqual(list(frange(2, 10, 2)), [2, 4, 6, 8])\n",
    "\n",
    "    def test_frange_reverse_order(self):\n",
    "        self.assertEqual(list(frange(10, 2, -2)), [10, 8, 6, 4])\n",
    "\n",
    "unittest.main(argv=[''], verbosity=2, exit=False)"
   ]
  },
  {
   "cell_type": "code",
   "execution_count": null,
   "metadata": {},
   "outputs": [],
   "source": []
  },
  {
   "cell_type": "markdown",
   "metadata": {},
   "source": [
    "#### Run:\n",
    "\n",
    "python -m unittests test_frange.py\n",
    "\n",
    "unittest.main()"
   ]
  },
  {
   "cell_type": "code",
   "execution_count": null,
   "metadata": {},
   "outputs": [],
   "source": [
    "# Names are important: class Test*, test_* for methods"
   ]
  },
  {
   "cell_type": "code",
   "execution_count": 7,
   "metadata": {},
   "outputs": [],
   "source": [
    "class TestFileOperations(unittest.TestCase):\n",
    "\n",
    "    def setUp(self):\n",
    "        print('setUp')\n",
    "        self._file = open('/tmp/file.txt', 'w+')\n",
    "\n",
    "    def tearDown(self):\n",
    "        print('tearDown')\n",
    "        self._file.close()\n",
    "\n",
    "    def test_write_operation(self):\n",
    "        data = 'test'\n",
    "        self._file.write(data)\n",
    "        self._file.seek(0)\n",
    "        data_read = self._file.read()\n",
    "        self.assertEqual(data_read, data)\n",
    "\n",
    "    def test_truncate_operation(self):\n",
    "        data = 'test'\n",
    "        self._file.write(data)\n",
    "        self._file.truncate(0)\n",
    "        data_read = self._file.read()\n",
    "        self.assertEqual(data_read, '')\n",
    "\n",
    "    def test_write_on_closed_file(self):\n",
    "        data = 'test'\n",
    "        self._file.write(data)\n",
    "        self._file.close()\n",
    "        with self.assertRaises(ValueError) as ex:\n",
    "            self._file.write(data)\n",
    "        self.assertIsInstance(ex.exception, ValueError)\n",
    "\n",
    "    ..."
   ]
  },
  {
   "cell_type": "markdown",
   "metadata": {},
   "source": [
    "# PyTest"
   ]
  },
  {
   "cell_type": "markdown",
   "metadata": {},
   "source": [
    "unittests vs pytest:\n",
    "1. Less verbose code, more verbose error description\n",
    "2. Pythonic (PEP-8), doesn't enforce classes\n",
    "3. Compatible with unittests (recognize TestCase classes and execute them)\n",
    "\n",
    "pip install pytest\n",
    "\n",
    "python -m pytest tested_file.py"
   ]
  },
  {
   "cell_type": "code",
   "execution_count": 25,
   "metadata": {},
   "outputs": [],
   "source": [
    "def test_passing():\n",
    "    assert (1, 2, 3) == (1, 2, 3)\n",
    "    \n",
    "# test is ready :)"
   ]
  },
  {
   "cell_type": "code",
   "execution_count": 9,
   "metadata": {},
   "outputs": [
    {
     "name": "stdout",
     "output_type": "stream",
     "text": [
      "\u001b[1m======================================= test session starts =======================================\u001b[0m\n",
      "platform win32 -- Python 3.10.9, pytest-7.1.2, pluggy-1.0.0\n",
      "rootdir: D:\\Hillel\\python_materials\n",
      "plugins: anyio-3.5.0, hypothesis-6.45.1\n",
      "collected 13 items\n",
      "\n",
      "tmp9ot6npiy.py \u001b[32m.\u001b[0m\u001b[32m.\u001b[0m\u001b[32m.\u001b[0m\u001b[32m.\u001b[0m\u001b[32m.\u001b[0m\u001b[31mF\u001b[0m\u001b[31mF\u001b[0m\u001b[31mF\u001b[0m\u001b[31mF\u001b[0m\u001b[32m.\u001b[0m\u001b[31mE\u001b[0m\u001b[31mE\u001b[0m\u001b[31mE\u001b[0m\u001b[31m                                                                 [100%]\u001b[0m\n",
      "\n",
      "============================================= ERRORS ==============================================\n",
      "\u001b[31m\u001b[1m_____________________________ ERROR at setup of test_write_operation ______________________________\u001b[0m\n",
      "\n",
      "    \u001b[37m@pytest\u001b[39;49;00m.fixture\n",
      "    \u001b[94mdef\u001b[39;49;00m \u001b[92mfile\u001b[39;49;00m():\n",
      ">       file = \u001b[96mopen\u001b[39;49;00m(\u001b[33m'\u001b[39;49;00m\u001b[33m/tmp/file.txt\u001b[39;49;00m\u001b[33m'\u001b[39;49;00m, \u001b[33m'\u001b[39;49;00m\u001b[33mw+\u001b[39;49;00m\u001b[33m'\u001b[39;49;00m)\n",
      "\u001b[1m\u001b[31mE       FileNotFoundError: [Errno 2] No such file or directory: '/tmp/file.txt'\u001b[0m\n",
      "\n",
      "\u001b[1m\u001b[31mC:\\Users\\mikol\\AppData\\Local\\Temp\\ipykernel_30304\\2737270264.py\u001b[0m:6: FileNotFoundError\n",
      "\u001b[31m\u001b[1m____________________________ ERROR at setup of test_truncate_operation ____________________________\u001b[0m\n",
      "\n",
      "    \u001b[37m@pytest\u001b[39;49;00m.fixture\n",
      "    \u001b[94mdef\u001b[39;49;00m \u001b[92mfile\u001b[39;49;00m():\n",
      ">       file = \u001b[96mopen\u001b[39;49;00m(\u001b[33m'\u001b[39;49;00m\u001b[33m/tmp/file.txt\u001b[39;49;00m\u001b[33m'\u001b[39;49;00m, \u001b[33m'\u001b[39;49;00m\u001b[33mw+\u001b[39;49;00m\u001b[33m'\u001b[39;49;00m)\n",
      "\u001b[1m\u001b[31mE       FileNotFoundError: [Errno 2] No such file or directory: '/tmp/file.txt'\u001b[0m\n",
      "\n",
      "\u001b[1m\u001b[31mC:\\Users\\mikol\\AppData\\Local\\Temp\\ipykernel_30304\\2737270264.py\u001b[0m:6: FileNotFoundError\n",
      "\u001b[31m\u001b[1m___________________________ ERROR at setup of test_write_on_closed_file ___________________________\u001b[0m\n",
      "\n",
      "    \u001b[37m@pytest\u001b[39;49;00m.fixture\n",
      "    \u001b[94mdef\u001b[39;49;00m \u001b[92mfile\u001b[39;49;00m():\n",
      ">       file = \u001b[96mopen\u001b[39;49;00m(\u001b[33m'\u001b[39;49;00m\u001b[33m/tmp/file.txt\u001b[39;49;00m\u001b[33m'\u001b[39;49;00m, \u001b[33m'\u001b[39;49;00m\u001b[33mw+\u001b[39;49;00m\u001b[33m'\u001b[39;49;00m)\n",
      "\u001b[1m\u001b[31mE       FileNotFoundError: [Errno 2] No such file or directory: '/tmp/file.txt'\u001b[0m\n",
      "\n",
      "\u001b[1m\u001b[31mC:\\Users\\mikol\\AppData\\Local\\Temp\\ipykernel_30304\\2737270264.py\u001b[0m:6: FileNotFoundError\n",
      "============================================ FAILURES =============================================\n",
      "\u001b[31m\u001b[1m_______________________________ TestFrange.test_frange_single_param _______________________________\u001b[0m\n",
      "\n",
      "self = <__main__.TestFrange testMethod=test_frange_single_param>\n",
      "\n",
      "    \u001b[94mdef\u001b[39;49;00m \u001b[92mtest_frange_single_param\u001b[39;49;00m(\u001b[96mself\u001b[39;49;00m):\n",
      "        \u001b[90m# assert (list(frange(7)) == [0, 1, 2, 3, 4])\u001b[39;49;00m\n",
      ">       \u001b[96mself\u001b[39;49;00m.assertEqual(\u001b[96mlist\u001b[39;49;00m(frange(\u001b[94m5\u001b[39;49;00m)), [\u001b[94m0\u001b[39;49;00m, \u001b[94m1\u001b[39;49;00m, \u001b[94m2\u001b[39;49;00m, \u001b[94m3\u001b[39;49;00m, \u001b[94m4\u001b[39;49;00m, \u001b[94m5\u001b[39;49;00m])\n",
      "\u001b[1m\u001b[31mE       AssertionError: Lists differ: [Decimal('0'), Decimal('1'), Decimal('2'), Decimal('3'), Decimal('4')] != [0, 1, 2, 3, 4, 5]\u001b[0m\n",
      "\u001b[1m\u001b[31mE       \u001b[0m\n",
      "\u001b[1m\u001b[31mE       Second list contains 1 additional elements.\u001b[0m\n",
      "\u001b[1m\u001b[31mE       First extra element 5:\u001b[0m\n",
      "\u001b[1m\u001b[31mE       5\u001b[0m\n",
      "\u001b[1m\u001b[31mE       \u001b[0m\n",
      "\u001b[1m\u001b[31mE       - [Decimal('0'), Decimal('1'), Decimal('2'), Decimal('3'), Decimal('4')]\u001b[0m\n",
      "\u001b[1m\u001b[31mE       + [0, 1, 2, 3, 4, 5]\u001b[0m\n",
      "\n",
      "\u001b[1m\u001b[31mC:\\Users\\mikol\\AppData\\Local\\Temp\\ipykernel_30304\\1712239502.py\u001b[0m:21: AssertionError\n",
      "\u001b[31m\u001b[1m___________________________ TestFileOperations.test_truncate_operation ____________________________\u001b[0m\n",
      "\n",
      "self = <__main__.TestFileOperations testMethod=test_truncate_operation>\n",
      "\n",
      "    \u001b[94mdef\u001b[39;49;00m \u001b[92msetUp\u001b[39;49;00m(\u001b[96mself\u001b[39;49;00m):\n",
      "        \u001b[96mprint\u001b[39;49;00m(\u001b[33m'\u001b[39;49;00m\u001b[33msetUp\u001b[39;49;00m\u001b[33m'\u001b[39;49;00m)\n",
      ">       \u001b[96mself\u001b[39;49;00m._file = \u001b[96mopen\u001b[39;49;00m(\u001b[33m'\u001b[39;49;00m\u001b[33m/tmp/file.txt\u001b[39;49;00m\u001b[33m'\u001b[39;49;00m, \u001b[33m'\u001b[39;49;00m\u001b[33mw+\u001b[39;49;00m\u001b[33m'\u001b[39;49;00m)\n",
      "\u001b[1m\u001b[31mE       FileNotFoundError: [Errno 2] No such file or directory: '/tmp/file.txt'\u001b[0m\n",
      "\n",
      "\u001b[1m\u001b[31mC:\\Users\\mikol\\AppData\\Local\\Temp\\ipykernel_30304\\2613248743.py\u001b[0m:5: FileNotFoundError\n",
      "-------------------------------------- Captured stdout call ---------------------------------------\n",
      "setUp\n",
      "\u001b[31m\u001b[1m__________________________ TestFileOperations.test_write_on_closed_file ___________________________\u001b[0m\n",
      "\n",
      "self = <__main__.TestFileOperations testMethod=test_write_on_closed_file>\n",
      "\n",
      "    \u001b[94mdef\u001b[39;49;00m \u001b[92msetUp\u001b[39;49;00m(\u001b[96mself\u001b[39;49;00m):\n",
      "        \u001b[96mprint\u001b[39;49;00m(\u001b[33m'\u001b[39;49;00m\u001b[33msetUp\u001b[39;49;00m\u001b[33m'\u001b[39;49;00m)\n",
      ">       \u001b[96mself\u001b[39;49;00m._file = \u001b[96mopen\u001b[39;49;00m(\u001b[33m'\u001b[39;49;00m\u001b[33m/tmp/file.txt\u001b[39;49;00m\u001b[33m'\u001b[39;49;00m, \u001b[33m'\u001b[39;49;00m\u001b[33mw+\u001b[39;49;00m\u001b[33m'\u001b[39;49;00m)\n",
      "\u001b[1m\u001b[31mE       FileNotFoundError: [Errno 2] No such file or directory: '/tmp/file.txt'\u001b[0m\n",
      "\n",
      "\u001b[1m\u001b[31mC:\\Users\\mikol\\AppData\\Local\\Temp\\ipykernel_30304\\2613248743.py\u001b[0m:5: FileNotFoundError\n",
      "-------------------------------------- Captured stdout call ---------------------------------------\n",
      "setUp\n",
      "\u001b[31m\u001b[1m_____________________________ TestFileOperations.test_write_operation _____________________________\u001b[0m\n",
      "\n",
      "self = <__main__.TestFileOperations testMethod=test_write_operation>\n",
      "\n",
      "    \u001b[94mdef\u001b[39;49;00m \u001b[92msetUp\u001b[39;49;00m(\u001b[96mself\u001b[39;49;00m):\n",
      "        \u001b[96mprint\u001b[39;49;00m(\u001b[33m'\u001b[39;49;00m\u001b[33msetUp\u001b[39;49;00m\u001b[33m'\u001b[39;49;00m)\n",
      ">       \u001b[96mself\u001b[39;49;00m._file = \u001b[96mopen\u001b[39;49;00m(\u001b[33m'\u001b[39;49;00m\u001b[33m/tmp/file.txt\u001b[39;49;00m\u001b[33m'\u001b[39;49;00m, \u001b[33m'\u001b[39;49;00m\u001b[33mw+\u001b[39;49;00m\u001b[33m'\u001b[39;49;00m)\n",
      "\u001b[1m\u001b[31mE       FileNotFoundError: [Errno 2] No such file or directory: '/tmp/file.txt'\u001b[0m\n",
      "\n",
      "\u001b[1m\u001b[31mC:\\Users\\mikol\\AppData\\Local\\Temp\\ipykernel_30304\\2613248743.py\u001b[0m:5: FileNotFoundError\n",
      "-------------------------------------- Captured stdout call ---------------------------------------\n",
      "setUp\n",
      "\u001b[33m======================================== warnings summary =========================================\u001b[0m\n",
      "venv\\lib\\site-packages\\_pytest\\config\\__init__.py:1129\n",
      "  D:\\Hillel\\python_materials\\venv\\lib\\site-packages\\_pytest\\config\\__init__.py:1129: PytestAssertRewriteWarning: Module already imported so cannot be rewritten: hypothesis\n",
      "    self._mark_plugins_for_rewrite(hook)\n",
      "\n",
      "-- Docs: https://docs.pytest.org/en/stable/how-to/capture-warnings.html\n",
      "===================================== short test summary info =====================================\n",
      "FAILED tmp9ot6npiy.py::TestFrange::test_frange_single_param - AssertionError: Lists differ: [Deci...\n",
      "FAILED tmp9ot6npiy.py::TestFileOperations::test_truncate_operation - FileNotFoundError: [Errno 2]...\n",
      "FAILED tmp9ot6npiy.py::TestFileOperations::test_write_on_closed_file - FileNotFoundError: [Errno ...\n",
      "FAILED tmp9ot6npiy.py::TestFileOperations::test_write_operation - FileNotFoundError: [Errno 2] No...\n",
      "ERROR tmp9ot6npiy.py::test_write_operation - FileNotFoundError: [Errno 2] No such file or directo...\n",
      "ERROR tmp9ot6npiy.py::test_truncate_operation - FileNotFoundError: [Errno 2] No such file or dire...\n",
      "ERROR tmp9ot6npiy.py::test_write_on_closed_file - FileNotFoundError: [Errno 2] No such file or di...\n",
      "\u001b[31m======================== \u001b[31m\u001b[1m4 failed\u001b[0m, \u001b[32m6 passed\u001b[0m, \u001b[33m1 warning\u001b[0m, \u001b[31m\u001b[1m3 errors\u001b[0m\u001b[31m in 0.21s\u001b[0m\u001b[31m =========================\u001b[0m\n"
     ]
    },
    {
     "data": {
      "text/plain": [
       "<ExitCode.TESTS_FAILED: 1>"
      ]
     },
     "execution_count": 9,
     "metadata": {},
     "output_type": "execute_result"
    }
   ],
   "source": [
    "import pytest\n",
    "import ipytest\n",
    "\n",
    "@pytest.fixture\n",
    "def file():\n",
    "    file = open('/tmp/file.txt', 'w+')\n",
    "    yield file\n",
    "    file.close()\n",
    "\n",
    "def test_write_operation(file):\n",
    "    data = 'test'\n",
    "    file.write(data)\n",
    "    file.seek(0)\n",
    "    data_read = file.read()\n",
    "    assert data_read == data\n",
    "\n",
    "def test_truncate_operation(file):\n",
    "    data = 'test'\n",
    "    file.write(data)\n",
    "    file.truncate(0)\n",
    "    data_read = file.read()\n",
    "    assert data_read == ''\n",
    "\n",
    "def test_write_on_closed_file(file):\n",
    "    data = 'test'\n",
    "    file.write(data)\n",
    "    file.close()\n",
    "    with pytest.raises(ValueError) as ex:\n",
    "        file.write(data)\n",
    "    assert isinstance(ex.value, ValueError)\n",
    "\n",
    "ipytest.run()"
   ]
  },
  {
   "cell_type": "code",
   "execution_count": 27,
   "metadata": {},
   "outputs": [
    {
     "name": "stderr",
     "output_type": "stream",
     "text": [
      "ERROR: usage: ipykernel_launcher.py [options] [file_or_dir] [file_or_dir] [...]\n",
      "ipykernel_launcher.py: error: unrecognized arguments: -f\n",
      "  inifile: None\n",
      "  rootdir: D:\\Hillel\\python_materials\n",
      "\n"
     ]
    },
    {
     "data": {
      "text/plain": [
       "<ExitCode.USAGE_ERROR: 4>"
      ]
     },
     "execution_count": 27,
     "metadata": {},
     "output_type": "execute_result"
    }
   ],
   "source": []
  },
  {
   "cell_type": "code",
   "execution_count": null,
   "metadata": {
    "collapsed": true
   },
   "outputs": [],
   "source": []
  },
  {
   "cell_type": "markdown",
   "metadata": {},
   "source": [
    "# Best practices\n",
    "\n",
    "1. Cover corner cases: 0, 1, -1, len(lst)-1, len(lst)+1\n",
    "   - Test symmetry behaviour is also often good idea: a + b == b + a, decode/encode, load/dump, etc\n",
    "2. Cover all groups (equivalence class) of inputs: positive, negative, empty, large, small, ...\n",
    "3. Don't repeate tests for the same class: it is redundant.\n",
    "4. Tests should be isolated from each other (no order dependency)\n",
    "   - unittest might run tests in arbitrary order\n",
    "5. Tests should be atomic (test 1 feature), small and fast\n",
    "6. Tests should cover not only positive (when code works as expected), but negative cases as well (when code doesn't work when it is not supposed)\n",
    "   - test that errors are returned and exceptions are thrown\n",
    "7. External dependencies can be replaced with mocks.\n",
    "   - We don't want to test system libraries or frameworks"
   ]
  },
  {
   "cell_type": "code",
   "execution_count": 33,
   "metadata": {},
   "outputs": [],
   "source": [
    "# Bad examples\n",
    "\n",
    "class TestFrange(unittest.TestCase):\n",
    "\n",
    "    def test_frange_single_param(self):\n",
    "        self.assertEqual(list(frange(5)), [0, 1, 2, 3, 4])\n",
    "        self.assertEqual(list(frange(7)), [0, 1, 2, 3, 4, 5, 6])\n",
    "\n",
    "    def test_frange_2_params(self):\n",
    "        self.assertEqual(list(frange(2, 5)), [0, 1, 2, 3, 4, 5])\n",
    "        self.assertEqual(list(frange(5, 2)), [])\n",
    "    "
   ]
  },
  {
   "cell_type": "code",
   "execution_count": null,
   "metadata": {},
   "outputs": [],
   "source": []
  }
 ],
 "metadata": {
  "kernelspec": {
   "display_name": "Python 3 (ipykernel)",
   "language": "python",
   "name": "python3"
  },
  "language_info": {
   "codemirror_mode": {
    "name": "ipython",
    "version": 3
   },
   "file_extension": ".py",
   "mimetype": "text/x-python",
   "name": "python",
   "nbconvert_exporter": "python",
   "pygments_lexer": "ipython3",
   "version": "3.10.9"
  }
 },
 "nbformat": 4,
 "nbformat_minor": 4
}
