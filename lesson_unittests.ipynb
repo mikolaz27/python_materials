{
 "cells": [
  {
   "cell_type": "code",
   "execution_count": 34,
   "metadata": {},
   "outputs": [],
   "source": [
    "import time\n",
    "from decimal import Decimal\n",
    "from hypothesis import given, strategies as st"
   ]
  },
  {
   "cell_type": "markdown",
   "metadata": {},
   "source": [
    "\n",
    "# Motivation"
   ]
  },
  {
   "cell_type": "markdown",
   "metadata": {},
   "source": [
    "1. Verify correctness\n",
    "2. Verify correctness after modifications (regression testing)\n",
    "3. Example-based, how to use documentation\n",
    "4. Provoke good design: SOLID, flexible, modular"
   ]
  },
  {
   "cell_type": "markdown",
   "metadata": {},
   "source": [
    "<img src=\"https://www.worldofagile.com/wp-content/uploads/2018/03/Agile-Test-Pyramid.png\">"
   ]
  },
  {
   "cell_type": "code",
   "execution_count": 3,
   "metadata": {},
   "outputs": [],
   "source": [
    "# Let's say we want to implement frange"
   ]
  },
  {
   "cell_type": "code",
   "execution_count": 44,
   "metadata": {},
   "outputs": [],
   "source": [
    "def frange(start, stop=None, step=1):\n",
    "    if stop is None:\n",
    "        stop = start\n",
    "        start = 0\n",
    "#     if step == 0:\n",
    "#         raise ValueError('0 cant be used as step')\n",
    "\n",
    "    start = Decimal(str(start))\n",
    "    stop = Decimal(str(stop))\n",
    "    step = Decimal(str(step))\n",
    "    result = start\n",
    "\n",
    "    while (step > 0 and result < stop) or (step < 0 and result > stop):\n",
    "        yield result\n",
    "        result += step\n"
   ]
  },
  {
   "cell_type": "code",
   "execution_count": 36,
   "metadata": {},
   "outputs": [
    {
     "name": "stdout",
     "output_type": "stream",
     "text": [
      "0.1\n",
      "0.2\n",
      "0.3\n",
      "0.4\n",
      "0.5\n",
      "0.6\n",
      "0.7\n",
      "0.8\n",
      "0.9\n",
      "1.0\n",
      "1.1\n",
      "1.2\n",
      "1.3\n",
      "1.4\n",
      "1.5\n",
      "1.6\n",
      "1.7\n",
      "1.8\n",
      "1.9\n",
      "2.0\n",
      "2.1\n",
      "2.2\n",
      "2.3\n",
      "2.4\n",
      "2.5\n",
      "2.6\n",
      "2.7\n",
      "2.8\n",
      "2.9\n",
      "3.0\n",
      "3.1\n",
      "3.2\n",
      "3.3\n",
      "3.4\n",
      "3.5\n",
      "3.6\n",
      "3.7\n",
      "3.8\n",
      "3.9\n",
      "4.0\n",
      "4.1\n",
      "4.2\n",
      "4.3\n",
      "4.4\n",
      "4.5\n",
      "4.6\n",
      "4.7\n",
      "4.8\n",
      "4.9\n"
     ]
    }
   ],
   "source": [
    "# How to verify correctness?\n",
    "\n",
    "for i in frange(0.1, 5, 0.1):\n",
    "    print(i)"
   ]
  },
  {
   "cell_type": "code",
   "execution_count": 38,
   "metadata": {},
   "outputs": [
    {
     "ename": "AssertionError",
     "evalue": "",
     "output_type": "error",
     "traceback": [
      "\u001b[1;31m---------------------------------------------------------------------------\u001b[0m",
      "\u001b[1;31mAssertionError\u001b[0m                            Traceback (most recent call last)",
      "\u001b[1;32m~\\AppData\\Local\\Temp/ipykernel_34664/3017664728.py\u001b[0m in \u001b[0;36m<module>\u001b[1;34m\u001b[0m\n\u001b[1;32m----> 1\u001b[1;33m \u001b[1;32massert\u001b[0m \u001b[1;36m1\u001b[0m \u001b[1;33m==\u001b[0m \u001b[1;36m2\u001b[0m\u001b[1;33m\u001b[0m\u001b[1;33m\u001b[0m\u001b[0m\n\u001b[0m",
      "\u001b[1;31mAssertionError\u001b[0m: "
     ]
    }
   ],
   "source": [
    "assert 1 == 2"
   ]
  },
  {
   "cell_type": "code",
   "execution_count": 39,
   "metadata": {},
   "outputs": [
    {
     "name": "stdout",
     "output_type": "stream",
     "text": [
      "SUCCESS\n"
     ]
    }
   ],
   "source": [
    "# Primitive tests with asserts\n",
    "\n",
    "assert list(frange(5)) == [0, 1, 2, 3, 4]\n",
    "assert list(frange(2, 5)) == [2, 3, 4]\n",
    "assert list(frange(2, 10, 2)) == [2, 4, 6, 8]\n",
    "assert list(frange(10, 2, -2)) == [10, 8, 6, 4]\n",
    "assert list(frange(2, 5.5, 1.5)) == [2, 3.5, 5]\n",
    "assert list(frange(1, 5)) == [1, 2, 3, 4]\n",
    "assert list(frange(0, 5)) == [0, 1, 2, 3, 4]\n",
    "assert list(frange(1, 5, 0)) == []\n",
    "assert list(frange(0, 0)) == []\n",
    "assert list(frange(100, 0)) == []\n",
    "\n",
    "print('SUCCESS')"
   ]
  },
  {
   "cell_type": "code",
   "execution_count": 41,
   "metadata": {},
   "outputs": [
    {
     "ename": "AssertionError",
     "evalue": "[Decimal('0'), Decimal('1'), Decimal('2'), Decimal('3'), Decimal('4')] != [0, 1, 2, 3, 4, 6]",
     "output_type": "error",
     "traceback": [
      "\u001b[1;31m---------------------------------------------------------------------------\u001b[0m",
      "\u001b[1;31mAssertionError\u001b[0m                            Traceback (most recent call last)",
      "\u001b[1;32m~\\AppData\\Local\\Temp/ipykernel_34664/2721836574.py\u001b[0m in \u001b[0;36m<module>\u001b[1;34m\u001b[0m\n\u001b[0;32m      1\u001b[0m \u001b[1;31m# Verbose error messages can be passed as a second param\u001b[0m\u001b[1;33m\u001b[0m\u001b[1;33m\u001b[0m\u001b[0m\n\u001b[0;32m      2\u001b[0m \u001b[1;33m\u001b[0m\u001b[0m\n\u001b[1;32m----> 3\u001b[1;33m \u001b[1;32massert\u001b[0m \u001b[0mlist\u001b[0m\u001b[1;33m(\u001b[0m\u001b[0mfrange\u001b[0m\u001b[1;33m(\u001b[0m\u001b[1;36m5\u001b[0m\u001b[1;33m)\u001b[0m\u001b[1;33m)\u001b[0m \u001b[1;33m==\u001b[0m \u001b[1;33m[\u001b[0m\u001b[1;36m0\u001b[0m\u001b[1;33m,\u001b[0m \u001b[1;36m1\u001b[0m\u001b[1;33m,\u001b[0m \u001b[1;36m2\u001b[0m\u001b[1;33m,\u001b[0m \u001b[1;36m3\u001b[0m\u001b[1;33m,\u001b[0m \u001b[1;36m6\u001b[0m\u001b[1;33m]\u001b[0m\u001b[1;33m,\u001b[0m \u001b[1;34mf'{list(frange(5))} != [0, 1, 2, 3, 4, 6]'\u001b[0m\u001b[1;33m\u001b[0m\u001b[1;33m\u001b[0m\u001b[0m\n\u001b[0m\u001b[0;32m      4\u001b[0m \u001b[1;33m\u001b[0m\u001b[0m\n\u001b[0;32m      5\u001b[0m \u001b[1;33m\u001b[0m\u001b[0m\n",
      "\u001b[1;31mAssertionError\u001b[0m: [Decimal('0'), Decimal('1'), Decimal('2'), Decimal('3'), Decimal('4')] != [0, 1, 2, 3, 4, 6]"
     ]
    }
   ],
   "source": [
    "# Verbose error messages can be passed as a second param\n",
    "\n",
    "assert list(frange(5)) == [0, 1, 2, 3, 6], f'{list(frange(5))} != [0, 1, 2, 3, 4, 6]'\n",
    "\n",
    "\n",
    "# Is lazy evaluated on error, so inexpensive\n",
    "assert list(frange(5)) == [0, 1, 2, 3, 4], [0]*10000000000000"
   ]
  },
  {
   "cell_type": "markdown",
   "metadata": {},
   "source": [
    "# Hypothesys"
   ]
  },
  {
   "cell_type": "markdown",
   "metadata": {},
   "source": [
    "Good for computational test with ethalone to compare: (de)serializers, (de)encoders, sorting, etc\n",
    "\n",
    "pip install hypothesis\n",
    "\n",
    "https://hypothesis.readthedocs.io/en/latest/quickstart.html"
   ]
  },
  {
   "cell_type": "code",
   "execution_count": 46,
   "metadata": {},
   "outputs": [],
   "source": [
    "@given(\n",
    "    st.integers(min_value=-1000, max_value=1000),\n",
    "    st.integers(min_value=-1000, max_value=1000),\n",
    "    st.integers(min_value=-10, max_value=10).filter(lambda x: x != 0)\n",
    ")\n",
    "def test_frange(a, b, c):\n",
    "    assert list(frange(a, b, c)) == list(range(a, b, c))\n",
    "\n",
    "test_frange()"
   ]
  },
  {
   "cell_type": "code",
   "execution_count": null,
   "metadata": {},
   "outputs": [],
   "source": []
  },
  {
   "cell_type": "code",
   "execution_count": 47,
   "metadata": {},
   "outputs": [],
   "source": [
    "def partition(array, begin, end):\n",
    "    pivot = begin\n",
    "    for i in range(begin+1, end+1):\n",
    "        if array[i] <= array[begin]:\n",
    "            pivot += 1\n",
    "            array[i], array[pivot] = array[pivot], array[i]\n",
    "    array[pivot], array[begin] = array[begin], array[pivot]\n",
    "    return pivot\n",
    "\n",
    "\n",
    "\n",
    "def quicksort(array, begin=0, end=None):\n",
    "    if end is None:\n",
    "        end = len(array) - 1\n",
    "    def _quicksort(array, begin, end):\n",
    "        if begin >= end:\n",
    "            return\n",
    "        pivot = partition(array, begin, end)\n",
    "        _quicksort(array, begin, pivot-1)\n",
    "        _quicksort(array, pivot+1, end)\n",
    "    return _quicksort(array, begin, end)"
   ]
  },
  {
   "cell_type": "code",
   "execution_count": 49,
   "metadata": {},
   "outputs": [],
   "source": [
    "@given(st.lists(st.integers(), max_size=100))\n",
    "def test_qsort(lst):\n",
    "    expected = sorted(lst)\n",
    "    quicksort(lst)\n",
    "    assert lst == expected, (lst, expected)\n",
    "    \n",
    "test_qsort()"
   ]
  },
  {
   "cell_type": "code",
   "execution_count": null,
   "metadata": {},
   "outputs": [],
   "source": []
  },
  {
   "cell_type": "markdown",
   "metadata": {},
   "source": [
    "# Module unittests\n",
    "\n",
    "More versatile tool and flexible than plain asserts"
   ]
  },
  {
   "cell_type": "code",
   "execution_count": 50,
   "metadata": {},
   "outputs": [
    {
     "name": "stderr",
     "output_type": "stream",
     "text": [
      "test_truncate_operation (__main__.TestFileOperations) ... ERROR\n",
      "test_write_on_closed_file (__main__.TestFileOperations) ... ERROR\n",
      "test_write_operation (__main__.TestFileOperations) ... ERROR\n",
      "test_frange_2_params (__main__.TestFrange) ... FAIL\n",
      "test_frange_2_params_empty_result (__main__.TestFrange) ... ok\n",
      "test_frange_custom_step (__main__.TestFrange) ... ok\n",
      "test_frange_reverse_order (__main__.TestFrange) ... ok\n",
      "test_frange_single_param (__main__.TestFrange) ... FAIL\n",
      "\n",
      "======================================================================\n",
      "ERROR: test_truncate_operation (__main__.TestFileOperations)\n",
      "----------------------------------------------------------------------\n",
      "Traceback (most recent call last):\n",
      "  File \"C:\\Users\\dell\\AppData\\Local\\Temp/ipykernel_34664/2613248743.py\", line 5, in setUp\n",
      "    self._file = open('/tmp/file.txt', 'w+')\n",
      "FileNotFoundError: [Errno 2] No such file or directory: '/tmp/file.txt'\n",
      "\n",
      "======================================================================\n",
      "ERROR: test_write_on_closed_file (__main__.TestFileOperations)\n",
      "----------------------------------------------------------------------\n",
      "Traceback (most recent call last):\n",
      "  File \"C:\\Users\\dell\\AppData\\Local\\Temp/ipykernel_34664/2613248743.py\", line 5, in setUp\n",
      "    self._file = open('/tmp/file.txt', 'w+')\n",
      "FileNotFoundError: [Errno 2] No such file or directory: '/tmp/file.txt'\n",
      "\n",
      "======================================================================\n",
      "ERROR: test_write_operation (__main__.TestFileOperations)\n",
      "----------------------------------------------------------------------\n",
      "Traceback (most recent call last):\n",
      "  File \"C:\\Users\\dell\\AppData\\Local\\Temp/ipykernel_34664/2613248743.py\", line 5, in setUp\n",
      "    self._file = open('/tmp/file.txt', 'w+')\n",
      "FileNotFoundError: [Errno 2] No such file or directory: '/tmp/file.txt'\n",
      "\n",
      "======================================================================\n",
      "FAIL: test_frange_2_params (__main__.TestFrange)\n",
      "----------------------------------------------------------------------\n",
      "Traceback (most recent call last):\n",
      "  File \"C:\\Users\\dell\\AppData\\Local\\Temp/ipykernel_34664/3075203847.py\", line 11, in test_frange_2_params\n",
      "    self.assertEqual(list(frange(2, 5)), [0, 1, 2, 3, 4, 5])\n",
      "AssertionError: Lists differ: [Decimal('2'), Decimal('3'), Decimal('4')] != [0, 1, 2, 3, 4, 5]\n",
      "\n",
      "First differing element 0:\n",
      "Decimal('2')\n",
      "0\n",
      "\n",
      "Second list contains 3 additional elements.\n",
      "First extra element 3:\n",
      "3\n",
      "\n",
      "- [Decimal('2'), Decimal('3'), Decimal('4')]\n",
      "+ [0, 1, 2, 3, 4, 5]\n",
      "\n",
      "======================================================================\n",
      "FAIL: test_frange_single_param (__main__.TestFrange)\n",
      "----------------------------------------------------------------------\n",
      "Traceback (most recent call last):\n",
      "  File \"C:\\Users\\dell\\AppData\\Local\\Temp/ipykernel_34664/3075203847.py\", line 8, in test_frange_single_param\n",
      "    self.assertEqual(list(frange(5)), [0, 1, 2, 3, 4, 5])\n",
      "AssertionError: Lists differ: [Decimal('0'), Decimal('1'), Decimal('2'), Decimal('3'), Decimal('4')] != [0, 1, 2, 3, 4, 5]\n",
      "\n",
      "Second list contains 1 additional elements.\n",
      "First extra element 5:\n",
      "5\n",
      "\n",
      "- [Decimal('0'), Decimal('1'), Decimal('2'), Decimal('3'), Decimal('4')]\n",
      "+ [0, 1, 2, 3, 4, 5]\n",
      "\n",
      "----------------------------------------------------------------------\n",
      "Ran 8 tests in 0.009s\n",
      "\n",
      "FAILED (failures=2, errors=3)\n"
     ]
    },
    {
     "name": "stdout",
     "output_type": "stream",
     "text": [
      "setUp\n",
      "setUp\n",
      "setUp\n"
     ]
    },
    {
     "data": {
      "text/plain": [
       "<unittest.main.TestProgram at 0x12df06ba020>"
      ]
     },
     "execution_count": 50,
     "metadata": {},
     "output_type": "execute_result"
    }
   ],
   "source": [
    "import unittest\n",
    "\n",
    "\n",
    "class TestFrange(unittest.TestCase):\n",
    "\n",
    "    def test_frange_single_param(self):\n",
    "        # assert (list(frange(5)) == [0, 1, 2, 3, 4])\n",
    "        self.assertEqual(list(frange(5)), [0, 1, 2, 3, 4, 5])\n",
    "\n",
    "    def test_frange_2_params(self):\n",
    "        self.assertEqual(list(frange(2, 5)), [0, 1, 2, 3, 4, 5])\n",
    "        \n",
    "    def test_frange_2_params_empty_result(self):\n",
    "        self.assertEqual(list(frange(5, 2)), [])\n",
    "\n",
    "    def test_frange_custom_step(self):\n",
    "        self.assertEqual(list(frange(2, 10, 2)), [2, 4, 6, 8])\n",
    "\n",
    "    def test_frange_reverse_order(self):\n",
    "        self.assertEqual(list(frange(10, 2, -2)), [10, 8, 6, 4])\n",
    "\n",
    "unittest.main(argv=[''], verbosity=2, exit=False)"
   ]
  },
  {
   "cell_type": "markdown",
   "metadata": {},
   "source": [
    "#### Run:\n",
    "\n",
    "python -m unittests test_frange.py\n",
    "\n",
    "unittest.main()"
   ]
  },
  {
   "cell_type": "code",
   "execution_count": null,
   "metadata": {},
   "outputs": [],
   "source": [
    "# Names are important: class Test*, test_* for methods"
   ]
  },
  {
   "cell_type": "code",
   "execution_count": 21,
   "metadata": {},
   "outputs": [],
   "source": [
    "class TestFileOperations(unittest.TestCase):\n",
    "\n",
    "    def setUp(self):\n",
    "        print('setUp')\n",
    "        self._file = open('/tmp/file.txt', 'w+')\n",
    "\n",
    "    def tearDown(self):\n",
    "        print('tearDown')\n",
    "        self._file.close()\n",
    "\n",
    "    def test_write_operation(self):\n",
    "        data = 'test'\n",
    "        self._file.write(data)\n",
    "        self._file.seek(0)\n",
    "        data_read = self._file.read()\n",
    "        self.assertEqual(data_read, data)\n",
    "\n",
    "    def test_truncate_operation(self):\n",
    "        data = 'test'\n",
    "        self._file.write(data)\n",
    "        self._file.truncate(0)\n",
    "        data_read = self._file.read()\n",
    "        self.assertEqual(data_read, '')\n",
    "\n",
    "    def test_write_on_closed_file(self):\n",
    "        data = 'test'\n",
    "        self._file.write(data)\n",
    "        self._file.close()\n",
    "        with self.assertRaises(ValueError) as ex:\n",
    "            self._file.write(data)\n",
    "        self.assertIsInstance(ex.exception, ValueError)\n",
    "\n",
    "    ..."
   ]
  },
  {
   "cell_type": "markdown",
   "metadata": {},
   "source": [
    "# PyTest"
   ]
  },
  {
   "cell_type": "markdown",
   "metadata": {},
   "source": [
    "unittests vs pytest:\n",
    "1. Less verbose code, more verbose error description\n",
    "2. Pythonic (PEP-8), doesn't enforce classes\n",
    "3. Compatible with unittests (recognize TestCase classes and execute them)\n",
    "\n",
    "pip install pytest\n",
    "\n",
    "python -m pytest tested_file.py"
   ]
  },
  {
   "cell_type": "code",
   "execution_count": 22,
   "metadata": {},
   "outputs": [],
   "source": [
    "def test_passing():\n",
    "    assert (1, 2, 3) == (1, 2, 3)\n",
    "    \n",
    "# test is ready :)"
   ]
  },
  {
   "cell_type": "code",
   "execution_count": 32,
   "metadata": {},
   "outputs": [
    {
     "name": "stdout",
     "output_type": "stream",
     "text": [
      "======================================= test session starts =======================================\n",
      "platform win32 -- Python 3.10.2, pytest-7.1.2, pluggy-1.0.0\n",
      "rootdir: D:\\Hillel\\python_materials\n",
      "plugins: anyio-3.5.0, hypothesis-6.45.1\n",
      "collected 14 items\n",
      "\n",
      "tmp0t_hzx6f.py ..F...FFFF.EEE                                                                [100%]\n",
      "\n",
      "============================================= ERRORS ==============================================\n",
      "_____________________________ ERROR at setup of test_write_operation ______________________________\n",
      "\n",
      "    @pytest.fixture\n",
      "    def file():\n",
      ">       file = open('/tmp/file.txt', 'w+')\n",
      "E       FileNotFoundError: [Errno 2] No such file or directory: '/tmp/file.txt'\n",
      "\n",
      "C:\\Users\\dell\\AppData\\Local\\Temp/ipykernel_34664/2737270264.py:6: FileNotFoundError\n",
      "____________________________ ERROR at setup of test_truncate_operation ____________________________\n",
      "\n",
      "    @pytest.fixture\n",
      "    def file():\n",
      ">       file = open('/tmp/file.txt', 'w+')\n",
      "E       FileNotFoundError: [Errno 2] No such file or directory: '/tmp/file.txt'\n",
      "\n",
      "C:\\Users\\dell\\AppData\\Local\\Temp/ipykernel_34664/2737270264.py:6: FileNotFoundError\n",
      "___________________________ ERROR at setup of test_write_on_closed_file ___________________________\n",
      "\n",
      "    @pytest.fixture\n",
      "    def file():\n",
      ">       file = open('/tmp/file.txt', 'w+')\n",
      "E       FileNotFoundError: [Errno 2] No such file or directory: '/tmp/file.txt'\n",
      "\n",
      "C:\\Users\\dell\\AppData\\Local\\Temp/ipykernel_34664/2737270264.py:6: FileNotFoundError\n",
      "============================================ FAILURES =============================================\n",
      "_________________________________ TestFrange.test_frange_2_params _________________________________\n",
      "\n",
      "self = <__main__.TestFrange testMethod=test_frange_2_params>\n",
      "\n",
      "    def test_frange_2_params(self):\n",
      ">       self.assertEqual(list(frange(2, 5)), [0, 1, 2, 3, 4, 5])\n",
      "E       AssertionError: Lists differ: [Decimal('2'), Decimal('3'), Decimal('4')] != [0, 1, 2, 3, 4, 5]\n",
      "E       \n",
      "E       First differing element 0:\n",
      "E       Decimal('2')\n",
      "E       0\n",
      "E       \n",
      "E       Second list contains 3 additional elements.\n",
      "E       First extra element 3:\n",
      "E       3\n",
      "E       \n",
      "E       - [Decimal('2'), Decimal('3'), Decimal('4')]\n",
      "E       + [0, 1, 2, 3, 4, 5]\n",
      "\n",
      "C:\\Users\\dell\\AppData\\Local\\Temp/ipykernel_34664/3075203847.py:11: AssertionError\n",
      "_______________________________ TestFrange.test_frange_single_param _______________________________\n",
      "\n",
      "self = <__main__.TestFrange testMethod=test_frange_single_param>\n",
      "\n",
      "    def test_frange_single_param(self):\n",
      "        # assert (list(frange(5)) == [0, 1, 2, 3, 4])\n",
      ">       self.assertEqual(list(frange(5)), [0, 1, 2, 3, 4, 5])\n",
      "E       AssertionError: Lists differ: [Decimal('0'), Decimal('1'), Decimal('2'), Decimal('3'), Decimal('4')] != [0, 1, 2, 3, 4, 5]\n",
      "E       \n",
      "E       Second list contains 1 additional elements.\n",
      "E       First extra element 5:\n",
      "E       5\n",
      "E       \n",
      "E       - [Decimal('0'), Decimal('1'), Decimal('2'), Decimal('3'), Decimal('4')]\n",
      "E       + [0, 1, 2, 3, 4, 5]\n",
      "\n",
      "C:\\Users\\dell\\AppData\\Local\\Temp/ipykernel_34664/3075203847.py:8: AssertionError\n",
      "___________________________ TestFileOperations.test_truncate_operation ____________________________\n",
      "\n",
      "self = <__main__.TestFileOperations testMethod=test_truncate_operation>\n",
      "\n",
      "    def setUp(self):\n",
      "        print('setUp')\n",
      ">       self._file = open('/tmp/file.txt', 'w+')\n",
      "E       FileNotFoundError: [Errno 2] No such file or directory: '/tmp/file.txt'\n",
      "\n",
      "C:\\Users\\dell\\AppData\\Local\\Temp/ipykernel_34664/2613248743.py:5: FileNotFoundError\n",
      "-------------------------------------- Captured stdout call ---------------------------------------\n",
      "setUp\n",
      "__________________________ TestFileOperations.test_write_on_closed_file ___________________________\n",
      "\n",
      "self = <__main__.TestFileOperations testMethod=test_write_on_closed_file>\n",
      "\n",
      "    def setUp(self):\n",
      "        print('setUp')\n",
      ">       self._file = open('/tmp/file.txt', 'w+')\n",
      "E       FileNotFoundError: [Errno 2] No such file or directory: '/tmp/file.txt'\n",
      "\n",
      "C:\\Users\\dell\\AppData\\Local\\Temp/ipykernel_34664/2613248743.py:5: FileNotFoundError\n",
      "-------------------------------------- Captured stdout call ---------------------------------------\n",
      "setUp\n",
      "_____________________________ TestFileOperations.test_write_operation _____________________________\n",
      "\n",
      "self = <__main__.TestFileOperations testMethod=test_write_operation>\n",
      "\n",
      "    def setUp(self):\n",
      "        print('setUp')\n",
      ">       self._file = open('/tmp/file.txt', 'w+')\n",
      "E       FileNotFoundError: [Errno 2] No such file or directory: '/tmp/file.txt'\n",
      "\n",
      "C:\\Users\\dell\\AppData\\Local\\Temp/ipykernel_34664/2613248743.py:5: FileNotFoundError\n",
      "-------------------------------------- Captured stdout call ---------------------------------------\n",
      "setUp\n",
      "======================================== warnings summary =========================================\n",
      "venv\\lib\\site-packages\\_pytest\\config\\__init__.py:1129\n",
      "  D:\\Hillel\\python_materials\\venv\\lib\\site-packages\\_pytest\\config\\__init__.py:1129: PytestAssertRewriteWarning: Module already imported so cannot be rewritten: hypothesis\n",
      "    self._mark_plugins_for_rewrite(hook)\n",
      "\n",
      "-- Docs: https://docs.pytest.org/en/stable/how-to/capture-warnings.html\n",
      "===================================== short test summary info =====================================\n",
      "FAILED tmp0t_hzx6f.py::TestFrange::test_frange_2_params - AssertionError: Lists differ: [Decimal(...\n",
      "FAILED tmp0t_hzx6f.py::TestFrange::test_frange_single_param - AssertionError: Lists differ: [Deci...\n",
      "FAILED tmp0t_hzx6f.py::TestFileOperations::test_truncate_operation - FileNotFoundError: [Errno 2]...\n",
      "FAILED tmp0t_hzx6f.py::TestFileOperations::test_write_on_closed_file - FileNotFoundError: [Errno ...\n",
      "FAILED tmp0t_hzx6f.py::TestFileOperations::test_write_operation - FileNotFoundError: [Errno 2] No...\n",
      "ERROR tmp0t_hzx6f.py::test_write_operation - FileNotFoundError: [Errno 2] No such file or directo...\n",
      "ERROR tmp0t_hzx6f.py::test_truncate_operation - FileNotFoundError: [Errno 2] No such file or dire...\n",
      "ERROR tmp0t_hzx6f.py::test_write_on_closed_file - FileNotFoundError: [Errno 2] No such file or di...\n",
      "======================== 5 failed, 6 passed, 1 warning, 3 errors in 0.26s =========================\n"
     ]
    },
    {
     "data": {
      "text/plain": [
       "<ExitCode.TESTS_FAILED: 1>"
      ]
     },
     "execution_count": 32,
     "metadata": {},
     "output_type": "execute_result"
    }
   ],
   "source": [
    "import pytest\n",
    "import ipytest\n",
    "\n",
    "@pytest.fixture\n",
    "def file():\n",
    "    file = open('/tmp/file.txt', 'w+')\n",
    "    yield file\n",
    "    file.close()\n",
    "\n",
    "def test_write_operation(file):\n",
    "    data = 'test'\n",
    "    file.write(data)\n",
    "    file.seek(0)\n",
    "    data_read = file.read()\n",
    "    assert data_read == data\n",
    "\n",
    "def test_truncate_operation(file):\n",
    "    data = 'test'\n",
    "    file.write(data)\n",
    "    file.truncate(0)\n",
    "    data_read = file.read()\n",
    "    assert data_read == ''\n",
    "\n",
    "def test_write_on_closed_file(file):\n",
    "    data = 'test'\n",
    "    file.write(data)\n",
    "    file.close()\n",
    "    with pytest.raises(ValueError) as ex:\n",
    "        file.write(data)\n",
    "    assert isinstance(ex.value, ValueError)\n",
    "\n",
    "ipytest.run()"
   ]
  },
  {
   "cell_type": "code",
   "execution_count": 27,
   "metadata": {},
   "outputs": [
    {
     "name": "stderr",
     "output_type": "stream",
     "text": [
      "ERROR: usage: ipykernel_launcher.py [options] [file_or_dir] [file_or_dir] [...]\n",
      "ipykernel_launcher.py: error: unrecognized arguments: -f\n",
      "  inifile: None\n",
      "  rootdir: D:\\Hillel\\python_materials\n",
      "\n"
     ]
    },
    {
     "data": {
      "text/plain": [
       "<ExitCode.USAGE_ERROR: 4>"
      ]
     },
     "execution_count": 27,
     "metadata": {},
     "output_type": "execute_result"
    }
   ],
   "source": []
  },
  {
   "cell_type": "code",
   "execution_count": null,
   "metadata": {
    "collapsed": true
   },
   "outputs": [],
   "source": []
  },
  {
   "cell_type": "markdown",
   "metadata": {},
   "source": [
    "# Best practices\n",
    "\n",
    "1. Cover corner cases: 0, 1, -1, len(lst)-1, len(lst)+1\n",
    "   - Test symmetry behaviour is also often good idea: a + b == b + a, decode/encode, load/dump, etc\n",
    "2. Cover all groups (equivalence class) of inputs: positive, negative, empty, large, small, ...\n",
    "3. Don't repeate tests for the same class: it is redundant.\n",
    "4. Tests should be isolated from each other (no order dependency)\n",
    "   - unittest might run tests in arbitrary order\n",
    "5. Tests should be atomic (test 1 feature), small and fast\n",
    "6. Tests should cover not only positive (when code works as expected), but negative cases as well (when code doesn't work when it is not supposed)\n",
    "   - test that errors are returned and exceptions are thrown\n",
    "7. External dependencies can be replaced with mocks.\n",
    "   - We don't want to test system libraries or frameworks"
   ]
  },
  {
   "cell_type": "code",
   "execution_count": 33,
   "metadata": {},
   "outputs": [],
   "source": [
    "# Bad examples\n",
    "\n",
    "class TestFrange(unittest.TestCase):\n",
    "\n",
    "    def test_frange_single_param(self):\n",
    "        self.assertEqual(list(frange(5)), [0, 1, 2, 3, 4])\n",
    "        self.assertEqual(list(frange(7)), [0, 1, 2, 3, 4, 5, 6])\n",
    "\n",
    "    def test_frange_2_params(self):\n",
    "        self.assertEqual(list(frange(2, 5)), [0, 1, 2, 3, 4, 5])\n",
    "        self.assertEqual(list(frange(5, 2)), [])"
   ]
  },
  {
   "cell_type": "code",
   "execution_count": null,
   "metadata": {},
   "outputs": [],
   "source": []
  }
 ],
 "metadata": {
  "kernelspec": {
   "display_name": "Python 3 (ipykernel)",
   "language": "python",
   "name": "python3"
  },
  "language_info": {
   "codemirror_mode": {
    "name": "ipython",
    "version": 3
   },
   "file_extension": ".py",
   "mimetype": "text/x-python",
   "name": "python",
   "nbconvert_exporter": "python",
   "pygments_lexer": "ipython3",
   "version": "3.10.2"
  }
 },
 "nbformat": 4,
 "nbformat_minor": 4
}
