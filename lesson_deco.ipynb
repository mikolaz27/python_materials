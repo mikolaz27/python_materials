{
 "cells": [
  {
   "cell_type": "code",
   "execution_count": 4,
   "metadata": {},
   "outputs": [],
   "source": [
    "import pathlib\n",
    "import os\n",
    "import random\n",
    "import time\n",
    "import timeit\n",
    "import functools\n",
    "from collections import OrderedDict\n",
    "import requests\n",
    "import sys\n",
    "\n",
    "from time import sleep"
   ]
  },
  {
   "cell_type": "code",
   "execution_count": 5,
   "metadata": {},
   "outputs": [],
   "source": [
    "x = 1"
   ]
  },
  {
   "cell_type": "markdown",
   "metadata": {},
   "source": [
    "### Function basics"
   ]
  },
  {
   "cell_type": "code",
   "execution_count": 6,
   "metadata": {
    "pycharm": {
     "name": "#%%\n"
    }
   },
   "outputs": [
    {
     "name": "stdout",
     "output_type": "stream",
     "text": [
      "1 2 3\n",
      "1 2 3\n"
     ]
    }
   ],
   "source": [
    "def func(x, y, z):\n",
    "    print(x, y, z)\n",
    "\n",
    "func(1, 2, 3)\n",
    "func(x=1, z=3, y=2)"
   ]
  },
  {
   "cell_type": "code",
   "execution_count": 13,
   "metadata": {
    "pycharm": {
     "name": "#%%\n"
    }
   },
   "outputs": [
    {
     "name": "stdout",
     "output_type": "stream",
     "text": [
      "xyz 43 (0, 1)\n"
     ]
    }
   ],
   "source": [
    "def func(x='abc', y=42, z=None):\n",
    "    print(x, y, z)\n",
    "\n",
    "# func()\n",
    "# func('xyz')\n",
    "# func(,y=43)\n",
    "# func(43, z=12)\n",
    "# func(y=43)\n",
    "# func('xyz', 43, (0,1))"
   ]
  },
  {
   "cell_type": "code",
   "execution_count": null,
   "metadata": {
    "pycharm": {
     "name": "#%%\n"
    }
   },
   "outputs": [],
   "source": [
    "class BaseModelForm(BaseForm):\n",
    "    def __init__(self, data=None, files=None, auto_id='id_%s', prefix=None,\n",
    "                 initial=None, error_class=ErrorList, label_suffix=None,\n",
    "                 empty_permitted=False, instance=None, use_required_attribute=None,\n",
    "                 renderer=None):\n",
    "        ...\n",
    "        \n",
    "BaseModelForm(files='test')"
   ]
  },
  {
   "cell_type": "code",
   "execution_count": 15,
   "metadata": {
    "pycharm": {
     "name": "#%%\n"
    },
    "tags": []
   },
   "outputs": [
    {
     "name": "stdout",
     "output_type": "stream",
     "text": [
      "('xyz',)\n",
      "('xyz', 43, (0, 1))\n",
      "(1, 2, 3, 3, 3, 4, 5, 56, 56, 5, 6, 7, 7, 6)\n"
     ]
    },
    {
     "data": {
      "text/plain": [
       "(1, 2, 3, 3, 3, 4, 5, 56, 56, 5, 6, 7, 7, 6)"
      ]
     },
     "execution_count": 15,
     "metadata": {},
     "output_type": "execute_result"
    }
   ],
   "source": [
    "def func(*args):\n",
    "    print(args)\n",
    "    return args\n",
    "\n",
    "func('xyz')\n",
    "func('xyz', 43, (0,1))\n",
    "func(1,2,3,3,3,4,5,56,56,5,6,7,7,6,)"
   ]
  },
  {
   "cell_type": "code",
   "execution_count": 16,
   "metadata": {
    "scrolled": true
   },
   "outputs": [
    {
     "name": "stdout",
     "output_type": "stream",
     "text": [
      "<class 'str'>\n",
      "('xyz',)\n",
      "<class 'tuple'>\n",
      "<class 'function'>\n"
     ]
    }
   ],
   "source": [
    "print(type(\"x\"))\n",
    "print(type(func('xyz'))) \n",
    "print(type(func))"
   ]
  },
  {
   "cell_type": "code",
   "execution_count": 18,
   "metadata": {
    "pycharm": {
     "name": "#%%\n"
    }
   },
   "outputs": [
    {
     "name": "stdout",
     "output_type": "stream",
     "text": [
      "args: () , kwargs: {'y': 43, 'x': 45, 'parameter': 45}\n"
     ]
    }
   ],
   "source": [
    "def func(*args, **kwargs):\n",
    "    print('args:', args, ', kwargs:', kwargs)\n",
    "\n",
    "\n",
    "# func()\n",
    "# func('xyz')\n",
    "# func('xyz', 43, (0,1))\n",
    "# func(y=43, x=45, parameter=45)\n",
    "\n",
    "func(y=43, x=45, parameter=45)"
   ]
  },
  {
   "cell_type": "code",
   "execution_count": 21,
   "metadata": {},
   "outputs": [
    {
     "name": "stdout",
     "output_type": "stream",
     "text": [
      "1 2 3\n"
     ]
    }
   ],
   "source": [
    "# keyword args\n",
    "# could be default\n",
    "def func(x, y, *, z):\n",
    "    print(x, y, z)\n",
    "\n",
    "# func(1, 2, 3)    \n",
    "func(1, y=2, z=3)\n",
    "    "
   ]
  },
  {
   "cell_type": "code",
   "execution_count": 22,
   "metadata": {},
   "outputs": [
    {
     "name": "stdout",
     "output_type": "stream",
     "text": [
      "1 2 (3, 4, 5, 78, 78, 45, 4, 5) 12\n",
      "1 2 () 3\n"
     ]
    }
   ],
   "source": [
    "def func(x, y, *args, z):\n",
    "    print(x, y, args, z)\n",
    "\n",
    "func(1, 2, 3, 4,5,78,78,45,4,5, z=12)    \n",
    "func(1,2,z=3)\n",
    "    "
   ]
  },
  {
   "cell_type": "code",
   "execution_count": 23,
   "metadata": {},
   "outputs": [],
   "source": [
    "def append_numbers(a, b):\n",
    "    local_list = []\n",
    "    local_list.append(a)\n",
    "    local_list.append(b)\n",
    "    print(local_list)"
   ]
  },
  {
   "cell_type": "code",
   "execution_count": 29,
   "metadata": {},
   "outputs": [
    {
     "name": "stdout",
     "output_type": "stream",
     "text": [
      "I am using validator\n",
      "[1, 2]\n"
     ]
    }
   ],
   "source": [
    "def append_numbers(a, b, *, validator=None):\n",
    "    local_list = []\n",
    "    local_list.append(a)\n",
    "    local_list.append(b)\n",
    "    if validator:\n",
    "        print(\"I am using validator\")\n",
    "    print(local_list) \n",
    "\n",
    "append_numbers(1, 2, validator='validator')\n",
    "# append_numbers(1, 2, 3)\n"
   ]
  },
  {
   "cell_type": "code",
   "execution_count": 30,
   "metadata": {},
   "outputs": [
    {
     "data": {
      "text/plain": [
       "1.75"
      ]
     },
     "execution_count": 30,
     "metadata": {},
     "output_type": "execute_result"
    }
   ],
   "source": [
    "# def func(*,x, y, z):\n",
    "#     print(x, y, z)\n",
    "\n",
    "def calculate_salary(*, a, b, c):\n",
    "    return a * b / c \n",
    "\n",
    "calculate_salary(a=1,c=4,b=7)"
   ]
  },
  {
   "cell_type": "code",
   "execution_count": 32,
   "metadata": {},
   "outputs": [
    {
     "ename": "TypeError",
     "evalue": "func() got some positional-only arguments passed as keyword arguments: 'z'",
     "output_type": "error",
     "traceback": [
      "\u001b[1;31m---------------------------------------------------------------------------\u001b[0m",
      "\u001b[1;31mTypeError\u001b[0m                                 Traceback (most recent call last)",
      "Cell \u001b[1;32mIn[32], line 4\u001b[0m\n\u001b[0;32m      1\u001b[0m \u001b[38;5;28;01mdef\u001b[39;00m \u001b[38;5;21mfunc\u001b[39m(x, y, z, \u001b[38;5;241m/\u001b[39m):\n\u001b[0;32m      2\u001b[0m     \u001b[38;5;28mprint\u001b[39m(x, y, z)\n\u001b[1;32m----> 4\u001b[0m \u001b[43mfunc\u001b[49m\u001b[43m(\u001b[49m\u001b[38;5;241;43m1\u001b[39;49m\u001b[43m,\u001b[49m\u001b[38;5;241;43m2\u001b[39;49m\u001b[43m,\u001b[49m\u001b[43mz\u001b[49m\u001b[38;5;241;43m=\u001b[39;49m\u001b[38;5;241;43m3\u001b[39;49m\u001b[43m)\u001b[49m\n",
      "\u001b[1;31mTypeError\u001b[0m: func() got some positional-only arguments passed as keyword arguments: 'z'"
     ]
    }
   ],
   "source": [
    "def func(x, y, z, /):\n",
    "    print(x, y, z)\n",
    "    \n",
    "func(1,2,3)"
   ]
  },
  {
   "cell_type": "code",
   "execution_count": 37,
   "metadata": {},
   "outputs": [],
   "source": [
    "# 3.10\n",
    "# 1.1\n",
    "\n",
    "# 3.12\n",
    "# 1.1\n",
    "\n",
    "\n",
    "# backward compatible\n",
    "def check_variable(x, /):\n",
    "    \n",
    "# def check_variable(var, / ):\n",
    "    if not x:\n",
    "        raise ValueError(f\"should be variable with value\")\n",
    "\n",
    "check_variable(1)\n",
    "# check_variable(0)\n",
    "check_variable(0)\n",
    "# check_variable([])\n",
    "# check_variable('str')\n",
    "# check_variable({})\n"
   ]
  },
  {
   "cell_type": "code",
   "execution_count": null,
   "metadata": {},
   "outputs": [],
   "source": [
    "def _mod(x, y, /, *, mod):\n",
    "    return (x + y) % mod\n",
    "\n",
    "_mod(3, 5, mod=3)"
   ]
  },
  {
   "cell_type": "code",
   "execution_count": null,
   "metadata": {},
   "outputs": [],
   "source": [
    "# pos is faster \n"
   ]
  },
  {
   "cell_type": "code",
   "execution_count": null,
   "metadata": {},
   "outputs": [],
   "source": [
    "def func(x:str) -> None:\n",
    "    pass\n",
    "\n",
    "# x + func()"
   ]
  },
  {
   "cell_type": "markdown",
   "metadata": {},
   "source": [
    "### Everything is an object, so is a function"
   ]
  },
  {
   "cell_type": "code",
   "execution_count": 38,
   "metadata": {
    "pycharm": {
     "name": "#%%\n"
    }
   },
   "outputs": [
    {
     "data": {
      "text/plain": [
       "function"
      ]
     },
     "execution_count": 38,
     "metadata": {},
     "output_type": "execute_result"
    }
   ],
   "source": [
    "def func(x='abc', y=42, z=None):\n",
    "    print(x, y, z)\n",
    "\n",
    "func1 = func\n",
    "type(func1)"
   ]
  },
  {
   "cell_type": "code",
   "execution_count": 39,
   "metadata": {},
   "outputs": [
    {
     "name": "stdout",
     "output_type": "stream",
     "text": [
      "2345614787264 2345614787264\n",
      "abc 42 None\n",
      "abc 42 None\n"
     ]
    }
   ],
   "source": [
    "print(id(func1), id(func))\n",
    "func1()\n",
    "func()"
   ]
  },
  {
   "cell_type": "markdown",
   "metadata": {},
   "source": [
    "<img src=https://miro.medium.com/max/700/1*n0MVfelkQrJ_zBym4b3CSA.png>"
   ]
  },
  {
   "cell_type": "markdown",
   "metadata": {},
   "source": [
    "<img src=https://i.imgur.com/aye8Juy.png width=700>\n"
   ]
  },
  {
   "cell_type": "code",
   "execution_count": 40,
   "metadata": {
    "pycharm": {
     "name": "#%%\n"
    }
   },
   "outputs": [
    {
     "name": "stdout",
     "output_type": "stream",
     "text": [
      "Hello from foo\n",
      "Hello from bar\n"
     ]
    }
   ],
   "source": [
    "def func(f):\n",
    "    f()\n",
    "\n",
    "def foo():\n",
    "    print('Hello from foo')\n",
    "\n",
    "def bar():\n",
    "    print('Hello from bar')\n",
    "\n",
    "func(foo)\n",
    "func(bar)"
   ]
  },
  {
   "cell_type": "code",
   "execution_count": 41,
   "metadata": {
    "pycharm": {
     "name": "#%%\n"
    }
   },
   "outputs": [
    {
     "name": "stdout",
     "output_type": "stream",
     "text": [
      "Returning func f\n",
      "<class 'function'>\n",
      "Hello from foo\n",
      "Hello from foo\n"
     ]
    }
   ],
   "source": [
    "def foo():\n",
    "    print('Hello from foo')\n",
    "\n",
    "# transparent \n",
    "def func(f):\n",
    "    print(\"Returning func f\")\n",
    "    return f\n",
    "\n",
    "result = func(foo)\n",
    "print(type(result))\n",
    "foo()\n",
    "result()\n"
   ]
  },
  {
   "cell_type": "code",
   "execution_count": 45,
   "metadata": {
    "pycharm": {
     "name": "#%%\n"
    }
   },
   "outputs": [
    {
     "name": "stdout",
     "output_type": "stream",
     "text": [
      "Hello from internal\n",
      "Hello from internal\n"
     ]
    },
    {
     "ename": "NameError",
     "evalue": "name 'internal' is not defined",
     "output_type": "error",
     "traceback": [
      "\u001b[1;31m---------------------------------------------------------------------------\u001b[0m",
      "\u001b[1;31mNameError\u001b[0m                                 Traceback (most recent call last)",
      "Cell \u001b[1;32mIn[45], line 10\u001b[0m\n\u001b[0;32m      8\u001b[0m func()\n\u001b[0;32m      9\u001b[0m func1()\n\u001b[1;32m---> 10\u001b[0m \u001b[43minternal\u001b[49m()\n",
      "\u001b[1;31mNameError\u001b[0m: name 'internal' is not defined"
     ]
    }
   ],
   "source": [
    "def hello_factory():\n",
    "    def internal():\n",
    "        print('Hello from internal')\n",
    "    return internal\n",
    "\n",
    "func = hello_factory()\n",
    "func1 = hello_factory()\n",
    "func()\n",
    "func1()\n",
    "# internal()\n",
    "\n"
   ]
  },
  {
   "cell_type": "code",
   "execution_count": 47,
   "metadata": {},
   "outputs": [
    {
     "name": "stdout",
     "output_type": "stream",
     "text": [
      "Hello from foo\n"
     ]
    }
   ],
   "source": [
    "def transparent_factory(f):\n",
    "    def internal():\n",
    "        f()       \n",
    "    return internal\n",
    "\n",
    "foo_transparent = transparent_factory(foo)\n",
    "foo_transparent()\n",
    "\n",
    "# foo()"
   ]
  },
  {
   "cell_type": "code",
   "execution_count": 48,
   "metadata": {
    "pycharm": {
     "name": "#%%\n"
    },
    "scrolled": true
   },
   "outputs": [
    {
     "name": "stdout",
     "output_type": "stream",
     "text": [
      ">>> Is about to call 'foo'\n",
      "\n",
      "Hello from foo\n",
      "\n",
      ">>> Just called 'foo'\n",
      "Hello from foo\n"
     ]
    }
   ],
   "source": [
    "def hello_factory_2(f):\n",
    "    def internal():\n",
    "        print(f\">>> Is about to call '{f.__name__}'\\n\")\n",
    "        f()\n",
    "        print(f\"\\n>>> Just called '{f.__name__}'\")\n",
    "        \n",
    "    return internal\n",
    "\n",
    "foo_verbosed = hello_factory_2(foo)\n",
    "foo_verbosed()\n",
    "\n",
    "foo()"
   ]
  },
  {
   "cell_type": "code",
   "execution_count": 49,
   "metadata": {
    "pycharm": {
     "name": "#%%\n"
    }
   },
   "outputs": [
    {
     "name": "stdout",
     "output_type": "stream",
     "text": [
      "Hello from foo\n",
      "Elapsed time: 2.0004167556762695s\n",
      "Hello from foo\n"
     ]
    }
   ],
   "source": [
    "def foo():\n",
    "    time.sleep(2)\n",
    "    print('Hello from foo')\n",
    " \n",
    "def profile(f):\n",
    "    def internal():\n",
    "        start = time.time()\n",
    "        f()\n",
    "        finish = time.time()\n",
    "        print(f'Elapsed time: {finish - start}s')\n",
    "    return internal\n",
    "\n",
    "foo_profiled = profile(foo)\n",
    "foo_profiled()\n",
    "\n",
    "foo()\n"
   ]
  },
  {
   "cell_type": "code",
   "execution_count": null,
   "metadata": {},
   "outputs": [],
   "source": []
  },
  {
   "cell_type": "code",
   "execution_count": null,
   "metadata": {},
   "outputs": [],
   "source": []
  },
  {
   "cell_type": "code",
   "execution_count": null,
   "metadata": {},
   "outputs": [],
   "source": []
  },
  {
   "cell_type": "markdown",
   "metadata": {},
   "source": [
    "### Decorators\n",
    "\n",
    "#### D. is a function that adds some additional functionality, typically not changing original behaviour."
   ]
  },
  {
   "cell_type": "markdown",
   "metadata": {},
   "source": [
    "<img src=https://d33wubrfki0l68.cloudfront.net/12c8a296cc396d418b5407a4a4c6f9fd7d85f597/e8a54/wp-content/uploads/2018/06/python-decorator.png>"
   ]
  },
  {
   "cell_type": "code",
   "execution_count": 50,
   "metadata": {
    "pycharm": {
     "name": "#%%\n"
    }
   },
   "outputs": [
    {
     "name": "stdout",
     "output_type": "stream",
     "text": [
      "Hello from foo\n",
      "Elapsed time (foo): 2.001075267791748s\n"
     ]
    }
   ],
   "source": [
    "def profile(f):\n",
    "    def internal():\n",
    "        start = time.time()\n",
    "        f()\n",
    "        print(f'Elapsed time ({f.__name__}): {time.time() - start}s')\n",
    "    return internal\n",
    "\n",
    "foo_profiled = profile(foo)\n",
    "foo_profiled()\n"
   ]
  },
  {
   "cell_type": "code",
   "execution_count": 51,
   "metadata": {},
   "outputs": [],
   "source": [
    "def fetch_url():\n",
    "    res = requests.get('https://google.com')\n",
    "    print('Content: \\t', res.content[:100])"
   ]
  },
  {
   "cell_type": "code",
   "execution_count": 52,
   "metadata": {},
   "outputs": [
    {
     "name": "stdout",
     "output_type": "stream",
     "text": [
      "Content: \t b'<!doctype html><html itemscope=\"\" itemtype=\"http://schema.org/WebPage\" lang=\"uk\"><head><meta content'\n",
      "Elapsed time (fetch_url): 1.358762502670288s\n"
     ]
    }
   ],
   "source": [
    "fetch_url_profiled = profile(fetch_url)\n",
    "fetch_url_profiled()"
   ]
  },
  {
   "cell_type": "code",
   "execution_count": null,
   "metadata": {},
   "outputs": [],
   "source": [
    "1. return "
   ]
  },
  {
   "cell_type": "code",
   "execution_count": null,
   "metadata": {},
   "outputs": [],
   "source": [
    "2. url as input"
   ]
  },
  {
   "cell_type": "code",
   "execution_count": null,
   "metadata": {},
   "outputs": [],
   "source": [
    "3. try except"
   ]
  },
  {
   "cell_type": "code",
   "execution_count": null,
   "metadata": {},
   "outputs": [],
   "source": []
  },
  {
   "cell_type": "code",
   "execution_count": null,
   "metadata": {},
   "outputs": [],
   "source": []
  },
  {
   "cell_type": "code",
   "execution_count": 53,
   "metadata": {},
   "outputs": [
    {
     "name": "stdout",
     "output_type": "stream",
     "text": [
      "\n",
      "Content for \"https://google.com\":\t  b'<!doctype html><html itemscope=\"\" itemtype=\"http://schema.org/WebPage\" lang=\"uk\"><head><meta content'\n",
      "Elapsed time (fetch_url): 1.3173434734344482s\n",
      "\n",
      "Content for \"https://ithillel.ua\":\t  b'\\xef\\xbb\\xbf\\n\\n\\n\\n\\n\\t\\n\\t\\t\\n\\t\\t\\t\\n\\t\\t\\n\\t\\t\\n\\t\\n\\t\\n\\t\\n\\n\\n\\n\\n\\n\\n        \\n    \\t\\t\\t\\t\\n\\n        \\n\\t<!DOCTYPE html>\\n\\t<html lang=\"uk\">\\n\\t<'\n",
      "Elapsed time (fetch_url): 0.5855448246002197s\n",
      "\n",
      "Content for \"https://lms.ithillel.ua\":\t  b'<!doctype html>\\n<html lang=\"uk\" data-critters-container>\\n    <head>\\n        <meta charset=\"utf-8\">\\n '\n",
      "Elapsed time (fetch_url): 0.4803802967071533s\n"
     ]
    }
   ],
   "source": [
    "def fetch_url(url):\n",
    "    res = requests.get(url)\n",
    "    print(f'\\nContent for \"{url}\":\\t ', res.content[:100])\n",
    "\n",
    "def profile(f):\n",
    "    def internal(url):\n",
    "        start = time.time()\n",
    "        f(url)\n",
    "        print(f'Elapsed time ({f.__name__}): {time.time() - start}s')\n",
    "    return internal\n",
    "\n",
    "fetch_url_profiled = profile(fetch_url)\n",
    "fetch_url_profiled('https://google.com')\n",
    "fetch_url_profiled('https://ithillel.ua')\n",
    "fetch_url_profiled('https://lms.ithillel.ua')"
   ]
  },
  {
   "cell_type": "code",
   "execution_count": null,
   "metadata": {
    "pycharm": {
     "name": "#%%\n"
    }
   },
   "outputs": [],
   "source": []
  },
  {
   "cell_type": "code",
   "execution_count": null,
   "metadata": {
    "pycharm": {
     "name": "#%%\n"
    }
   },
   "outputs": [],
   "source": []
  },
  {
   "cell_type": "code",
   "execution_count": null,
   "metadata": {
    "pycharm": {
     "name": "#%%\n"
    }
   },
   "outputs": [],
   "source": []
  },
  {
   "cell_type": "code",
   "execution_count": null,
   "metadata": {
    "pycharm": {
     "name": "#%%\n"
    }
   },
   "outputs": [],
   "source": []
  },
  {
   "cell_type": "code",
   "execution_count": null,
   "metadata": {
    "pycharm": {
     "name": "#%%\n"
    }
   },
   "outputs": [],
   "source": []
  },
  {
   "cell_type": "code",
   "execution_count": null,
   "metadata": {
    "pycharm": {
     "name": "#%%\n"
    }
   },
   "outputs": [],
   "source": []
  },
  {
   "cell_type": "code",
   "execution_count": 54,
   "metadata": {
    "pycharm": {
     "name": "#%%\n"
    }
   },
   "outputs": [
    {
     "name": "stdout",
     "output_type": "stream",
     "text": [
      "\n",
      "Content for \"https://ithillel.ua\":\t  b'\\xef\\xbb\\xbf\\n\\n\\n\\n\\n\\t\\n\\t\\t\\n\\t\\t\\t\\n\\t\\t\\n\\t\\t\\n\\t\\n\\t\\n\\t\\n\\n\\n\\n\\n\\n\\n        \\n    \\t\\t\\t\\t\\n\\n        \\n\\t<!DOCTYPE html>\\n\\t<html lang=\"uk\">\\n\\t<'\n",
      "Elapsed time (fetch_url): 0.48018455505371094s\n"
     ]
    }
   ],
   "source": [
    "def profile(f):\n",
    "    def internal(*args):\n",
    "        start = time.time()\n",
    "        f(*args)\n",
    "        print(f'Elapsed time ({f.__name__}): {time.time() - start}s')\n",
    "    return internal\n",
    "\n",
    "fetch_url = profile(fetch_url)\n",
    "fetch_url('https://ithillel.ua')"
   ]
  },
  {
   "cell_type": "code",
   "execution_count": 55,
   "metadata": {},
   "outputs": [
    {
     "name": "stdout",
     "output_type": "stream",
     "text": [
      "\n",
      "Content for \"https://ithillel.ua\":\t  b'\\xef\\xbb\\xbf\\n\\n\\n\\n\\n\\t\\n\\t\\t\\n\\t\\t\\t\\n\\t\\t\\n\\t\\t\\n\\t\\n\\t\\n\\t\\n\\n\\n\\n\\n\\n\\n       '\n",
      "Elapsed time (fetch_url): 0.5337059497833252s\n",
      "\n",
      "Content for \"https://ithillel.ua\":\t  b'\\xef\\xbb\\xbf\\n\\n\\n\\n\\n\\t\\n\\t\\t\\n\\t\\t\\t\\n\\t\\t\\n\\t\\t\\n\\t\\n\\t\\n\\t\\n\\n\\n\\n\\n\\n\\n        \\n    \\t\\t\\t\\t\\n\\n        \\n\\t<!DOCTYPE html>\\n\\t<html lang=\"uk\">\\n\\t<'\n",
      "Elapsed time (fetch_url): 0.5479328632354736s\n",
      "\n",
      "Content for \"https://ithillel.ua\":\t  b'\\xef\\xbb\\xbf\\n\\n\\n\\n\\n\\t\\n\\t\\t\\n\\t\\t\\t\\n\\t\\t\\n\\t\\t\\n\\t\\n\\t\\n\\t\\n\\n\\n\\n\\n\\n\\n        \\n    \\t\\t\\t\\t\\n\\n        \\n\\t<!DOCTYPE html>\\n\\t<html lang=\"uk\">\\n\\t<head>\\n\\n\\t\\t<link rel=\"preload\" href=\"https://assets.ithillel.ua/fonts/FixelDisplay-Regular.woff2\" as=\"font\" type=\"font/woff2\" crossorigin=\"anonymous\">\\n<link rel=\"preload\" href=\"https://assets.ithillel.ua/fonts/FixelDisplay-Medium.woff2\" as=\"font\" type=\"font/woff2\" crossorigin=\"anonymous\">\\n<link rel=\"preload\" href=\"https://assets.ithillel.ua/fonts/FixelDisplay-SemiBold.woff2\" as=\"font\" type=\"font/woff2\" crossorigin=\"anonymous\">\\n<link rel=\"preload\" href=\"https://assets.ithillel.ua/fonts/FixelDisplay-Bold.woff2\" as=\"font\" type=\"font/woff2\" crossorigin=\"anonymous\">\\n<link rel=\"preload\" href=\"https://assets.ithillel.ua/fonts/Bicubik.otf\" as=\"font\" type=\"font/otf\" crossorigin=\"anonymous\">\\n<link rel=\"preload\" href=\"https://assets.ithillel.ua/fonts/Bicubik.woff\" as=\"font\" type=\"font/woff\" crossorigin=\"anonymous\">\\n<link rel=\"preload\" href=\"https://assets.ithillel.ua/fonts/Bicubik.woff2\" as=\"font\" type=\"font/woff2\" crossori'\n",
      "Elapsed time (fetch_url): 0.5048732757568359s\n"
     ]
    }
   ],
   "source": [
    "def fetch_url(url, first_n=None):\n",
    "    res = requests.get(url)\n",
    "    print(f'\\nContent for \"{url}\":\\t ', res.content[:first_n] if first_n else res.content)\n",
    "\n",
    "def profile(f):\n",
    "    def internal(*args, **kwargs):\n",
    "        start = time.time()\n",
    "        f(*args, **kwargs)\n",
    "        print(f'Elapsed time ({f.__name__}): {time.time() - start}s')\n",
    "    return internal\n",
    "\n",
    "fetch_url = profile(fetch_url)\n",
    "fetch_url('https://ithillel.ua', first_n=42)\n",
    "fetch_url('https://ithillel.ua', first_n=100)\n",
    "fetch_url('https://ithillel.ua', first_n=1024)"
   ]
  },
  {
   "cell_type": "code",
   "execution_count": 57,
   "metadata": {},
   "outputs": [
    {
     "name": "stdout",
     "output_type": "stream",
     "text": [
      "Elapsed time (fetch_url): 0.4952676296234131s\n"
     ]
    }
   ],
   "source": [
    "def fetch_url(url, first_n=100):\n",
    "    res = requests.get(url)\n",
    "    return res.content[:first_n] if first_n else res.content\n",
    "\n",
    "def profile(f):\n",
    "    def internal(*args, **kwargs):\n",
    "        start = time.time()\n",
    "        result = f(*args, **kwargs)\n",
    "        print(f'Elapsed time ({f.__name__}): {time.time() - start}s')\n",
    "        return result\n",
    "    return internal\n",
    "\n",
    "fetch_url = profile(fetch_url)\n",
    "with open('content.html', 'w+') as f:\n",
    "    f.write(str(fetch_url('https://ithillel.ua', first_n=42)))\n",
    "\n",
    "# cat /tmp/content.html\n"
   ]
  },
  {
   "cell_type": "code",
   "execution_count": null,
   "metadata": {},
   "outputs": [],
   "source": []
  },
  {
   "cell_type": "code",
   "execution_count": null,
   "metadata": {},
   "outputs": [],
   "source": []
  },
  {
   "cell_type": "code",
   "execution_count": null,
   "metadata": {},
   "outputs": [],
   "source": []
  },
  {
   "cell_type": "code",
   "execution_count": null,
   "metadata": {},
   "outputs": [],
   "source": []
  },
  {
   "cell_type": "code",
   "execution_count": null,
   "metadata": {},
   "outputs": [],
   "source": [
    "def fetch_url(url, first_n=100):\n",
    "    res = requests.get(url)\n",
    "    return res.content[:first_n] if first_n else res.content\n",
    "\n",
    "def profile(f):\n",
    "    def internal(*args, **kwargs):\n",
    "        start = time.time()\n",
    "        result = f(*args, **kwargs)\n",
    "        print(f'Elapsed time for function {f.__name__} with params {args}, {kwargs}: {time.time() - start}ms')\n",
    "        return result\n",
    "    # internal._original = f\n",
    "    return internal\n",
    "\n",
    "fetch_url = profile(fetch_url)\n",
    "fetch_url('https://ithillel.ua', first_n=42)\n",
    "\n",
    "\n",
    "\n",
    "with open('content1.html', 'w+') as f:\n",
    "    f.write(str(fetch_url('https://ithillel.ua', first_n=42)))\n"
   ]
  },
  {
   "cell_type": "code",
   "execution_count": 59,
   "metadata": {},
   "outputs": [
    {
     "name": "stdout",
     "output_type": "stream",
     "text": [
      "Elapsed time for function fetch_url with params ('https://ithillel.ua',), {'first_n': 42}: 0.518165111541748ms\n",
      "b'\\xef\\xbb\\xbf\\n\\n\\n\\n\\n\\t\\n\\t\\t\\n\\t\\t\\t\\n\\t\\t\\n\\t\\t\\n\\t\\n\\t\\n\\t\\n\\n\\n\\n\\n\\n\\n       '\n",
      "Elapsed time for function fetch_url with params ('https://google.com',), {}: 1.3902175426483154ms\n",
      "b'<!doctype html><html itemscope=\"\" itemtype=\"http://schema.org/WebPage\" lang=\"uk\"><head><meta content'\n"
     ]
    }
   ],
   "source": [
    "def profile(f):\n",
    "    def internal(*args, **kwargs):\n",
    "        start = time.time()\n",
    "        result = f(*args, **kwargs)\n",
    "        print(f'Elapsed time for function {f.__name__} with params {args}, {kwargs}: {time.time() - start}ms')\n",
    "        return result\n",
    "    # internal._original = f\n",
    "    return internal\n",
    "\n",
    "@profile # -> fetch_url = profile(fetch_url)\n",
    "def fetch_url(url, first_n=100):\n",
    "    res = requests.get(url)\n",
    "    return res.content[:first_n] if first_n else res.content\n",
    "\n",
    "\n",
    "print(fetch_url('https://ithillel.ua', first_n=42))\n",
    "print(fetch_url('https://google.com'))\n",
    "# print(fetch_url._original('https://google.com'))"
   ]
  },
  {
   "cell_type": "code",
   "execution_count": 60,
   "metadata": {},
   "outputs": [
    {
     "name": "stdout",
     "output_type": "stream",
     "text": [
      "Help on function test in module __main__:\n",
      "\n",
      "test(a, b)\n",
      "    This function is make sum of two int\n",
      "\n"
     ]
    }
   ],
   "source": [
    "def test(a, b):\n",
    "    \"\"\" This function is make sum of two int \"\"\"\n",
    "    return a+b\n",
    "\n",
    "help(test)"
   ]
  },
  {
   "cell_type": "markdown",
   "metadata": {},
   "source": [
    "### We need to go deeper"
   ]
  },
  {
   "cell_type": "code",
   "execution_count": 62,
   "metadata": {},
   "outputs": [
    {
     "name": "stdout",
     "output_type": "stream",
     "text": [
      "Help on function internal in module __main__:\n",
      "\n",
      "internal(*args, **kwargs)\n",
      "    HELLO FROM INTERNAL\n",
      "\n"
     ]
    }
   ],
   "source": [
    "def profile(f):\n",
    "    def internal(*args, **kwargs):\n",
    "        start = time.time()\n",
    "        result = f(*args, **kwargs)\n",
    "        print(f'Elapsed time for function {f.__name__} with params {args}, {kwargs}: {time.time() - start}ms')\n",
    "        return result\n",
    "    return internal\n",
    "\n",
    "\n",
    "@profile\n",
    "def fetch_url(url, first_n=100):\n",
    "    \"\"\"Fetch a given url\"\"\"\n",
    "    res = requests.get(url)\n",
    "    return res.content[:first_n] if first_n else res.content\n",
    "\n",
    "help(fetch_url)"
   ]
  },
  {
   "cell_type": "code",
   "execution_count": 66,
   "metadata": {},
   "outputs": [
    {
     "name": "stdout",
     "output_type": "stream",
     "text": [
      "Help on function fetch_url in module __main__:\n",
      "\n",
      "fetch_url(url, first_n=100)\n",
      "    Fetch a given url\n",
      "\n"
     ]
    }
   ],
   "source": [
    "def profile(f):\n",
    "    @functools.wraps(f)\n",
    "    def internal(*args, **kwargs):\n",
    "        start = time.time()\n",
    "        result = f(*args, **kwargs)\n",
    "        print(f'Elapsed time for function {f.__name__} with params {args}, {kwargs}: {time.time() - start}ms')\n",
    "        return result\n",
    "    return internal\n",
    "\n",
    "\n",
    "@profile\n",
    "def fetch_url(url, first_n=100):\n",
    "    \"\"\"Fetch a given url\"\"\"\n",
    "    res = requests.get(url)\n",
    "    return res.content[:first_n] if first_n else res.content\n",
    "\n",
    "\n",
    "help(fetch_url)"
   ]
  },
  {
   "cell_type": "code",
   "execution_count": 67,
   "metadata": {},
   "outputs": [],
   "source": [
    "def profile(msg='Elapsed time'):\n",
    "    def internal(f):\n",
    "        @functools.wraps(f)\n",
    "        def deco(*args, **kwargs):\n",
    "            start = time.time()\n",
    "            result = f(*args, **kwargs)\n",
    "            print(msg, f'({f.__name__}): {time.time() - start}s')\n",
    "            return result\n",
    "        return deco\n",
    "    return internal"
   ]
  },
  {
   "cell_type": "code",
   "execution_count": 68,
   "metadata": {},
   "outputs": [
    {
     "name": "stdout",
     "output_type": "stream",
     "text": [
      "час пройшов (fetch_url): 1.5841050148010254s\n",
      "Elapsed time (fetch_url): 1.427765130996704s\n"
     ]
    },
    {
     "data": {
      "text/plain": [
       "b'<!doctype html><html itemscope=\"\" itemtype=\"http://schema.org/WebPage\" lang=\"uk\"><head><meta content'"
      ]
     },
     "execution_count": 68,
     "metadata": {},
     "output_type": "execute_result"
    }
   ],
   "source": [
    "@profile(msg='час пройшов')\n",
    "def fetch_url(url, first_n=100):\n",
    "    \"\"\"Fetch a given url\"\"\"\n",
    "    res = requests.get(url)\n",
    "    return res.content[:first_n] if first_n else res.content\n",
    "\n",
    "fetch_url('https://google.com')\n",
    "    \n",
    "@profile(msg='Elapsed time')\n",
    "def fetch_url(url, first_n=100):\n",
    "    \"\"\"Fetch a given url\"\"\"\n",
    "    res = requests.get(url)\n",
    "    return res.content[:first_n] if first_n else res.content\n",
    "\n",
    "fetch_url('https://google.com')"
   ]
  },
  {
   "cell_type": "code",
   "execution_count": 69,
   "metadata": {},
   "outputs": [
    {
     "name": "stdout",
     "output_type": "stream",
     "text": [
      "Help on function foo in module __main__:\n",
      "\n",
      "foo()\n",
      "    Help for foo\n",
      "\n",
      "Elapsed time (foo): 0.0s\n",
      "RESULT:  42\n"
     ]
    }
   ],
   "source": [
    "@profile('Elapsed time') # -> profile_ = profile('Time spent')\n",
    "                         # -> foo5 = profile_(foo5)\n",
    "def foo():\n",
    "    \"\"\"Help for foo\"\"\"\n",
    "    return 42\n",
    "\n",
    "help(foo)\n",
    "print(\"RESULT: \", foo())"
   ]
  },
  {
   "cell_type": "markdown",
   "metadata": {},
   "source": [
    "### Template"
   ]
  },
  {
   "cell_type": "markdown",
   "metadata": {},
   "source": [
    "#### 2-level decorator"
   ]
  },
  {
   "cell_type": "code",
   "execution_count": null,
   "metadata": {},
   "outputs": [],
   "source": [
    "def profile(f):\n",
    "    @functools.wraps(f)\n",
    "    def deco(*args, **kwargs):\n",
    "        start = time.time()\n",
    "        result = f(*args, **kwargs)\n",
    "        print('Elapsed time', f'({f.__name__}): {time.time() - start}s')\n",
    "        return result\n",
    "    return deco\n",
    "\n",
    "@profile\n",
    "def foo(): ..."
   ]
  },
  {
   "cell_type": "markdown",
   "metadata": {},
   "source": [
    "#### 3-level decorator"
   ]
  },
  {
   "cell_type": "code",
   "execution_count": null,
   "metadata": {},
   "outputs": [],
   "source": [
    "def profile(msg='Elapsed time', file=sys.stdout):\n",
    "    def internal(f):\n",
    "        @functools.wraps(f)\n",
    "        def deco(*args, **kwargs):\n",
    "            start = time.time()\n",
    "            result = f(*args, **kwargs)\n",
    "            print(msg, f'({f.__name__}): {time.time() - start}s', file=file)\n",
    "            return result\n",
    "        return deco\n",
    "    return internal\n",
    "\n",
    "@profile()\n",
    "def foo(): ...\n"
   ]
  },
  {
   "cell_type": "code",
   "execution_count": null,
   "metadata": {},
   "outputs": [],
   "source": []
  },
  {
   "cell_type": "markdown",
   "metadata": {},
   "source": [
    "### Real life examples"
   ]
  },
  {
   "cell_type": "code",
   "execution_count": null,
   "metadata": {},
   "outputs": [],
   "source": [
    "# 0 1 2 3 4 5 6 7 8\n",
    "# 0 1 1 2 3 5 8 13 ...\n",
    "def fibo(n):\n",
    "    \"\"\"Super inefficient fibo function\"\"\"\n",
    "    if n < 2:\n",
    "        return n\n",
    "    else:\n",
    "        return fibo(n-1) + fibo(n-2)\n",
    "   \n",
    "fibo(10)"
   ]
  },
  {
   "cell_type": "code",
   "execution_count": null,
   "metadata": {},
   "outputs": [],
   "source": [
    "@profile()\n",
    "def fibo(n):\n",
    "    \"\"\"Super inefficient fibo function\"\"\"\n",
    "    if n < 2:\n",
    "        return n\n",
    "    else:\n",
    "        return fibo(n-1) + fibo(n-2)\n",
    "   \n",
    "fibo(10)"
   ]
  },
  {
   "cell_type": "markdown",
   "metadata": {},
   "source": [
    "#### Recursion support"
   ]
  },
  {
   "cell_type": "code",
   "execution_count": null,
   "metadata": {},
   "outputs": [],
   "source": [
    "def profile(msg=\"Elapsed time for function\"):\n",
    "    def internal(f):\n",
    "        @functools.wraps(f)\n",
    "        def deco(*args, **kwargs):\n",
    "            start = time.time()\n",
    "            deco._num_call += 1\n",
    "            result = f(*args, **kwargs)\n",
    "            deco._num_call -= 1\n",
    "            \n",
    "            if deco._num_call == 0:\n",
    "                print(msg, f'{f.__name__}: {time.time() - start}s')\n",
    "            return result\n",
    "        \n",
    "        deco._num_call = 0\n",
    "        return deco\n",
    "    \n",
    "    return internal\n",
    "\n",
    "@profile()\n",
    "def fibo(n):\n",
    "    \"\"\"Super inefficient fibo function\"\"\"\n",
    "    if n < 2:\n",
    "        return n\n",
    "    else:\n",
    "        return fibo(n-1) + fibo(n-2)\n",
    "   \n",
    "fibo(10)"
   ]
  },
  {
   "cell_type": "markdown",
   "metadata": {},
   "source": [
    "#### Exponential backoff"
   ]
  },
  {
   "cell_type": "code",
   "execution_count": 73,
   "metadata": {},
   "outputs": [
    {
     "name": "stdout",
     "output_type": "stream",
     "text": [
      "Trying to connect:  google.com\n",
      "Failed after 1 times, trying again after 1 sec...\n",
      "Trying to connect:  google.com\n",
      "Failed after 2 times, trying again after 2 sec...\n",
      "Trying to connect:  google.com\n",
      "Failed after 3 times, trying again after 4 sec...\n",
      "Trying to connect:  google.com\n",
      "Failed after 4 times, trying again after 8 sec...\n",
      "Trying to connect:  google.com\n",
      "SUCCESS!\n"
     ]
    }
   ],
   "source": [
    "def repeate(max_repeat=10):\n",
    "    def internal(f):\n",
    "        @functools.wraps(f)\n",
    "        def repeater(*args, **kwargs):\n",
    "            while repeater._num_repeats <= max_repeat:\n",
    "                try:\n",
    "                    return f(*args, **kwargs)\n",
    "                except Exception as ex:\n",
    "                    if repeater._num_repeats == max_repeat:\n",
    "                        raise\n",
    "                    else:\n",
    "                        print(f'Failed after {repeater._num_repeats+1} times, trying again after {2**repeater._num_repeats} sec...')\n",
    "                        sleep(2**repeater._num_repeats)\n",
    "                        repeater._num_repeats += 1\n",
    "                \n",
    "        repeater._num_repeats = 0\n",
    "        return repeater\n",
    "    return internal\n",
    "\n",
    "@repeate(max_repeat=4)\n",
    "# @repeate()\n",
    "# @repeate # note the difference\n",
    "def connect_to_server(*args):\n",
    "    print('Trying to connect: ', *args)\n",
    "    if sum(random.choices([0, 1], [0.8, 0.2])) == 0:\n",
    "        raise RuntimeError('Failed to connect')\n",
    "    print('SUCCESS!')\n",
    "\n",
    "\n",
    "connect_to_server('google.com')"
   ]
  },
  {
   "cell_type": "markdown",
   "metadata": {},
   "source": [
    "#### Cache"
   ]
  },
  {
   "cell_type": "code",
   "execution_count": 74,
   "metadata": {},
   "outputs": [],
   "source": [
    "def cache(f):\n",
    "    @functools.wraps(f)\n",
    "    def deco(*args):\n",
    "        \n",
    "        if args in deco._cache:\n",
    "            return deco._cache[args]\n",
    "        \n",
    "        result = f(*args)\n",
    "        \n",
    "        deco._cache[args] = result\n",
    "        return result\n",
    "    \n",
    "    deco._cache = {}\n",
    "        \n",
    "    return deco\n"
   ]
  },
  {
   "cell_type": "code",
   "execution_count": null,
   "metadata": {
    "pycharm": {
     "name": "#%%\n"
    }
   },
   "outputs": [],
   "source": [
    "# LRU\n",
    "\n",
    "def cache(max_limit=64):\n",
    "    def internal(f):\n",
    "        @functools.wraps(f)\n",
    "        def deco(*args, **kwargs):\n",
    "            cache_key = (args, tuple(kwargs.items()))\n",
    "            if cache_key in deco._cache:\n",
    "                # переносимо в кінець списку\n",
    "                deco._cache.move_to_end(cache_key, last=True)\n",
    "                return deco._cache[cache_key]\n",
    "            \n",
    "            result = f(*args, **kwargs)\n",
    "            # видаляємо якшо досягли ліміта\n",
    "            if len(deco._cache) >= max_limit:\n",
    "                 # видаляємо перший елемент\n",
    "                deco._cache.popitem(last=False)\n",
    "            deco._cache[cache_key] = result\n",
    "            return result\n",
    "        deco._cache = OrderedDict()\n",
    "        return deco\n",
    "    return internal"
   ]
  },
  {
   "cell_type": "code",
   "execution_count": null,
   "metadata": {},
   "outputs": [],
   "source": [
    "# @profile(msg='Elapsed time')\n",
    "# @cache(max_limit=5)\n",
    "\n",
    "@profile(msg='Elapsed time')\n",
    "@cache\n",
    "def fetch_url(url, first_n=100000):\n",
    "    \"\"\"Fetch a given url\"\"\"\n",
    "    res = requests.get(url)\n",
    "    return res.content[:first_n] if first_n else res.content\n",
    "\n",
    "fetch_url('https://google.com/1')\n",
    "fetch_url('https://google.com')\n",
    "fetch_url('https://google.com')\n",
    "fetch_url('https://google.com')\n",
    "fetch_url('https://ithillel.ua')\n",
    "fetch_url('https://dou.ua')\n",
    "\n",
    "# fetch_url('https://ain.ua')\n",
    "# fetch_url('https://youtube.com')\n",
    "# fetch_url(url='https://reddit.com')\n",
    "# fetch_url._cache"
   ]
  },
  {
   "cell_type": "markdown",
   "metadata": {},
   "source": [
    "<img src=https://i.imgur.com/IgBFGaR.png>"
   ]
  },
  {
   "cell_type": "code",
   "execution_count": null,
   "metadata": {},
   "outputs": [],
   "source": [
    "@profile()\n",
    "@cache\n",
    "def fibo(n):\n",
    "    \"\"\"Super inefficient fibo function\"\"\"\n",
    "    if n < 2:\n",
    "        return n\n",
    "    else:\n",
    "        return fibo(n-1) + fibo(n-2)"
   ]
  },
  {
   "cell_type": "code",
   "execution_count": null,
   "metadata": {},
   "outputs": [],
   "source": [
    "# for i in range(10000):\n",
    "#     print(i, '->', fibo(i))\n",
    "print(fibo(500))"
   ]
  },
  {
   "cell_type": "code",
   "execution_count": null,
   "metadata": {},
   "outputs": [],
   "source": [
    "# fibo._cache\n",
    "# id(fibo._cache)"
   ]
  },
  {
   "cell_type": "code",
   "execution_count": null,
   "metadata": {},
   "outputs": [],
   "source": [
    "from functools import lru_cache\n",
    "\n",
    "@lru_cache(maxsize=64)\n",
    "def foo():\n",
    "    print('foo')"
   ]
  }
 ],
 "metadata": {
  "kernelspec": {
   "display_name": "Python 3 (ipykernel)",
   "language": "python",
   "name": "python3"
  },
  "language_info": {
   "codemirror_mode": {
    "name": "ipython",
    "version": 3
   },
   "file_extension": ".py",
   "mimetype": "text/x-python",
   "name": "python",
   "nbconvert_exporter": "python",
   "pygments_lexer": "ipython3",
   "version": "3.12.2"
  }
 },
 "nbformat": 4,
 "nbformat_minor": 4
}
