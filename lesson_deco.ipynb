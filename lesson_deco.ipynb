{
 "cells": [
  {
   "cell_type": "code",
   "execution_count": 1,
   "metadata": {},
   "outputs": [],
   "source": [
    "import pathlib\n",
    "import os\n",
    "import random\n",
    "import time\n",
    "import functools\n",
    "from collections import OrderedDict\n",
    "import requests\n",
    "import sys\n",
    "from time import sleep"
   ]
  },
  {
   "cell_type": "markdown",
   "metadata": {},
   "source": [
    "### Function basics"
   ]
  },
  {
   "cell_type": "code",
   "execution_count": 3,
   "metadata": {
    "pycharm": {
     "name": "#%%\n"
    }
   },
   "outputs": [
    {
     "name": "stdout",
     "output_type": "stream",
     "text": [
      "1 2 3\n",
      "1 2 3\n"
     ]
    }
   ],
   "source": [
    "def func(x, y, z):\n",
    "    print(x, y, z)\n",
    "\n",
    "func(1, 2, 3)\n",
    "func(x=1, y=2, z=3)"
   ]
  },
  {
   "cell_type": "code",
   "execution_count": 7,
   "metadata": {
    "pycharm": {
     "name": "#%%\n"
    }
   },
   "outputs": [
    {
     "name": "stdout",
     "output_type": "stream",
     "text": [
      "abc 42 None\n",
      "xyz 42 None\n",
      "abc 43 None\n"
     ]
    }
   ],
   "source": [
    "def func(x='abc', y=42, z=None):\n",
    "    print(x, y, z)\n",
    "\n",
    "\n",
    "func()\n",
    "func('xyz')\n",
    "# func(, 43)\n",
    "func(y=43)\n",
    "# func('xyz', 43, (0,1))"
   ]
  },
  {
   "cell_type": "code",
   "execution_count": null,
   "metadata": {
    "pycharm": {
     "name": "#%%\n"
    }
   },
   "outputs": [],
   "source": [
    "class BaseModelForm(BaseForm):\n",
    "    def __init__(self, data=None, files=None, auto_id='id_%s', prefix=None,\n",
    "                 initial=None, error_class=ErrorList, label_suffix=None,\n",
    "                 empty_permitted=False, instance=None, use_required_attribute=None,\n",
    "                 renderer=None):\n",
    "        ..."
   ]
  },
  {
   "cell_type": "code",
   "execution_count": 11,
   "metadata": {
    "pycharm": {
     "name": "#%%\n"
    }
   },
   "outputs": [
    {
     "name": "stdout",
     "output_type": "stream",
     "text": [
      "('xyz',)\n",
      "('xyz', 43, (0, 1))\n"
     ]
    }
   ],
   "source": [
    "def func(*args):\n",
    "    print(args)\n",
    "\n",
    "func('xyz')\n",
    "func('xyz', 43, (0,1))\n",
    "# func(y=43)"
   ]
  },
  {
   "cell_type": "code",
   "execution_count": 10,
   "metadata": {
    "pycharm": {
     "name": "#%%\n"
    }
   },
   "outputs": [
    {
     "name": "stdout",
     "output_type": "stream",
     "text": [
      "args: () , kwargs: {}\n",
      "args: ('xyz',) , kwargs: {}\n",
      "args: ('xyz', 43, (0, 1)) , kwargs: {}\n",
      "args: () , kwargs: {'y': 43}\n"
     ]
    }
   ],
   "source": [
    "def func(*args, **kwargs):\n",
    "    print('args:', args, ', kwargs:', kwargs)\n",
    "\n",
    "\n",
    "func()\n",
    "func('xyz')\n",
    "func('xyz', 43, (0,1))\n",
    "func(y=43)"
   ]
  },
  {
   "cell_type": "markdown",
   "metadata": {},
   "source": [
    "### Everything is an object, so is a function"
   ]
  },
  {
   "cell_type": "code",
   "execution_count": 4,
   "metadata": {
    "pycharm": {
     "name": "#%%\n"
    }
   },
   "outputs": [
    {
     "data": {
      "text/plain": [
       "function"
      ]
     },
     "execution_count": 4,
     "metadata": {},
     "output_type": "execute_result"
    }
   ],
   "source": [
    "def func(x='abc', y=42, z=None):\n",
    "    print(x, y, z)\n",
    "\n",
    "func1 = func\n",
    "type(func1)"
   ]
  },
  {
   "cell_type": "code",
   "execution_count": 16,
   "metadata": {},
   "outputs": [
    {
     "name": "stdout",
     "output_type": "stream",
     "text": [
      "140306123544464 140306123544464\n",
      "abc 42 None\n"
     ]
    }
   ],
   "source": [
    "print(id(func1), id(func))\n",
    "func1()"
   ]
  },
  {
   "cell_type": "markdown",
   "metadata": {},
   "source": [
    "<img src=https://miro.medium.com/max/700/1*n0MVfelkQrJ_zBym4b3CSA.png>"
   ]
  },
  {
   "cell_type": "markdown",
   "metadata": {},
   "source": [
    "<img src=https://i.imgur.com/aye8Juy.png width=700>\n"
   ]
  },
  {
   "cell_type": "code",
   "execution_count": 17,
   "metadata": {
    "pycharm": {
     "name": "#%%\n"
    }
   },
   "outputs": [
    {
     "name": "stdout",
     "output_type": "stream",
     "text": [
      "Hello from foo\n",
      "Hello from bar\n"
     ]
    }
   ],
   "source": [
    "def func(f):\n",
    "    f()\n",
    "\n",
    "def foo():\n",
    "    print('Hello from foo')\n",
    "\n",
    "def bar():\n",
    "    print('Hello from bar')\n",
    "\n",
    "func(foo)\n",
    "func(bar)"
   ]
  },
  {
   "cell_type": "code",
   "execution_count": 22,
   "metadata": {
    "pycharm": {
     "name": "#%%\n"
    }
   },
   "outputs": [
    {
     "name": "stdout",
     "output_type": "stream",
     "text": [
      "Hello from foo\n",
      "Hello from foo\n"
     ]
    }
   ],
   "source": [
    "def foo():\n",
    "    print('Hello from foo')\n",
    "\n",
    "def func(f):\n",
    "    return f\n",
    "\n",
    "result = func(foo)\n",
    "# type(result)\n",
    "result()\n",
    "foo()"
   ]
  },
  {
   "cell_type": "code",
   "execution_count": 24,
   "metadata": {
    "pycharm": {
     "name": "#%%\n"
    }
   },
   "outputs": [
    {
     "name": "stdout",
     "output_type": "stream",
     "text": [
      "Hello from internal\n"
     ]
    }
   ],
   "source": [
    "def hello_factory():\n",
    "    def internal():\n",
    "        print('Hello from internal')\n",
    "    return internal\n",
    "\n",
    "func = hello_factory()\n",
    "func()\n",
    "# internal()\n",
    "\n"
   ]
  },
  {
   "cell_type": "code",
   "execution_count": 26,
   "metadata": {},
   "outputs": [
    {
     "name": "stdout",
     "output_type": "stream",
     "text": [
      "Hello from foo\n",
      "Hello from foo\n"
     ]
    }
   ],
   "source": [
    "def transparent_factory(f):\n",
    "    def internal():\n",
    "        f()       \n",
    "    return internal\n",
    "\n",
    "foo_transparent = transparent_factory(foo)\n",
    "foo_transparent()\n",
    "\n",
    "foo()"
   ]
  },
  {
   "cell_type": "code",
   "execution_count": 27,
   "metadata": {
    "pycharm": {
     "name": "#%%\n"
    },
    "scrolled": true
   },
   "outputs": [
    {
     "name": "stdout",
     "output_type": "stream",
     "text": [
      ">>> Is about to call 'foo'\n",
      "\n",
      "Hello from foo\n",
      "\n",
      ">>> Just called 'foo'\n",
      "Hello from foo\n"
     ]
    }
   ],
   "source": [
    "def hello_factory_2(f):\n",
    "    def internal():\n",
    "        print(f\">>> Is about to call '{f.__name__}'\\n\")\n",
    "        f()\n",
    "        print(f\"\\n>>> Just called '{f.__name__}'\")\n",
    "        \n",
    "    return internal\n",
    "\n",
    "foo_verbosed = hello_factory_2(foo)\n",
    "foo_verbosed()\n",
    "\n",
    "foo()"
   ]
  },
  {
   "cell_type": "code",
   "execution_count": 29,
   "metadata": {
    "pycharm": {
     "name": "#%%\n"
    }
   },
   "outputs": [
    {
     "name": "stdout",
     "output_type": "stream",
     "text": [
      "Hello from foo\n",
      "Elapsed time: 0.000247955322265625s\n",
      "Hello from foo\n"
     ]
    }
   ],
   "source": [
    "def profile(f):\n",
    "    def internal():\n",
    "        start = time.time()\n",
    "        f()\n",
    "        finish = time.time()\n",
    "        print(f'Elapsed time: {finish - start}s')\n",
    "    return internal\n",
    "\n",
    "foo_profiled = profile(foo)\n",
    "foo_profiled()\n",
    "\n",
    "foo()\n"
   ]
  },
  {
   "cell_type": "code",
   "execution_count": null,
   "metadata": {},
   "outputs": [],
   "source": []
  },
  {
   "cell_type": "code",
   "execution_count": null,
   "metadata": {},
   "outputs": [],
   "source": []
  },
  {
   "cell_type": "code",
   "execution_count": null,
   "metadata": {},
   "outputs": [],
   "source": []
  },
  {
   "cell_type": "markdown",
   "metadata": {},
   "source": [
    "### Decorators\n",
    "\n",
    "#### D. is a function that adds some auxilary functionality, typically not changing original behaviour."
   ]
  },
  {
   "cell_type": "markdown",
   "metadata": {},
   "source": [
    "<img src=https://d33wubrfki0l68.cloudfront.net/12c8a296cc396d418b5407a4a4c6f9fd7d85f597/e8a54/wp-content/uploads/2018/06/python-decorator.png>"
   ]
  },
  {
   "cell_type": "code",
   "execution_count": 30,
   "metadata": {
    "pycharm": {
     "name": "#%%\n"
    }
   },
   "outputs": [
    {
     "name": "stdout",
     "output_type": "stream",
     "text": [
      "Hello from foo\n",
      "Elapsed time (foo): 0.00012826919555664062s\n"
     ]
    }
   ],
   "source": [
    "def profile(f):\n",
    "    def internal():\n",
    "        start = time.time()\n",
    "        f()\n",
    "        print(f'Elapsed time ({f.__name__}): {time.time() - start}s')\n",
    "    return internal\n",
    "\n",
    "foo_profiled = profile(foo)\n",
    "foo_profiled()\n"
   ]
  },
  {
   "cell_type": "code",
   "execution_count": 34,
   "metadata": {},
   "outputs": [],
   "source": [
    "def fetch_url():\n",
    "    res = requests.get('https://google.com')\n",
    "    print('Content: \\t', res.content[:100])"
   ]
  },
  {
   "cell_type": "code",
   "execution_count": 35,
   "metadata": {},
   "outputs": [
    {
     "name": "stdout",
     "output_type": "stream",
     "text": [
      "Content: \t b'<!doctype html><html itemscope=\"\" itemtype=\"http://schema.org/WebPage\" lang=\"uk\"><head><meta content'\n",
      "Elapsed time (fetch_url): 0.8245177268981934s\n"
     ]
    }
   ],
   "source": [
    "fetch_url_profiled = profile(fetch_url)\n",
    "fetch_url_profiled()"
   ]
  },
  {
   "cell_type": "code",
   "execution_count": null,
   "metadata": {},
   "outputs": [],
   "source": []
  },
  {
   "cell_type": "code",
   "execution_count": null,
   "metadata": {},
   "outputs": [],
   "source": []
  },
  {
   "cell_type": "code",
   "execution_count": null,
   "metadata": {},
   "outputs": [],
   "source": []
  },
  {
   "cell_type": "code",
   "execution_count": null,
   "metadata": {},
   "outputs": [],
   "source": []
  },
  {
   "cell_type": "code",
   "execution_count": null,
   "metadata": {},
   "outputs": [],
   "source": []
  },
  {
   "cell_type": "code",
   "execution_count": 36,
   "metadata": {},
   "outputs": [
    {
     "name": "stdout",
     "output_type": "stream",
     "text": [
      "\n",
      "Content for \"https://google.com\":\t  b'<!doctype html><html itemscope=\"\" itemtype=\"http://schema.org/WebPage\" lang=\"uk\"><head><meta content'\n",
      "Elapsed time (fetch_url): 0.9915337562561035s\n",
      "\n",
      "Content for \"https://ithillel.ua\":\t  b'\\xef\\xbb\\xbf\\n\\n\\n\\n\\n\\t\\n\\n\\n\\t\\t\\t\\t\\n\\t\\n\\t\\n\\t\\n\\n\\n\\n\\n        \\n    \\t\\t\\t\\t\\n\\n        \\n\\t<!DOCTYPE html>\\n\\t<html lang=\"ru\">\\n\\t<head>\\n\\n\\t'\n",
      "Elapsed time (fetch_url): 0.8337750434875488s\n",
      "\n",
      "Content for \"https://lms.ithillel.ua\":\t  b'<!DOCTYPE html>\\n<html lang=\"ru\">\\n  <head>\\n    <meta charset=\"utf-8\"/>\\n    <meta name=\"viewport\" cont'\n",
      "Elapsed time (fetch_url): 0.2980961799621582s\n"
     ]
    }
   ],
   "source": [
    "def fetch_url(url):\n",
    "    res = requests.get(url)\n",
    "    print(f'\\nContent for \"{url}\":\\t ', res.content[:100])\n",
    "\n",
    "def profile(f):\n",
    "    def internal(url):\n",
    "        start = time.time()\n",
    "        f(url)\n",
    "        print(f'Elapsed time ({f.__name__}): {time.time() - start}s')\n",
    "    return internal\n",
    "\n",
    "fetch_url_profiled = profile(fetch_url)\n",
    "fetch_url_profiled('https://google.com')\n",
    "fetch_url_profiled('https://ithillel.ua')\n",
    "fetch_url_profiled('https://lms.ithillel.ua')"
   ]
  },
  {
   "cell_type": "code",
   "execution_count": null,
   "metadata": {
    "pycharm": {
     "name": "#%%\n"
    }
   },
   "outputs": [],
   "source": []
  },
  {
   "cell_type": "code",
   "execution_count": null,
   "metadata": {
    "pycharm": {
     "name": "#%%\n"
    }
   },
   "outputs": [],
   "source": []
  },
  {
   "cell_type": "code",
   "execution_count": null,
   "metadata": {
    "pycharm": {
     "name": "#%%\n"
    }
   },
   "outputs": [],
   "source": []
  },
  {
   "cell_type": "code",
   "execution_count": null,
   "metadata": {
    "pycharm": {
     "name": "#%%\n"
    }
   },
   "outputs": [],
   "source": []
  },
  {
   "cell_type": "code",
   "execution_count": null,
   "metadata": {
    "pycharm": {
     "name": "#%%\n"
    }
   },
   "outputs": [],
   "source": []
  },
  {
   "cell_type": "code",
   "execution_count": null,
   "metadata": {
    "pycharm": {
     "name": "#%%\n"
    }
   },
   "outputs": [],
   "source": []
  },
  {
   "cell_type": "code",
   "execution_count": 52,
   "metadata": {
    "pycharm": {
     "name": "#%%\n"
    }
   },
   "outputs": [
    {
     "name": "stdout",
     "output_type": "stream",
     "text": [
      "\n",
      "Content for \"https://ithillel.ua\":\t  b'\\xef\\xbb\\xbf\\n\\n\\n\\n\\n\\t\\n\\n\\n\\t\\t\\t\\t\\n\\t\\n\\t\\n\\t\\n\\n\\n\\n\\n        \\n    \\t\\t\\t\\t\\n\\n        \\n\\t<!DOCTYPE html>\\n\\t<html lang=\"ru\">\\n\\t<head>\\n\\n\\t'\n",
      "Elapsed time (fetch_url): 0.3529641628265381s\n"
     ]
    }
   ],
   "source": [
    "\n",
    "def profile(f):\n",
    "    def internal(*args):\n",
    "        start = time.time()\n",
    "        f(*args)\n",
    "        print(f'Elapsed time ({f.__name__}): {time.time() - start}s')\n",
    "    return internal\n",
    "\n",
    "fetch_url = profile(fetch_url)\n",
    "fetch_url('https://ithillel.ua')"
   ]
  },
  {
   "cell_type": "code",
   "execution_count": 3,
   "metadata": {},
   "outputs": [
    {
     "name": "stdout",
     "output_type": "stream",
     "text": [
      "\n",
      "Content for \"https://ithillel.ua\":\t  b'\\xef\\xbb\\xbf\\n\\n\\n\\n\\n\\t\\n\\n\\n\\t\\t\\t\\t\\n\\t\\n\\t\\n\\t\\n\\n\\n\\n\\n        \\n    \\t\\t'\n",
      "Elapsed time (fetch_url): 0.13074684143066406s\n",
      "\n",
      "Content for \"https://ithillel.ua\":\t  b'\\xef\\xbb\\xbf\\n\\n\\n\\n\\n\\t\\n\\n\\n\\t\\t\\t\\t\\n\\t\\n\\t\\n\\t\\n\\n\\n\\n\\n        \\n    \\t\\t\\t\\t\\n\\n        \\n\\t<!DOCTYPE html>\\n\\t<html lang=\"ru\">\\n\\t<head>\\n\\n\\t'\n",
      "Elapsed time (fetch_url): 0.10545468330383301s\n",
      "\n",
      "Content for \"https://ithillel.ua\":\t  b'\\xef\\xbb\\xbf\\n\\n\\n\\n\\n\\t\\n\\n\\n\\t\\t\\t\\t\\n\\t\\n\\t\\n\\t\\n\\n\\n\\n\\n        \\n    \\t\\t\\t\\t\\n\\n        \\n\\t<!DOCTYPE html>\\n\\t<html lang=\"ru\">\\n\\t<head>\\n\\n\\t\\t<link rel=\"preload\" href=\"https://assets.ithillel.ua/fonts/solomon_sans_normal.woff2\" as=\"font\" type=\"font/woff2\" crossorigin=\"anonymous\">\\n<link rel=\"preload\" href=\"https://assets.ithillel.ua/fonts/solomon_sans_semibold.woff2\" as=\"font\" type=\"font/woff2\" crossorigin=\"anonymous\">\\n<link rel=\"preload\" href=\"https://assets.ithillel.ua/fonts/solomon_sans_bold.woff2\" as=\"font\" type=\"font/woff2\" crossorigin=\"anonymous\">\\n\\n<link rel=\"preconnect\" href=\"https://google-analytics.bi.owox.com\">\\n<link rel=\"preconnect\" href=\"https://s.ytimg.com\">\\n<link rel=\"preconnect\" href=\"https://www.google.com.ua\" crossorigin=\"anonymous\">\\n<link rel=\"preconnect\" href=\"https://www.google.com\">\\n<link rel=\"preconnect\" href=\"https://www.googleadservices.com\">\\n<link rel=\"preconnect\" href=\"https://www.googletagmanager.com\">\\n<link rel=\"preconnect\" href=\"https://www.google-analytics.com\" crossorigin=\"anonymous\">\\n<link rel=\"preconnect\" href=\"https:'\n",
      "Elapsed time (fetch_url): 0.11839842796325684s\n"
     ]
    }
   ],
   "source": [
    "def fetch_url(url, first_n=None):\n",
    "    res = requests.get(url)\n",
    "    print(f'\\nContent for \"{url}\":\\t ', res.content[:first_n] if first_n else res.content)\n",
    "\n",
    "def profile(f):\n",
    "    def internal(*args, **kwargs):\n",
    "        start = time.time()\n",
    "        f(*args, **kwargs)\n",
    "        print(f'Elapsed time ({f.__name__}): {time.time() - start}s')\n",
    "    return internal\n",
    "\n",
    "fetch_url = profile(fetch_url)\n",
    "fetch_url('https://ithillel.ua', first_n=42)\n",
    "fetch_url('https://ithillel.ua', first_n=100)\n",
    "fetch_url('https://ithillel.ua', first_n=1024)"
   ]
  },
  {
   "cell_type": "code",
   "execution_count": 39,
   "metadata": {},
   "outputs": [
    {
     "name": "stdout",
     "output_type": "stream",
     "text": [
      "Elapsed time (fetch_url): 0.23036694526672363s\n"
     ]
    }
   ],
   "source": [
    "def fetch_url(url, first_n=100):\n",
    "    res = requests.get(url)\n",
    "    return res.content[:first_n] if first_n else res.content\n",
    "\n",
    "fetch_url = profile(fetch_url)\n",
    "with open('/tmp/content.html', 'w+') as f:\n",
    "    f.write(str(fetch_url('https://ithillel.ua', first_n=42)))\n",
    "\n",
    "# cat /tmp/content.html\n"
   ]
  },
  {
   "cell_type": "code",
   "execution_count": null,
   "metadata": {},
   "outputs": [],
   "source": []
  },
  {
   "cell_type": "code",
   "execution_count": null,
   "metadata": {},
   "outputs": [],
   "source": []
  },
  {
   "cell_type": "code",
   "execution_count": null,
   "metadata": {},
   "outputs": [],
   "source": []
  },
  {
   "cell_type": "code",
   "execution_count": null,
   "metadata": {},
   "outputs": [],
   "source": []
  },
  {
   "cell_type": "code",
   "execution_count": 40,
   "metadata": {},
   "outputs": [
    {
     "name": "stdout",
     "output_type": "stream",
     "text": [
      "Elapsed time (fetch_url): 0.1851346492767334s\n",
      "Elapsed time for function internal with params ('https://ithillel.ua',), {'first_n': 42}: 0.18528103828430176ms\n"
     ]
    }
   ],
   "source": [
    "def profile(f):\n",
    "    def internal(*args, **kwargs):\n",
    "        start = time.time()\n",
    "        result = f(*args, **kwargs)\n",
    "        print(f'Elapsed time for function {f.__name__} with params {args}, {kwargs}: {time.time() - start}ms')\n",
    "        return result\n",
    "    return internal\n",
    "\n",
    "fetch_url = profile(fetch_url)\n",
    "with open('/tmp/content.html', 'w+') as f:\n",
    "    f.write(str(fetch_url('https://ithillel.ua', first_n=42)))\n"
   ]
  },
  {
   "cell_type": "code",
   "execution_count": 79,
   "metadata": {},
   "outputs": [
    {
     "name": "stdout",
     "output_type": "stream",
     "text": [
      "Elapsed time for function fetch_url with params ('https://ithillel.ua',), {'first_n': 42}: 0.1624441146850586ms\n",
      "b'\\xef\\xbb\\xbf\\n\\n\\n\\n\\n\\t\\n\\n\\n\\t\\t\\t\\t\\n\\t\\n\\t\\n\\t\\n\\n\\n\\n\\n        \\n    \\t\\t'\n",
      "Elapsed time for function fetch_url with params ('https://google.com',), {}: 0.7504243850708008ms\n",
      "b'<!doctype html><html itemscope=\"\" itemtype=\"http://schema.org/WebPage\" lang=\"uk\"><head><meta content'\n"
     ]
    }
   ],
   "source": [
    "@profile # -> fetch_url = profile(fetch_url)\n",
    "def fetch_url(url, first_n=100):\n",
    "    res = requests.get(url)\n",
    "    return res.content[:first_n] if first_n else res.content\n",
    "    \n",
    "print(fetch_url('https://ithillel.ua', first_n=42))\n",
    "print(fetch_url('https://google.com'))"
   ]
  },
  {
   "cell_type": "markdown",
   "metadata": {},
   "source": [
    "### We need to go deeper"
   ]
  },
  {
   "cell_type": "code",
   "execution_count": 87,
   "metadata": {},
   "outputs": [
    {
     "name": "stdout",
     "output_type": "stream",
     "text": [
      "Help on function internal in module __main__:\n",
      "\n",
      "internal(*args, **kwargs)\n",
      "\n"
     ]
    }
   ],
   "source": [
    "def profile(f):\n",
    "    def internal(*args, **kwargs):\n",
    "        start = time.time()\n",
    "        result = f(*args, **kwargs)\n",
    "        print(f'Elapsed time for function {f.__name__} with params {args}, {kwargs}: {time.time() - start}ms')\n",
    "        return result\n",
    "    return internal\n",
    "\n",
    "\n",
    "@profile\n",
    "def fetch_url(url, first_n=100):\n",
    "    \"\"\"Fetch a given url\"\"\"\n",
    "    res = requests.get(url)\n",
    "    return res.content[:first_n] if first_n else res.content\n",
    "\n",
    "help(fetch_url)"
   ]
  },
  {
   "cell_type": "code",
   "execution_count": 88,
   "metadata": {},
   "outputs": [
    {
     "name": "stdout",
     "output_type": "stream",
     "text": [
      "Help on function fetch_url in module __main__:\n",
      "\n",
      "fetch_url(url, first_n=100)\n",
      "    Fetch a given url\n",
      "\n"
     ]
    }
   ],
   "source": [
    "def profile(f):\n",
    "    @functools.wraps(f)\n",
    "    def internal(*args, **kwargs):\n",
    "        start = time.time()\n",
    "        result = f(*args, **kwargs)\n",
    "        print(f'Elapsed time for function {f.__name__} with params {args}, {kwargs}: {time.time() - start}ms')\n",
    "        return result\n",
    "    return internal\n",
    "\n",
    "\n",
    "@profile\n",
    "def fetch_url(url, first_n=100):\n",
    "    \"\"\"Fetch a given url\"\"\"\n",
    "    res = requests.get(url)\n",
    "    return res.content[:first_n] if first_n else res.content\n",
    "\n",
    "\n",
    "help(fetch_url)"
   ]
  },
  {
   "cell_type": "code",
   "execution_count": 91,
   "metadata": {},
   "outputs": [],
   "source": [
    "def profile(msg='Elapsed time'):\n",
    "    def internal(f):\n",
    "        @functools.wraps(f)\n",
    "        def deco(*args, **kwargs):\n",
    "            start = time.time()\n",
    "            result = f(*args, **kwargs)\n",
    "            print(msg, f'({f.__name__}): {time.time() - start}s')\n",
    "            return result\n",
    "        return deco\n",
    "    return internal"
   ]
  },
  {
   "cell_type": "code",
   "execution_count": 94,
   "metadata": {},
   "outputs": [
    {
     "name": "stdout",
     "output_type": "stream",
     "text": [
      "Прошло времени (fetch_url): 0.7934281826019287s\n",
      "Elapsed time (fetch_url): 0.7412421703338623s\n"
     ]
    },
    {
     "data": {
      "text/plain": [
       "b'<!doctype html><html itemscope=\"\" itemtype=\"http://schema.org/WebPage\" lang=\"uk\"><head><meta content'"
      ]
     },
     "execution_count": 94,
     "metadata": {},
     "output_type": "execute_result"
    }
   ],
   "source": [
    "@profile(msg='Прошло времени')\n",
    "def fetch_url(url, first_n=100):\n",
    "    \"\"\"Fetch a given url\"\"\"\n",
    "    res = requests.get(url)\n",
    "    return res.content[:first_n] if first_n else res.content\n",
    "\n",
    "fetch_url('https://google.com')\n",
    "    \n",
    "@profile(msg='Elapsed time')\n",
    "def fetch_url(url, first_n=100):\n",
    "    \"\"\"Fetch a given url\"\"\"\n",
    "    res = requests.get(url)\n",
    "    return res.content[:first_n] if first_n else res.content\n",
    "\n",
    "fetch_url('https://google.com')"
   ]
  },
  {
   "cell_type": "code",
   "execution_count": 93,
   "metadata": {},
   "outputs": [
    {
     "name": "stdout",
     "output_type": "stream",
     "text": [
      "Help on function foo in module __main__:\n",
      "\n",
      "foo()\n",
      "    Help for foo\n",
      "\n",
      "Elapsed time (foo): 2.86102294921875e-06s\n",
      "RESULT:  42\n"
     ]
    }
   ],
   "source": [
    "@profile('Elapsed time') # -> profile_ = profile('Time spent')\n",
    "                         # -> foo5 = profile_(foo5)\n",
    "def foo():\n",
    "    \"\"\"Help for foo\"\"\"\n",
    "    return 42\n",
    "\n",
    "help(foo)\n",
    "print(\"RESULT: \", foo())"
   ]
  },
  {
   "cell_type": "markdown",
   "metadata": {},
   "source": [
    "### Template"
   ]
  },
  {
   "cell_type": "markdown",
   "metadata": {},
   "source": [
    "#### 2-level decorator"
   ]
  },
  {
   "cell_type": "code",
   "execution_count": 117,
   "metadata": {},
   "outputs": [],
   "source": [
    "def profile(f):\n",
    "    @functools.wraps(f)\n",
    "    def deco(*args, **kwargs):\n",
    "        start = time.time()\n",
    "        result = f(*args, **kwargs)\n",
    "        print('Elapsed time', f'({f.__name__}): {time.time() - start}s')\n",
    "        return result\n",
    "    return deco\n",
    "\n",
    "@profile\n",
    "def foo(): ..."
   ]
  },
  {
   "cell_type": "markdown",
   "metadata": {},
   "source": [
    "#### 3-level decorator"
   ]
  },
  {
   "cell_type": "code",
   "execution_count": 10,
   "metadata": {},
   "outputs": [],
   "source": [
    "def profile(msg='Elapsed time', file=sys.stdout):\n",
    "    def internal(f):\n",
    "        @functools.wraps(f)\n",
    "        def deco(*args, **kwargs):\n",
    "            start = time.time()\n",
    "            result = f(*args, **kwargs)\n",
    "            print(msg, f'({f.__name__}): {time.time() - start}s', file=file)\n",
    "            return result\n",
    "        return deco\n",
    "    return internal\n",
    "\n",
    "@profile()\n",
    "def foo(): ...\n"
   ]
  },
  {
   "cell_type": "code",
   "execution_count": null,
   "metadata": {},
   "outputs": [],
   "source": []
  },
  {
   "cell_type": "markdown",
   "metadata": {},
   "source": [
    "### Real life examples"
   ]
  },
  {
   "cell_type": "code",
   "execution_count": 95,
   "metadata": {},
   "outputs": [
    {
     "data": {
      "text/plain": [
       "55"
      ]
     },
     "execution_count": 95,
     "metadata": {},
     "output_type": "execute_result"
    }
   ],
   "source": [
    "# 0 1 2 3 4 5 6 7 8\n",
    "# 0 1 1 2 3 5 8 13 ...\n",
    "def fibo(n):\n",
    "    \"\"\"Super inefficient fibo function\"\"\"\n",
    "    if n < 2:\n",
    "        return n\n",
    "    else:\n",
    "        return fibo(n-1) + fibo(n-2)\n",
    "   \n",
    "fibo(10)"
   ]
  },
  {
   "cell_type": "code",
   "execution_count": 97,
   "metadata": {},
   "outputs": [
    {
     "name": "stdout",
     "output_type": "stream",
     "text": [
      "Elapsed time (fibo): 1.1920928955078125e-06s\n",
      "Elapsed time (fibo): 1.430511474609375e-06s\n",
      "Elapsed time (fibo): 0.0003650188446044922s\n",
      "Elapsed time (fibo): 4.76837158203125e-07s\n",
      "Elapsed time (fibo): 0.0004184246063232422s\n",
      "Elapsed time (fibo): 4.76837158203125e-07s\n",
      "Elapsed time (fibo): 7.152557373046875e-07s\n",
      "Elapsed time (fibo): 4.3392181396484375e-05s\n",
      "Elapsed time (fibo): 0.0005056858062744141s\n",
      "Elapsed time (fibo): 2.384185791015625e-07s\n",
      "Elapsed time (fibo): 4.76837158203125e-07s\n",
      "Elapsed time (fibo): 4.5299530029296875e-05s\n",
      "Elapsed time (fibo): 2.384185791015625e-07s\n",
      "Elapsed time (fibo): 9.512901306152344e-05s\n",
      "Elapsed time (fibo): 0.0006499290466308594s\n",
      "Elapsed time (fibo): 2.384185791015625e-07s\n",
      "Elapsed time (fibo): 7.152557373046875e-07s\n",
      "Elapsed time (fibo): 4.506111145019531e-05s\n",
      "Elapsed time (fibo): 4.76837158203125e-07s\n",
      "Elapsed time (fibo): 8.940696716308594e-05s\n",
      "Elapsed time (fibo): 2.384185791015625e-07s\n",
      "Elapsed time (fibo): 7.152557373046875e-07s\n",
      "Elapsed time (fibo): 4.553794860839844e-05s\n",
      "Elapsed time (fibo): 0.00022149085998535156s\n",
      "Elapsed time (fibo): 0.0012619495391845703s\n",
      "Elapsed time (fibo): 4.76837158203125e-07s\n",
      "Elapsed time (fibo): 2.384185791015625e-07s\n",
      "Elapsed time (fibo): 4.696846008300781e-05s\n",
      "Elapsed time (fibo): 4.76837158203125e-07s\n",
      "Elapsed time (fibo): 9.202957153320312e-05s\n",
      "Elapsed time (fibo): 4.76837158203125e-07s\n",
      "Elapsed time (fibo): 2.384185791015625e-07s\n",
      "Elapsed time (fibo): 4.363059997558594e-05s\n",
      "Elapsed time (fibo): 0.0002930164337158203s\n",
      "Elapsed time (fibo): 2.384185791015625e-07s\n",
      "Elapsed time (fibo): 7.152557373046875e-07s\n",
      "Elapsed time (fibo): 4.673004150390625e-05s\n",
      "Elapsed time (fibo): 7.152557373046875e-07s\n",
      "Elapsed time (fibo): 0.0009829998016357422s\n",
      "Elapsed time (fibo): 0.0013153553009033203s\n",
      "Elapsed time (fibo): 0.0026280879974365234s\n",
      "Elapsed time (fibo): 4.76837158203125e-07s\n",
      "Elapsed time (fibo): 4.76837158203125e-07s\n",
      "Elapsed time (fibo): 4.0531158447265625e-05s\n",
      "Elapsed time (fibo): 4.76837158203125e-07s\n",
      "Elapsed time (fibo): 8.177757263183594e-05s\n",
      "Elapsed time (fibo): 4.76837158203125e-07s\n",
      "Elapsed time (fibo): 2.384185791015625e-07s\n",
      "Elapsed time (fibo): 4.315376281738281e-05s\n",
      "Elapsed time (fibo): 0.0001723766326904297s\n",
      "Elapsed time (fibo): 2.384185791015625e-07s\n",
      "Elapsed time (fibo): 4.76837158203125e-07s\n",
      "Elapsed time (fibo): 4.2438507080078125e-05s\n",
      "Elapsed time (fibo): 7.152557373046875e-07s\n",
      "Elapsed time (fibo): 8.177757263183594e-05s\n",
      "Elapsed time (fibo): 0.00029730796813964844s\n",
      "Elapsed time (fibo): 2.384185791015625e-07s\n",
      "Elapsed time (fibo): 2.384185791015625e-07s\n",
      "Elapsed time (fibo): 5.125999450683594e-05s\n",
      "Elapsed time (fibo): 2.384185791015625e-07s\n",
      "Elapsed time (fibo): 8.416175842285156e-05s\n",
      "Elapsed time (fibo): 2.384185791015625e-07s\n",
      "Elapsed time (fibo): 2.384185791015625e-07s\n",
      "Elapsed time (fibo): 3.4332275390625e-05s\n",
      "Elapsed time (fibo): 0.00015473365783691406s\n",
      "Elapsed time (fibo): 0.00048732757568359375s\n",
      "Elapsed time (fibo): 0.003152608871459961s\n",
      "Elapsed time (fibo): 4.76837158203125e-07s\n",
      "Elapsed time (fibo): 4.76837158203125e-07s\n",
      "Elapsed time (fibo): 4.482269287109375e-05s\n",
      "Elapsed time (fibo): 2.86102294921875e-06s\n",
      "Elapsed time (fibo): 0.010767459869384766s\n",
      "Elapsed time (fibo): 4.76837158203125e-07s\n",
      "Elapsed time (fibo): 2.384185791015625e-07s\n",
      "Elapsed time (fibo): 5.555152893066406e-05s\n",
      "Elapsed time (fibo): 0.010885238647460938s\n",
      "Elapsed time (fibo): 2.384185791015625e-07s\n",
      "Elapsed time (fibo): 2.384185791015625e-07s\n",
      "Elapsed time (fibo): 4.7206878662109375e-05s\n",
      "Elapsed time (fibo): 4.76837158203125e-07s\n",
      "Elapsed time (fibo): 8.988380432128906e-05s\n",
      "Elapsed time (fibo): 0.011019468307495117s\n",
      "Elapsed time (fibo): 4.76837158203125e-07s\n",
      "Elapsed time (fibo): 2.384185791015625e-07s\n",
      "Elapsed time (fibo): 4.601478576660156e-05s\n",
      "Elapsed time (fibo): 2.384185791015625e-07s\n",
      "Elapsed time (fibo): 9.34600830078125e-05s\n",
      "Elapsed time (fibo): 2.384185791015625e-07s\n",
      "Elapsed time (fibo): 2.384185791015625e-07s\n",
      "Elapsed time (fibo): 5.650520324707031e-05s\n",
      "Elapsed time (fibo): 0.00018906593322753906s\n",
      "Elapsed time (fibo): 0.011250019073486328s\n",
      "Elapsed time (fibo): 2.384185791015625e-07s\n",
      "Elapsed time (fibo): 2.384185791015625e-07s\n",
      "Elapsed time (fibo): 3.886222839355469e-05s\n",
      "Elapsed time (fibo): 2.384185791015625e-07s\n",
      "Elapsed time (fibo): 7.43865966796875e-05s\n",
      "Elapsed time (fibo): 2.384185791015625e-07s\n",
      "Elapsed time (fibo): 2.384185791015625e-07s\n",
      "Elapsed time (fibo): 4.3392181396484375e-05s\n",
      "Elapsed time (fibo): 0.00015664100646972656s\n",
      "Elapsed time (fibo): 2.384185791015625e-07s\n",
      "Elapsed time (fibo): 2.384185791015625e-07s\n",
      "Elapsed time (fibo): 4.458427429199219e-05s\n",
      "Elapsed time (fibo): 2.384185791015625e-07s\n",
      "Elapsed time (fibo): 8.726119995117188e-05s\n",
      "Elapsed time (fibo): 0.00028896331787109375s\n",
      "Elapsed time (fibo): 0.011578559875488281s\n",
      "Elapsed time (fibo): 0.014955282211303711s\n",
      "Elapsed time (fibo): 4.76837158203125e-07s\n",
      "Elapsed time (fibo): 4.76837158203125e-07s\n",
      "Elapsed time (fibo): 4.267692565917969e-05s\n",
      "Elapsed time (fibo): 2.384185791015625e-07s\n",
      "Elapsed time (fibo): 8.440017700195312e-05s\n",
      "Elapsed time (fibo): 2.384185791015625e-07s\n",
      "Elapsed time (fibo): 7.152557373046875e-07s\n",
      "Elapsed time (fibo): 4.363059997558594e-05s\n",
      "Elapsed time (fibo): 0.00016999244689941406s\n",
      "Elapsed time (fibo): 2.384185791015625e-07s\n",
      "Elapsed time (fibo): 7.152557373046875e-07s\n",
      "Elapsed time (fibo): 0.0002522468566894531s\n",
      "Elapsed time (fibo): 4.76837158203125e-07s\n",
      "Elapsed time (fibo): 0.0002918243408203125s\n",
      "Elapsed time (fibo): 0.0007188320159912109s\n",
      "Elapsed time (fibo): 2.384185791015625e-07s\n",
      "Elapsed time (fibo): 2.384185791015625e-07s\n",
      "Elapsed time (fibo): 4.291534423828125e-05s\n",
      "Elapsed time (fibo): 2.384185791015625e-07s\n",
      "Elapsed time (fibo): 0.00041675567626953125s\n",
      "Elapsed time (fibo): 2.384185791015625e-07s\n",
      "Elapsed time (fibo): 2.384185791015625e-07s\n",
      "Elapsed time (fibo): 3.552436828613281e-05s\n",
      "Elapsed time (fibo): 0.0004894733428955078s\n",
      "Elapsed time (fibo): 0.005972385406494141s\n",
      "Elapsed time (fibo): 7.152557373046875e-07s\n",
      "Elapsed time (fibo): 7.152557373046875e-07s\n",
      "Elapsed time (fibo): 7.939338684082031e-05s\n",
      "Elapsed time (fibo): 9.5367431640625e-07s\n",
      "Elapsed time (fibo): 0.0002593994140625s\n",
      "Elapsed time (fibo): 7.152557373046875e-07s\n",
      "Elapsed time (fibo): 7.152557373046875e-07s\n",
      "Elapsed time (fibo): 7.176399230957031e-05s\n",
      "Elapsed time (fibo): 0.0004012584686279297s\n",
      "Elapsed time (fibo): 4.76837158203125e-07s\n",
      "Elapsed time (fibo): 4.76837158203125e-07s\n",
      "Elapsed time (fibo): 6.866455078125e-05s\n",
      "Elapsed time (fibo): 7.152557373046875e-07s\n",
      "Elapsed time (fibo): 0.00014090538024902344s\n",
      "Elapsed time (fibo): 0.0006139278411865234s\n",
      "Elapsed time (fibo): 0.0066661834716796875s\n",
      "Elapsed time (fibo): 3.5762786865234375e-06s\n",
      "Elapsed time (fibo): 9.5367431640625e-07s\n",
      "Elapsed time (fibo): 0.0002903938293457031s\n",
      "Elapsed time (fibo): 7.152557373046875e-07s\n",
      "Elapsed time (fibo): 0.00036525726318359375s\n",
      "Elapsed time (fibo): 4.76837158203125e-07s\n",
      "Elapsed time (fibo): 4.76837158203125e-07s\n",
      "Elapsed time (fibo): 7.62939453125e-05s\n",
      "Elapsed time (fibo): 0.0005083084106445312s\n",
      "Elapsed time (fibo): 4.76837158203125e-07s\n",
      "Elapsed time (fibo): 4.76837158203125e-07s\n",
      "Elapsed time (fibo): 6.985664367675781e-05s\n",
      "Elapsed time (fibo): 9.5367431640625e-07s\n",
      "Elapsed time (fibo): 0.00013947486877441406s\n",
      "Elapsed time (fibo): 0.0007140636444091797s\n",
      "Elapsed time (fibo): 4.76837158203125e-07s\n",
      "Elapsed time (fibo): 4.76837158203125e-07s\n",
      "Elapsed time (fibo): 8.487701416015625e-05s\n",
      "Elapsed time (fibo): 7.152557373046875e-07s\n",
      "Elapsed time (fibo): 0.0008444786071777344s\n",
      "Elapsed time (fibo): 3.337860107421875e-06s\n",
      "Elapsed time (fibo): 6.198883056640625e-06s\n",
      "Elapsed time (fibo): 0.00040268898010253906s\n",
      "Elapsed time (fibo): 0.002211332321166992s\n",
      "Elapsed time (fibo): 0.0029914379119873047s\n",
      "Elapsed time (fibo): 0.011148452758789062s\n",
      "Elapsed time (fibo): 0.026162385940551758s\n"
     ]
    },
    {
     "data": {
      "text/plain": [
       "55"
      ]
     },
     "execution_count": 97,
     "metadata": {},
     "output_type": "execute_result"
    }
   ],
   "source": [
    "@profile()\n",
    "def fibo(n):\n",
    "    \"\"\"Super inefficient fibo function\"\"\"\n",
    "    if n < 2:\n",
    "        return n\n",
    "    else:\n",
    "        return fibo(n-1) + fibo(n-2)\n",
    "   \n",
    "fibo(10)"
   ]
  },
  {
   "cell_type": "markdown",
   "metadata": {},
   "source": [
    "#### Recursion support"
   ]
  },
  {
   "cell_type": "code",
   "execution_count": 4,
   "metadata": {},
   "outputs": [
    {
     "name": "stdout",
     "output_type": "stream",
     "text": [
      "Elapsed time for function fibo: 8.630752563476562e-05s\n"
     ]
    },
    {
     "data": {
      "text/plain": [
       "55"
      ]
     },
     "execution_count": 4,
     "metadata": {},
     "output_type": "execute_result"
    }
   ],
   "source": [
    "def profile(msg=\"Elapsed time for function\"):\n",
    "    def internal(f):\n",
    "        @functools.wraps(f)\n",
    "        def deco(*args, **kwargs):\n",
    "            start = time.time()\n",
    "            deco._num_call += 1\n",
    "            result = f(*args, **kwargs)\n",
    "            deco._num_call -= 1\n",
    "            \n",
    "            if deco._num_call == 0:\n",
    "                print(msg, f'{f.__name__}: {time.time() - start}s')\n",
    "            return result\n",
    "        \n",
    "        deco._num_call = 0\n",
    "        return deco\n",
    "    \n",
    "    return internal\n",
    "\n",
    "@profile()\n",
    "def fibo(n):\n",
    "    \"\"\"Super inefficient fibo function\"\"\"\n",
    "    if n < 2:\n",
    "        return n\n",
    "    else:\n",
    "        return fibo(n-1) + fibo(n-2)\n",
    "   \n",
    "fibo(10)"
   ]
  },
  {
   "cell_type": "markdown",
   "metadata": {},
   "source": [
    "#### Exponential backoff"
   ]
  },
  {
   "cell_type": "code",
   "execution_count": 98,
   "metadata": {},
   "outputs": [
    {
     "name": "stdout",
     "output_type": "stream",
     "text": [
      "Trying to connect:  google.com\n",
      "Failed after 1 times, trying again after 1 sec...\n",
      "Trying to connect:  google.com\n",
      "Failed after 2 times, trying again after 2 sec...\n",
      "Trying to connect:  google.com\n",
      "Failed after 3 times, trying again after 4 sec...\n",
      "Trying to connect:  google.com\n",
      "SUCCESS!\n"
     ]
    }
   ],
   "source": [
    "def repeate(max_repeat=10):\n",
    "    def internal(f):\n",
    "        @functools.wraps(f)\n",
    "        def repeater(*args, **kwargs):\n",
    "            while repeater._num_repeats <= max_repeat:\n",
    "                try:\n",
    "                    return f(*args, **kwargs)\n",
    "                except Exception as ex:\n",
    "                    if repeater._num_repeats == max_repeat:\n",
    "                        raise\n",
    "                    else:\n",
    "                        print(f'Failed after {repeater._num_repeats+1} times, trying again after {2**repeater._num_repeats} sec...')\n",
    "                        sleep(2**repeater._num_repeats)\n",
    "                        repeater._num_repeats += 1\n",
    "                \n",
    "        repeater._num_repeats = 0\n",
    "        return repeater\n",
    "    return internal\n",
    "\n",
    "\n",
    "@repeate(max_repeat=4)\n",
    "# @repeate()\n",
    "# @repeate # note the difference\n",
    "def connect_to_server(*args):\n",
    "    print('Trying to connect: ', *args)\n",
    "    if sum(random.choices([0, 1], [0.8, 0.2])) == 0:\n",
    "        raise RuntimeError('Failed to connect')\n",
    "    print('SUCCESS!')\n",
    "\n",
    "connect_to_server('google.com')\n"
   ]
  },
  {
   "cell_type": "markdown",
   "metadata": {},
   "source": [
    "#### Cache"
   ]
  },
  {
   "cell_type": "code",
   "execution_count": 101,
   "metadata": {},
   "outputs": [],
   "source": [
    "def cache(f):\n",
    "    \n",
    "    @functools.wraps(f)\n",
    "    def deco(*args):\n",
    "        \n",
    "        if args in deco._cache:\n",
    "            return deco._cache[args]\n",
    "        \n",
    "        result = f(*args)\n",
    "        \n",
    "        deco._cache[args] = result\n",
    "        \n",
    "        return result\n",
    "    \n",
    "    deco._cache = {}\n",
    "        \n",
    "    return deco\n"
   ]
  },
  {
   "cell_type": "code",
   "execution_count": 12,
   "metadata": {
    "pycharm": {
     "name": "#%%\n"
    }
   },
   "outputs": [],
   "source": [
    "def cache(max_limit=64):\n",
    "    def internal(f):\n",
    "        @functools.wraps(f)\n",
    "        def deco(*args, **kwargs):\n",
    "            cache_key = (args, tuple(kwargs.items()))\n",
    "            if cache_key in deco._cache:\n",
    "                # Перемещение только что использованного элемента в конец списка на удаление\n",
    "                deco._cache.move_to_end(cache_key, last=True)\n",
    "                return deco._cache[cache_key]\n",
    "            \n",
    "            result = f(*args, **kwargs)\n",
    "            # Удаление из словаря значения, если в нем больше чем задано max_limit. Для Домашнего задания\n",
    "            if len(deco._cache) >= max_limit:\n",
    "                 # удаление первого элемента\n",
    "                deco._cache.popitem(last=False)\n",
    "            deco._cache[cache_key] = result\n",
    "            return result\n",
    "        deco._cache = OrderedDict()\n",
    "        return deco\n",
    "    return internal"
   ]
  },
  {
   "cell_type": "code",
   "execution_count": 13,
   "metadata": {},
   "outputs": [
    {
     "name": "stdout",
     "output_type": "stream",
     "text": [
      "Elapsed time (fetch_url): 0.8459320068359375s\n",
      "Elapsed time (fetch_url): 0.14913105964660645s\n",
      "Elapsed time (fetch_url): 0.32921290397644043s\n",
      "Elapsed time (fetch_url): 0.1669933795928955s\n",
      "Elapsed time (fetch_url): 0.5569636821746826s\n",
      "Elapsed time (fetch_url): 1.8350892066955566s\n"
     ]
    },
    {
     "data": {
      "text/plain": [
       "OrderedDict([((('https://ithillel.ua',), ()),\n",
       "              b'\\xef\\xbb\\xbf\\n\\n\\n\\n\\n\\t\\n\\n\\n\\t\\t\\t\\t\\n\\t\\n\\t\\n\\t\\n\\n\\n\\n\\n        \\n    \\t\\t\\t\\t\\n\\n        \\n\\t<!DOCTYPE html>\\n\\t<html lang=\"ru\">\\n\\t<head>\\n\\n\\t'),\n",
       "             ((('https://dou.ua',), ()),\n",
       "              b'<html>\\r\\n<head><title>403 Forbidden</title></head>\\r\\n<body>\\r\\n<center><h1>403 Forbidden</h1></center>\\r\\n'),\n",
       "             ((('https://ain.ua',), ()),\n",
       "              b\"<html>\\r\\n<head><title>403 Forbidden</title><script async src='/cdn-cgi/challenge-platform/h/g/scripts\"),\n",
       "             ((('https://youtube.com',), ()),\n",
       "              b'<!DOCTYPE html><html style=\"font-size: 10px;font-family: Roboto, Arial, sans-serif;\" lang=\"uk-UA\" sy'),\n",
       "             (((), (('url', 'https://reddit.com'),)),\n",
       "              b'\\n    <!DOCTYPE html>\\n    <html lang=\"en-US\">\\n      <head>\\n        <script>\\n    var __SUPPORTS_TIMING')])"
      ]
     },
     "execution_count": 13,
     "metadata": {},
     "output_type": "execute_result"
    }
   ],
   "source": [
    "@profile(msg='Elapsed time')\n",
    "@cache(max_limit=5)\n",
    "# @profile(msg='Elapsed time')\n",
    "# @cache\n",
    "def fetch_url(url, first_n=100):\n",
    "    \"\"\"Fetch a given url\"\"\"\n",
    "    res = requests.get(url)\n",
    "    return res.content[:first_n] if first_n else res.content\n",
    "\n",
    "fetch_url('https://google.com')\n",
    "fetch_url('https://google.com')\n",
    "fetch_url('https://google.com')\n",
    "fetch_url('https://ithillel.ua')\n",
    "fetch_url('https://dou.ua')\n",
    "fetch_url('https://ain.ua')\n",
    "fetch_url('https://youtube.com')\n",
    "fetch_url(url='https://reddit.com')\n",
    "fetch_url._cache"
   ]
  },
  {
   "cell_type": "markdown",
   "metadata": {},
   "source": [
    "<img src=https://i.imgur.com/IgBFGaR.png>"
   ]
  },
  {
   "cell_type": "code",
   "execution_count": 189,
   "metadata": {},
   "outputs": [],
   "source": [
    "@profile()\n",
    "@cache\n",
    "def fibo(n):\n",
    "    \"\"\"Super inefficient fibo function\"\"\"\n",
    "    if n < 2:\n",
    "        return n\n",
    "    else:\n",
    "        return fibo(n-1) + fibo(n-2)"
   ]
  },
  {
   "cell_type": "code",
   "execution_count": 190,
   "metadata": {},
   "outputs": [
    {
     "name": "stdout",
     "output_type": "stream",
     "text": [
      "Elapsed time for function fibo: 0.0016300678253173828s\n",
      "139423224561697880139724382870407283950070256587697307264108962948325571622863290691557658876222521294125\n"
     ]
    }
   ],
   "source": [
    "# for i in range(10000):\n",
    "#     print(i, '->', fibo(i))\n",
    "print(fibo(500))"
   ]
  },
  {
   "cell_type": "code",
   "execution_count": 114,
   "metadata": {},
   "outputs": [],
   "source": [
    "# fibo._cache\n",
    "# id(fibo._cache)"
   ]
  },
  {
   "cell_type": "code",
   "execution_count": 128,
   "metadata": {},
   "outputs": [],
   "source": [
    "from functools import lru_cache\n",
    "\n",
    "@lru_cache(maxsize=64)\n",
    "def foo():\n",
    "    print('foo')"
   ]
  },
  {
   "cell_type": "markdown",
   "metadata": {},
   "source": [
    "### Links"
   ]
  },
  {
   "cell_type": "markdown",
   "metadata": {},
   "source": [
    "1. Python Introduction: https://www.youtube.com/watch?v=5V7XG1mGiHc&list=PLlb7e2G7aSpTTNp7HBYzCBByaE1h54ruW\n",
    "2. Теория по декораторам: http://bit.ly/2z5yatp: стр. 414\n",
    "3. Примеры с урока: https://github.com/dbradul/python_course/blob/master/lesson_deco.ipynb\n",
    "4. Exponential backoff: https://bit.ly/3nvOyeQ\n",
    "5. Установка jupyter: https://www.youtube.com/watch?v=VIaur9G-0tc"
   ]
  },
  {
   "cell_type": "markdown",
   "metadata": {},
   "source": [
    "### H/w"
   ]
  },
  {
   "cell_type": "markdown",
   "metadata": {},
   "source": [
    "1. Дополнить декоратор сache поддержкой max_limit.\n",
    "2. "
   ]
  }
 ],
 "metadata": {
  "kernelspec": {
   "display_name": "Python 3",
   "language": "python",
   "name": "python3"
  },
  "language_info": {
   "codemirror_mode": {
    "name": "ipython",
    "version": 3
   },
   "file_extension": ".py",
   "mimetype": "text/x-python",
   "name": "python",
   "nbconvert_exporter": "python",
   "pygments_lexer": "ipython3",
   "version": "3.8.10"
  }
 },
 "nbformat": 4,
 "nbformat_minor": 4
}
