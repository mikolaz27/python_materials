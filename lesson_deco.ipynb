{
 "cells": [
  {
   "cell_type": "code",
   "execution_count": 1,
   "metadata": {},
   "outputs": [],
   "source": [
    "import pathlib\n",
    "import os\n",
    "import random\n",
    "import time\n",
    "import timeit\n",
    "import functools\n",
    "from collections import OrderedDict\n",
    "import requests\n",
    "import sys\n",
    "\n",
    "from time import sleep"
   ]
  },
  {
   "cell_type": "code",
   "execution_count": null,
   "metadata": {},
   "outputs": [],
   "source": []
  },
  {
   "cell_type": "markdown",
   "metadata": {},
   "source": [
    "### Function basics"
   ]
  },
  {
   "cell_type": "code",
   "execution_count": 107,
   "metadata": {
    "pycharm": {
     "name": "#%%\n"
    }
   },
   "outputs": [
    {
     "name": "stdout",
     "output_type": "stream",
     "text": [
      "1 2 3\n",
      "1 2 3\n"
     ]
    }
   ],
   "source": [
    "def func(x, y, z):\n",
    "    print(x, y, z)\n",
    "\n",
    "func(1, 2, 3)\n",
    "func(x=1, y=2, z=3)"
   ]
  },
  {
   "cell_type": "code",
   "execution_count": 111,
   "metadata": {
    "pycharm": {
     "name": "#%%\n"
    }
   },
   "outputs": [
    {
     "name": "stdout",
     "output_type": "stream",
     "text": [
      "abc 42 None\n",
      "xyz 42 None\n",
      "abc 43 None\n",
      "xyz 43 (0, 1)\n"
     ]
    }
   ],
   "source": [
    "def func(x='abc', y=42, z=None):\n",
    "    print(x, y, z)\n",
    "\n",
    "\n",
    "func()\n",
    "func('xyz')\n",
    "# func(, 43)\n",
    "func(y=43)\n",
    "func('xyz', 43, (0,1))"
   ]
  },
  {
   "cell_type": "code",
   "execution_count": 2,
   "metadata": {
    "pycharm": {
     "name": "#%%\n"
    }
   },
   "outputs": [
    {
     "ename": "NameError",
     "evalue": "name 'BaseForm' is not defined",
     "output_type": "error",
     "traceback": [
      "\u001b[1;31m---------------------------------------------------------------------------\u001b[0m",
      "\u001b[1;31mNameError\u001b[0m                                 Traceback (most recent call last)",
      "\u001b[1;32m~\\AppData\\Local\\Temp/ipykernel_13496/1772056297.py\u001b[0m in \u001b[0;36m<module>\u001b[1;34m\u001b[0m\n\u001b[1;32m----> 1\u001b[1;33m \u001b[1;32mclass\u001b[0m \u001b[0mBaseModelForm\u001b[0m\u001b[1;33m(\u001b[0m\u001b[0mBaseForm\u001b[0m\u001b[1;33m)\u001b[0m\u001b[1;33m:\u001b[0m\u001b[1;33m\u001b[0m\u001b[1;33m\u001b[0m\u001b[0m\n\u001b[0m\u001b[0;32m      2\u001b[0m     def __init__(self, data=None, files=None, auto_id='id_%s', prefix=None,\n\u001b[0;32m      3\u001b[0m                  \u001b[0minitial\u001b[0m\u001b[1;33m=\u001b[0m\u001b[1;32mNone\u001b[0m\u001b[1;33m,\u001b[0m \u001b[0merror_class\u001b[0m\u001b[1;33m=\u001b[0m\u001b[0mErrorList\u001b[0m\u001b[1;33m,\u001b[0m \u001b[0mlabel_suffix\u001b[0m\u001b[1;33m=\u001b[0m\u001b[1;32mNone\u001b[0m\u001b[1;33m,\u001b[0m\u001b[1;33m\u001b[0m\u001b[1;33m\u001b[0m\u001b[0m\n\u001b[0;32m      4\u001b[0m                  \u001b[0mempty_permitted\u001b[0m\u001b[1;33m=\u001b[0m\u001b[1;32mFalse\u001b[0m\u001b[1;33m,\u001b[0m \u001b[0minstance\u001b[0m\u001b[1;33m=\u001b[0m\u001b[1;32mNone\u001b[0m\u001b[1;33m,\u001b[0m \u001b[0muse_required_attribute\u001b[0m\u001b[1;33m=\u001b[0m\u001b[1;32mNone\u001b[0m\u001b[1;33m,\u001b[0m\u001b[1;33m\u001b[0m\u001b[1;33m\u001b[0m\u001b[0m\n\u001b[0;32m      5\u001b[0m                  renderer=None):\n",
      "\u001b[1;31mNameError\u001b[0m: name 'BaseForm' is not defined"
     ]
    }
   ],
   "source": [
    "class BaseModelForm(BaseForm):\n",
    "    def __init__(self, data=None, files=None, auto_id='id_%s', prefix=None,\n",
    "                 initial=None, error_class=ErrorList, label_suffix=None,\n",
    "                 empty_permitted=False, instance=None, use_required_attribute=None,\n",
    "                 renderer=None):\n",
    "        ...\n",
    "        \n",
    "BaseModelForm(renderer='test')"
   ]
  },
  {
   "cell_type": "code",
   "execution_count": 118,
   "metadata": {
    "pycharm": {
     "name": "#%%\n"
    },
    "tags": []
   },
   "outputs": [
    {
     "name": "stdout",
     "output_type": "stream",
     "text": [
      "('xyz',)\n",
      "('xyz', 43, (0, 1))\n",
      "(1, 2, 3)\n"
     ]
    },
    {
     "data": {
      "text/plain": [
       "(1, 2, 3)"
      ]
     },
     "execution_count": 118,
     "metadata": {},
     "output_type": "execute_result"
    }
   ],
   "source": [
    "def func(*args):\n",
    "    print(args)\n",
    "    return args\n",
    "\n",
    "func('xyz')\n",
    "func('xyz', 43, (0,1))\n",
    "func(1,2,3)"
   ]
  },
  {
   "cell_type": "code",
   "execution_count": 119,
   "metadata": {
    "scrolled": true
   },
   "outputs": [
    {
     "name": "stdout",
     "output_type": "stream",
     "text": [
      "<class 'str'>\n",
      "('xyz',)\n",
      "<class 'tuple'>\n",
      "<class 'function'>\n"
     ]
    }
   ],
   "source": [
    "print(type(\"x\"))\n",
    "print(type(func('xyz'))) \n",
    "print(type(func))"
   ]
  },
  {
   "cell_type": "code",
   "execution_count": 123,
   "metadata": {
    "pycharm": {
     "name": "#%%\n"
    }
   },
   "outputs": [
    {
     "name": "stdout",
     "output_type": "stream",
     "text": [
      "args: () , kwargs: {}\n",
      "args: ('xyz',) , kwargs: {}\n",
      "args: ('xyz', 43, (0, 1)) , kwargs: {}\n",
      "args: () , kwargs: {'y': 43, 'x': 45, 'test': 12}\n"
     ]
    }
   ],
   "source": [
    "def func(*args, **kwargs):\n",
    "    print('args:', args, ', kwargs:', kwargs)\n",
    "\n",
    "\n",
    "func()\n",
    "func('xyz')\n",
    "func('xyz', 43, (0,1))\n",
    "func(y=43, x=45, parameter=45)"
   ]
  },
  {
   "cell_type": "code",
   "execution_count": 125,
   "metadata": {},
   "outputs": [
    {
     "name": "stdout",
     "output_type": "stream",
     "text": [
      "1 2 3\n"
     ]
    }
   ],
   "source": [
    "# keyword args\n",
    "# could be default\n",
    "def func(x, y, *, z):\n",
    "    print(x, y, z)\n",
    "\n",
    "# func(1, 2, 3)    \n",
    "func(1, 2, z=3)\n",
    "    "
   ]
  },
  {
   "cell_type": "code",
   "execution_count": 126,
   "metadata": {},
   "outputs": [
    {
     "name": "stdout",
     "output_type": "stream",
     "text": [
      "1 2 (3, 4) 12\n"
     ]
    }
   ],
   "source": [
    "def func(x, y, *args, z):\n",
    "    print(x, y, args, z)\n",
    "\n",
    "func(1, 2, 3, 4, z=12)    \n",
    "# func(1,2,z=3)\n",
    "    "
   ]
  },
  {
   "cell_type": "code",
   "execution_count": 127,
   "metadata": {},
   "outputs": [],
   "source": [
    "def append_numbers(a, b):\n",
    "    local_list = []\n",
    "    local_list.append(a)\n",
    "    local_list.append(b)\n",
    "    print(local_list)"
   ]
  },
  {
   "cell_type": "code",
   "execution_count": 130,
   "metadata": {},
   "outputs": [
    {
     "ename": "TypeError",
     "evalue": "append_numbers() takes 2 positional arguments but 3 were given",
     "output_type": "error",
     "traceback": [
      "\u001b[1;31m---------------------------------------------------------------------------\u001b[0m",
      "\u001b[1;31mTypeError\u001b[0m                                 Traceback (most recent call last)",
      "\u001b[1;32m~\\AppData\\Local\\Temp/ipykernel_13496/446675783.py\u001b[0m in \u001b[0;36m<module>\u001b[1;34m\u001b[0m\n\u001b[0;32m      8\u001b[0m \u001b[1;33m\u001b[0m\u001b[0m\n\u001b[0;32m      9\u001b[0m \u001b[1;33m\u001b[0m\u001b[0m\n\u001b[1;32m---> 10\u001b[1;33m \u001b[0mappend_numbers\u001b[0m\u001b[1;33m(\u001b[0m\u001b[1;36m1\u001b[0m\u001b[1;33m,\u001b[0m \u001b[1;36m2\u001b[0m\u001b[1;33m,\u001b[0m \u001b[1;36m3\u001b[0m\u001b[1;33m)\u001b[0m\u001b[1;33m\u001b[0m\u001b[1;33m\u001b[0m\u001b[0m\n\u001b[0m",
      "\u001b[1;31mTypeError\u001b[0m: append_numbers() takes 2 positional arguments but 3 were given"
     ]
    }
   ],
   "source": [
    "def append_numbers(a, b, *, validator=None):\n",
    "    local_list = []\n",
    "    local_list.append(a)\n",
    "    local_list.append(b)\n",
    "    if validator:\n",
    "        print(\"I am using validator\")\n",
    "    print(local_list) \n",
    "     \n",
    "append_numbers(1, 2, validator=3)\n"
   ]
  },
  {
   "cell_type": "code",
   "execution_count": 132,
   "metadata": {},
   "outputs": [
    {
     "ename": "TypeError",
     "evalue": "func() got an unexpected keyword argument 'a'",
     "output_type": "error",
     "traceback": [
      "\u001b[1;31m---------------------------------------------------------------------------\u001b[0m",
      "\u001b[1;31mTypeError\u001b[0m                                 Traceback (most recent call last)",
      "\u001b[1;32m~\\AppData\\Local\\Temp/ipykernel_13496/3610705878.py\u001b[0m in \u001b[0;36m<module>\u001b[1;34m\u001b[0m\n\u001b[0;32m      6\u001b[0m \u001b[1;31m#     return a * b / c\u001b[0m\u001b[1;33m\u001b[0m\u001b[1;33m\u001b[0m\u001b[0m\n\u001b[0;32m      7\u001b[0m \u001b[1;33m\u001b[0m\u001b[0m\n\u001b[1;32m----> 8\u001b[1;33m \u001b[0mfunc\u001b[0m\u001b[1;33m(\u001b[0m\u001b[0ma\u001b[0m\u001b[1;33m=\u001b[0m\u001b[1;36m1\u001b[0m\u001b[1;33m,\u001b[0m\u001b[0mb\u001b[0m\u001b[1;33m=\u001b[0m\u001b[1;36m4\u001b[0m\u001b[1;33m,\u001b[0m\u001b[0mc\u001b[0m\u001b[1;33m=\u001b[0m\u001b[1;36m7\u001b[0m\u001b[1;33m)\u001b[0m\u001b[1;33m\u001b[0m\u001b[1;33m\u001b[0m\u001b[0m\n\u001b[0m",
      "\u001b[1;31mTypeError\u001b[0m: func() got an unexpected keyword argument 'a'"
     ]
    }
   ],
   "source": [
    "def func(*,x, y, z):\n",
    "    print(x, y, z)\n",
    "\n",
    "# def calculate_salary(a, b, c )\n",
    "#     return a * b / c \n",
    "func(a=1,b=4,c=7)"
   ]
  },
  {
   "cell_type": "code",
   "execution_count": 136,
   "metadata": {},
   "outputs": [
    {
     "name": "stdout",
     "output_type": "stream",
     "text": [
      "1 2 3\n"
     ]
    }
   ],
   "source": [
    "def func(x, y, z, /):\n",
    "    \n",
    "    print(x, y, z)\n",
    "    \n",
    "func(1,2,3)"
   ]
  },
  {
   "cell_type": "code",
   "execution_count": 141,
   "metadata": {},
   "outputs": [
    {
     "ename": "ValueError",
     "evalue": "should be variable with value",
     "output_type": "error",
     "traceback": [
      "\u001b[1;31m---------------------------------------------------------------------------\u001b[0m",
      "\u001b[1;31mValueError\u001b[0m                                Traceback (most recent call last)",
      "\u001b[1;32m~\\AppData\\Local\\Temp/ipykernel_13496/3934269493.py\u001b[0m in \u001b[0;36m<module>\u001b[1;34m\u001b[0m\n\u001b[0;32m      6\u001b[0m         \u001b[1;32mraise\u001b[0m \u001b[0mValueError\u001b[0m\u001b[1;33m(\u001b[0m\u001b[1;34mf\"should be variable with value\"\u001b[0m\u001b[1;33m)\u001b[0m\u001b[1;33m\u001b[0m\u001b[1;33m\u001b[0m\u001b[0m\n\u001b[0;32m      7\u001b[0m \u001b[1;33m\u001b[0m\u001b[0m\n\u001b[1;32m----> 8\u001b[1;33m \u001b[0mcheck_variable\u001b[0m\u001b[1;33m(\u001b[0m\u001b[1;36m0\u001b[0m\u001b[1;33m)\u001b[0m\u001b[1;33m\u001b[0m\u001b[1;33m\u001b[0m\u001b[0m\n\u001b[0m",
      "\u001b[1;32m~\\AppData\\Local\\Temp/ipykernel_13496/3934269493.py\u001b[0m in \u001b[0;36mcheck_variable\u001b[1;34m(x)\u001b[0m\n\u001b[0;32m      4\u001b[0m \u001b[1;32mdef\u001b[0m \u001b[0mcheck_variable\u001b[0m\u001b[1;33m(\u001b[0m\u001b[0mx\u001b[0m\u001b[1;33m,\u001b[0m \u001b[1;33m/\u001b[0m\u001b[1;33m)\u001b[0m\u001b[1;33m:\u001b[0m\u001b[1;33m\u001b[0m\u001b[1;33m\u001b[0m\u001b[0m\n\u001b[0;32m      5\u001b[0m     \u001b[1;32mif\u001b[0m \u001b[1;32mnot\u001b[0m \u001b[0mx\u001b[0m\u001b[1;33m:\u001b[0m\u001b[1;33m\u001b[0m\u001b[1;33m\u001b[0m\u001b[0m\n\u001b[1;32m----> 6\u001b[1;33m         \u001b[1;32mraise\u001b[0m \u001b[0mValueError\u001b[0m\u001b[1;33m(\u001b[0m\u001b[1;34mf\"should be variable with value\"\u001b[0m\u001b[1;33m)\u001b[0m\u001b[1;33m\u001b[0m\u001b[1;33m\u001b[0m\u001b[0m\n\u001b[0m\u001b[0;32m      7\u001b[0m \u001b[1;33m\u001b[0m\u001b[0m\n\u001b[0;32m      8\u001b[0m \u001b[0mcheck_variable\u001b[0m\u001b[1;33m(\u001b[0m\u001b[1;36m0\u001b[0m\u001b[1;33m)\u001b[0m\u001b[1;33m\u001b[0m\u001b[1;33m\u001b[0m\u001b[0m\n",
      "\u001b[1;31mValueError\u001b[0m: should be variable with value"
     ]
    }
   ],
   "source": [
    "# backward compatible\n",
    "# def check_variable(*x, /):\n",
    "    \n",
    "def check_variable(x, /):\n",
    "    if not x:\n",
    "        raise ValueError(f\"should be variable with value\")\n",
    "\n",
    "check_variable(0)"
   ]
  },
  {
   "cell_type": "code",
   "execution_count": 143,
   "metadata": {},
   "outputs": [
    {
     "data": {
      "text/plain": [
       "0"
      ]
     },
     "execution_count": 143,
     "metadata": {},
     "output_type": "execute_result"
    }
   ],
   "source": [
    "def _mod(x, y, /, *, mod):\n",
    "    return (x + y) % mod\n",
    "\n",
    "_mod(3, 5, mod=3)"
   ]
  },
  {
   "cell_type": "code",
   "execution_count": 46,
   "metadata": {},
   "outputs": [],
   "source": [
    "# pos is faster \n"
   ]
  },
  {
   "cell_type": "code",
   "execution_count": null,
   "metadata": {},
   "outputs": [],
   "source": [
    "# def func(x:str) -> None:\n",
    "#     pass\n",
    "\n",
    "# x + func()"
   ]
  },
  {
   "cell_type": "markdown",
   "metadata": {},
   "source": [
    "### Everything is an object, so is a function"
   ]
  },
  {
   "cell_type": "code",
   "execution_count": 144,
   "metadata": {
    "pycharm": {
     "name": "#%%\n"
    }
   },
   "outputs": [
    {
     "data": {
      "text/plain": [
       "function"
      ]
     },
     "execution_count": 144,
     "metadata": {},
     "output_type": "execute_result"
    }
   ],
   "source": [
    "def func(x='abc', y=42, z=None):\n",
    "    print(x, y, z)\n",
    "\n",
    "func1 = func\n",
    "type(func1)"
   ]
  },
  {
   "cell_type": "code",
   "execution_count": 145,
   "metadata": {},
   "outputs": [
    {
     "name": "stdout",
     "output_type": "stream",
     "text": [
      "1709652464624 1709652464624\n",
      "abc 42 None\n"
     ]
    }
   ],
   "source": [
    "print(id(func1), id(func))\n",
    "func1()"
   ]
  },
  {
   "cell_type": "markdown",
   "metadata": {},
   "source": [
    "<img src=https://miro.medium.com/max/700/1*n0MVfelkQrJ_zBym4b3CSA.png>"
   ]
  },
  {
   "cell_type": "markdown",
   "metadata": {},
   "source": [
    "<img src=https://i.imgur.com/aye8Juy.png width=700>\n"
   ]
  },
  {
   "cell_type": "code",
   "execution_count": 146,
   "metadata": {
    "pycharm": {
     "name": "#%%\n"
    }
   },
   "outputs": [
    {
     "name": "stdout",
     "output_type": "stream",
     "text": [
      "Hello from foo\n",
      "Hello from bar\n"
     ]
    }
   ],
   "source": [
    "def func(f):\n",
    "    f()\n",
    "\n",
    "def foo():\n",
    "    print('Hello from foo')\n",
    "\n",
    "def bar():\n",
    "    print('Hello from bar')\n",
    "\n",
    "func(foo)\n",
    "func(bar)"
   ]
  },
  {
   "cell_type": "code",
   "execution_count": 148,
   "metadata": {
    "pycharm": {
     "name": "#%%\n"
    }
   },
   "outputs": [
    {
     "name": "stdout",
     "output_type": "stream",
     "text": [
      "Returning func f\n",
      "<class 'function'>\n",
      "Hello from foo\n",
      "Hello from foo\n"
     ]
    }
   ],
   "source": [
    "def foo():\n",
    "    print('Hello from foo')\n",
    "\n",
    "# transparent \n",
    "def func(f):\n",
    "#     print(\"Returning func f\")\n",
    "    return f\n",
    "\n",
    "result = func(foo)\n",
    "print(type(result))\n",
    "foo()\n",
    "result()\n"
   ]
  },
  {
   "cell_type": "code",
   "execution_count": 149,
   "metadata": {
    "pycharm": {
     "name": "#%%\n"
    }
   },
   "outputs": [
    {
     "name": "stdout",
     "output_type": "stream",
     "text": [
      "Hello from internal\n"
     ]
    }
   ],
   "source": [
    "def hello_factory():\n",
    "    def internal():\n",
    "        print('Hello from internal')\n",
    "    return internal\n",
    "\n",
    "func = hello_factory()\n",
    "func()\n",
    "# internal()\n",
    "\n"
   ]
  },
  {
   "cell_type": "code",
   "execution_count": 150,
   "metadata": {},
   "outputs": [
    {
     "name": "stdout",
     "output_type": "stream",
     "text": [
      "Hello from foo\n"
     ]
    }
   ],
   "source": [
    "def transparent_factory(f):\n",
    "    def internal():\n",
    "        f()       \n",
    "    return internal\n",
    "\n",
    "foo_transparent = transparent_factory(foo)\n",
    "foo_transparent()\n",
    "\n",
    "# foo()"
   ]
  },
  {
   "cell_type": "code",
   "execution_count": 154,
   "metadata": {
    "pycharm": {
     "name": "#%%\n"
    },
    "scrolled": true
   },
   "outputs": [
    {
     "name": "stdout",
     "output_type": "stream",
     "text": [
      ">>> Is about to call 'foo'\n",
      "\n",
      "Hello from foo\n",
      "\n",
      ">>> Just called 'foo'\n",
      "Hello from foo\n"
     ]
    }
   ],
   "source": [
    "def hello_factory_2(f):\n",
    "    def internal():\n",
    "        print(f\">>> Is about to call '{f.__name__}'\\n\")\n",
    "        f()\n",
    "        print(f\"\\n>>> Just called '{f.__name__}'\")\n",
    "        \n",
    "    return internal\n",
    "\n",
    "foo_verbosed = hello_factory_2(foo)\n",
    "foo_verbosed()\n",
    "\n",
    "foo()"
   ]
  },
  {
   "cell_type": "code",
   "execution_count": 155,
   "metadata": {
    "pycharm": {
     "name": "#%%\n"
    }
   },
   "outputs": [
    {
     "name": "stdout",
     "output_type": "stream",
     "text": [
      "Hello from foo\n",
      "Elapsed time: 2.002000331878662s\n",
      "Hello from foo\n"
     ]
    }
   ],
   "source": [
    "def foo():\n",
    "    time.sleep(2)\n",
    "    print('Hello from foo')\n",
    "\n",
    "def profile(f):\n",
    "    def internal():\n",
    "        start = time.time()\n",
    "        f()\n",
    "        finish = time.time()\n",
    "        print(f'Elapsed time: {finish - start}s')\n",
    "    return internal\n",
    "\n",
    "foo_profiled = profile(foo)\n",
    "foo_profiled()\n",
    "\n",
    "foo()\n"
   ]
  },
  {
   "cell_type": "code",
   "execution_count": null,
   "metadata": {},
   "outputs": [],
   "source": []
  },
  {
   "cell_type": "code",
   "execution_count": null,
   "metadata": {},
   "outputs": [],
   "source": []
  },
  {
   "cell_type": "code",
   "execution_count": null,
   "metadata": {},
   "outputs": [],
   "source": []
  },
  {
   "cell_type": "markdown",
   "metadata": {},
   "source": [
    "### Decorators\n",
    "\n",
    "#### D. is a function that adds some additional functionality, typically not changing original behaviour."
   ]
  },
  {
   "cell_type": "markdown",
   "metadata": {},
   "source": [
    "<img src=https://d33wubrfki0l68.cloudfront.net/12c8a296cc396d418b5407a4a4c6f9fd7d85f597/e8a54/wp-content/uploads/2018/06/python-decorator.png>"
   ]
  },
  {
   "cell_type": "code",
   "execution_count": 156,
   "metadata": {
    "pycharm": {
     "name": "#%%\n"
    }
   },
   "outputs": [
    {
     "name": "stdout",
     "output_type": "stream",
     "text": [
      "Hello from foo\n",
      "Elapsed time (foo): 2.006997585296631s\n"
     ]
    }
   ],
   "source": [
    "def profile(f):\n",
    "    def internal():\n",
    "        start = time.time()\n",
    "        f()\n",
    "        print(f'Elapsed time ({f.__name__}): {time.time() - start}s')\n",
    "    return internal\n",
    "\n",
    "foo_profiled = profile(foo)\n",
    "foo_profiled()\n"
   ]
  },
  {
   "cell_type": "code",
   "execution_count": 157,
   "metadata": {},
   "outputs": [],
   "source": [
    "def fetch_url():\n",
    "    res = requests.get('https://google.com')\n",
    "    print('Content: \\t', res.content[:100])"
   ]
  },
  {
   "cell_type": "code",
   "execution_count": 158,
   "metadata": {},
   "outputs": [
    {
     "name": "stdout",
     "output_type": "stream",
     "text": [
      "Content: \t b'<!doctype html><html itemscope=\"\" itemtype=\"http://schema.org/WebPage\" lang=\"uk\"><head><meta content'\n",
      "Elapsed time (fetch_url): 0.32297301292419434s\n"
     ]
    }
   ],
   "source": [
    "fetch_url_profiled = profile(fetch_url)\n",
    "fetch_url_profiled()"
   ]
  },
  {
   "cell_type": "code",
   "execution_count": null,
   "metadata": {},
   "outputs": [],
   "source": [
    "1. add try except "
   ]
  },
  {
   "cell_type": "code",
   "execution_count": null,
   "metadata": {},
   "outputs": [],
   "source": [
    "2. add input parameteres  "
   ]
  },
  {
   "cell_type": "code",
   "execution_count": null,
   "metadata": {},
   "outputs": [],
   "source": [
    "3. add return"
   ]
  },
  {
   "cell_type": "code",
   "execution_count": null,
   "metadata": {},
   "outputs": [],
   "source": []
  },
  {
   "cell_type": "code",
   "execution_count": null,
   "metadata": {},
   "outputs": [],
   "source": []
  },
  {
   "cell_type": "code",
   "execution_count": 159,
   "metadata": {},
   "outputs": [
    {
     "name": "stdout",
     "output_type": "stream",
     "text": [
      "\n",
      "Content for \"https://google.com\":\t  b'<!doctype html><html itemscope=\"\" itemtype=\"http://schema.org/WebPage\" lang=\"uk\"><head><meta content'\n",
      "Elapsed time (fetch_url): 0.3180389404296875s\n",
      "\n",
      "Content for \"https://ithillel.ua\":\t  b'\\xef\\xbb\\xbf\\n\\n\\n\\n\\n\\t\\n\\t\\t\\n\\t\\t\\t\\n\\t\\t\\n\\t\\t\\n\\t\\n\\t\\n\\t\\n\\n\\n\\n\\n\\n        \\n    \\t\\t\\t\\t\\n\\n        \\n\\t<!DOCTYPE html>\\n\\t<html lang=\"uk\">\\n\\t<h'\n",
      "Elapsed time (fetch_url): 0.24903059005737305s\n",
      "\n",
      "Content for \"https://lms.ithillel.ua\":\t  b'<!DOCTYPE html><html lang=\"uk\"><head>\\n    <meta charset=\"utf-8\">\\n    <meta name=\"viewport\" content=\"'\n",
      "Elapsed time (fetch_url): 0.18297028541564941s\n"
     ]
    }
   ],
   "source": [
    "def fetch_url(url):\n",
    "    res = requests.get(url)\n",
    "    print(f'\\nContent for \"{url}\":\\t ', res.content[:100])\n",
    "\n",
    "def profile(f):\n",
    "    def internal(url):\n",
    "        start = time.time()\n",
    "        f(url)\n",
    "        print(f'Elapsed time ({f.__name__}): {time.time() - start}s')\n",
    "    return internal\n",
    "\n",
    "fetch_url_profiled = profile(fetch_url)\n",
    "fetch_url_profiled('https://google.com')\n",
    "fetch_url_profiled('https://ithillel.ua')\n",
    "fetch_url_profiled('https://lms.ithillel.ua')"
   ]
  },
  {
   "cell_type": "code",
   "execution_count": null,
   "metadata": {
    "pycharm": {
     "name": "#%%\n"
    }
   },
   "outputs": [],
   "source": []
  },
  {
   "cell_type": "code",
   "execution_count": null,
   "metadata": {
    "pycharm": {
     "name": "#%%\n"
    }
   },
   "outputs": [],
   "source": []
  },
  {
   "cell_type": "code",
   "execution_count": null,
   "metadata": {
    "pycharm": {
     "name": "#%%\n"
    }
   },
   "outputs": [],
   "source": []
  },
  {
   "cell_type": "code",
   "execution_count": null,
   "metadata": {
    "pycharm": {
     "name": "#%%\n"
    }
   },
   "outputs": [],
   "source": []
  },
  {
   "cell_type": "code",
   "execution_count": null,
   "metadata": {
    "pycharm": {
     "name": "#%%\n"
    }
   },
   "outputs": [],
   "source": []
  },
  {
   "cell_type": "code",
   "execution_count": null,
   "metadata": {
    "pycharm": {
     "name": "#%%\n"
    }
   },
   "outputs": [],
   "source": []
  },
  {
   "cell_type": "code",
   "execution_count": 160,
   "metadata": {
    "pycharm": {
     "name": "#%%\n"
    }
   },
   "outputs": [
    {
     "name": "stdout",
     "output_type": "stream",
     "text": [
      "\n",
      "Content for \"https://ithillel.ua\":\t  b'\\xef\\xbb\\xbf\\n\\n\\n\\n\\n\\t\\n\\t\\t\\n\\t\\t\\t\\n\\t\\t\\n\\t\\t\\n\\t\\n\\t\\n\\t\\n\\n\\n\\n\\n\\n        \\n    \\t\\t\\t\\t\\n\\n        \\n\\t<!DOCTYPE html>\\n\\t<html lang=\"uk\">\\n\\t<h'\n",
      "Elapsed time (fetch_url): 0.21899938583374023s\n"
     ]
    }
   ],
   "source": [
    "def profile(f):\n",
    "    def internal(*args):\n",
    "        start = time.time()\n",
    "        f(*args)\n",
    "        print(f'Elapsed time ({f.__name__}): {time.time() - start}s')\n",
    "    return internal\n",
    "\n",
    "fetch_url = profile(fetch_url)\n",
    "fetch_url('https://ithillel.ua')"
   ]
  },
  {
   "cell_type": "code",
   "execution_count": 161,
   "metadata": {},
   "outputs": [
    {
     "name": "stdout",
     "output_type": "stream",
     "text": [
      "\n",
      "Content for \"https://ithillel.ua\":\t  b'\\xef\\xbb\\xbf\\n\\n\\n\\n\\n\\t\\n\\t\\t\\n\\t\\t\\t\\n\\t\\t\\n\\t\\t\\n\\t\\n\\t\\n\\t\\n\\n\\n\\n\\n\\n        '\n",
      "Elapsed time (fetch_url): 0.22302794456481934s\n",
      "\n",
      "Content for \"https://ithillel.ua\":\t  b'\\xef\\xbb\\xbf\\n\\n\\n\\n\\n\\t\\n\\t\\t\\n\\t\\t\\t\\n\\t\\t\\n\\t\\t\\n\\t\\n\\t\\n\\t\\n\\n\\n\\n\\n\\n        \\n    \\t\\t\\t\\t\\n\\n        \\n\\t<!DOCTYPE html>\\n\\t<html lang=\"uk\">\\n\\t<h'\n",
      "Elapsed time (fetch_url): 0.2219696044921875s\n",
      "\n",
      "Content for \"https://ithillel.ua\":\t  b'\\xef\\xbb\\xbf\\n\\n\\n\\n\\n\\t\\n\\t\\t\\n\\t\\t\\t\\n\\t\\t\\n\\t\\t\\n\\t\\n\\t\\n\\t\\n\\n\\n\\n\\n\\n        \\n    \\t\\t\\t\\t\\n\\n        \\n\\t<!DOCTYPE html>\\n\\t<html lang=\"uk\">\\n\\t<head>\\n\\n\\t\\t<link rel=\"preload\" href=\"https://assets.ithillel.ua/fonts/solomon_sans_normal.woff2\" as=\"font\" type=\"font/woff2\" crossorigin=\"anonymous\">\\n<link rel=\"preload\" href=\"https://assets.ithillel.ua/fonts/solomon_sans_semibold.woff2\" as=\"font\" type=\"font/woff2\" crossorigin=\"anonymous\">\\n<link rel=\"preload\" href=\"https://assets.ithillel.ua/fonts/solomon_sans_bold.woff2\" as=\"font\" type=\"font/woff2\" crossorigin=\"anonymous\">\\n\\n<link rel=\"preconnect\" href=\"https://google-analytics.bi.owox.com\">\\n<link rel=\"preconnect\" href=\"https://s.ytimg.com\">\\n<link rel=\"preconnect\" href=\"https://www.google.com.ua\" crossorigin=\"anonymous\">\\n<link rel=\"preconnect\" href=\"https://www.google.com\">\\n<link rel=\"preconnect\" href=\"https://www.googleadservices.com\">\\n<link rel=\"preconnect\" href=\"https://www.googletagmanager.com\">\\n<link rel=\"preconnect\" href=\"https://www.google-analytics.com\" crossorigin=\"anonymous\">\\n<link rel=\"preconnect\" href='\n",
      "Elapsed time (fetch_url): 0.21517181396484375s\n"
     ]
    }
   ],
   "source": [
    "def fetch_url(url, first_n=None):\n",
    "    res = requests.get(url)\n",
    "    print(f'\\nContent for \"{url}\":\\t ', res.content[:first_n] if first_n else res.content)\n",
    "\n",
    "def profile(f):\n",
    "    def internal(*args, **kwargs):\n",
    "        start = time.time()\n",
    "        f(*args, **kwargs)\n",
    "        print(f'Elapsed time ({f.__name__}): {time.time() - start}s')\n",
    "    return internal\n",
    "\n",
    "fetch_url = profile(fetch_url)\n",
    "fetch_url('https://ithillel.ua', first_n=42)\n",
    "fetch_url('https://ithillel.ua', first_n=100)\n",
    "fetch_url('https://ithillel.ua', first_n=1024)"
   ]
  },
  {
   "cell_type": "code",
   "execution_count": 166,
   "metadata": {},
   "outputs": [
    {
     "name": "stdout",
     "output_type": "stream",
     "text": [
      "Elapsed time for function fetch_url with params ('https://ithillel.ua',), {'first_n': 42}: 0.21899914741516113ms\n"
     ]
    }
   ],
   "source": [
    "def fetch_url(url, first_n=100):\n",
    "    res = requests.get(url)\n",
    "    return res.content[:first_n] if first_n else res.content\n",
    "\n",
    "fetch_url = profile(fetch_url)\n",
    "with open('content.html', 'w+') as f:\n",
    "    f.write(str(fetch_url('https://ithillel.ua', first_n=42)))\n",
    "\n",
    "# cat /tmp/content.html\n"
   ]
  },
  {
   "cell_type": "code",
   "execution_count": null,
   "metadata": {},
   "outputs": [],
   "source": []
  },
  {
   "cell_type": "code",
   "execution_count": null,
   "metadata": {},
   "outputs": [],
   "source": []
  },
  {
   "cell_type": "code",
   "execution_count": null,
   "metadata": {},
   "outputs": [],
   "source": []
  },
  {
   "cell_type": "code",
   "execution_count": null,
   "metadata": {},
   "outputs": [],
   "source": []
  },
  {
   "cell_type": "code",
   "execution_count": 167,
   "metadata": {},
   "outputs": [
    {
     "name": "stdout",
     "output_type": "stream",
     "text": [
      "Elapsed time for function fetch_url with params ('https://ithillel.ua',), {'first_n': 42}: 0.21620583534240723ms\n",
      "Elapsed time for function internal with params ('https://ithillel.ua',), {'first_n': 42}: 0.21620583534240723ms\n"
     ]
    }
   ],
   "source": [
    "def profile(f):\n",
    "    def internal(*args, **kwargs):\n",
    "        start = time.time()\n",
    "        result = f(*args, **kwargs)\n",
    "        print(f'Elapsed time for function {f.__name__} with params {args}, {kwargs}: {time.time() - start}ms')\n",
    "        return result\n",
    "    return internal\n",
    "\n",
    "fetch_url = profile(fetch_url)\n",
    "with open('content_1.html', 'w+') as f:\n",
    "    f.write(str(fetch_url('https://ithillel.ua', first_n=42)))\n"
   ]
  },
  {
   "cell_type": "code",
   "execution_count": 168,
   "metadata": {},
   "outputs": [
    {
     "name": "stdout",
     "output_type": "stream",
     "text": [
      "Elapsed time for function fetch_url with params ('https://ithillel.ua',), {'first_n': 42}: 0.22803044319152832ms\n",
      "b'\\xef\\xbb\\xbf\\n\\n\\n\\n\\n\\t\\n\\t\\t\\n\\t\\t\\t\\n\\t\\t\\n\\t\\t\\n\\t\\n\\t\\n\\t\\n\\n\\n\\n\\n\\n        '\n",
      "Elapsed time for function fetch_url with params ('https://google.com',), {}: 0.3059689998626709ms\n",
      "b'<!doctype html><html itemscope=\"\" itemtype=\"http://schema.org/WebPage\" lang=\"uk\"><head><meta content'\n"
     ]
    }
   ],
   "source": [
    "@profile # -> fetch_url = profile(fetch_url)\n",
    "def fetch_url(url, first_n=100):\n",
    "    res = requests.get(url)\n",
    "    return res.content[:first_n] if first_n else res.content\n",
    "    \n",
    "print(fetch_url('https://ithillel.ua', first_n=42))\n",
    "print(fetch_url('https://google.com'))"
   ]
  },
  {
   "cell_type": "code",
   "execution_count": 172,
   "metadata": {},
   "outputs": [
    {
     "name": "stdout",
     "output_type": "stream",
     "text": [
      "Help on function test in module __main__:\n",
      "\n",
      "test(a, b)\n",
      "    This function is make sum of two int\n",
      "\n"
     ]
    }
   ],
   "source": [
    "def test(a, b):\n",
    "    \"\"\" This function is make sum of two int \"\"\"\n",
    "    return a+b\n",
    "\n",
    "help(test)"
   ]
  },
  {
   "cell_type": "markdown",
   "metadata": {},
   "source": [
    "### We need to go deeper"
   ]
  },
  {
   "cell_type": "code",
   "execution_count": 175,
   "metadata": {},
   "outputs": [
    {
     "name": "stdout",
     "output_type": "stream",
     "text": [
      "Help on function internal in module __main__:\n",
      "\n",
      "internal(*args, **kwargs)\n",
      "\n"
     ]
    }
   ],
   "source": [
    "def profile(f):\n",
    "    def internal(*args, **kwargs):\n",
    "        start = time.time()\n",
    "        result = f(*args, **kwargs)\n",
    "        print(f'Elapsed time for function {f.__name__} with params {args}, {kwargs}: {time.time() - start}ms')\n",
    "        return result\n",
    "    return internal\n",
    "\n",
    "\n",
    "@profile\n",
    "def fetch_url(url, first_n=100):\n",
    "    \"\"\"Fetch a given url\"\"\"\n",
    "    res = requests.get(url)\n",
    "    return res.content[:first_n] if first_n else res.content\n",
    "\n",
    "help(fetch_url)"
   ]
  },
  {
   "cell_type": "code",
   "execution_count": 177,
   "metadata": {},
   "outputs": [
    {
     "name": "stdout",
     "output_type": "stream",
     "text": [
      "Help on function fetch_url in module __main__:\n",
      "\n",
      "fetch_url(url, first_n=100)\n",
      "    Fetch a given url\n",
      "\n"
     ]
    }
   ],
   "source": [
    "def profile(f):\n",
    "    @functools.wraps(f)\n",
    "    def internal(*args, **kwargs):\n",
    "        start = time.time()\n",
    "        result = f(*args, **kwargs)\n",
    "        print(f'Elapsed time for function {f.__name__} with params {args}, {kwargs}: {time.time() - start}ms')\n",
    "        return result\n",
    "    return internal\n",
    "\n",
    "\n",
    "@profile\n",
    "def fetch_url(url, first_n=100):\n",
    "    \"\"\"Fetch a given url\"\"\"\n",
    "    res = requests.get(url)\n",
    "    return res.content[:first_n] if first_n else res.content\n",
    "\n",
    "\n",
    "help(fetch_url)"
   ]
  },
  {
   "cell_type": "code",
   "execution_count": 179,
   "metadata": {},
   "outputs": [],
   "source": [
    "def profile(msg='Elapsed time'):\n",
    "    def internal(f):\n",
    "        @functools.wraps(f)\n",
    "        def deco(*args, **kwargs):\n",
    "            start = time.time()\n",
    "            result = f(*args, **kwargs)\n",
    "            print(msg, f'({f.__name__}): {time.time() - start}s')\n",
    "            return result\n",
    "        return deco\n",
    "    return internal"
   ]
  },
  {
   "cell_type": "code",
   "execution_count": 182,
   "metadata": {},
   "outputs": [
    {
     "name": "stdout",
     "output_type": "stream",
     "text": [
      "час пройшов (fetch_url): 0.3090236186981201s\n",
      "Elapsed time (fetch_url): 0.3189737796783447s\n"
     ]
    },
    {
     "data": {
      "text/plain": [
       "b'<!doctype html><html itemscope=\"\" itemtype=\"http://schema.org/WebPage\" lang=\"uk\"><head><meta content'"
      ]
     },
     "execution_count": 182,
     "metadata": {},
     "output_type": "execute_result"
    }
   ],
   "source": [
    "@profile(msg='час пройшов')\n",
    "def fetch_url(url, first_n=100):\n",
    "    \"\"\"Fetch a given url\"\"\"\n",
    "    res = requests.get(url)\n",
    "    return res.content[:first_n] if first_n else res.content\n",
    "\n",
    "fetch_url('https://google.com')\n",
    "    \n",
    "@profile(msg='Elapsed time')\n",
    "def fetch_url(url, first_n=100):\n",
    "    \"\"\"Fetch a given url\"\"\"\n",
    "    res = requests.get(url)\n",
    "    return res.content[:first_n] if first_n else res.content\n",
    "\n",
    "fetch_url('https://google.com')"
   ]
  },
  {
   "cell_type": "code",
   "execution_count": 69,
   "metadata": {},
   "outputs": [
    {
     "name": "stdout",
     "output_type": "stream",
     "text": [
      "Help on function foo in module __main__:\n",
      "\n",
      "foo()\n",
      "    Help for foo\n",
      "\n",
      "Elapsed time (foo): 0.0s\n",
      "RESULT:  42\n"
     ]
    }
   ],
   "source": [
    "@profile('Elapsed time') # -> profile_ = profile('Time spent')\n",
    "                         # -> foo5 = profile_(foo5)\n",
    "def foo():\n",
    "    \"\"\"Help for foo\"\"\"\n",
    "    return 42\n",
    "\n",
    "help(foo)\n",
    "print(\"RESULT: \", foo())"
   ]
  },
  {
   "cell_type": "markdown",
   "metadata": {},
   "source": [
    "### Template"
   ]
  },
  {
   "cell_type": "markdown",
   "metadata": {},
   "source": [
    "#### 2-level decorator"
   ]
  },
  {
   "cell_type": "code",
   "execution_count": 117,
   "metadata": {},
   "outputs": [],
   "source": [
    "def profile(f):\n",
    "    @functools.wraps(f)\n",
    "    def deco(*args, **kwargs):\n",
    "        start = time.time()\n",
    "        result = f(*args, **kwargs)\n",
    "        print('Elapsed time', f'({f.__name__}): {time.time() - start}s')\n",
    "        return result\n",
    "    return deco\n",
    "\n",
    "@profile\n",
    "def foo(): ..."
   ]
  },
  {
   "cell_type": "markdown",
   "metadata": {},
   "source": [
    "#### 3-level decorator"
   ]
  },
  {
   "cell_type": "code",
   "execution_count": 10,
   "metadata": {},
   "outputs": [],
   "source": [
    "def profile(msg='Elapsed time', file=sys.stdout):\n",
    "    def internal(f):\n",
    "        @functools.wraps(f)\n",
    "        def deco(*args, **kwargs):\n",
    "            start = time.time()\n",
    "            result = f(*args, **kwargs)\n",
    "            print(msg, f'({f.__name__}): {time.time() - start}s', file=file)\n",
    "            return result\n",
    "        return deco\n",
    "    return internal\n",
    "\n",
    "@profile()\n",
    "def foo(): ...\n"
   ]
  },
  {
   "cell_type": "code",
   "execution_count": null,
   "metadata": {},
   "outputs": [],
   "source": []
  },
  {
   "cell_type": "markdown",
   "metadata": {},
   "source": [
    "### Real life examples"
   ]
  },
  {
   "cell_type": "code",
   "execution_count": 93,
   "metadata": {},
   "outputs": [
    {
     "data": {
      "text/plain": [
       "55"
      ]
     },
     "execution_count": 93,
     "metadata": {},
     "output_type": "execute_result"
    }
   ],
   "source": [
    "# 0 1 2 3 4 5 6 7 8\n",
    "# 0 1 1 2 3 5 8 13 ...\n",
    "def fibo(n):\n",
    "    \"\"\"Super inefficient fibo function\"\"\"\n",
    "    if n < 2:\n",
    "        return n\n",
    "    else:\n",
    "        return fibo(n-1) + fibo(n-2)\n",
    "   \n",
    "fibo(10)"
   ]
  },
  {
   "cell_type": "code",
   "execution_count": 94,
   "metadata": {},
   "outputs": [
    {
     "name": "stdout",
     "output_type": "stream",
     "text": [
      "Elapsed time (fibo): 0.0s\n",
      "Elapsed time (fibo): 0.0s\n",
      "Elapsed time (fibo): 0.0s\n",
      "Elapsed time (fibo): 0.0s\n",
      "Elapsed time (fibo): 0.0s\n",
      "Elapsed time (fibo): 0.0s\n",
      "Elapsed time (fibo): 0.0s\n",
      "Elapsed time (fibo): 0.0s\n",
      "Elapsed time (fibo): 0.0s\n",
      "Elapsed time (fibo): 0.0s\n",
      "Elapsed time (fibo): 0.0s\n",
      "Elapsed time (fibo): 0.0009989738464355469s\n",
      "Elapsed time (fibo): 0.0s\n",
      "Elapsed time (fibo): 0.0009989738464355469s\n",
      "Elapsed time (fibo): 0.0009989738464355469s\n",
      "Elapsed time (fibo): 0.0s\n",
      "Elapsed time (fibo): 0.0s\n",
      "Elapsed time (fibo): 0.0s\n",
      "Elapsed time (fibo): 0.0s\n",
      "Elapsed time (fibo): 0.0s\n",
      "Elapsed time (fibo): 0.0s\n",
      "Elapsed time (fibo): 0.0s\n",
      "Elapsed time (fibo): 0.0s\n",
      "Elapsed time (fibo): 0.0s\n",
      "Elapsed time (fibo): 0.0009989738464355469s\n",
      "Elapsed time (fibo): 0.0s\n",
      "Elapsed time (fibo): 0.0s\n",
      "Elapsed time (fibo): 0.0s\n",
      "Elapsed time (fibo): 0.0s\n",
      "Elapsed time (fibo): 0.0s\n",
      "Elapsed time (fibo): 0.0s\n",
      "Elapsed time (fibo): 0.0s\n",
      "Elapsed time (fibo): 0.0s\n",
      "Elapsed time (fibo): 0.0010013580322265625s\n",
      "Elapsed time (fibo): 0.0s\n",
      "Elapsed time (fibo): 0.0s\n",
      "Elapsed time (fibo): 0.0s\n",
      "Elapsed time (fibo): 0.0s\n",
      "Elapsed time (fibo): 0.0s\n",
      "Elapsed time (fibo): 0.0010013580322265625s\n",
      "Elapsed time (fibo): 0.0020003318786621094s\n",
      "Elapsed time (fibo): 0.0s\n",
      "Elapsed time (fibo): 0.0s\n",
      "Elapsed time (fibo): 0.0s\n",
      "Elapsed time (fibo): 0.0s\n",
      "Elapsed time (fibo): 0.0s\n",
      "Elapsed time (fibo): 0.0s\n",
      "Elapsed time (fibo): 0.0s\n",
      "Elapsed time (fibo): 0.001001119613647461s\n",
      "Elapsed time (fibo): 0.001001119613647461s\n",
      "Elapsed time (fibo): 0.0s\n",
      "Elapsed time (fibo): 0.0s\n",
      "Elapsed time (fibo): 0.0s\n",
      "Elapsed time (fibo): 0.0s\n",
      "Elapsed time (fibo): 0.0s\n",
      "Elapsed time (fibo): 0.001001119613647461s\n",
      "Elapsed time (fibo): 0.0s\n",
      "Elapsed time (fibo): 0.0s\n",
      "Elapsed time (fibo): 0.0s\n",
      "Elapsed time (fibo): 0.0s\n",
      "Elapsed time (fibo): 0.0010068416595458984s\n",
      "Elapsed time (fibo): 0.0s\n",
      "Elapsed time (fibo): 0.0s\n",
      "Elapsed time (fibo): 0.0s\n",
      "Elapsed time (fibo): 0.0010068416595458984s\n",
      "Elapsed time (fibo): 0.0020079612731933594s\n",
      "Elapsed time (fibo): 0.004008293151855469s\n",
      "Elapsed time (fibo): 0.0s\n",
      "Elapsed time (fibo): 0.0s\n",
      "Elapsed time (fibo): 0.0s\n",
      "Elapsed time (fibo): 0.0s\n",
      "Elapsed time (fibo): 0.0s\n",
      "Elapsed time (fibo): 0.0s\n",
      "Elapsed time (fibo): 0.0s\n",
      "Elapsed time (fibo): 0.0s\n",
      "Elapsed time (fibo): 0.0s\n",
      "Elapsed time (fibo): 0.0s\n",
      "Elapsed time (fibo): 0.0s\n",
      "Elapsed time (fibo): 0.0s\n",
      "Elapsed time (fibo): 0.0s\n",
      "Elapsed time (fibo): 0.0s\n",
      "Elapsed time (fibo): 0.0s\n",
      "Elapsed time (fibo): 0.0s\n",
      "Elapsed time (fibo): 0.0s\n",
      "Elapsed time (fibo): 0.0009927749633789062s\n",
      "Elapsed time (fibo): 0.0s\n",
      "Elapsed time (fibo): 0.0009927749633789062s\n",
      "Elapsed time (fibo): 0.0s\n",
      "Elapsed time (fibo): 0.0s\n",
      "Elapsed time (fibo): 0.0s\n",
      "Elapsed time (fibo): 0.0009927749633789062s\n",
      "Elapsed time (fibo): 0.0009927749633789062s\n",
      "Elapsed time (fibo): 0.0s\n",
      "Elapsed time (fibo): 0.0s\n",
      "Elapsed time (fibo): 0.0009987354278564453s\n",
      "Elapsed time (fibo): 0.0s\n",
      "Elapsed time (fibo): 0.0009987354278564453s\n",
      "Elapsed time (fibo): 0.0s\n",
      "Elapsed time (fibo): 0.0s\n",
      "Elapsed time (fibo): 0.0s\n",
      "Elapsed time (fibo): 0.0009987354278564453s\n",
      "Elapsed time (fibo): 0.0s\n",
      "Elapsed time (fibo): 0.0s\n",
      "Elapsed time (fibo): 0.0s\n",
      "Elapsed time (fibo): 0.0s\n",
      "Elapsed time (fibo): 0.0s\n",
      "Elapsed time (fibo): 0.0009987354278564453s\n",
      "Elapsed time (fibo): 0.0019915103912353516s\n",
      "Elapsed time (fibo): 0.00599980354309082s\n",
      "Elapsed time (fibo): 0.0s\n",
      "Elapsed time (fibo): 0.0s\n",
      "Elapsed time (fibo): 0.0s\n",
      "Elapsed time (fibo): 0.0s\n",
      "Elapsed time (fibo): 0.0s\n",
      "Elapsed time (fibo): 0.0s\n",
      "Elapsed time (fibo): 0.0s\n",
      "Elapsed time (fibo): 0.0s\n",
      "Elapsed time (fibo): 0.0010013580322265625s\n",
      "Elapsed time (fibo): 0.0s\n",
      "Elapsed time (fibo): 0.0s\n",
      "Elapsed time (fibo): 0.0010273456573486328s\n",
      "Elapsed time (fibo): 0.0s\n",
      "Elapsed time (fibo): 0.0010273456573486328s\n",
      "Elapsed time (fibo): 0.0020287036895751953s\n",
      "Elapsed time (fibo): 0.0s\n",
      "Elapsed time (fibo): 0.0s\n",
      "Elapsed time (fibo): 0.0s\n",
      "Elapsed time (fibo): 0.0s\n",
      "Elapsed time (fibo): 0.0s\n",
      "Elapsed time (fibo): 0.0s\n",
      "Elapsed time (fibo): 0.0s\n",
      "Elapsed time (fibo): 0.0s\n",
      "Elapsed time (fibo): 0.0s\n",
      "Elapsed time (fibo): 0.0020287036895751953s\n",
      "Elapsed time (fibo): 0.0s\n",
      "Elapsed time (fibo): 0.0s\n",
      "Elapsed time (fibo): 0.0s\n",
      "Elapsed time (fibo): 0.0s\n",
      "Elapsed time (fibo): 0.0s\n",
      "Elapsed time (fibo): 0.0s\n",
      "Elapsed time (fibo): 0.0s\n",
      "Elapsed time (fibo): 0.0s\n",
      "Elapsed time (fibo): 0.0s\n",
      "Elapsed time (fibo): 0.0s\n",
      "Elapsed time (fibo): 0.0s\n",
      "Elapsed time (fibo): 0.0s\n",
      "Elapsed time (fibo): 0.0s\n",
      "Elapsed time (fibo): 0.0s\n",
      "Elapsed time (fibo): 0.0s\n",
      "Elapsed time (fibo): 0.0030007362365722656s\n",
      "Elapsed time (fibo): 0.0s\n",
      "Elapsed time (fibo): 0.0s\n",
      "Elapsed time (fibo): 0.0s\n",
      "Elapsed time (fibo): 0.0s\n",
      "Elapsed time (fibo): 0.0s\n",
      "Elapsed time (fibo): 0.0s\n",
      "Elapsed time (fibo): 0.0s\n",
      "Elapsed time (fibo): 0.0s\n",
      "Elapsed time (fibo): 0.0s\n",
      "Elapsed time (fibo): 0.0s\n",
      "Elapsed time (fibo): 0.0s\n",
      "Elapsed time (fibo): 0.0s\n",
      "Elapsed time (fibo): 0.0s\n",
      "Elapsed time (fibo): 0.0s\n",
      "Elapsed time (fibo): 0.0s\n",
      "Elapsed time (fibo): 0.0s\n",
      "Elapsed time (fibo): 0.0s\n",
      "Elapsed time (fibo): 0.0s\n",
      "Elapsed time (fibo): 0.0s\n",
      "Elapsed time (fibo): 0.0s\n",
      "Elapsed time (fibo): 0.0s\n",
      "Elapsed time (fibo): 0.0s\n",
      "Elapsed time (fibo): 0.0s\n",
      "Elapsed time (fibo): 0.0s\n",
      "Elapsed time (fibo): 0.0s\n",
      "Elapsed time (fibo): 0.0030007362365722656s\n",
      "Elapsed time (fibo): 0.009000539779663086s\n"
     ]
    },
    {
     "data": {
      "text/plain": [
       "55"
      ]
     },
     "execution_count": 94,
     "metadata": {},
     "output_type": "execute_result"
    }
   ],
   "source": [
    "@profile()\n",
    "def fibo(n):\n",
    "    \"\"\"Super inefficient fibo function\"\"\"\n",
    "    if n < 2:\n",
    "        return n\n",
    "    else:\n",
    "        return fibo(n-1) + fibo(n-2)\n",
    "   \n",
    "fibo(10)"
   ]
  },
  {
   "cell_type": "markdown",
   "metadata": {},
   "source": [
    "#### Recursion support"
   ]
  },
  {
   "cell_type": "code",
   "execution_count": 95,
   "metadata": {},
   "outputs": [
    {
     "name": "stdout",
     "output_type": "stream",
     "text": [
      "Elapsed time for function fibo: 0.0s\n"
     ]
    },
    {
     "data": {
      "text/plain": [
       "55"
      ]
     },
     "execution_count": 95,
     "metadata": {},
     "output_type": "execute_result"
    }
   ],
   "source": [
    "def profile(msg=\"Elapsed time for function\"):\n",
    "    def internal(f):\n",
    "        @functools.wraps(f)\n",
    "        def deco(*args, **kwargs):\n",
    "            start = time.time()\n",
    "            deco._num_call += 1\n",
    "            result = f(*args, **kwargs)\n",
    "            deco._num_call -= 1\n",
    "            \n",
    "            if deco._num_call == 0:\n",
    "                print(msg, f'{f.__name__}: {time.time() - start}s')\n",
    "            return result\n",
    "        \n",
    "        deco._num_call = 0\n",
    "        return deco\n",
    "    \n",
    "    return internal\n",
    "\n",
    "@profile()\n",
    "def fibo(n):\n",
    "    \"\"\"Super inefficient fibo function\"\"\"\n",
    "    if n < 2:\n",
    "        return n\n",
    "    else:\n",
    "        return fibo(n-1) + fibo(n-2)\n",
    "   \n",
    "fibo(10)"
   ]
  },
  {
   "cell_type": "markdown",
   "metadata": {},
   "source": [
    "#### Exponential backoff"
   ]
  },
  {
   "cell_type": "code",
   "execution_count": 185,
   "metadata": {},
   "outputs": [
    {
     "name": "stdout",
     "output_type": "stream",
     "text": [
      "Trying to connect:  google.com\n",
      "Failed after 1 times, trying again after 1 sec...\n",
      "Trying to connect:  google.com\n",
      "Failed after 2 times, trying again after 2 sec...\n",
      "Trying to connect:  google.com\n",
      "SUCCESS!\n"
     ]
    }
   ],
   "source": [
    "def repeate(max_repeat=10):\n",
    "    def internal(f):\n",
    "        @functools.wraps(f)\n",
    "        def repeater(*args, **kwargs):\n",
    "            while repeater._num_repeats <= max_repeat:\n",
    "                try:\n",
    "                    return f(*args, **kwargs)\n",
    "                except Exception as ex:\n",
    "                    if repeater._num_repeats == max_repeat:\n",
    "                        raise\n",
    "                    else:\n",
    "                        print(f'Failed after {repeater._num_repeats+1} times, trying again after {2**repeater._num_repeats} sec...')\n",
    "                        sleep(2**repeater._num_repeats)\n",
    "                        repeater._num_repeats += 1\n",
    "                \n",
    "        repeater._num_repeats = 0\n",
    "        return repeater\n",
    "    return internal\n",
    "\n",
    "\n",
    "@repeate(max_repeat=4)\n",
    "# @repeate()\n",
    "# @repeate # note the difference\n",
    "def connect_to_server(*args):\n",
    "    print('Trying to connect: ', *args)\n",
    "    if sum(random.choices([0, 1], [0.8, 0.2])) == 0:\n",
    "        raise RuntimeError('Failed to connect')\n",
    "    print('SUCCESS!')\n",
    "\n",
    "connect_to_server('google.com')"
   ]
  },
  {
   "cell_type": "markdown",
   "metadata": {},
   "source": [
    "#### Cache"
   ]
  },
  {
   "cell_type": "code",
   "execution_count": 4,
   "metadata": {},
   "outputs": [],
   "source": [
    "def cache(f):\n",
    "    \n",
    "    @functools.wraps(f)\n",
    "    def deco(*args):\n",
    "        \n",
    "        if args in deco._cache:\n",
    "            return deco._cache[args]\n",
    "        \n",
    "        result = f(*args)\n",
    "        \n",
    "        deco._cache[args] = result\n",
    "        \n",
    "        return result\n",
    "    \n",
    "    deco._cache = {}\n",
    "        \n",
    "    return deco\n"
   ]
  },
  {
   "cell_type": "code",
   "execution_count": null,
   "metadata": {},
   "outputs": [],
   "source": []
  },
  {
   "cell_type": "code",
   "execution_count": 186,
   "metadata": {
    "pycharm": {
     "name": "#%%\n"
    }
   },
   "outputs": [],
   "source": [
    "# LRU\n",
    "\n",
    "def cache(max_limit=64):\n",
    "    def internal(f):\n",
    "        @functools.wraps(f)\n",
    "        def deco(*args, **kwargs):\n",
    "            cache_key = (args, tuple(kwargs.items()))\n",
    "            if cache_key in deco._cache:\n",
    "                # переносимо в кінець списку\n",
    "                deco._cache.move_to_end(cache_key, last=True)\n",
    "                return deco._cache[cache_key]\n",
    "            \n",
    "            result = f(*args, **kwargs)\n",
    "            # видаляємо якшо досягли ліміта\n",
    "            if len(deco._cache) >= max_limit:\n",
    "                 # видаляємо перший елемент\n",
    "                deco._cache.popitem(last=False)\n",
    "            deco._cache[cache_key] = result\n",
    "            return result\n",
    "        deco._cache = OrderedDict()\n",
    "        return deco\n",
    "    return internal"
   ]
  },
  {
   "cell_type": "code",
   "execution_count": 187,
   "metadata": {},
   "outputs": [
    {
     "name": "stdout",
     "output_type": "stream",
     "text": [
      "Elapsed time (internal): 0.0s\n",
      "Elapsed time (internal): 0.0s\n",
      "Elapsed time (internal): 0.0s\n",
      "Elapsed time (internal): 0.0s\n",
      "Elapsed time (internal): 0.0s\n",
      "Elapsed time (internal): 0.0s\n",
      "Elapsed time (internal): 0.0s\n"
     ]
    },
    {
     "data": {
      "text/plain": [
       "<function __main__.cache.<locals>.internal.<locals>.deco>"
      ]
     },
     "execution_count": 187,
     "metadata": {},
     "output_type": "execute_result"
    }
   ],
   "source": [
    "# @profile(msg='Elapsed time')\n",
    "# @cache(max_limit=5)\n",
    "@profile(msg='Elapsed time')\n",
    "@cache\n",
    "def fetch_url(url, first_n=100):\n",
    "    \"\"\"Fetch a given url\"\"\"\n",
    "    res = requests.get(url)\n",
    "    return res.content[:first_n] if first_n else res.content\n",
    "\n",
    "fetch_url('https://google.com')\n",
    "fetch_url('https://google.com')\n",
    "fetch_url('https://google.com')\n",
    "fetch_url('https://ithillel.ua')\n",
    "fetch_url('https://dou.ua')\n",
    "fetch_url('https://ain.ua')\n",
    "fetch_url('https://youtube.com')\n",
    "# fetch_url(url='https://reddit.com')\n",
    "# fetch_url._cache"
   ]
  },
  {
   "cell_type": "markdown",
   "metadata": {},
   "source": [
    "<img src=https://i.imgur.com/IgBFGaR.png>"
   ]
  },
  {
   "cell_type": "code",
   "execution_count": 189,
   "metadata": {},
   "outputs": [],
   "source": [
    "@profile()\n",
    "@cache\n",
    "def fibo(n):\n",
    "    \"\"\"Super inefficient fibo function\"\"\"\n",
    "    if n < 2:\n",
    "        return n\n",
    "    else:\n",
    "        return fibo(n-1) + fibo(n-2)"
   ]
  },
  {
   "cell_type": "code",
   "execution_count": 190,
   "metadata": {},
   "outputs": [
    {
     "name": "stdout",
     "output_type": "stream",
     "text": [
      "Elapsed time for function fibo: 0.0016300678253173828s\n",
      "139423224561697880139724382870407283950070256587697307264108962948325571622863290691557658876222521294125\n"
     ]
    }
   ],
   "source": [
    "# for i in range(10000):\n",
    "#     print(i, '->', fibo(i))\n",
    "print(fibo(500))"
   ]
  },
  {
   "cell_type": "code",
   "execution_count": 114,
   "metadata": {},
   "outputs": [],
   "source": [
    "# fibo._cache\n",
    "# id(fibo._cache)"
   ]
  },
  {
   "cell_type": "code",
   "execution_count": 128,
   "metadata": {},
   "outputs": [],
   "source": [
    "from functools import lru_cache\n",
    "\n",
    "@lru_cache(maxsize=64)\n",
    "def foo():\n",
    "    print('foo')"
   ]
  },
  {
   "cell_type": "markdown",
   "metadata": {},
   "source": [
    "### Links"
   ]
  },
  {
   "cell_type": "markdown",
   "metadata": {},
   "source": [
    "1. Python Introduction: https://www.youtube.com/watch?v=5V7XG1mGiHc&list=PLlb7e2G7aSpTTNp7HBYzCBByaE1h54ruW\n",
    "2. Теорія: http://bit.ly/2z5yatp: стр. 414\n",
    "3. Exponential backoff: https://bit.ly/3nvOyeQ\n",
    "4. Установлення jupyter: https://www.youtube.com/watch?v=VIaur9G-0tc"
   ]
  },
  {
   "cell_type": "markdown",
   "metadata": {},
   "source": []
  },
  {
   "cell_type": "markdown",
   "metadata": {},
   "source": []
  }
 ],
 "metadata": {
  "kernelspec": {
   "display_name": "Python 3 (ipykernel)",
   "language": "python",
   "name": "python3"
  },
  "language_info": {
   "codemirror_mode": {
    "name": "ipython",
    "version": 3
   },
   "file_extension": ".py",
   "mimetype": "text/x-python",
   "name": "python",
   "nbconvert_exporter": "python",
   "pygments_lexer": "ipython3",
   "version": "3.10.2"
  }
 },
 "nbformat": 4,
 "nbformat_minor": 4
}
