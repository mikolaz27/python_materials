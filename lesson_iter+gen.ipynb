{
 "cells": [
  {
   "cell_type": "code",
   "execution_count": 12,
   "metadata": {
    "pycharm": {
     "name": "#%%\n"
    }
   },
   "outputs": [],
   "source": [
    "import itertools\n",
    "import time\n",
    "\n",
    "from pprint import pprint as pp"
   ]
  },
  {
   "cell_type": "markdown",
   "metadata": {
    "pycharm": {
     "name": "#%% md\n"
    }
   },
   "source": [
    "# Iterators"
   ]
  },
  {
   "cell_type": "markdown",
   "metadata": {
    "pycharm": {
     "name": "#%% md\n"
    }
   },
   "source": [
    "<img src=\"https://i.imgur.com/fo9rNEW.png\">"
   ]
  },
  {
   "cell_type": "markdown",
   "metadata": {
    "pycharm": {
     "name": "#%% md\n"
    }
   },
   "source": [
    "<img src=\"https://i.imgur.com/Q54SQk4.png\">"
   ]
  },
  {
   "cell_type": "markdown",
   "metadata": {
    "pycharm": {
     "name": "#%% md\n"
    }
   },
   "source": [
    "### Iterator protocol: client <-> iterator (`__next__`) <-> iterable (`__iter__`)\n"
   ]
  },
  {
   "cell_type": "code",
   "execution_count": 1,
   "metadata": {
    "pycharm": {
     "name": "#%%\n"
    }
   },
   "outputs": [
    {
     "name": "stdout",
     "output_type": "stream",
     "text": [
      "list -> ['__add__', '__class__', '__class_getitem__', '__contains__', '__delattr__', '__delitem__', '__dir__', '__doc__', '__eq__', '__format__', '__ge__', '__getattribute__', '__getitem__', '__gt__', '__hash__', '__iadd__', '__imul__', '__init__', '__init_subclass__', '__iter__', '__le__', '__len__', '__lt__', '__mul__', '__ne__', '__new__', '__reduce__', '__reduce_ex__', '__repr__', '__reversed__', '__rmul__', '__setattr__', '__setitem__', '__sizeof__', '__str__', '__subclasshook__', 'append', 'clear', 'copy', 'count', 'extend', 'index', 'insert', 'pop', 'remove', 'reverse', 'sort'] \n",
      "\n",
      "dict -> ['__class__', '__class_getitem__', '__contains__', '__delattr__', '__delitem__', '__dir__', '__doc__', '__eq__', '__format__', '__ge__', '__getattribute__', '__getitem__', '__gt__', '__hash__', '__init__', '__init_subclass__', '__ior__', '__iter__', '__le__', '__len__', '__lt__', '__ne__', '__new__', '__or__', '__reduce__', '__reduce_ex__', '__repr__', '__reversed__', '__ror__', '__setattr__', '__setitem__', '__sizeof__', '__str__', '__subclasshook__', 'clear', 'copy', 'fromkeys', 'get', 'items', 'keys', 'pop', 'popitem', 'setdefault', 'update', 'values'] \n",
      "\n",
      "str -> ['__add__', '__class__', '__contains__', '__delattr__', '__dir__', '__doc__', '__eq__', '__format__', '__ge__', '__getattribute__', '__getitem__', '__getnewargs__', '__gt__', '__hash__', '__init__', '__init_subclass__', '__iter__', '__le__', '__len__', '__lt__', '__mod__', '__mul__', '__ne__', '__new__', '__reduce__', '__reduce_ex__', '__repr__', '__rmod__', '__rmul__', '__setattr__', '__sizeof__', '__str__', '__subclasshook__', 'capitalize', 'casefold', 'center', 'count', 'encode', 'endswith', 'expandtabs', 'find', 'format', 'format_map', 'index', 'isalnum', 'isalpha', 'isascii', 'isdecimal', 'isdigit', 'isidentifier', 'islower', 'isnumeric', 'isprintable', 'isspace', 'istitle', 'isupper', 'join', 'ljust', 'lower', 'lstrip', 'maketrans', 'partition', 'removeprefix', 'removesuffix', 'replace', 'rfind', 'rindex', 'rjust', 'rpartition', 'rsplit', 'rstrip', 'split', 'splitlines', 'startswith', 'strip', 'swapcase', 'title', 'translate', 'upper', 'zfill'] \n",
      "\n",
      "s -> ['__and__', '__class__', '__class_getitem__', '__contains__', '__delattr__', '__dir__', '__doc__', '__eq__', '__format__', '__ge__', '__getattribute__', '__gt__', '__hash__', '__iand__', '__init__', '__init_subclass__', '__ior__', '__isub__', '__iter__', '__ixor__', '__le__', '__len__', '__lt__', '__ne__', '__new__', '__or__', '__rand__', '__reduce__', '__reduce_ex__', '__repr__', '__ror__', '__rsub__', '__rxor__', '__setattr__', '__sizeof__', '__str__', '__sub__', '__subclasshook__', '__xor__', 'add', 'clear', 'copy', 'difference', 'difference_update', 'discard', 'intersection', 'intersection_update', 'isdisjoint', 'issubset', 'issuperset', 'pop', 'remove', 'symmetric_difference', 'symmetric_difference_update', 'union', 'update'] \n",
      "\n",
      "t -> ['__add__', '__class__', '__class_getitem__', '__contains__', '__delattr__', '__dir__', '__doc__', '__eq__', '__format__', '__ge__', '__getattribute__', '__getitem__', '__getnewargs__', '__gt__', '__hash__', '__init__', '__init_subclass__', '__iter__', '__le__', '__len__', '__lt__', '__mul__', '__ne__', '__new__', '__reduce__', '__reduce_ex__', '__repr__', '__rmul__', '__setattr__', '__sizeof__', '__str__', '__subclasshook__', 'count', 'index'] \n",
      "\n",
      "r -> ['__bool__', '__class__', '__contains__', '__delattr__', '__dir__', '__doc__', '__eq__', '__format__', '__ge__', '__getattribute__', '__getitem__', '__gt__', '__hash__', '__init__', '__init_subclass__', '__iter__', '__le__', '__len__', '__lt__', '__ne__', '__new__', '__reduce__', '__reduce_ex__', '__repr__', '__reversed__', '__setattr__', '__sizeof__', '__str__', '__subclasshook__', 'count', 'index', 'start', 'step', 'stop'] \n",
      "\n"
     ]
    }
   ],
   "source": [
    "# Allows to decouple structures and algorythms, thus reduce complexity\n",
    "l = [1, 2, 3, 4, 5, 6, 42]\n",
    "d = {'42': 1}\n",
    "s = {'42', 1}\n",
    "t = (1, 2, 3, 4)\n",
    "string = 'abc'\n",
    "r = range(1, 10)\n",
    "\n",
    "print('list ->', dir(l), '\\n')\n",
    "print('dict ->', dir(d), '\\n')\n",
    "print('str ->', dir(string), '\\n')\n",
    "print('s ->', dir(s), '\\n')\n",
    "print('t ->', dir(t), '\\n')\n",
    "print('r ->', dir(r), '\\n')"
   ]
  },
  {
   "cell_type": "code",
   "execution_count": 2,
   "metadata": {
    "pycharm": {
     "name": "#%%\n"
    }
   },
   "outputs": [
    {
     "name": "stdout",
     "output_type": "stream",
     "text": [
      "list -> <class 'list_iterator'> ['__class__', '__delattr__', '__dir__', '__doc__', '__eq__', '__format__', '__ge__', '__getattribute__', '__gt__', '__hash__', '__init__', '__init_subclass__', '__iter__', '__le__', '__length_hint__', '__lt__', '__ne__', '__new__', '__next__', '__reduce__', '__reduce_ex__', '__repr__', '__setattr__', '__setstate__', '__sizeof__', '__str__', '__subclasshook__'] \n",
      "\n",
      "dict -> <class 'dict_keyiterator'> ['__class__', '__delattr__', '__dir__', '__doc__', '__eq__', '__format__', '__ge__', '__getattribute__', '__gt__', '__hash__', '__init__', '__init_subclass__', '__iter__', '__le__', '__length_hint__', '__lt__', '__ne__', '__new__', '__next__', '__reduce__', '__reduce_ex__', '__repr__', '__setattr__', '__sizeof__', '__str__', '__subclasshook__'] \n",
      "\n",
      "str -> <class 'str_iterator'> ['__class__', '__delattr__', '__dir__', '__doc__', '__eq__', '__format__', '__ge__', '__getattribute__', '__gt__', '__hash__', '__init__', '__init_subclass__', '__iter__', '__le__', '__length_hint__', '__lt__', '__ne__', '__new__', '__next__', '__reduce__', '__reduce_ex__', '__repr__', '__setattr__', '__setstate__', '__sizeof__', '__str__', '__subclasshook__'] \n",
      "\n",
      "s -> <class 'set_iterator'> ['__class__', '__delattr__', '__dir__', '__doc__', '__eq__', '__format__', '__ge__', '__getattribute__', '__gt__', '__hash__', '__init__', '__init_subclass__', '__iter__', '__le__', '__length_hint__', '__lt__', '__ne__', '__new__', '__next__', '__reduce__', '__reduce_ex__', '__repr__', '__setattr__', '__sizeof__', '__str__', '__subclasshook__'] \n",
      "\n",
      "t -> <class 'tuple_iterator'> ['__class__', '__delattr__', '__dir__', '__doc__', '__eq__', '__format__', '__ge__', '__getattribute__', '__gt__', '__hash__', '__init__', '__init_subclass__', '__iter__', '__le__', '__length_hint__', '__lt__', '__ne__', '__new__', '__next__', '__reduce__', '__reduce_ex__', '__repr__', '__setattr__', '__setstate__', '__sizeof__', '__str__', '__subclasshook__'] \n",
      "\n",
      "r -> <class 'range_iterator'> ['__class__', '__delattr__', '__dir__', '__doc__', '__eq__', '__format__', '__ge__', '__getattribute__', '__gt__', '__hash__', '__init__', '__init_subclass__', '__iter__', '__le__', '__length_hint__', '__lt__', '__ne__', '__new__', '__next__', '__reduce__', '__reduce_ex__', '__repr__', '__setattr__', '__setstate__', '__sizeof__', '__str__', '__subclasshook__'] \n",
      "\n"
     ]
    }
   ],
   "source": [
    "it_l = iter(l) # l.__iter__()\n",
    "it_d = iter(d)\n",
    "it_s = iter(s)\n",
    "it_t = iter(t)\n",
    "it_r = iter(r)\n",
    "it_str = iter(string)\n",
    "\n",
    "print('list ->', type(it_l), dir(it_l), '\\n')\n",
    "print('dict ->', type(it_d), dir(it_d), '\\n')\n",
    "print('str ->', type(it_str), dir(it_str), '\\n')\n",
    "print('s ->', type(it_s), dir(it_s), '\\n')\n",
    "print('t ->', type(it_t), dir(it_t), '\\n')\n",
    "print('r ->', type(it_r), dir(it_r), '\\n')"
   ]
  },
  {
   "cell_type": "code",
   "execution_count": 3,
   "metadata": {
    "pycharm": {
     "name": "#%%\n"
    }
   },
   "outputs": [
    {
     "name": "stdout",
     "output_type": "stream",
     "text": [
      "list -> <class 'list_iterator'> ['__class__', '__delattr__', '__dir__', '__doc__', '__eq__', '__format__', '__ge__', '__getattribute__', '__gt__', '__hash__', '__init__', '__init_subclass__', '__iter__', '__le__', '__length_hint__', '__lt__', '__ne__', '__new__', '__next__', '__reduce__', '__reduce_ex__', '__repr__', '__setattr__', '__setstate__', '__sizeof__', '__str__', '__subclasshook__'] \n",
      "\n",
      "dict -> <class 'dict_keyiterator'> ['__class__', '__delattr__', '__dir__', '__doc__', '__eq__', '__format__', '__ge__', '__getattribute__', '__gt__', '__hash__', '__init__', '__init_subclass__', '__iter__', '__le__', '__length_hint__', '__lt__', '__ne__', '__new__', '__next__', '__reduce__', '__reduce_ex__', '__repr__', '__setattr__', '__sizeof__', '__str__', '__subclasshook__'] \n",
      "\n",
      "str -> <class 'str_iterator'> ['__class__', '__delattr__', '__dir__', '__doc__', '__eq__', '__format__', '__ge__', '__getattribute__', '__gt__', '__hash__', '__init__', '__init_subclass__', '__iter__', '__le__', '__length_hint__', '__lt__', '__ne__', '__new__', '__next__', '__reduce__', '__reduce_ex__', '__repr__', '__setattr__', '__setstate__', '__sizeof__', '__str__', '__subclasshook__'] \n",
      "\n",
      "s -> <class 'set_iterator'> ['__class__', '__delattr__', '__dir__', '__doc__', '__eq__', '__format__', '__ge__', '__getattribute__', '__gt__', '__hash__', '__init__', '__init_subclass__', '__iter__', '__le__', '__length_hint__', '__lt__', '__ne__', '__new__', '__next__', '__reduce__', '__reduce_ex__', '__repr__', '__setattr__', '__sizeof__', '__str__', '__subclasshook__'] \n",
      "\n",
      "t -> <class 'tuple_iterator'> ['__class__', '__delattr__', '__dir__', '__doc__', '__eq__', '__format__', '__ge__', '__getattribute__', '__gt__', '__hash__', '__init__', '__init_subclass__', '__iter__', '__le__', '__length_hint__', '__lt__', '__ne__', '__new__', '__next__', '__reduce__', '__reduce_ex__', '__repr__', '__setattr__', '__setstate__', '__sizeof__', '__str__', '__subclasshook__'] \n",
      "\n",
      "r -> <class 'range_iterator'> ['__class__', '__delattr__', '__dir__', '__doc__', '__eq__', '__format__', '__ge__', '__getattribute__', '__gt__', '__hash__', '__init__', '__init_subclass__', '__iter__', '__le__', '__length_hint__', '__lt__', '__ne__', '__new__', '__next__', '__reduce__', '__reduce_ex__', '__repr__', '__setattr__', '__setstate__', '__sizeof__', '__str__', '__subclasshook__'] \n",
      "\n",
      "list -> True \n",
      "\n",
      "dict -> True \n",
      "\n",
      "str -> True \n",
      "\n",
      "s -> True \n",
      "\n",
      "t -> True \n",
      "\n",
      "r -> True \n",
      "\n"
     ]
    }
   ],
   "source": [
    "it_l = iter(it_l)\n",
    "it_d = iter(it_d)\n",
    "it_s = iter(it_s)\n",
    "it_t = iter(it_t)\n",
    "it_r = iter(it_r)\n",
    "it_str = iter(it_str)\n",
    "\n",
    "print('list ->', type(it_l), dir(it_l), '\\n')\n",
    "print('dict ->', type(it_d), dir(it_d), '\\n')\n",
    "print('str ->', type(it_str), dir(it_str), '\\n')\n",
    "print('s ->', type(it_s), dir(it_s), '\\n')\n",
    "print('t ->', type(it_t), dir(it_t), '\\n')\n",
    "print('r ->', type(it_r), dir(it_r), '\\n')\n",
    "\n",
    "print('list ->', it_l is iter(it_l), '\\n')\n",
    "print('dict ->', it_d is iter(it_d), '\\n')\n",
    "print('str ->', it_str is iter(it_str), '\\n')\n",
    "print('s ->', it_s is iter(it_s), '\\n')\n",
    "print('t ->', it_t is iter(it_t), '\\n')\n",
    "print('r ->', it_r is iter(it_r), '\\n')"
   ]
  },
  {
   "cell_type": "code",
   "execution_count": 4,
   "metadata": {
    "pycharm": {
     "name": "#%%\n"
    }
   },
   "outputs": [
    {
     "name": "stdout",
     "output_type": "stream",
     "text": [
      "1\n",
      "2\n",
      "3\n",
      "4\n",
      "5\n",
      "6\n",
      "42\n"
     ]
    },
    {
     "ename": "StopIteration",
     "evalue": "",
     "output_type": "error",
     "traceback": [
      "\u001b[1;31m---------------------------------------------------------------------------\u001b[0m",
      "\u001b[1;31mStopIteration\u001b[0m                             Traceback (most recent call last)",
      "\u001b[1;32m~\\AppData\\Local\\Temp\\ipykernel_32960\\3305294050.py\u001b[0m in \u001b[0;36m<module>\u001b[1;34m\u001b[0m\n\u001b[0;32m      8\u001b[0m \u001b[0mprint\u001b[0m\u001b[1;33m(\u001b[0m\u001b[0mnext\u001b[0m\u001b[1;33m(\u001b[0m\u001b[0mit\u001b[0m\u001b[1;33m)\u001b[0m\u001b[1;33m)\u001b[0m\u001b[1;33m\u001b[0m\u001b[1;33m\u001b[0m\u001b[0m\n\u001b[0;32m      9\u001b[0m \u001b[0mprint\u001b[0m\u001b[1;33m(\u001b[0m\u001b[0mnext\u001b[0m\u001b[1;33m(\u001b[0m\u001b[0mit\u001b[0m\u001b[1;33m)\u001b[0m\u001b[1;33m)\u001b[0m\u001b[1;33m\u001b[0m\u001b[1;33m\u001b[0m\u001b[0m\n\u001b[1;32m---> 10\u001b[1;33m \u001b[0mprint\u001b[0m\u001b[1;33m(\u001b[0m\u001b[0mnext\u001b[0m\u001b[1;33m(\u001b[0m\u001b[0mit\u001b[0m\u001b[1;33m)\u001b[0m\u001b[1;33m)\u001b[0m\u001b[1;33m\u001b[0m\u001b[1;33m\u001b[0m\u001b[0m\n\u001b[0m",
      "\u001b[1;31mStopIteration\u001b[0m: "
     ]
    }
   ],
   "source": [
    "lst = [1,2,3,4,5,6,42]\n",
    "it = iter(lst)\n",
    "print(next(it))\n",
    "print(next(it))\n",
    "print(next(it))\n",
    "print(next(it))\n",
    "print(next(it))\n",
    "print(next(it))\n",
    "print(next(it))\n",
    "print(next(it))\n"
   ]
  },
  {
   "cell_type": "code",
   "execution_count": 6,
   "metadata": {
    "pycharm": {
     "name": "#%%\n"
    }
   },
   "outputs": [],
   "source": [
    "# Let's create our own data structurea\n",
    "\n",
    "class MySuperDataStructure:\n",
    "    \n",
    "    class MySuperDataStructureIter:\n",
    "        \n",
    "        def __init__(self, iterable):\n",
    "            self._iterable = iterable\n",
    "            self._pointer = 0\n",
    "        \n",
    "        def __next__(self):\n",
    "            if self._pointer == len(self._iterable._records):\n",
    "                raise StopIteration()\n",
    "            result = self._iterable._records[self._pointer]\n",
    "            self._pointer += 1\n",
    "            return result\n",
    "\n",
    "    def __init__(self, size):\n",
    "        self._records = [0]*size\n",
    "\n",
    "    def add_item(self, item):\n",
    "        self._records.append(item)\n",
    "\n",
    "    def remove_item(self, idx):\n",
    "        del self._records[idx]\n",
    "        \n",
    "    def __getitem__(self, idx):\n",
    "        return self._records[idx]\n",
    "\n",
    "    def __iter__(self):\n",
    "        return self.MySuperDataStructureIter(self)"
   ]
  },
  {
   "cell_type": "code",
   "execution_count": 7,
   "metadata": {},
   "outputs": [
    {
     "name": "stdout",
     "output_type": "stream",
     "text": [
      "[0, 0, 0, 0, 0, 0, 0, 0, 0, 0]\n"
     ]
    },
    {
     "data": {
      "text/plain": [
       "0"
      ]
     },
     "execution_count": 7,
     "metadata": {},
     "output_type": "execute_result"
    }
   ],
   "source": [
    "ds = MySuperDataStructure(size=10)\n",
    "print(list(ds))\n",
    "ds[1]"
   ]
  },
  {
   "cell_type": "code",
   "execution_count": 8,
   "metadata": {
    "pycharm": {
     "name": "#%%\n"
    }
   },
   "outputs": [
    {
     "name": "stdout",
     "output_type": "stream",
     "text": [
      "<class '__main__.MySuperDataStructure.MySuperDataStructureIter'>\n",
      "['__class__', '__delattr__', '__dict__', '__dir__', '__doc__', '__eq__', '__format__', '__ge__', '__getattribute__', '__gt__', '__hash__', '__init__', '__init_subclass__', '__le__', '__lt__', '__module__', '__ne__', '__new__', '__next__', '__reduce__', '__reduce_ex__', '__repr__', '__setattr__', '__sizeof__', '__str__', '__subclasshook__', '__weakref__', '_iterable', '_pointer']\n",
      "42\n",
      "2\n",
      "4\n",
      "8\n",
      "max(ds)=42\n",
      "42\n",
      "2\n",
      "4\n",
      "8\n"
     ]
    }
   ],
   "source": [
    "ds = MySuperDataStructure(size=0)\n",
    "ds.add_item(42)\n",
    "ds.add_item(2)\n",
    "ds.add_item(4)\n",
    "ds.add_item(8)\n",
    "\n",
    "\n",
    "it = iter(ds)\n",
    "print(type(it))\n",
    "print(dir(it))\n",
    "\n",
    "print(next(it))\n",
    "print(next(it))\n",
    "print(next(it))\n",
    "print(next(it))\n",
    "# print(next(it))\n",
    "\n",
    "print(f\"{max(ds)=}\")\n",
    "\n",
    "for i in ds:\n",
    "    print(i)\n",
    "# print(ds[0])"
   ]
  },
  {
   "cell_type": "code",
   "execution_count": null,
   "metadata": {
    "pycharm": {
     "name": "#%%\n"
    }
   },
   "outputs": [],
   "source": [
    "# Even though it violates SRP sometimes its practical to combine 2 roles in one class\n",
    "\n",
    "class MySuperDataStructure:\n",
    "    def __next__(self):\n",
    "        if self._pointer == len(self._records):\n",
    "            raise StopIteration()\n",
    "        result = self._records[self._pointer]\n",
    "        self._pointer += 1\n",
    "        return result\n",
    "\n",
    "    def __init__(self, size):\n",
    "        self._records = [0]*size\n",
    "\n",
    "    def add_item(self, item):\n",
    "        self._records.append(item)\n",
    "\n",
    "    def remove_item(self, idx):\n",
    "        del self._records[idx]\n",
    "        \n",
    "    def __getitem__(self, idx):\n",
    "        return self._records[idx]\n",
    "\n",
    "    def __iter__(self):\n",
    "        return self"
   ]
  },
  {
   "cell_type": "code",
   "execution_count": null,
   "metadata": {
    "pycharm": {
     "name": "#%%\n"
    }
   },
   "outputs": [],
   "source": [
    "# Standard Python library practice this a lot"
   ]
  },
  {
   "cell_type": "markdown",
   "metadata": {
    "pycharm": {
     "name": "#%% md\n"
    }
   },
   "source": [
    "<img src=\"https://i.imgur.com/L8uaXrG.png\">"
   ]
  },
  {
   "cell_type": "code",
   "execution_count": 9,
   "metadata": {
    "pycharm": {
     "name": "#%%\n"
    }
   },
   "outputs": [
    {
     "name": "stdout",
     "output_type": "stream",
     "text": [
      "Types DO have iterable and iterator merged: [<class 'map'>, <class 'filter'>, <class 'zip'>, <class 'itertools.count'>, <class 'itertools.islice'>]\n",
      "\n",
      "Types DOESN'T have iterable and iterator merged: [<class 'range'>, <class 'list'>, <class 'dict'>, <class 'tuple'>, <class 'str'>, <built-in function reduce>]\n"
     ]
    }
   ],
   "source": [
    "# SRP claims we shouldn't combine different roles in one class (https://bit.ly/2xAT4nv)\n",
    "# Let's check if Python stdlib folows it or 'Practicality beats purity'?\n",
    "\n",
    "from functools import reduce\n",
    "from itertools import islice, count\n",
    "\n",
    "types = (range, map, filter, list, dict, tuple, str, zip, reduce, count, islice)\n",
    "\n",
    "# list, dict, tuple, zip, str, range\n",
    "\n",
    "is_pragmatic = lambda t: '__iter__' in dir(t) and \\\n",
    "                         '__next__' in dir(t)\n",
    "\n",
    "print(\"Types DO have iterable and iterator merged:\",      [t for t in types if is_pragmatic(t)])\n",
    "print()\n",
    "print(\"Types DOESN'T have iterable and iterator merged:\", [t for t in types if not is_pragmatic(t)])"
   ]
  },
  {
   "cell_type": "markdown",
   "metadata": {
    "pycharm": {
     "name": "#%% md\n"
    }
   },
   "source": [
    "#### Question: what do you thin QuerySet is?"
   ]
  },
  {
   "cell_type": "markdown",
   "metadata": {
    "pycharm": {
     "name": "#%% md\n"
    }
   },
   "source": [
    "### But how? We just added 2 methods and can plug in our class into foor-loop?"
   ]
  },
  {
   "cell_type": "code",
   "execution_count": null,
   "metadata": {
    "pycharm": {
     "name": "#%%\n"
    }
   },
   "outputs": [],
   "source": [
    "# Loop desugaring\n",
    "\n",
    "l = [1, 2, 3, 4, 5, 6, 42]\n",
    "print(type(l))\n",
    "# pp(dir(l))\n",
    "\n",
    "# it0 = l.__iter__()\n",
    "# it = iter(l)\n",
    "# # pp(dir(it))\n",
    "\n",
    "# print(next(it))\n",
    "# print(next(it))\n",
    "# print(next(it))\n",
    "# print(next(it))\n",
    "# print(next(it))\n",
    "# print(next(it))\n",
    "# # print(next(it))\n",
    "\n",
    "# print(\"------------\")\n",
    "\n",
    "for i in l: #range(100):\n",
    "    print(i)\n",
    "\n",
    "# 'for' loop can be equivalently expressed with iterators\n",
    "it = iter(l)\n",
    "while True:\n",
    "    try:\n",
    "        print(next(it))\n",
    "    except StopIteration as ex:\n",
    "        break       "
   ]
  },
  {
   "cell_type": "code",
   "execution_count": 10,
   "metadata": {
    "pycharm": {
     "name": "#%%\n"
    }
   },
   "outputs": [],
   "source": [
    "# Infinite iterator is also possible\n",
    "class FiboGen:\n",
    "    def __init__(self):\n",
    "        self._prev_prev = 0\n",
    "        self._prev = 1\n",
    "    \n",
    "    def __next__(self):\n",
    "        result = self._prev + self._prev_prev\n",
    "        self._prev_prev = self._prev\n",
    "        self._prev = result\n",
    "        return result\n",
    "    \n",
    "    def __iter__(self):\n",
    "        return self"
   ]
  },
  {
   "cell_type": "code",
   "execution_count": 13,
   "metadata": {
    "pycharm": {
     "name": "#%%\n"
    }
   },
   "outputs": [
    {
     "name": "stdout",
     "output_type": "stream",
     "text": [
      "1\n",
      "2\n",
      "3\n",
      "5\n",
      "8\n",
      "1\n",
      "2\n",
      "3\n",
      "5\n",
      "8\n",
      "13\n",
      "21\n",
      "34\n",
      "55\n"
     ]
    },
    {
     "ename": "KeyboardInterrupt",
     "evalue": "",
     "output_type": "error",
     "traceback": [
      "\u001b[1;31m---------------------------------------------------------------------------\u001b[0m",
      "\u001b[1;31mKeyboardInterrupt\u001b[0m                         Traceback (most recent call last)",
      "\u001b[1;32m~\\AppData\\Local\\Temp\\ipykernel_32960\\1845321759.py\u001b[0m in \u001b[0;36m<module>\u001b[1;34m\u001b[0m\n\u001b[0;32m      9\u001b[0m \u001b[0mfg\u001b[0m \u001b[1;33m=\u001b[0m \u001b[0mFiboGen\u001b[0m\u001b[1;33m(\u001b[0m\u001b[1;33m)\u001b[0m\u001b[1;33m\u001b[0m\u001b[1;33m\u001b[0m\u001b[0m\n\u001b[0;32m     10\u001b[0m \u001b[1;32mfor\u001b[0m \u001b[0mi\u001b[0m \u001b[1;32min\u001b[0m \u001b[0mfg\u001b[0m\u001b[1;33m:\u001b[0m \u001b[1;31m# iter\u001b[0m\u001b[1;33m\u001b[0m\u001b[1;33m\u001b[0m\u001b[0m\n\u001b[1;32m---> 11\u001b[1;33m     \u001b[0mtime\u001b[0m\u001b[1;33m.\u001b[0m\u001b[0msleep\u001b[0m\u001b[1;33m(\u001b[0m\u001b[1;36m1\u001b[0m\u001b[1;33m)\u001b[0m  \u001b[1;31m# next on each iteration\u001b[0m\u001b[1;33m\u001b[0m\u001b[1;33m\u001b[0m\u001b[0m\n\u001b[0m\u001b[0;32m     12\u001b[0m     \u001b[0mprint\u001b[0m\u001b[1;33m(\u001b[0m\u001b[0mi\u001b[0m\u001b[1;33m)\u001b[0m\u001b[1;33m\u001b[0m\u001b[1;33m\u001b[0m\u001b[0m\n",
      "\u001b[1;31mKeyboardInterrupt\u001b[0m: "
     ]
    }
   ],
   "source": [
    "it = iter(FiboGen())\n",
    "type(it)\n",
    "print(next(it))\n",
    "print(next(it))\n",
    "print(next(it))\n",
    "print(next(it))\n",
    "print(next(it))\n",
    "\n",
    "fg = FiboGen()\n",
    "for i in fg: # iter\n",
    "    time.sleep(1)  # next on each iteration\n",
    "    print(i)"
   ]
  },
  {
   "cell_type": "markdown",
   "metadata": {
    "pycharm": {
     "name": "#%% md\n"
    }
   },
   "source": [
    "### Itertools: collection of handful tools for iterators"
   ]
  },
  {
   "cell_type": "code",
   "execution_count": 15,
   "metadata": {
    "pycharm": {
     "name": "#%%\n"
    }
   },
   "outputs": [
    {
     "name": "stdout",
     "output_type": "stream",
     "text": [
      "1\n",
      "51\n",
      "101\n",
      "151\n",
      "201\n",
      "251\n",
      "301\n",
      "351\n",
      "401\n",
      "451\n",
      "501\n",
      "551\n",
      "601\n",
      "651\n",
      "701\n",
      "751\n"
     ]
    },
    {
     "ename": "KeyboardInterrupt",
     "evalue": "",
     "output_type": "error",
     "traceback": [
      "\u001b[1;31m---------------------------------------------------------------------------\u001b[0m",
      "\u001b[1;31mKeyboardInterrupt\u001b[0m                         Traceback (most recent call last)",
      "\u001b[1;32m~\\AppData\\Local\\Temp\\ipykernel_32960\\2394536259.py\u001b[0m in \u001b[0;36m<module>\u001b[1;34m\u001b[0m\n\u001b[0;32m      2\u001b[0m \u001b[1;33m\u001b[0m\u001b[0m\n\u001b[0;32m      3\u001b[0m \u001b[1;32mfor\u001b[0m \u001b[0mi\u001b[0m \u001b[1;32min\u001b[0m \u001b[0mcount\u001b[0m\u001b[1;33m(\u001b[0m\u001b[1;36m1\u001b[0m\u001b[1;33m,\u001b[0m \u001b[1;36m50\u001b[0m\u001b[1;33m)\u001b[0m\u001b[1;33m:\u001b[0m\u001b[1;33m\u001b[0m\u001b[1;33m\u001b[0m\u001b[0m\n\u001b[1;32m----> 4\u001b[1;33m     \u001b[0mtime\u001b[0m\u001b[1;33m.\u001b[0m\u001b[0msleep\u001b[0m\u001b[1;33m(\u001b[0m\u001b[1;36m1\u001b[0m\u001b[1;33m)\u001b[0m\u001b[1;33m\u001b[0m\u001b[1;33m\u001b[0m\u001b[0m\n\u001b[0m\u001b[0;32m      5\u001b[0m     \u001b[0mprint\u001b[0m\u001b[1;33m(\u001b[0m\u001b[0mi\u001b[0m\u001b[1;33m)\u001b[0m\u001b[1;33m\u001b[0m\u001b[1;33m\u001b[0m\u001b[0m\n",
      "\u001b[1;31mKeyboardInterrupt\u001b[0m: "
     ]
    }
   ],
   "source": [
    "from itertools import count\n",
    "\n",
    "for i in count(1, 50):\n",
    "    time.sleep(1)\n",
    "    print(i)"
   ]
  },
  {
   "cell_type": "code",
   "execution_count": 17,
   "metadata": {
    "pycharm": {
     "name": "#%%\n"
    }
   },
   "outputs": [
    {
     "name": "stdout",
     "output_type": "stream",
     "text": [
      "0\n",
      "1\n",
      "2\n",
      "3\n",
      "4\n",
      "5\n",
      "6\n",
      "7\n",
      "8\n",
      "9\n",
      "<itertools.islice object at 0x0000016993671850>\n",
      "0\n",
      "1\n",
      "2\n",
      "3\n",
      "4\n",
      "5\n",
      "6\n",
      "7\n",
      "8\n",
      "9\n"
     ]
    }
   ],
   "source": [
    "# Cheap and lazy slicing\n",
    "from itertools import islice, count\n",
    "\n",
    "lst = list(range(1000))\n",
    "\n",
    "lst2 = lst[:10]\n",
    "for i in lst2:\n",
    "    print(i)\n",
    "    \n",
    "ilst2 = islice(lst, 0, 10)\n",
    "\n",
    "for i in ilst2:\n",
    "    print(i)"
   ]
  },
  {
   "cell_type": "markdown",
   "metadata": {
    "pycharm": {
     "name": "#%% md\n"
    }
   },
   "source": [
    "\n"
   ]
  },
  {
   "cell_type": "code",
   "execution_count": 19,
   "metadata": {
    "pycharm": {
     "name": "#%%\n"
    }
   },
   "outputs": [
    {
     "name": "stdout",
     "output_type": "stream",
     "text": [
      "['__class__',\n",
      " '__del__',\n",
      " '__delattr__',\n",
      " '__dir__',\n",
      " '__doc__',\n",
      " '__eq__',\n",
      " '__format__',\n",
      " '__ge__',\n",
      " '__getattribute__',\n",
      " '__gt__',\n",
      " '__hash__',\n",
      " '__init__',\n",
      " '__init_subclass__',\n",
      " '__iter__',\n",
      " '__le__',\n",
      " '__lt__',\n",
      " '__name__',\n",
      " '__ne__',\n",
      " '__new__',\n",
      " '__next__',\n",
      " '__qualname__',\n",
      " '__reduce__',\n",
      " '__reduce_ex__',\n",
      " '__repr__',\n",
      " '__setattr__',\n",
      " '__sizeof__',\n",
      " '__str__',\n",
      " '__subclasshook__',\n",
      " 'close',\n",
      " 'gi_code',\n",
      " 'gi_frame',\n",
      " 'gi_running',\n",
      " 'gi_yieldfrom',\n",
      " 'send',\n",
      " 'throw']\n",
      "----\n",
      "(0, 1, 'a', '\\x00')\n",
      "(1, 2, 'b', '\\x01')\n",
      "(2, 3, 'c', '\\x02')\n"
     ]
    }
   ],
   "source": [
    "lst = list(range(1000))\n",
    "lst2 = lst[:100]\n",
    "\n",
    "l = [i for i in range(100)]\n",
    "g = (i for i in range(100))\n",
    "# print(l[:10])\n",
    "# print(islice(g, 1, 5))\n",
    "s = islice(g, 0, 5)\n",
    "# print(list(s))\n",
    "\n",
    "# for elem in itertools.chain(lst, lst2):\n",
    "#     print(elem)\n",
    "    \n",
    "# print(list(g))\n",
    "# print(list(g))\n",
    "# g = (i for i in range(100))\n",
    "# print(list(g))\n",
    "\n",
    "pp(dir(g))\n",
    "print('----')\n",
    "for i in zip(range(10), [1,2,3], 'abc', {chr(c) : c for c in range(100)}):\n",
    "    print(i)\n"
   ]
  },
  {
   "cell_type": "code",
   "execution_count": 22,
   "metadata": {},
   "outputs": [
    {
     "name": "stdout",
     "output_type": "stream",
     "text": [
      "True\n",
      "True\n"
     ]
    }
   ],
   "source": [
    "print(all([True, 1, 'abc']))\n",
    "print(any([True, 0, '']))"
   ]
  },
  {
   "cell_type": "code",
   "execution_count": 23,
   "metadata": {
    "pycharm": {
     "name": "#%%\n"
    }
   },
   "outputs": [
    {
     "name": "stdout",
     "output_type": "stream",
     "text": [
      "[1, 4, 9, 16]\n",
      "False\n",
      "True\n"
     ]
    }
   ],
   "source": [
    "# Example to lazily check if list is sorted\n",
    "# Sorted list supports this invariant lst[i] <= lst[i+1]\n",
    "lst = list(range(100))\n",
    "\n",
    "print(list(map(lambda x: x**2, [1,2,3,4])))\n",
    "print(all(map(lambda x: x>100, range(10**100))))\n",
    "\n",
    "def is_sorted(lst):\n",
    "    it = iter(lst)\n",
    "    it2 = iter(lst)\n",
    "    next(it2)   \n",
    "    return all(map(lambda t: t[0] <= t[1], zip(it, it2)))\n",
    "\n",
    "print(is_sorted([0,1,2,3]))"
   ]
  },
  {
   "cell_type": "code",
   "execution_count": null,
   "metadata": {
    "pycharm": {
     "name": "#%%\n"
    }
   },
   "outputs": [],
   "source": [
    "# All lazy objects can be expanded with list\n",
    "print(zip([1, 2, 3], 'ab'))\n",
    "print(list(zip([1, 2, 3], 'ab')))\n",
    "\n",
    "# Roughly equivalent to \n",
    "lst = [\n",
    "    item\n",
    "    for item in zip([1, 2, 3], 'ab')\n",
    "]\n",
    "print(lst)"
   ]
  },
  {
   "cell_type": "code",
   "execution_count": 24,
   "metadata": {
    "pycharm": {
     "name": "#%%\n"
    }
   },
   "outputs": [
    {
     "name": "stdout",
     "output_type": "stream",
     "text": [
      "[(1, 'a', ('A', 0)), (2, 'b', ('B', 42))]\n",
      "[(1, 'a', ('A', 0)), (2, 'b', ('B', 42))]\n"
     ]
    }
   ],
   "source": [
    "# All lazy objects can be implemented with iterators\n",
    "\n",
    "class izip:\n",
    "    def __init__(self, *iterables):\n",
    "        self._iters = [iter(iterable) for iterable in iterables]\n",
    "\n",
    "    def __iter__(self):\n",
    "        return self\n",
    "\n",
    "    def __next__(self):\n",
    "#         try:\n",
    "            return tuple([\n",
    "                next(it)\n",
    "                for it in self._iters\n",
    "            ])\n",
    "#         except StopIteration as ex:\n",
    "#             raise ex\n",
    "    \n",
    "print(list(zip([1, 2, 3], 'ab', zip('ABC', (0, 42, 43)))))\n",
    "print(list(izip([1, 2, 3], 'ab', zip('ABC', (0, 42, 43)))))"
   ]
  },
  {
   "cell_type": "markdown",
   "metadata": {
    "pycharm": {
     "name": "#%% md\n"
    }
   },
   "source": [
    "### Generators are just a special case of iterators"
   ]
  },
  {
   "cell_type": "code",
   "execution_count": 25,
   "metadata": {
    "pycharm": {
     "name": "#%%\n"
    }
   },
   "outputs": [
    {
     "name": "stdout",
     "output_type": "stream",
     "text": [
      "[(1, 'a'), (2, 'b')]\n"
     ]
    }
   ],
   "source": [
    "# Another possible way to implement is generator (not a generator expression [for x in ...])\n",
    "\n",
    "def izip2(*iterables):\n",
    "    _iters = [iter(iterable) for iterable in iterables]\n",
    "    try:\n",
    "        while True:\n",
    "            yield tuple([\n",
    "                next(it)\n",
    "                for it in _iters\n",
    "            ])\n",
    "    except StopIteration as ex:\n",
    "        pass\n",
    "\n",
    "\n",
    "print(list(izip2([1, 2, 3], 'ab')))"
   ]
  },
  {
   "cell_type": "code",
   "execution_count": 26,
   "metadata": {
    "pycharm": {
     "name": "#%%\n"
    }
   },
   "outputs": [
    {
     "name": "stdout",
     "output_type": "stream",
     "text": [
      "<class 'generator'>\n",
      "['__class__', '__del__', '__delattr__', '__dir__', '__doc__', '__eq__', '__format__', '__ge__', '__getattribute__', '__gt__', '__hash__', '__init__', '__init_subclass__', '__iter__', '__le__', '__lt__', '__name__', '__ne__', '__new__', '__next__', '__qualname__', '__reduce__', '__reduce_ex__', '__repr__', '__setattr__', '__sizeof__', '__str__', '__subclasshook__', 'close', 'gi_code', 'gi_frame', 'gi_running', 'gi_yieldfrom', 'send', 'throw']\n",
      "<class 'generator'>\n",
      "['__class__', '__del__', '__delattr__', '__dir__', '__doc__', '__eq__', '__format__', '__ge__', '__getattribute__', '__gt__', '__hash__', '__init__', '__init_subclass__', '__iter__', '__le__', '__lt__', '__name__', '__ne__', '__new__', '__next__', '__qualname__', '__reduce__', '__reduce_ex__', '__repr__', '__setattr__', '__sizeof__', '__str__', '__subclasshook__', 'close', 'gi_code', 'gi_frame', 'gi_running', 'gi_yieldfrom', 'send', 'throw']\n"
     ]
    }
   ],
   "source": [
    "# Technically generator is just a special case of iterator\n",
    "z = izip2()\n",
    "print(type(z))\n",
    "print(dir(z))\n",
    "\n",
    "g = (ord(i) for i in 'abc')\n",
    "print(type(g))\n",
    "print(dir(g))"
   ]
  },
  {
   "cell_type": "code",
   "execution_count": 29,
   "metadata": {
    "pycharm": {
     "name": "#%%\n"
    }
   },
   "outputs": [
    {
     "name": "stdout",
     "output_type": "stream",
     "text": [
      "10\n",
      "0\n",
      "1\n",
      "2\n",
      "3\n",
      "4\n",
      "5\n",
      "i=6\n"
     ]
    }
   ],
   "source": [
    "# As a result generator can also be exhausted exactly as iterator\n",
    "\n",
    "def my_gen(n):\n",
    "    yield 10\n",
    "    for i in range(n):\n",
    "        if i>5:\n",
    "            print(f'{i=}')\n",
    "            return \n",
    "        yield i\n",
    "\n",
    "g = my_gen(10)\n",
    "# dir(g)\n",
    "\n",
    "\n",
    "# print(next(g))\n",
    "# print(next(g))\n",
    "# print(next(g))\n",
    "# print(next(g))\n",
    "# print(next(g))\n",
    "# print(next(g))\n",
    "# print(next(g))\n",
    "# print(next(g))\n",
    "# print(next(g))\n",
    "# print(next(g))\n",
    "# print(next(g))\n",
    "\n",
    "\n",
    "# print('---')\n",
    "# print(int(g))\n",
    "\n",
    "for i in g:\n",
    "    print(i)"
   ]
  },
  {
   "cell_type": "code",
   "execution_count": null,
   "metadata": {
    "pycharm": {
     "name": "#%%\n"
    }
   },
   "outputs": [],
   "source": [
    "# Generator desugaring\n",
    "def range_gen(start, stop, step=1):\n",
    "    while start < stop:\n",
    "        yield start\n",
    "        start += step\n",
    "\n",
    "lst = list(range_gen(1, 10))\n",
    "print(lst)\n",
    "\n",
    "\n",
    "lst2 = []\n",
    "def cb_func(value, *cb_args, **cb_kwargs):\n",
    "    lst2.append(value)\n",
    "\n",
    "def hand_made_gen(start, stop, step=1, cb=None, *cb_args, **cb_kwargs):\n",
    "    while start < stop:\n",
    "        if cb:\n",
    "            cb(start, *cb_args, **cb_kwargs)\n",
    "        start += step\n",
    "\n",
    "hand_made_gen(1, 10, cb=cb_func)\n",
    "\n",
    "print(lst2)\n"
   ]
  },
  {
   "cell_type": "code",
   "execution_count": 30,
   "metadata": {
    "pycharm": {
     "name": "#%%\n"
    }
   },
   "outputs": [
    {
     "name": "stdout",
     "output_type": "stream",
     "text": [
      "cd065a2c81831b082dede2661bd551f4\n",
      "cd065a2c81831b082dede2661bd551f4\n"
     ]
    }
   ],
   "source": [
    "# Useful for memory efficient tasks\n",
    "import os\n",
    "import hashlib\n",
    "\n",
    "path_from = \"C:/Users/mikol/Downloads/alienware-17-area51m-laptop_service-manual_en-us.pdf\"\n",
    "path_to = f'{os.getcwd()}/dest.pdf'\n",
    "\n",
    "def read_file(filepath):\n",
    "    with open(filepath, 'r+b') as f:\n",
    "        chunk_size = 4*1024\n",
    "        chunk = f.read(chunk_size)\n",
    "\n",
    "        while chunk:\n",
    "            yield chunk\n",
    "            chunk = f.read(chunk_size)\n",
    "\n",
    "\n",
    "f = open(path_to, 'w+b')\n",
    "for chunk in read_file(path_from):\n",
    "    f.write(chunk)\n",
    "f.close()\n",
    "\n",
    "print(hashlib.md5(open(path_from,'rb').read()).hexdigest())\n",
    "print(hashlib.md5(open(path_to,'rb').read()).hexdigest())\n",
    "\n",
    "# compare with md5sum"
   ]
  },
  {
   "cell_type": "code",
   "execution_count": null,
   "metadata": {
    "pycharm": {
     "name": "#%%\n"
    }
   },
   "outputs": [],
   "source": [
    "\"\"\"\n",
    "Converts float (32 bits) to/from its raw binary represetation according to IEEE754\n",
    "\"\"\"\n",
    "import struct\n",
    "\n",
    "def float2bin(num):\n",
    "    return ''.join(bin(c).replace('0b', '').rjust(8, '0') for c in struct.pack('!f', num))\n",
    "\n",
    "def bin2float(binary):\n",
    "    sign = (-1) ** int(binary[0])\n",
    "    exponent = int(binary[1:9], 2) - 127\n",
    "    mantissa = '1' + binary[9:]\n",
    "    result = 0\n",
    "    for i in mantissa:\n",
    "        result += int(i) * 2 ** (exponent)\n",
    "        exponent -= 1\n",
    "    return sign*result\n",
    "\n",
    "i=delta=0\n",
    "while (i <= 100):\n",
    "    print(bin2float(float2bin(delta)))\n",
    "    i += 1\n",
    "    delta += 0.1"
   ]
  },
  {
   "cell_type": "code",
   "execution_count": 38,
   "metadata": {
    "pycharm": {
     "name": "#%%\n"
    }
   },
   "outputs": [],
   "source": [
    "import timeit\n",
    "import numpy"
   ]
  },
  {
   "cell_type": "code",
   "execution_count": 39,
   "metadata": {},
   "outputs": [
    {
     "data": {
      "text/plain": [
       "'\\nSum the numbers from 0 to n-1 in different ways.\\n'"
      ]
     },
     "execution_count": 39,
     "metadata": {},
     "output_type": "execute_result"
    }
   ],
   "source": [
    "\"\"\"\n",
    "Sum the numbers from 0 to n-1 in different ways.\n",
    "\"\"\""
   ]
  },
  {
   "cell_type": "code",
   "execution_count": 41,
   "metadata": {},
   "outputs": [
    {
     "name": "stdout",
     "output_type": "stream",
     "text": [
      "for loop\t\t 4.428439000010258\n"
     ]
    }
   ],
   "source": [
    "def for_loop(n=100_000_000):\n",
    "    s = 0\n",
    "    for i in range(n):  # c code\n",
    "        s += i          # c code\n",
    "    return s\n",
    "\n",
    "print('for loop\\t\\t', timeit.timeit(for_loop, number=1))"
   ]
  },
  {
   "cell_type": "code",
   "execution_count": 42,
   "metadata": {},
   "outputs": [
    {
     "name": "stdout",
     "output_type": "stream",
     "text": [
      "while loop\t\t 7.009048299994902\n"
     ]
    }
   ],
   "source": [
    "def while_loop(n=100_000_000):\n",
    "    i = 0\n",
    "    s = 0\n",
    "    while i < n:   # python code\n",
    "        s += i     # python code\n",
    "        i += 1     # python code\n",
    "    return s\n",
    "\n",
    "print('while loop\\t\\t', timeit.timeit(while_loop, number=1))"
   ]
  },
  {
   "cell_type": "code",
   "execution_count": 43,
   "metadata": {},
   "outputs": [
    {
     "name": "stdout",
     "output_type": "stream",
     "text": [
      "for_loop_with_increment\t\t 6.908833099994808\n"
     ]
    }
   ],
   "source": [
    "def for_loop_with_increment(n=100_000_000):\n",
    "    s = 0\n",
    "    for i in range(n): \n",
    "        s += i\n",
    "        i += 1\n",
    "    return s\n",
    "\n",
    "print('for_loop_with_increment\\t\\t', timeit.timeit(for_loop_with_increment, number=1))"
   ]
  },
  {
   "cell_type": "code",
   "execution_count": 44,
   "metadata": {},
   "outputs": [
    {
     "name": "stdout",
     "output_type": "stream",
     "text": [
      "for_loop_with_if\t\t 6.074542999995174\n"
     ]
    }
   ],
   "source": [
    "def for_loop_with_if(n=100_000_000):\n",
    "    s = 0\n",
    "    for i in range(n): \n",
    "        s += i\n",
    "        if i < n : pass\n",
    "    return s\n",
    "\n",
    "print('for_loop_with_if\\t\\t', timeit.timeit(for_loop_with_if, number=1))"
   ]
  },
  {
   "cell_type": "code",
   "execution_count": 45,
   "metadata": {},
   "outputs": [
    {
     "name": "stdout",
     "output_type": "stream",
     "text": [
      "for_loop_with_if_and_increment\t\t 8.480074299994158\n"
     ]
    }
   ],
   "source": [
    "def for_loop_with_if_and_increment(n=100_000_000):\n",
    "    s = 0\n",
    "    for i in range(n): \n",
    "        s += i\n",
    "        if i < n : pass\n",
    "        i += 1\n",
    "    return s\n",
    "\n",
    "print('for_loop_with_if_and_increment\\t\\t', timeit.timeit(for_loop_with_if_and_increment, number=1))"
   ]
  },
  {
   "cell_type": "code",
   "execution_count": 47,
   "metadata": {},
   "outputs": [
    {
     "name": "stdout",
     "output_type": "stream",
     "text": [
      "sum_range\t\t 3.0095613000012236\n"
     ]
    }
   ],
   "source": [
    "def sum_range(n=100_000_000):\n",
    "    return sum(range(n))\n",
    "\n",
    "print('sum_range\\t\\t', timeit.timeit(sum_range, number=1))\n",
    "\n",
    "# Olexander 2, 2\n",
    "# Cherniavskyi 1"
   ]
  },
  {
   "cell_type": "code",
   "execution_count": 48,
   "metadata": {},
   "outputs": [
    {
     "name": "stdout",
     "output_type": "stream",
     "text": [
      "sum_list_comp\t\t 8.896215900007519\n"
     ]
    }
   ],
   "source": [
    "def sum_list_comp(n=100_000_000):\n",
    "    return sum([i for i in range(n)])\n",
    "\n",
    "print('sum_list_comp\\t\\t', timeit.timeit(sum_list_comp, number=1))\n",
    "\n",
    "# Olexander 3, 3\n",
    "# Cherniavskyi 3"
   ]
  },
  {
   "cell_type": "code",
   "execution_count": 50,
   "metadata": {},
   "outputs": [
    {
     "name": "stdout",
     "output_type": "stream",
     "text": [
      "sum_generator\t\t 6.235024800000247\n"
     ]
    }
   ],
   "source": [
    "def sum_generator(n=100_000_000):\n",
    "    return sum(i for i in range(n))\n",
    "\n",
    "print('sum_generator\\t\\t', timeit.timeit(sum_generator, number=1))\n",
    "\n",
    "# Olexander 1, 1\n",
    "# Cherniavskyi 2"
   ]
  },
  {
   "cell_type": "code",
   "execution_count": 51,
   "metadata": {},
   "outputs": [
    {
     "name": "stdout",
     "output_type": "stream",
     "text": [
      "sum_numpy\t\t 0.27535399999760557\n"
     ]
    }
   ],
   "source": [
    "def sum_numpy(n=100_000_000):\n",
    "    return numpy.sum(numpy.arange(n, dtype=numpy.int64))\n",
    "\n",
    "print('sum_numpy\\t\\t', timeit.timeit(sum_numpy, number=1))"
   ]
  },
  {
   "cell_type": "code",
   "execution_count": 52,
   "metadata": {},
   "outputs": [
    {
     "name": "stdout",
     "output_type": "stream",
     "text": [
      "sum_numpy_python_range\t\t 8.53175480000209\n"
     ]
    }
   ],
   "source": [
    "def sum_numpy_python_range(n=100_000_000):\n",
    "    return numpy.sum(range(n))\n",
    "\n",
    "print('sum_numpy_python_range\\t\\t', timeit.timeit(sum_numpy_python_range, number=1))"
   ]
  },
  {
   "cell_type": "code",
   "execution_count": 53,
   "metadata": {},
   "outputs": [
    {
     "name": "stdout",
     "output_type": "stream",
     "text": [
      "sum_math\t\t 1.00000761449337e-06\n"
     ]
    }
   ],
   "source": [
    "def sum_math(n=100_000_000):\n",
    "    return (n * (n-1)) // 2\n",
    "\n",
    "print('sum_math\\t\\t', timeit.timeit(sum_math, number=1))"
   ]
  },
  {
   "cell_type": "code",
   "execution_count": null,
   "metadata": {},
   "outputs": [],
   "source": []
  }
 ],
 "metadata": {
  "kernelspec": {
   "display_name": "Python 3 (ipykernel)",
   "language": "python",
   "name": "python3"
  },
  "language_info": {
   "codemirror_mode": {
    "name": "ipython",
    "version": 3
   },
   "file_extension": ".py",
   "mimetype": "text/x-python",
   "name": "python",
   "nbconvert_exporter": "python",
   "pygments_lexer": "ipython3",
   "version": "3.10.9"
  }
 },
 "nbformat": 4,
 "nbformat_minor": 4
}
